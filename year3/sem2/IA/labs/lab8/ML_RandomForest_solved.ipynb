{
  "cells": [
    {
      "cell_type": "markdown",
      "metadata": {
        "id": "0CLd24Gc0Qoz"
      },
      "source": [
        "# Arbori de decizie. Păduri aleatoare\n",
        "\n",
        "* Tudor Berariu - 2016\n",
        "* George Muraru - 2020\n",
        "* Florin Dumitrescu - 2024\n"
      ]
    },
    {
      "cell_type": "markdown",
      "metadata": {
        "id": "cxigVMh10QsL"
      },
      "source": [
        "## Scopul laboratorului"
      ]
    },
    {
      "cell_type": "markdown",
      "metadata": {
        "id": "CycSr6E4ltrs"
      },
      "source": [
        "Scopul acestui laborator îl reprezintă înțelegerea și implementarea arborilor de decizie a pădurilor de arbori aleatori.\n",
        "\n",
        "În prima parte a laboratorului veți implementa un arbore de decizie folosind algoritmul ID3 pentru construirea arborelui și măsurarea entropiei pentru alegerea atributului care oferă cel mai mare câștig informațional.\n",
        "\n",
        "În a doua parte a laboratorului veți implementa un clasificator de tip pădure de arbori aleatori, care va fi comparat\n",
        " cu un arbore de decizie simplu."
      ]
    },
    {
      "cell_type": "markdown",
      "metadata": {
        "id": "-YWxF81W1jlU"
      },
      "source": [
        "## Problema de rezolvat"
      ]
    },
    {
      "cell_type": "markdown",
      "metadata": {
        "id": "M3RQxoc61nrD"
      },
      "source": [
        "Problema de rezolvat ı̂n acest laborator este una de ı̂nvățare supervizată: fiind dat un **set de date X** ce conține exemple descrise printr-un set de **atribute discrete A** și etichetate cu **câte o clasă dintr-o mulțime cunoscută C**, să se construiască un model pentru clasificarea exemplelor noi."
      ]
    },
    {
      "cell_type": "markdown",
      "metadata": {
        "id": "kQvktw_WbZpk"
      },
      "source": [
        "### Păduri de arbori aleatori"
      ]
    },
    {
      "cell_type": "markdown",
      "metadata": {
        "id": "imU3HcNzl13s"
      },
      "source": [
        "*Pădurile de arbori aleatori* (eng. Random Forest) este un model format din mai mulți arbori de decizie.\n",
        "\n",
        "Se bazează pe 2 hiperparametrii:\n",
        "* Eșantionare aleatoare din setul de date de antrenament\n",
        "* Subseturi aleatoare de atribute considerate la împărțirea pe mai multi subarbori\n",
        "\n",
        "Predicția, utilizând un astfel de model, se bazează pe clasa majoritară oferită de predicțiile indepente ale tuturor arborilor."
      ]
    },
    {
      "cell_type": "markdown",
      "metadata": {
        "id": "grhH08Nx9sgP"
      },
      "source": [
        "### Seturi de date folosite\n",
        "\n",
        "Pentru acest laborator vom folosi urmatoarele seturi de date pentru antrenarea și testarea algoritmilor\n",
        "implementați:\n",
        "* [Car Evaluation](https://archive.ics.uci.edu/ml/datasets/Car+Evaluation)\n",
        "* [Tennis](https://www.kaggle.com/fredericobreno/play-tennis)\n",
        "* [Chess](https://archive.ics.uci.edu/dataset/22/chess+king+rook+vs+king+pawn)\n",
        "\n",
        "Seturile de date sunt disponibile în folderul `datasets` sub forma unor fișiere cu extensia `.csv`"
      ]
    },
    {
      "cell_type": "markdown",
      "metadata": {
        "id": "xGb2JfEQ9sgR"
      },
      "source": [
        "#### Car Evaluation\n",
        "\n",
        "Setul de date *Car Evaluation* conține informații despre caracteristicile unui autovehicul și clasa de evaluare a acestuia. Atributele sunt următoarele:\n",
        "\n",
        "&nbsp;\n",
        "\n",
        "| Nume atribut | Valori atribut           | Explicație                 |\n",
        "|--------------|--------------------------|----------------------------|\n",
        "| buying       | v-high, high, med, low   | prețul de cumpărare        |\n",
        "| maint        | v-high, high, med, low   | costul întreținerii        |\n",
        "| doors        | 2, 3, 4, 5-more          | numărul de uși             |\n",
        "| persons      | 2, 4, more               | capacitatea de transport   |\n",
        "| lug_boot     | small, med, big          | dimensiunea portbagajului  |\n",
        "| safety       | low, med, high           | nivelul de siguranță       |\n",
        "\n",
        "\n",
        "Clasa pe care trebuie să o prezicem este `class` și poate avea următoarele valori:\n",
        "  * `unacc`\n",
        "  * `acc`\n",
        "  * `good`\n",
        "  * `v-good`"
      ]
    },
    {
      "cell_type": "markdown",
      "metadata": {
        "id": "Cjkx3-FV9sgU"
      },
      "source": [
        "#### Tennis\n",
        "Setul de date *Tennis* conține informații despre caracteristicile unei zile și dacă se poate juca tenis sau nu. Atributele sunt următoarele:\n",
        "\n",
        "&nbsp;\n",
        "\n",
        "| Nume atribut | Valori atribut        |\n",
        "|--------------|-----------------------|\n",
        "| Outlook      | sunny, overcast, rain |\n",
        "| Temperature  | hot, mild, cool       |\n",
        "| Humidity     | high, normal          |\n",
        "| Windy        | true, false           |\n",
        "\n",
        "Clasa pe care trebuie să o prezicem este `Play` și poate avea următoarele valori:\n",
        "  * `yes`\n",
        "  * `no`\n",
        "#### Chess\n",
        "Setul de date *Chess* conține informații despre o poziție de șah și dacă jucătorul care a făcut ultima mutare a câștigat sau nu. Nu se va intra în detalii despre semnificația atributelor setului de date, acestea fiind folosite doar pentru a exemplifica construcția unui arbore de decizie.\n",
        "Atributele sunt următoarele:\n",
        "\n",
        "&nbsp;\n",
        "\n",
        "| Attribute Name | Possible Values | Attribute Name | Possible Values |\n",
        "|----------------|-----------------|----------------|-----------------|\n",
        "| bkblk          | f, t            | bknwy          | f, t            |\n",
        "| bkon8          | f, t            | bkona          | f, t            |\n",
        "| bkspr          | t, f            | bkxbq          | f, t            |\n",
        "| bkxcr          | t, f            | bkxwp          | t, f            |\n",
        "| blxwp          | t, f            | bxqsq          | f, t            |\n",
        "| cntxt          | f, t            | dsopp          | f, t            |\n",
        "| dwipd          | l, g            | hdchk          | f, t            |\n",
        "| katri          | n, w, b         | mulch          | f, t            |\n",
        "| qxmsq          | f, t            | r2ar8          | f, t            |\n",
        "| reskd          | f, t            | reskr          | f, t            |\n",
        "| rimmx          | f, t            | rkxwp          | f, t            |\n",
        "| rxmsq          | f, t            | simpl          | t, f            |\n",
        "| skach          | f, t            | skewr          | t, f            |\n",
        "| skrxp          | f, t            | spcop          | f, t            |\n",
        "| stlmt          | f, t            | thrsk          | f, t            |\n",
        "| wkcti          | f, t            | wkna8          | f, t            |\n",
        "| wknck          | f, t            | wkovl          | t, f            |\n",
        "| wkpos          | t, f            | wtoeg          | n, t            |\n",
        "\n",
        "&nbsp;\n",
        "\n",
        "Clasa pe care trebuie să o prezicem este `class` și poate avea următoarele valori:\n",
        "  * `won`\n",
        "  * `nowin`\n",
        "  \n",
        "##### Atenție!\n",
        "Nu este indicată utilizarea acestui set de date decât pentru evaluarea performanței algoritmilor implementați. Acesta este un set de date complex, cu multe atribute, care este mai greu de interpretat în momentul construirii arborelui de decizie."
      ]
    },
    {
      "cell_type": "markdown",
      "metadata": {
        "id": "oQvzJhiWfzm9"
      },
      "source": [
        "## Câteva biblioteci de care vom avea nevoie"
      ]
    },
    {
      "cell_type": "code",
      "execution_count": null,
      "metadata": {
        "colab": {
          "base_uri": "https://localhost:8080/"
        },
        "id": "wnCDFITP9sgY",
        "outputId": "7fb6deba-97fe-425b-ccc4-862aec4bbdf0"
      },
      "outputs": [
        {
          "name": "stdout",
          "output_type": "stream",
          "text": [
            "Requirement already satisfied: numpy in /usr/local/lib/python3.10/dist-packages (1.25.2)\n",
            "Requirement already satisfied: pandas in /usr/local/lib/python3.10/dist-packages (2.0.3)\n",
            "Requirement already satisfied: python-dateutil>=2.8.2 in /usr/local/lib/python3.10/dist-packages (from pandas) (2.8.2)\n",
            "Requirement already satisfied: pytz>=2020.1 in /usr/local/lib/python3.10/dist-packages (from pandas) (2023.4)\n",
            "Requirement already satisfied: tzdata>=2022.1 in /usr/local/lib/python3.10/dist-packages (from pandas) (2024.1)\n",
            "Requirement already satisfied: numpy>=1.21.0 in /usr/local/lib/python3.10/dist-packages (from pandas) (1.25.2)\n",
            "Requirement already satisfied: six>=1.5 in /usr/local/lib/python3.10/dist-packages (from python-dateutil>=2.8.2->pandas) (1.16.0)\n",
            "Requirement already satisfied: tqdm in /usr/local/lib/python3.10/dist-packages (4.66.2)\n",
            "Requirement already satisfied: matplotlib in /usr/local/lib/python3.10/dist-packages (3.7.1)\n",
            "Requirement already satisfied: contourpy>=1.0.1 in /usr/local/lib/python3.10/dist-packages (from matplotlib) (1.2.1)\n",
            "Requirement already satisfied: cycler>=0.10 in /usr/local/lib/python3.10/dist-packages (from matplotlib) (0.12.1)\n",
            "Requirement already satisfied: fonttools>=4.22.0 in /usr/local/lib/python3.10/dist-packages (from matplotlib) (4.51.0)\n",
            "Requirement already satisfied: kiwisolver>=1.0.1 in /usr/local/lib/python3.10/dist-packages (from matplotlib) (1.4.5)\n",
            "Requirement already satisfied: numpy>=1.20 in /usr/local/lib/python3.10/dist-packages (from matplotlib) (1.25.2)\n",
            "Requirement already satisfied: packaging>=20.0 in /usr/local/lib/python3.10/dist-packages (from matplotlib) (24.0)\n",
            "Requirement already satisfied: pillow>=6.2.0 in /usr/local/lib/python3.10/dist-packages (from matplotlib) (9.4.0)\n",
            "Requirement already satisfied: pyparsing>=2.3.1 in /usr/local/lib/python3.10/dist-packages (from matplotlib) (3.1.2)\n",
            "Requirement already satisfied: python-dateutil>=2.7 in /usr/local/lib/python3.10/dist-packages (from matplotlib) (2.8.2)\n",
            "Requirement already satisfied: six>=1.5 in /usr/local/lib/python3.10/dist-packages (from python-dateutil>=2.7->matplotlib) (1.16.0)\n",
            "Requirement already satisfied: seaborn in /usr/local/lib/python3.10/dist-packages (0.13.1)\n",
            "Requirement already satisfied: numpy!=1.24.0,>=1.20 in /usr/local/lib/python3.10/dist-packages (from seaborn) (1.25.2)\n",
            "Requirement already satisfied: pandas>=1.2 in /usr/local/lib/python3.10/dist-packages (from seaborn) (2.0.3)\n",
            "Requirement already satisfied: matplotlib!=3.6.1,>=3.4 in /usr/local/lib/python3.10/dist-packages (from seaborn) (3.7.1)\n",
            "Requirement already satisfied: contourpy>=1.0.1 in /usr/local/lib/python3.10/dist-packages (from matplotlib!=3.6.1,>=3.4->seaborn) (1.2.1)\n",
            "Requirement already satisfied: cycler>=0.10 in /usr/local/lib/python3.10/dist-packages (from matplotlib!=3.6.1,>=3.4->seaborn) (0.12.1)\n",
            "Requirement already satisfied: fonttools>=4.22.0 in /usr/local/lib/python3.10/dist-packages (from matplotlib!=3.6.1,>=3.4->seaborn) (4.51.0)\n",
            "Requirement already satisfied: kiwisolver>=1.0.1 in /usr/local/lib/python3.10/dist-packages (from matplotlib!=3.6.1,>=3.4->seaborn) (1.4.5)\n",
            "Requirement already satisfied: packaging>=20.0 in /usr/local/lib/python3.10/dist-packages (from matplotlib!=3.6.1,>=3.4->seaborn) (24.0)\n",
            "Requirement already satisfied: pillow>=6.2.0 in /usr/local/lib/python3.10/dist-packages (from matplotlib!=3.6.1,>=3.4->seaborn) (9.4.0)\n",
            "Requirement already satisfied: pyparsing>=2.3.1 in /usr/local/lib/python3.10/dist-packages (from matplotlib!=3.6.1,>=3.4->seaborn) (3.1.2)\n",
            "Requirement already satisfied: python-dateutil>=2.7 in /usr/local/lib/python3.10/dist-packages (from matplotlib!=3.6.1,>=3.4->seaborn) (2.8.2)\n",
            "Requirement already satisfied: pytz>=2020.1 in /usr/local/lib/python3.10/dist-packages (from pandas>=1.2->seaborn) (2023.4)\n",
            "Requirement already satisfied: tzdata>=2022.1 in /usr/local/lib/python3.10/dist-packages (from pandas>=1.2->seaborn) (2024.1)\n",
            "Requirement already satisfied: six>=1.5 in /usr/local/lib/python3.10/dist-packages (from python-dateutil>=2.7->matplotlib!=3.6.1,>=3.4->seaborn) (1.16.0)\n",
            "Requirement already satisfied: graphviz in /usr/local/lib/python3.10/dist-packages (0.20.3)\n"
          ]
        }
      ],
      "source": [
        "# Decomentați următoarele linii dacă nu aveți deja instalate bibliotecile\n",
        "!pip install numpy\n",
        "!pip install pandas\n",
        "!pip install tqdm\n",
        "!pip install matplotlib\n",
        "!pip install seaborn\n",
        "!pip install graphviz"
      ]
    },
    {
      "cell_type": "code",
      "execution_count": 1,
      "metadata": {
        "id": "F2lKg7o7nZxo"
      },
      "outputs": [],
      "source": [
        "from __future__ import annotations  # Necesar pentru a folosi tipul clasei în definiția ei\n",
        "from typing import Optional, Dict, Callable\n",
        "from pathlib import Path\n",
        "from copy import deepcopy\n",
        "from collections import Counter\n",
        "\n",
        "import pandas as pd  # Pentru a citi si afisa datele\n",
        "import numpy as np\n",
        "from graphviz import Digraph, Source  # Pentru a vizualiza arborele de decizie\n",
        "from IPython.display import display as idisplay  # Pentru a afisa arborele de decizie direct în celulă\n",
        "from matplotlib import pyplot as plt\n",
        "import seaborn as sns\n",
        "from tqdm import tqdm"
      ]
    },
    {
      "cell_type": "markdown",
      "metadata": {
        "id": "v1FQYV209sgc"
      },
      "source": [
        "## Scurtă introducere în biblioteca pandas\n",
        "\n",
        "Pentru a citi datele dintr-un fișier `.csv` vom folosi biblioteca `pandas`. Aceasta oferă o structură de date tabulară numită `DataFrame` care ne permite să lucrăm cu datele într-un mod simplu și eficient. Pentru a citi datele dintr-un fișier `.csv` vom folosi funcția `pd.read_csv()`.\n",
        "\n",
        "Un `DataFrame` este o structură de date bidimensională, cu date organizate în coloane, care pot avea tipuri de date diferite. Fiecare coloană sau rând dintr-un `DataFrame` este un obiect de tip `pd.Series`, care este un vector unidimensional."
      ]
    },
    {
      "cell_type": "code",
      "execution_count": 2,
      "metadata": {
        "colab": {
          "base_uri": "https://localhost:8080/"
        },
        "id": "VuqDivcN9sgd",
        "outputId": "e3d67da0-10ac-4fe5-9468-02189750ae4d"
      },
      "outputs": [
        {
          "name": "stdout",
          "output_type": "stream",
          "text": [
            "      Name  Age         City\n",
            "0    Alice   25  Cluj-Napoca\n",
            "1      Bob   30    București\n",
            "2  Charlie   35         Iași\n",
            "3    David   40    Timișoara\n"
          ]
        }
      ],
      "source": [
        "# Exemplu de creare a unui DataFrame\n",
        "data = {\n",
        "    'Name': ['Alice', 'Bob', 'Charlie', 'David'],\n",
        "    'Age': [25, 30, 35, 40],\n",
        "    'City': ['Cluj-Napoca', 'București', 'Iași', 'Timișoara']\n",
        "}\n",
        "\n",
        "df = pd.DataFrame(data)\n",
        "print(df)"
      ]
    },
    {
      "cell_type": "markdown",
      "metadata": {
        "id": "VZ-6CufX9sge"
      },
      "source": [
        "Aceasta va afișa:\n",
        "\n",
        "```\n",
        "      Name  Age         City\n",
        "0    Alice   25  Cluj-Napoca\n",
        "1      Bob   30    București\n",
        "2  Charlie   35         Iași\n",
        "3    David   40   Timișoara\n",
        "```"
      ]
    },
    {
      "cell_type": "markdown",
      "metadata": {
        "id": "0EiccjLb9sgf"
      },
      "source": [
        "Pentru a accesa o coloană dintr-un `DataFrame` putem folosi `df['NumeColoană']` sau `df.NumeColoană`:"
      ]
    },
    {
      "cell_type": "code",
      "execution_count": 3,
      "metadata": {
        "colab": {
          "base_uri": "https://localhost:8080/"
        },
        "id": "ztT63z1a9sgf",
        "outputId": "08571268-e2dc-4483-c551-e210c0ebcaab"
      },
      "outputs": [
        {
          "name": "stdout",
          "output_type": "stream",
          "text": [
            "0      Alice\n",
            "1        Bob\n",
            "2    Charlie\n",
            "3      David\n",
            "Name: Name, dtype: object\n"
          ]
        }
      ],
      "source": [
        "# Exemplu de accesare a unei coloane dintr-un DataFrame folosind df['NumeColoană']\n",
        "print(df['Name'])"
      ]
    },
    {
      "cell_type": "code",
      "execution_count": 4,
      "metadata": {
        "colab": {
          "base_uri": "https://localhost:8080/"
        },
        "id": "xE9xVG5H9sgg",
        "outputId": "c6688f61-c1e3-45c0-b9f3-696624e7061f"
      },
      "outputs": [
        {
          "name": "stdout",
          "output_type": "stream",
          "text": [
            "0      Alice\n",
            "1        Bob\n",
            "2    Charlie\n",
            "3      David\n",
            "Name: Name, dtype: object\n"
          ]
        }
      ],
      "source": [
        "# Exemplu de accesare a unei coloane dintr-un DataFrame folosind df.NumeColoană\n",
        "print(df.Name)"
      ]
    },
    {
      "cell_type": "markdown",
      "metadata": {
        "id": "iARD0QIP9sgg"
      },
      "source": [
        "Coloana `df['Name']` va fi un obiect de tip `pd.Series`:"
      ]
    },
    {
      "cell_type": "code",
      "execution_count": 5,
      "metadata": {
        "colab": {
          "base_uri": "https://localhost:8080/"
        },
        "id": "NepMpPjW9sgh",
        "outputId": "a11caa3b-0da5-4782-b97b-a725a600b1a0"
      },
      "outputs": [
        {
          "name": "stdout",
          "output_type": "stream",
          "text": [
            "<class 'pandas.core.series.Series'>\n"
          ]
        }
      ],
      "source": [
        "print(type(df['Name']))"
      ]
    },
    {
      "cell_type": "markdown",
      "metadata": {
        "id": "8XC9S1N89sgi"
      },
      "source": [
        "Pentru a accesa o linie dintr-un `DataFrame` putem folosi `df.iloc[linie]`:\n"
      ]
    },
    {
      "cell_type": "code",
      "execution_count": 6,
      "metadata": {
        "colab": {
          "base_uri": "https://localhost:8080/"
        },
        "id": "IM5Q0QtK9sgj",
        "outputId": "ee579225-2335-4804-ef42-5f4e85c1d0f1"
      },
      "outputs": [
        {
          "name": "stdout",
          "output_type": "stream",
          "text": [
            "Name          Alice\n",
            "Age              25\n",
            "City    Cluj-Napoca\n",
            "Name: 0, dtype: object\n"
          ]
        }
      ],
      "source": [
        "# Exemplu de accesare a unei linii dintr-un DataFrame folosind df.iloc[linie]\n",
        "print(df.iloc[0])"
      ]
    },
    {
      "cell_type": "markdown",
      "metadata": {
        "id": "dhTbBgR39sgk"
      },
      "source": [
        "Linia `df.iloc[0]` va fi un obiect de tip `pd.Series`:"
      ]
    },
    {
      "cell_type": "code",
      "execution_count": 7,
      "metadata": {
        "colab": {
          "base_uri": "https://localhost:8080/"
        },
        "id": "24_bItag9sgl",
        "outputId": "db5fd1a4-ebeb-48ea-82fc-e2cbe71cbf54"
      },
      "outputs": [
        {
          "name": "stdout",
          "output_type": "stream",
          "text": [
            "<class 'pandas.core.series.Series'>\n"
          ]
        }
      ],
      "source": [
        "print(type(df.iloc[0]))"
      ]
    },
    {
      "cell_type": "markdown",
      "metadata": {
        "id": "yZ6Pd0Dm9sgl"
      },
      "source": [
        "Diferența dintre un obiect de tip `pd.Series` și un obiect de tip `pd.DataFrame` este că un `pd.Series` este un vector unidimensional, în timp ce un `pd.DataFrame` este o structură de date bidimensională. Pentru a accesa un element dintr-un `pd.Series` putem folosi `pd.Series[index]`:"
      ]
    },
    {
      "cell_type": "code",
      "execution_count": 8,
      "metadata": {
        "colab": {
          "base_uri": "https://localhost:8080/"
        },
        "id": "7jh_jGHo9sgn",
        "outputId": "5bb3d26a-8202-4713-87cb-2d08412a1530"
      },
      "outputs": [
        {
          "name": "stdout",
          "output_type": "stream",
          "text": [
            "Alice\n"
          ]
        }
      ],
      "source": [
        "# Exemplu de accesare a unui element dintr-un pd.Series folosind pd.Series[index]\n",
        "df_name_series = df['Name']\n",
        "print(df_name_series[0])"
      ]
    },
    {
      "cell_type": "markdown",
      "metadata": {
        "id": "dLEcq1Xi9sgo"
      },
      "source": [
        "Analog, pentru a accesa un element dintr-un `pd.DataFrame` putem folosi mai multe metode:\n",
        "* `df[coloană][linie]`\n",
        "* `df.loc[linie, coloană]`\n",
        "* `df.iloc[linie, coloană]`\n",
        "\n",
        "Diferența dintre `df.loc[linie, coloană]` și `df.iloc[linie, coloană]` este că `df.loc[linie, coloană]` folosește numele coloanelor, în timp ce `df.iloc[linie, coloană]` folosește indicii numerici ai coloanelor.\n",
        "\n",
        "**Întrebare**: Ce se întâmplă dacă folosim `df[coloană, linie]`?\n",
        "\n",
        "Se va arunca o excepție de tip `KeyError` deoarece `df[coloană, linie]` nu este o metodă validă de accesare a unui element dintr-un `DataFrame`."
      ]
    },
    {
      "cell_type": "code",
      "execution_count": 9,
      "metadata": {
        "colab": {
          "base_uri": "https://localhost:8080/"
        },
        "id": "bnDBNtat9sgp",
        "outputId": "82831b38-8908-4dfe-fcda-92cc8143c1f7"
      },
      "outputs": [
        {
          "name": "stdout",
          "output_type": "stream",
          "text": [
            "df['Name'][0] ='Alice'\n",
            "df.loc[0, 'Name'] ='Alice'\n",
            "df.iloc[0, 0] ='Alice'\n"
          ]
        }
      ],
      "source": [
        "# Exemplu de accesare a unui element dintr-un DataFrame\n",
        "print(f\"{df['Name'][0] =}\")\n",
        "print(f\"{df.loc[0, 'Name'] =}\")\n",
        "print(f\"{df.iloc[0, 0] =}\")"
      ]
    },
    {
      "cell_type": "markdown",
      "metadata": {
        "id": "yMpzlWMm9sgq"
      },
      "source": [
        "Accesarea mai multor linii sau coloane dintr-un `DataFrame` se poate face folosind `df.loc[linie_start:linie_stop, coloană_start:coloană_stop]` sau `df.iloc[linie_start:linie_stop, coloană_start:coloană_stop]`:"
      ]
    },
    {
      "cell_type": "code",
      "execution_count": 10,
      "metadata": {
        "colab": {
          "base_uri": "https://localhost:8080/"
        },
        "id": "g44mJ_ha9sgr",
        "outputId": "87b517f9-c5b4-40f0-aea0-4b24a746cf0a"
      },
      "outputs": [
        {
          "name": "stdout",
          "output_type": "stream",
          "text": [
            "      Name  Age\n",
            "0    Alice   25\n",
            "1      Bob   30\n",
            "2  Charlie   35\n"
          ]
        }
      ],
      "source": [
        "# Exemplu de accesare a mai multor linii sau coloane dintr-un DataFrame\n",
        "print(df.loc[0:2, 'Name':'Age'])"
      ]
    },
    {
      "cell_type": "markdown",
      "metadata": {
        "id": "2DSABOxf9sgr"
      },
      "source": [
        "Pentru a extrage doar valorile care corespund unei condiții putem folosi `df[df['NumeColoană'] == valoare]`:"
      ]
    },
    {
      "cell_type": "code",
      "execution_count": 11,
      "metadata": {
        "colab": {
          "base_uri": "https://localhost:8080/"
        },
        "id": "tOoVi2fi9sgs",
        "outputId": "dee74bd2-3c41-4dc8-b96e-5ee04b404051"
      },
      "outputs": [
        {
          "name": "stdout",
          "output_type": "stream",
          "text": [
            "      Name  Age       City\n",
            "2  Charlie   35       Iași\n",
            "3    David   40  Timișoara\n"
          ]
        }
      ],
      "source": [
        "# Exemplu de extragere a valorilor care corespund unei condiții dintr-un DataFrame\n",
        "print(df[df['Age'] > 30])"
      ]
    },
    {
      "cell_type": "markdown",
      "metadata": {
        "id": "Z5cBTWcn9sgt"
      },
      "source": [
        "Analog, putem obține doar valorile care corespund mai multor condiții folosind `df[(df['NumeColoană1'] == valoare1) & (df['NumeColoană2'] == valoare2)]`:"
      ]
    },
    {
      "cell_type": "code",
      "execution_count": 12,
      "metadata": {
        "colab": {
          "base_uri": "https://localhost:8080/"
        },
        "id": "5GWDWFGB9sgu",
        "outputId": "f19c99b5-f45f-4e78-dba8-1849e12d6c56"
      },
      "outputs": [
        {
          "name": "stdout",
          "output_type": "stream",
          "text": [
            "    Name  Age       City\n",
            "3  David   40  Timișoara\n"
          ]
        }
      ],
      "source": [
        "# Exemplu de extragere a valorilor care corespund mai multor condiții dintr-un DataFrame\n",
        "print(df[(df['Age'] > 30) & (df['City'] == 'Timișoara')])"
      ]
    },
    {
      "cell_type": "markdown",
      "metadata": {
        "id": "WSPmELUM9sgv"
      },
      "source": [
        "O altă funcționalitate utilă a bibliotecii a folosirii obiectelor de tip `DataFrame` sau `Series` este că acestea ne oferă metode prin care să putem compara 2 vectori și să returnăm doar acele intrări (rânduri) care sunt comune între cei doi vectori. Această funcționalitate este utilă când dorim să calculăm metricile de evaluare ale unui model de clasificare, putând compara predicțiile modelului cu etichetele reale ale setului de date. În mod implicit se păstrează indexul rândurilor care sunt identice între cei doi vectori."
      ]
    },
    {
      "cell_type": "code",
      "execution_count": 13,
      "metadata": {
        "colab": {
          "base_uri": "https://localhost:8080/"
        },
        "id": "axp0GiHM9sgv",
        "outputId": "934db174-fb18-45d0-b527-f1f10afcf693"
      },
      "outputs": [
        {
          "name": "stdout",
          "output_type": "stream",
          "text": [
            "0    a\n",
            "1    b\n",
            "4    e\n",
            "dtype: object\n"
          ]
        }
      ],
      "source": [
        "# Definim 2 obiecte de tip Series\n",
        "y_true = pd.Series(['a', 'b', 'd', 'd', 'e'])\n",
        "y_pred = pd.Series(['a', 'b', 'c', 'f', 'e'])\n",
        "\n",
        "# Obținem doar valorile care sunt prezente în ambele obiecte\n",
        "common_values = y_true[y_true == y_pred]\n",
        "print(common_values)"
      ]
    },
    {
      "cell_type": "markdown",
      "metadata": {
        "id": "QVVLxc0geBix"
      },
      "source": [
        "## Definirea constantelor și a hiperparametrilor"
      ]
    },
    {
      "cell_type": "code",
      "execution_count": 14,
      "metadata": {
        "id": "xTGgZTdXeHaS"
      },
      "outputs": [],
      "source": [
        "DATASET_ROOT = 'res-id3'  # directorul în care se află seturile de date\n",
        "DATASET_NAME = 'tennis'    # @param ['car', 'tennis', 'chess']\n",
        "\n",
        "# Adâncimea maxima a arborilor\n",
        "MAX_DEPTH = 3 #@param {type: \"slider\", min: 1, max: 9999}\n",
        "\n",
        "# Procentul de exemple din setul de date utilizat la construcția arborilor\n",
        "MIN_SAMPLES_PER_NODE = 2  #@param {type: \"slider\", min: 2, max: 100}\n",
        "\n",
        "# Numele atributului care reprezintă clasa\n",
        "if DATASET_NAME in ['car', 'chess']:\n",
        "    TARGET_FEATURE = 'class'\n",
        "elif DATASET_NAME == 'tennis':\n",
        "    TARGET_FEATURE = 'Play'\n",
        "else:\n",
        "    raise ValueError(f\"Unknown dataset {DATASET_NAME}\")"
      ]
    },
    {
      "cell_type": "markdown",
      "metadata": {
        "id": "T1TiUfs89sgy"
      },
      "source": [
        "## Seturi de date\n",
        "\n",
        "Seturile de date folosite sunt disponibile în folderul `datasets` sub forma unor fișiere cu extensia `.csv`. Acestea\n",
        "sunt citite și încărcate în memorie folosind biblioteca `pandas`, care oferă o structură de date tabulară numită\n",
        "`DataFrame`.\n",
        "\n",
        "Din punct de vedere al notației, setul de date este reprezentat astfel:\n",
        "* $X$ &rarr; atributele setului de date, reprezentate sub forma unui tabel cu $n$ linii și $m$ coloane, unde $n$ reprezintă numărul de exemple, iar $m$ numărul de atribute\n",
        "* $y$ &rarr; clasele (etichetele) setului de date, reprezentate sub forma unui vector cu $n$ elemente, unde $n$ reprezintă numărul de exemple"
      ]
    },
    {
      "cell_type": "code",
      "execution_count": 16,
      "metadata": {
        "id": "jT0Q-5DX9sgz"
      },
      "outputs": [],
      "source": [
        "def load_dataset(dataset_filename: str) -> pd.DataFrame:\n",
        "    \"\"\"\n",
        "    Incarca in memorie un set de date\n",
        "\n",
        "    Args:\n",
        "        dataset_filename (str):\n",
        "            Numele fisierului ce contine setul de date (cu tot cu extensie)\n",
        "\n",
        "    Returns:\n",
        "        pd.DataFrame:\n",
        "            Un DataFrame pandas ce contine setul de date\n",
        "    \"\"\"\n",
        "    print (f\"Dataset: {dataset_filename}\")\n",
        "\n",
        "    dataset_path = Path(DATASET_ROOT) / dataset_filename\n",
        "\n",
        "    if not dataset_path.exists():\n",
        "        raise FileNotFoundError(f\"Dataset {dataset_filename} not found at {dataset_path}\")\n",
        "    return pd.read_csv(dataset_path)\n",
        "\n",
        "def display_dataset(dataset: pd.DataFrame):\n",
        "    \"\"\"\n",
        "    Afiseaza primele 5 intrări din setul de date\n",
        "\n",
        "    Args:\n",
        "        dataset (pd.DataFrame):\n",
        "            Setul de date in format pandas DataFrame.\n",
        "    \"\"\"\n",
        "    print(dataset.head(n=5))\n",
        "\n",
        "def display_dataset_feature_values(dataset: pd.DataFrame, feature: str):\n",
        "    \"\"\"\n",
        "    Afiseaza valorile distincte ale unui atribut din setul de date\n",
        "\n",
        "    Args:\n",
        "        dataset (pd.DataFrame):\n",
        "            Setul de date in format pandas DataFrame.\n",
        "        feature (str):\n",
        "            Numele atributului pentru care se vor afisa valorile distincte.\n",
        "    \"\"\"\n",
        "    print(dataset[feature].unique())\n",
        "\n",
        "def split_dataset(dataset: pd.DataFrame, target_feature: str) -> (pd.DataFrame, pd.Series):\n",
        "    \"\"\"\n",
        "    Imparte setul de date in atribute si clase (etichete). In cazul seturilor noastre de date, ultima coloana reprezinta intotdeauna clasa.\n",
        "\n",
        "    Args:\n",
        "        dataset (pd.DataFrame):\n",
        "            Setul de date in format pandas DataFrame.\n",
        "        target_feature (str):\n",
        "            Numele atributului care reprezinta clasa.\n",
        "\n",
        "    Returns:\n",
        "        tuple(pd.DataFrame, pd.Series):\n",
        "            Un tuplu ce contine atributele si clasele setului de date in formatul (X, y)\n",
        "    \"\"\"\n",
        "    return dataset.drop(columns=[target_feature]), dataset[target_feature]\n",
        "\n",
        "def split_train_test(dataset: pd.DataFrame,\n",
        "                     target_feature: str,\n",
        "                     test_size: float = 0.2) -> (pd.DataFrame, pd.Series,\n",
        "                                                 pd.DataFrame, pd.Series):\n",
        "    \"\"\"\n",
        "    Splits the dataset into a training set and a testing set.\n",
        "\n",
        "    Args:\n",
        "        dataset (pd.DataFrame):\n",
        "            Setul de date in format pandas DataFrame.\n",
        "        target_feature (str):\n",
        "            Numle atributului care reprezinta clasa.\n",
        "        test_size (float, optional):\n",
        "            Proportia setului de date care va fi folosita pentru testare. Defaults to 0.2.\n",
        "\n",
        "    Returns:\n",
        "        tuple(pd.DataFrame, pd.Series, pd.DataFrame, pd.Series):\n",
        "            Un tuplu ce contine atributele si clasele setului de date de antrenare si de testare in formatul\n",
        "            (X_train, y_train, X_test, y_test)\n",
        "    \"\"\"\n",
        "    from sklearn.model_selection import train_test_split\n",
        "\n",
        "    # Imparte setul de date in set de antrenare si set de testare\n",
        "    train_set, test_set = train_test_split(dataset, test_size=test_size, shuffle=True)\n",
        "\n",
        "    # Imparte setul de date in atribute si clase\n",
        "    X_train_, y_train_ = split_dataset(train_set, target_feature)\n",
        "    X_test_, y_test_ = split_dataset(test_set, target_feature)\n",
        "\n",
        "    return X_train_, y_train_, X_test_, y_test_"
      ]
    },
    {
      "cell_type": "markdown",
      "metadata": {
        "id": "Tn2hzjRO9sg0"
      },
      "source": [
        "### Pregătire set de date"
      ]
    },
    {
      "cell_type": "code",
      "execution_count": 17,
      "metadata": {
        "colab": {
          "base_uri": "https://localhost:8080/"
        },
        "id": "GzN_83DF9sg0",
        "outputId": "f32214ff-c224-4863-c78f-03c49601bbd0"
      },
      "outputs": [
        {
          "name": "stdout",
          "output_type": "stream",
          "text": [
            "Dataset: tennis\n",
            "    Outlook Temperature Humidity  Windy Play\n",
            "0     sunny         hot     high  False   no\n",
            "1     sunny         hot     high   True   no\n",
            "2  overcast         hot     high  False  yes\n",
            "3      rain        mild     high  False  yes\n",
            "4      rain        cool   normal  False  yes\n"
          ]
        }
      ],
      "source": [
        "# Se incarca setul de date si se afiseaza primele 5 inregistrari\n",
        "data = load_dataset(DATASET_NAME)\n",
        "display_dataset(data)"
      ]
    },
    {
      "cell_type": "code",
      "execution_count": 18,
      "metadata": {
        "colab": {
          "base_uri": "https://localhost:8080/"
        },
        "id": "x42cZSQT9sg2",
        "outputId": "bd2a5c4f-4651-46b0-83d9-22e7e7bb99f2"
      },
      "outputs": [
        {
          "name": "stdout",
          "output_type": "stream",
          "text": [
            "Classes: \n",
            "\t['no' 'yes']\n",
            "Attribute: Outlook\n",
            "\t['sunny' 'overcast' 'rain']\n",
            "Attribute: Temperature\n",
            "\t['hot' 'mild' 'cool']\n",
            "Attribute: Humidity\n",
            "\t['high' 'normal']\n",
            "Attribute: Windy\n",
            "\t[False  True]\n",
            "Attribute: Play\n",
            "\t['no' 'yes']\n"
          ]
        }
      ],
      "source": [
        "# Se afiseaza clasele distincte ale setului de date\n",
        "print(\"Classes: \", end=\"\\n\\t\")\n",
        "display_dataset_feature_values(data, TARGET_FEATURE)\n",
        "\n",
        "# Se afiseaza valorile distincte ale fiecarui atribut din setul de date\n",
        "for feature_name in data.columns:\n",
        "    print(f\"Attribute: {feature_name}\", end=\"\\n\\t\")\n",
        "    display_dataset_feature_values(data, feature_name)"
      ]
    },
    {
      "cell_type": "code",
      "execution_count": 20,
      "metadata": {
        "colab": {
          "base_uri": "https://localhost:8080/"
        },
        "id": "nSLm40r09sg2",
        "outputId": "ebc6b4e9-ff18-477c-a3c4-292a2d2d49d6"
      },
      "outputs": [
        {
          "name": "stdout",
          "output_type": "stream",
          "text": [
            "Setul de antrenare conține 11 exemple\n",
            "Setul de testare conține 3 exemple\n"
          ]
        }
      ],
      "source": [
        "# Se imparte setul de date in set de date de antrenare si set de date de testare\n",
        "X_train, y_train, X_test, y_test = split_train_test(data, target_feature=TARGET_FEATURE)\n",
        "\n",
        "print(f\"Setul de antrenare conține {len(X_train)} exemple\")\n",
        "print(f\"Setul de testare conține {len(X_test)} exemple\")"
      ]
    },
    {
      "cell_type": "markdown",
      "metadata": {
        "id": "pyJFPSkseHlf"
      },
      "source": [
        "## Arbore de decizie\n",
        "\n",
        "Un arbore de decizie este un clasificator ce aproximează funcții discrete.\n",
        "\n",
        "Într-un arbore de decizie există 2 tipuri de noduri:\n",
        "* *noduri intermediare* - conține un test pentru un atribut și are câte un arc (și implicit un subarbore) pentru fiecare valoare posibiliă a atributului\n",
        "* *noduri frunză* - este etichetat cu o clasă\n",
        "\n",
        "Pentru **a clasifica un obiect nou** se pornește din rădăcina arborelui și din fiecare nod se coboară pe arcul corespunzător valorii atributului pe care o are obiectul dat. Atunci când se ajunge ı̂ntr-un nod frunză, clasa acestuia va reprezenta predicția arborelui."
      ]
    },
    {
      "cell_type": "code",
      "execution_count": 21,
      "metadata": {
        "id": "HMWDFuwh9sg3"
      },
      "outputs": [],
      "source": [
        "class DecisionTreeNode:\n",
        "    \"\"\"\n",
        "    Un nod din arborele de decizie. Acesta poate fi un nod intermediar sau un nod frunză.\n",
        "    \"\"\"\n",
        "\n",
        "    def __init__(self,\n",
        "                 feature: Optional[str] = None,\n",
        "                 children: Optional[Dict[str, DecisionTreeNode]] = None,\n",
        "                 label: Optional[str] = None):\n",
        "        \"\"\"\n",
        "        Constructor pentru un nod din arborele de decizie\n",
        "\n",
        "        Args:\n",
        "            feature (str, optional):\n",
        "                Numele atributului după care se face împărțirea. Defaults to None.\n",
        "            children (Dict[str, DecisionTreeNode], optional):\n",
        "                Un dictionar ce conține subarborii nodului curent. Defaults to None.\n",
        "            label (str, optional):\n",
        "                Clasa nodului frunză. Defaults to None.\n",
        "        \"\"\"\n",
        "        self.split_feature = feature  # Numele atributului după care se face împărțirea (None pentru nodurile frunză)\n",
        "        self.children = children if (children is not None and feature is not None) else {}\n",
        "        self.label = label    # Clasa nodului frunză (None pentru nodurile intermediare)\n",
        "        self.depth = 1        # Adâncimea nodului în arbore (se calculează în timpul construcției arborelui)\n",
        "        self.score = 0        # Scorul nodului (se calculează în timpul construcției arborelui)\n",
        "        self.num_samples = 0  # Numărul de exemple din setul de date care ajung în nodul curent\n",
        "\n",
        "    def get_tree_graph(self,\n",
        "                       graph: Digraph = None) -> Digraph:\n",
        "        \"\"\"\n",
        "        Construiește reprezentarea grafică a arborelui de decizie folosind biblioteca Graphviz\n",
        "\n",
        "        Args:\n",
        "            graph (Digraph, optional):\n",
        "                Obiectul Digraph în care se construiește reprezentarea arborelui. Defaults to None.\n",
        "        \"\"\"\n",
        "        if graph is None:\n",
        "            graph = Digraph()\n",
        "            graph.attr('node', shape='box')\n",
        "\n",
        "        if self.split_feature is None:\n",
        "            # Nod frunză\n",
        "            graph.node(f\"{self}\", f\"Label: {self.label}\\n\"\n",
        "                                  f\"Score: {self.score:.3f}\\n\"\n",
        "                                  f\"Samples: {self.num_samples}\",\n",
        "                       fillcolor='darkolivegreen2', style='filled')\n",
        "        else:\n",
        "            # Nod intermediar\n",
        "            graph.node(f\"{self}\", f\"Split: {self.split_feature}?\\n\"\n",
        "                                  f\"Score: {self.score:.3f}\\n\"\n",
        "                                  f\"Samples: {self.num_samples}\", fillcolor='lightblue', style='filled')\n",
        "\n",
        "            for value, child in self.children.items():\n",
        "                child.get_tree_graph(graph)\n",
        "                graph.edge(f\"{self}\", f\"{child}\", label=f\"{value}\")\n",
        "\n",
        "        return graph\n",
        "\n",
        "    def display(self):\n",
        "        \"\"\"\n",
        "        Afișează arborele de decizie folosind biblioteca Graphviz. Arborele va fi afișat ca output al celulei.\n",
        "        \"\"\"\n",
        "        graph = self.get_tree_graph()\n",
        "        idisplay(Source(graph.source))"
      ]
    },
    {
      "cell_type": "markdown",
      "metadata": {
        "id": "p_E__HVA9sg5"
      },
      "source": [
        "#### Exemplu de utilizare a clasei DecisionTreeNode"
      ]
    },
    {
      "cell_type": "code",
      "execution_count": 22,
      "metadata": {
        "colab": {
          "base_uri": "https://localhost:8080/",
          "height": 379
        },
        "id": "eN20gm7S9sg6",
        "outputId": "0ba9ef8a-28e7-46fb-a5dd-e7242d9e8241"
      },
      "outputs": [
        {
          "data": {
            "image/svg+xml": [
              "<?xml version=\"1.0\" encoding=\"UTF-8\" standalone=\"no\"?>\n",
              "<!DOCTYPE svg PUBLIC \"-//W3C//DTD SVG 1.1//EN\"\n",
              " \"http://www.w3.org/Graphics/SVG/1.1/DTD/svg11.dtd\">\n",
              "<!-- Generated by graphviz version 2.43.0 (0)\n",
              " -->\n",
              "<!-- Title: %3 Pages: 1 -->\n",
              "<svg width=\"427pt\" height=\"269pt\"\n",
              " viewBox=\"0.00 0.00 427.00 269.00\" xmlns=\"http://www.w3.org/2000/svg\" xmlns:xlink=\"http://www.w3.org/1999/xlink\">\n",
              "<g id=\"graph0\" class=\"graph\" transform=\"scale(1 1) rotate(0) translate(4 265)\">\n",
              "<title>%3</title>\n",
              "<polygon fill=\"white\" stroke=\"transparent\" points=\"-4,4 -4,-265 423,-265 423,4 -4,4\"/>\n",
              "<!-- __main__.DecisionTreeNode object at 0x7a2931d800e0 -->\n",
              "<g id=\"node1\" class=\"node\">\n",
              "<title>__main__.DecisionTreeNode object at 0x7a2931d800e0</title>\n",
              "<polygon fill=\"lightblue\" stroke=\"black\" points=\"239.5,-261 117.5,-261 117.5,-208 239.5,-208 239.5,-261\"/>\n",
              "<text text-anchor=\"middle\" x=\"178.5\" y=\"-245.8\" font-family=\"Times,serif\" font-size=\"14.00\">Split: Outlook?</text>\n",
              "<text text-anchor=\"middle\" x=\"178.5\" y=\"-230.8\" font-family=\"Times,serif\" font-size=\"14.00\">Score: 0.000</text>\n",
              "<text text-anchor=\"middle\" x=\"178.5\" y=\"-215.8\" font-family=\"Times,serif\" font-size=\"14.00\">Samples: 0</text>\n",
              "</g>\n",
              "<!-- __main__.DecisionTreeNode object at 0x7a2931d80170 -->\n",
              "<g id=\"node2\" class=\"node\">\n",
              "<title>__main__.DecisionTreeNode object at 0x7a2931d80170</title>\n",
              "<polygon fill=\"#bcee68\" stroke=\"black\" points=\"107,-157 0,-157 0,-104 107,-104 107,-157\"/>\n",
              "<text text-anchor=\"middle\" x=\"53.5\" y=\"-141.8\" font-family=\"Times,serif\" font-size=\"14.00\">Label: No</text>\n",
              "<text text-anchor=\"middle\" x=\"53.5\" y=\"-126.8\" font-family=\"Times,serif\" font-size=\"14.00\">Score: 0.000</text>\n",
              "<text text-anchor=\"middle\" x=\"53.5\" y=\"-111.8\" font-family=\"Times,serif\" font-size=\"14.00\">Samples: 0</text>\n",
              "</g>\n",
              "<!-- __main__.DecisionTreeNode object at 0x7a2931d800e0&#45;&gt;__main__.DecisionTreeNode object at 0x7a2931d80170 -->\n",
              "<g id=\"edge1\" class=\"edge\">\n",
              "<title>__main__.DecisionTreeNode object at 0x7a2931d800e0&#45;&gt;__main__.DecisionTreeNode object at 0x7a2931d80170</title>\n",
              "<path fill=\"none\" stroke=\"black\" d=\"M146.96,-207.76C130.52,-194.35 110.27,-177.83 92.83,-163.59\"/>\n",
              "<polygon fill=\"black\" stroke=\"black\" points=\"94.99,-160.84 85.03,-157.23 90.57,-166.26 94.99,-160.84\"/>\n",
              "<text text-anchor=\"middle\" x=\"145.5\" y=\"-178.8\" font-family=\"Times,serif\" font-size=\"14.00\">Sunny</text>\n",
              "</g>\n",
              "<!-- __main__.DecisionTreeNode object at 0x7a2931d80710 -->\n",
              "<g id=\"node3\" class=\"node\">\n",
              "<title>__main__.DecisionTreeNode object at 0x7a2931d80710</title>\n",
              "<polygon fill=\"#bcee68\" stroke=\"black\" points=\"232,-157 125,-157 125,-104 232,-104 232,-157\"/>\n",
              "<text text-anchor=\"middle\" x=\"178.5\" y=\"-141.8\" font-family=\"Times,serif\" font-size=\"14.00\">Label: Yes</text>\n",
              "<text text-anchor=\"middle\" x=\"178.5\" y=\"-126.8\" font-family=\"Times,serif\" font-size=\"14.00\">Score: 0.000</text>\n",
              "<text text-anchor=\"middle\" x=\"178.5\" y=\"-111.8\" font-family=\"Times,serif\" font-size=\"14.00\">Samples: 0</text>\n",
              "</g>\n",
              "<!-- __main__.DecisionTreeNode object at 0x7a2931d800e0&#45;&gt;__main__.DecisionTreeNode object at 0x7a2931d80710 -->\n",
              "<g id=\"edge2\" class=\"edge\">\n",
              "<title>__main__.DecisionTreeNode object at 0x7a2931d800e0&#45;&gt;__main__.DecisionTreeNode object at 0x7a2931d80710</title>\n",
              "<path fill=\"none\" stroke=\"black\" d=\"M178.5,-207.76C178.5,-195.56 178.5,-180.78 178.5,-167.49\"/>\n",
              "<polygon fill=\"black\" stroke=\"black\" points=\"182,-167.23 178.5,-157.23 175,-167.23 182,-167.23\"/>\n",
              "<text text-anchor=\"middle\" x=\"210.5\" y=\"-178.8\" font-family=\"Times,serif\" font-size=\"14.00\">Overcast</text>\n",
              "</g>\n",
              "<!-- __main__.DecisionTreeNode object at 0x7a2931d81340 -->\n",
              "<g id=\"node4\" class=\"node\">\n",
              "<title>__main__.DecisionTreeNode object at 0x7a2931d81340</title>\n",
              "<polygon fill=\"lightblue\" stroke=\"black\" points=\"357,-157 250,-157 250,-104 357,-104 357,-157\"/>\n",
              "<text text-anchor=\"middle\" x=\"303.5\" y=\"-141.8\" font-family=\"Times,serif\" font-size=\"14.00\">Split: Wind?</text>\n",
              "<text text-anchor=\"middle\" x=\"303.5\" y=\"-126.8\" font-family=\"Times,serif\" font-size=\"14.00\">Score: 0.000</text>\n",
              "<text text-anchor=\"middle\" x=\"303.5\" y=\"-111.8\" font-family=\"Times,serif\" font-size=\"14.00\">Samples: 0</text>\n",
              "</g>\n",
              "<!-- __main__.DecisionTreeNode object at 0x7a2931d800e0&#45;&gt;__main__.DecisionTreeNode object at 0x7a2931d81340 -->\n",
              "<g id=\"edge5\" class=\"edge\">\n",
              "<title>__main__.DecisionTreeNode object at 0x7a2931d800e0&#45;&gt;__main__.DecisionTreeNode object at 0x7a2931d81340</title>\n",
              "<path fill=\"none\" stroke=\"black\" d=\"M221.98,-207.79C230.36,-202.26 238.9,-196.2 246.5,-190 255.85,-182.38 265.28,-173.36 273.71,-164.72\"/>\n",
              "<polygon fill=\"black\" stroke=\"black\" points=\"276.45,-166.91 280.83,-157.26 271.39,-162.08 276.45,-166.91\"/>\n",
              "<text text-anchor=\"middle\" x=\"279\" y=\"-178.8\" font-family=\"Times,serif\" font-size=\"14.00\">Rain</text>\n",
              "</g>\n",
              "<!-- __main__.DecisionTreeNode object at 0x7a2931d80ef0 -->\n",
              "<g id=\"node5\" class=\"node\">\n",
              "<title>__main__.DecisionTreeNode object at 0x7a2931d80ef0</title>\n",
              "<polygon fill=\"#bcee68\" stroke=\"black\" points=\"294,-53 187,-53 187,0 294,0 294,-53\"/>\n",
              "<text text-anchor=\"middle\" x=\"240.5\" y=\"-37.8\" font-family=\"Times,serif\" font-size=\"14.00\">Label: Yes</text>\n",
              "<text text-anchor=\"middle\" x=\"240.5\" y=\"-22.8\" font-family=\"Times,serif\" font-size=\"14.00\">Score: 0.000</text>\n",
              "<text text-anchor=\"middle\" x=\"240.5\" y=\"-7.8\" font-family=\"Times,serif\" font-size=\"14.00\">Samples: 0</text>\n",
              "</g>\n",
              "<!-- __main__.DecisionTreeNode object at 0x7a2931d81340&#45;&gt;__main__.DecisionTreeNode object at 0x7a2931d80ef0 -->\n",
              "<g id=\"edge3\" class=\"edge\">\n",
              "<title>__main__.DecisionTreeNode object at 0x7a2931d81340&#45;&gt;__main__.DecisionTreeNode object at 0x7a2931d80ef0</title>\n",
              "<path fill=\"none\" stroke=\"black\" d=\"M287.6,-103.76C279.77,-91.08 270.21,-75.6 261.76,-61.92\"/>\n",
              "<polygon fill=\"black\" stroke=\"black\" points=\"264.63,-59.9 256.39,-53.23 258.67,-63.58 264.63,-59.9\"/>\n",
              "<text text-anchor=\"middle\" x=\"295\" y=\"-74.8\" font-family=\"Times,serif\" font-size=\"14.00\">Weak</text>\n",
              "</g>\n",
              "<!-- __main__.DecisionTreeNode object at 0x7a2931d80bc0 -->\n",
              "<g id=\"node6\" class=\"node\">\n",
              "<title>__main__.DecisionTreeNode object at 0x7a2931d80bc0</title>\n",
              "<polygon fill=\"#bcee68\" stroke=\"black\" points=\"419,-53 312,-53 312,0 419,0 419,-53\"/>\n",
              "<text text-anchor=\"middle\" x=\"365.5\" y=\"-37.8\" font-family=\"Times,serif\" font-size=\"14.00\">Label: No</text>\n",
              "<text text-anchor=\"middle\" x=\"365.5\" y=\"-22.8\" font-family=\"Times,serif\" font-size=\"14.00\">Score: 0.000</text>\n",
              "<text text-anchor=\"middle\" x=\"365.5\" y=\"-7.8\" font-family=\"Times,serif\" font-size=\"14.00\">Samples: 0</text>\n",
              "</g>\n",
              "<!-- __main__.DecisionTreeNode object at 0x7a2931d81340&#45;&gt;__main__.DecisionTreeNode object at 0x7a2931d80bc0 -->\n",
              "<g id=\"edge4\" class=\"edge\">\n",
              "<title>__main__.DecisionTreeNode object at 0x7a2931d81340&#45;&gt;__main__.DecisionTreeNode object at 0x7a2931d80bc0</title>\n",
              "<path fill=\"none\" stroke=\"black\" d=\"M319.15,-103.76C326.86,-91.08 336.26,-75.6 344.58,-61.92\"/>\n",
              "<polygon fill=\"black\" stroke=\"black\" points=\"347.66,-63.59 349.86,-53.23 341.67,-59.96 347.66,-63.59\"/>\n",
              "<text text-anchor=\"middle\" x=\"362\" y=\"-74.8\" font-family=\"Times,serif\" font-size=\"14.00\">Strong</text>\n",
              "</g>\n",
              "</g>\n",
              "</svg>\n"
            ],
            "text/plain": [
              "<graphviz.sources.Source at 0x7a2931d81250>"
            ]
          },
          "metadata": {},
          "output_type": "display_data"
        }
      ],
      "source": [
        "# Se creează rădăcina arborelui, care are ca atribut de împărțire \"Outlook\"\n",
        "root = DecisionTreeNode(feature=\"Outlook\")\n",
        "\n",
        "# Se adaugă subarborii rădăcinii\n",
        "root.children = {\n",
        "    \"Sunny\": DecisionTreeNode(label=\"No\"),\n",
        "    \"Overcast\": DecisionTreeNode(label=\"Yes\"),\n",
        "    \"Rain\": DecisionTreeNode(feature=\"Wind\")\n",
        "}\n",
        "\n",
        "# Se adaugă subarborii nodului corespunzător valorii \"Rain\"\n",
        "root.children[\"Rain\"].children = {\n",
        "    \"Weak\": DecisionTreeNode(label=\"Yes\"),\n",
        "    \"Strong\": DecisionTreeNode(label=\"No\")\n",
        "}\n",
        "\n",
        "# Se afișează arborele de decizie\n",
        "root.display()"
      ]
    },
    {
      "cell_type": "markdown",
      "metadata": {
        "id": "hTg2n58M9sg8"
      },
      "source": [
        "### Construirea arborelui de decizie\n",
        "\n",
        "* Dacă toate exemplele din $X$ aparțin unei singure clasă $C$, atunci se construiește un nod frunză etichetat cu acea clasă $C$\n",
        "* Dacă nu mai există atribute sau s-a îndeplinit un criteriu de oprire, atunci construiește nodul frunză etichetat cu cea mai frecventă clasă din $X$\n",
        "* În caz contrar:\n",
        "  * Se alege atributul $a^*$ din lista de atribute $A$ care încă nu a fost folosit (conform unui criteriu de\n",
        "  selecție)\n",
        "  * Pentru fiecare valoare posibilă $v_j$ a lui $a^*$ se construiește un subarbore:\n",
        "    * Se construiește submulțimea de exemple $X_{i/j}$ care au valoarea $v_j$ pentru atributul $a^*$:\n",
        "        $X_{i/j} = \\{x \\in X|a_{i}(x) = v_j\\}$\n",
        "    * Se construiește submulțimea de atribute $A_{new}$ care nu mai conține atributul $a^*$:  $A_{new} = A \\setminus \\{a_i\\}$\n",
        "    * Se apelează recursiv funcția de construire a arborelui pentru submulțimea de exemple $X_{i/j}$ și submulțimea de atribute $A_{new}$\n",
        "    * Se adaugă subarborele construit la nodul curent"
      ]
    },
    {
      "cell_type": "markdown",
      "metadata": {
        "id": "iU0xmCIFr-fi"
      },
      "source": [
        "\n",
        "\n",
        "#### Random Tree\n",
        "\n",
        "Algoritmul Random Tree este un mod simplu de a construi un arbore de decizie. În acest caz, la fiecare pas se alege\n",
        "aleator un atribut după care se face împărțirea:\n",
        "\n",
        "$$ a^* = random\\_choice(A) $$\n",
        "\n",
        "#### Algoritmul ID3\n",
        "\n",
        "Algoritmul ID3 (Iterative Dichotomiser 3) este un algoritm folosit pentru construirea arborilor de decizie prin\n",
        "alegerea atributului care oferă cel mai mare câștig informațional la fiecare pas.\n",
        "\n",
        "Formula de calcul a câștigului informațional este dată de:\n",
        "\n",
        "  $$\n",
        "    entropy(X) = -\\sum_{c \\in C}\\frac{|X_c|}{|X|}log_2\\frac{|X_c|}{|X|}\n",
        "  $$\n",
        "  $$\n",
        "    gain(X, a_i) = entropy(X) - \\sum_{v_{j} \\in vals(a_i)} \\frac{|X_{i/j}|}{|X|}entropy(X_{i/j})\n",
        "  $$\n",
        "  $$\n",
        "    a^* = \\underset{a_i \\in A}{\\operatorname{arg max}}\\ gain(X, a_i)\n",
        "  $$\n",
        "\n",
        "În cazul prezentat mai sus, entropia este utilizată pentru a măsura randomness-ul din date. Intuitiv, cu cât un eveniment are probabilitate mai mare să se întâmple atunci acesta va avea o entropia din ce în ce mai mică. Prin modul în care se construiește arborele *ID3* se încearcă reducerea entropiei alegând la fiecare pas atributele care ne ofera cea mai multă informație.\n",
        "\n",
        "**Întrebare**:\n",
        "Cât considerați că este entropia într-un *nod frunză*?"
      ]
    },
    {
      "cell_type": "code",
      "execution_count": 23,
      "metadata": {
        "id": "du3ohaZ29sg-"
      },
      "outputs": [],
      "source": [
        "import statistics, math\n",
        "\n",
        "class DecisionTree:\n",
        "    \"\"\"\n",
        "    Clasa care implementează un arbore de decizie.\n",
        "    Arborele poate fi construit folosind algoritmul ID3 sau Random Tree, în funcție de strategia de împărțire specificată.\n",
        "    \"\"\"\n",
        "    def __init__(self,\n",
        "                 split_strategy: str = 'random',\n",
        "                 max_depth: int = np.inf,\n",
        "                 min_samples_per_node: int = 1):\n",
        "        \"\"\"\n",
        "        Constructor pentru un arbore de decizie\n",
        "\n",
        "        Args:\n",
        "            split_strategy (string, optional):\n",
        "                Strategia folosită pentru alegerea împărțirii într-un nod. Aceasta poate fi:\n",
        "                - 'id3' - alege împărțirea care maximizează câștigul informațional (folosind algoritmul ID3)\n",
        "                - 'random' - alege aleator o împărțire\n",
        "                Defaults to 'random'.\n",
        "            max_depth (int, optional):\n",
        "                Adâncimea maximă a arborelui. Defaults to infinity.\n",
        "            min_samples_per_node (int, optional):\n",
        "                Numărul minim de exemple dintr-un nod pentru a face o împărțire.\n",
        "                Defaults to 1.\n",
        "        \"\"\"\n",
        "        self._root: DecisionTreeNode | None = None # Rădăcina arborelui\n",
        "        self._split_strategy: str = split_strategy\n",
        "        self._max_depth: int = max_depth\n",
        "        self._min_samples_per_node: int = min_samples_per_node\n",
        "\n",
        "\n",
        "    @staticmethod\n",
        "    def most_frequent_class(y: pd.Series) -> str:\n",
        "        \"\"\"\n",
        "        Obține clasa majoritară din setul de date\n",
        "\n",
        "        Args:\n",
        "            y (pd.DataFrame):\n",
        "                Vectorul de clase. Fiecare element reprezintă clasa unui exemplu din setul de date\n",
        "\n",
        "        Returns:\n",
        "            str:\n",
        "                Clasa majoritară din setul de date\n",
        "\n",
        "        Examples:\n",
        "            >>> most_frequent_class(pd.Series(['a', 'a', 'b', 'b', 'b']))\n",
        "            'b'\n",
        "        \"\"\"\n",
        "        # TODO 1. Obțineți clasa majoritară din setul de date\n",
        "        # HINT: Folosiți funcția mode() pentru a obține clasa majoritară\n",
        "        return statistics.mode(y)\n",
        "\n",
        "\n",
        "    @staticmethod\n",
        "    def compute_entropy(y: pd.Series) -> float:\n",
        "        \"\"\"\n",
        "        Calculează entropia setului de date\n",
        "\n",
        "        Args:\n",
        "            y (pd.Series):\n",
        "                Vectorul de clase. Fiecare element reprezintă clasa unui exemplu din setul de date\n",
        "\n",
        "        Returns:\n",
        "            float:\n",
        "                Entropia setului de date\n",
        "\n",
        "        Examples:\n",
        "            >>> DecisionTree.compute_entropy(pd.Series(['a', 'a', 'b', 'b', 'b']))\n",
        "            0.9709505944546686\n",
        "        \"\"\"\n",
        "        # TODO 2. Calculați entropia setului de date\n",
        "        # HINT:\n",
        "        #   Pentru a obține numărul de apariții ale fiecărei clase puteți folosi funcția value_counts()\n",
        "        # Exemplu:\n",
        "        #   y = pd.Series(['a', 'a', 'b', 'b', 'b'])\n",
        "        #   y.value_counts() -> {'b': 3, 'a': 2}\n",
        "        counts = {}\n",
        "\n",
        "        for _class in y:\n",
        "            if _class in counts:\n",
        "                counts[_class] += 1\n",
        "            else:\n",
        "                counts[_class] = 1\n",
        "\n",
        "        entropy = 0\n",
        "        for _class, count in counts.items():\n",
        "            entropy += count / len(y) * math.log2(count / len(y))\n",
        "\n",
        "        return -entropy\n",
        "\n",
        "\n",
        "    @staticmethod\n",
        "    def compute_information_gain(X: pd.DataFrame, y: pd.Series, feature: str) -> float:\n",
        "        \"\"\"\n",
        "        Calculează câștigul informațional al unui atribut din setul de date\n",
        "\n",
        "        Args:\n",
        "            X (pd.DataFrame):\n",
        "                Setul de date (atributele)\n",
        "            y (pd.Series):\n",
        "                Clasele corespunzătoare fiecărui exemplu din setul de date\n",
        "            feature (str):\n",
        "                Numele atributului pentru care se calculează câștigul informațional\n",
        "\n",
        "        Returns:\n",
        "            float:\n",
        "                Câștigul informațional al atributului\n",
        "\n",
        "        Examples:\n",
        "            >>> X = pd.DataFrame({'a': [1, 1, 1, 0, 0], 'b': [0, 0, 0, 1, 1]})\n",
        "            >>> y = pd.Series(['a', 'a', 'b', 'b', 'b'])\n",
        "            >>> DecisionTree.compute_information_gain(X, y, 'a')\n",
        "            0.4199730940219749\n",
        "        \"\"\"\n",
        "        # TODO 3. Calculați câștigul informațional al atributului `feature`\n",
        "        # HINT:\n",
        "        #   Pentru a selecta doar acele exemple care au valoarea `value` pentru atributul `feature` puteți folosi\n",
        "        #   următoarea expresie: X[X[feature] == value]. Analog, se pot obține clasele corespunzătoare acestor exemple\n",
        "        #   folosind expresia y[X[feature] == value].\n",
        "\n",
        "        values = set(X[feature].to_list())\n",
        "\n",
        "        # Se calculează entropia inițială a setului de date\n",
        "        initial_entropy = DecisionTree.compute_entropy(y)\n",
        "        # Se calculează entropia finală a setului de date\n",
        "        final_entropy = 0\n",
        "\n",
        "        for value in values:\n",
        "            # Se selectează submulțimea de exemple care au valoarea `value` pentru atributul `feature`\n",
        "            subset_attributes = X[X[feature] == value]\n",
        "            subset_classes = y[X[feature] == value]\n",
        "            # Se calculează entropia submulțimii\n",
        "            subset_entropy = DecisionTree.compute_entropy(subset_classes)\n",
        "            # Se calculează ponderea submulțimii\n",
        "            weight = len(subset_classes) / len(y)\n",
        "            # Se adaugă entropia submulțimii ponderată la entropia finală\n",
        "            final_entropy += weight * subset_entropy\n",
        "\n",
        "        # Câștigul informațional se calculează ca diferența între entropia inițială și entropia finală\n",
        "        return initial_entropy - final_entropy\n",
        "\n",
        "\n",
        "    def _select_random_split_feature(self, X: pd.DataFrame, y: pd.Series, attribute_list: list[str]) -> str:\n",
        "        \"\"\"\n",
        "        Alege în mod aleator atributul după care se face împărțirea într-un nod\n",
        "\n",
        "        Args:\n",
        "            X (pd.DataFrame):\n",
        "                Setul de date (atributele)\n",
        "            y (pd.Series):\n",
        "                Clasele corespunzătoare fiecărui exemplu din setul de date\n",
        "            attribute_list (list[str]):\n",
        "                Lista de atribute rămase pentru construcția arborelui\n",
        "\n",
        "        Returns:\n",
        "            str:\n",
        "                Numele atributului după care se face împărțirea\n",
        "\n",
        "        Examples:\n",
        "            >>> # Funcția este privată și nu poate fi apelată în afara clasei\n",
        "            >>> X = pd.DataFrame({'a': [1, 1, 1, 0, 0], 'b': [0, 0, 0, 1, 1]})\n",
        "            >>> y = pd.Series(['a', 'a', 'b', 'b', 'b'])\n",
        "            >>> self._select_random_split_feature(X, y, ['a', 'b'])\n",
        "            'a'\n",
        "        \"\"\"\n",
        "        # TODO 4. Returnați un atribut aleator din lista `attribute_list`\n",
        "        # HINT:\n",
        "        #   Pentru a alege un element aleator dintr-o listă puteți folosi funcția np.random.choice()\n",
        "        return np.random.choice(attribute_list)\n",
        "\n",
        "\n",
        "    def _select_best_split_feature(self, X: pd.DataFrame, y: pd.Series, attribute_list: list[str]) -> str:\n",
        "        \"\"\"\n",
        "        Alege atributul după care se face împărțirea într-un nod folosind criteriul de câștig informațional\n",
        "\n",
        "        Args:\n",
        "            X (pd.DataFrame):\n",
        "                Setul de date (atributele)\n",
        "            y (pd.Series):\n",
        "                Clasele corespunzătoare fiecărui exemplu din setul de date\n",
        "            attribute_list (list[str]):\n",
        "                Lista de atribute rămase pentru construcția arborelui\n",
        "\n",
        "        Returns:\n",
        "            str:\n",
        "                Numele atributului după care se face împărțirea\n",
        "\n",
        "        Examples:\n",
        "            >>> # Funcția este privată și nu poate fi apelată în afara clasei\n",
        "            >>> X = pd.DataFrame({'a': [1, 1, 1, 0, 0], 'b': [0, 0, 0, 1, 1]})\n",
        "            >>> y = pd.Series(['a', 'a', 'b', 'b', 'b'])\n",
        "            >>>\n",
        "            >>> # Câștigul informațional:\n",
        "            >>> #    - atributul 'a' -> 0.4199730940219749,\n",
        "            >>> #    - atributul 'b' -> 0.17095059445466854\n",
        "            >>> self._select_best_split_feature(X, y, ['a', 'b'])\n",
        "            'a'\n",
        "        \"\"\"\n",
        "        # TODO 5. Returnați atributul care maximizează câștigul informațional\n",
        "        #  - Se calculează câștigul informațional pentru fiecare atribut din lista `attribute_list`\n",
        "        #  - Se returnează atributul care maximizează câștigul informațional\n",
        "        return max(map(lambda attribute: (attribute, DecisionTree.compute_information_gain(X, y, attribute)), attribute_list),\n",
        "                  key=lambda attr_gain: attr_gain[1])[0]\n",
        "\n",
        "\n",
        "    def _generate_tree(self,\n",
        "                       parent_node: DecisionTreeNode | None,\n",
        "                       X: pd.DataFrame,\n",
        "                       y: pd.Series,\n",
        "                       feature_list: list[str],\n",
        "                       select_feature_func: Callable[[pd.DataFrame, pd.Series, list[str]], str]) -> DecisionTreeNode:\n",
        "        \"\"\"\n",
        "        Construiește arborele de decizie pe baza setului de date X și a claselor țintă y\n",
        "\n",
        "        Args:\n",
        "            parent_node (DecisionTreeNode):\n",
        "                Nodul părinte al nodului curent\n",
        "            X (pd.DataFrame):\n",
        "                Setul de date (atributele)\n",
        "            y (pd.Series):\n",
        "                Clasele corespunzătoare fiecărui exemplu din setul de date\n",
        "            feature_list (list[str]):\n",
        "                Lista de atribute rămase pentru construcția arborelui\n",
        "            select_feature_func (Callable[[pd.DataFrame, pd.Series, list[str]], str]):\n",
        "                Funcția folosită pentru a alege atributul după care se face împărțirea\n",
        "\n",
        "        Returns:\n",
        "            DecisionTreeNode:\n",
        "                Nodul rădăcină al arborelui de decizie construit\n",
        "\n",
        "        Examples:\n",
        "            >>> # Funcția este privată și nu poate fi apelată în afara clasei\n",
        "            >>> X = pd.DataFrame({'a': [1, 1, 1, 0, 0], 'b': [0, 0, 0, 1, 1]})\n",
        "            >>> y = pd.Series(['a', 'a', 'b', 'b', 'b'])\n",
        "            >>> self._generate_tree(None, X, y, ['a', 'b'], self._select_random_split_feature)\n",
        "            <DecisionTreeNode>\n",
        "        \"\"\"\n",
        "        # Se face o copie a listei de atribute pentru a nu modifica lista inițială\n",
        "        feature_list = deepcopy(feature_list)\n",
        "\n",
        "        # Se creează un nou nod pentru arbore\n",
        "        node = DecisionTreeNode()\n",
        "        node.depth = parent_node.depth + 1 if parent_node is not None else 0\n",
        "        node.score = DecisionTree.compute_entropy(y)\n",
        "        node.num_samples = len(y)\n",
        "        node.label = None\n",
        "\n",
        "        # TODO 6. Verificați dacă nodul curent este frunză\n",
        "        # Nodul curent este frunză dacă:\n",
        "        #   1. Nu mai sunt atribute rămase\n",
        "        #   2. Adâncimea maximă a fost atinsă (se va compara adânimea curentă a nodului cu adâncimea maximă a arborelui)\n",
        "        #   3. Numărul minim de exemple dintr-un nod pentru a face o împărțire nu este îndeplinit (se va compara\n",
        "        #   numărul de exemple din nod cu numărul minim de exemple)\n",
        "        #   4. Toate exemplele din setul de date aparțin unei singure clase (TIP: se poate folosi funcția `nunique()`\n",
        "        #   din pandas pentru a obține numărul de clase distincte)\n",
        "        if len(feature_list) == 0 or node.depth == self._max_depth or node.num_samples < self._min_samples_per_node or y.nunique() == 1:\n",
        "            node.split_feature = None\n",
        "            node.label = DecisionTree.most_frequent_class(y)\n",
        "            return node\n",
        "\n",
        "        # TODO 7. Construiți subarborele pentru nodul curent\n",
        "        # 1. Se alege atributul după care se face împărțirea (se va folosi funcția `select_feature_func`)\n",
        "        attribute = select_feature_func(X, y, feature_list)\n",
        "        # 2. Se actualizează lista de atribute rămase pentru construcția subarborilor\n",
        "        feature_list.remove(attribute)\n",
        "        # 3. Se actualizează nodul curent cu atributul de împărțire\n",
        "        node.split_feature = attribute\n",
        "        # 4. Se construiesc subarborii pentru fiecare valoare posibilă a atributului de împărțire:\n",
        "        #   - Se iterează prin valorile posibile ale atributului de împărțire\n",
        "        #   - Se selectează submulțimea de exemple care au valoarea `value` pentru atributul `split_feature`\n",
        "        #   - Se construiește subarborele pentru submulțimea de exemple\n",
        "        #   - Se adaugă subarborele la nodul curent\n",
        "        # HINT:\n",
        "        #   Pentru a obține valorile posibile ale unui atribut puteți folosi funcția unique() din pandas:\n",
        "        #       X[split_feature].unique()\n",
        "        # HINT:\n",
        "        #   Pentru a calcula submulțimea de exemple care au valoarea `value` pentru atributul `split_feature` puteți folosi\n",
        "        #   următoarele expresii:\n",
        "        #       X[X[split_feature] == value].\n",
        "        #       y[X[split_feature] == value].\n",
        "        for value in X[attribute].unique():\n",
        "            subset_attrs = X[X[attribute] == value]\n",
        "            subset_classes = y[X[attribute] == value]\n",
        "\n",
        "            node.children[value] = self._generate_tree(node, subset_attrs, subset_classes, feature_list, select_feature_func)\n",
        "\n",
        "\n",
        "        # Pentru fiecare valoare `value` a atributului `split_feature`\n",
        "        # Se selectează submulțimea de exemple care au valoarea `value` pentru atributul `split_feature`\n",
        "        # Se construiește subarborele pentru submulțimea de exemple\n",
        "        # Se adaugă subarborele la nodul curent\n",
        "\n",
        "        return node\n",
        "\n",
        "\n",
        "    def fit(self, X: pd.DataFrame, y: pd.Series):\n",
        "        \"\"\"\n",
        "        Construiește arborele de decizie pe baza setului de date.\n",
        "        Va folosi strategia de împărțire specificată în constructor.\n",
        "\n",
        "        Args:\n",
        "            X (pd.DataFrame):\n",
        "                Setul de date (atributele)\n",
        "            y (pd.Series):\n",
        "                Clasele corespunzătoare fiecărui exemplu din setul de date\n",
        "        \"\"\"\n",
        "        # Selectează funcția de împărțire a nodurilor\n",
        "        if self._split_strategy == 'random':\n",
        "            select_feature_func = self._select_random_split_feature\n",
        "        elif self._split_strategy == 'id3':\n",
        "            select_feature_func = self._select_best_split_feature\n",
        "        else:\n",
        "            raise ValueError(f\"Unknown split strategy {self._split_strategy}\")\n",
        "\n",
        "        self._root = self._generate_tree(parent_node=None,\n",
        "                                         X=X,\n",
        "                                         y=y,\n",
        "                                         feature_list=X.columns.tolist(),\n",
        "                                         select_feature_func=select_feature_func)\n",
        "\n",
        "    def _predict_once(self, x: pd.Series) -> str:\n",
        "        \"\"\"\n",
        "        Realizează predicția clasei pentru un singur exemplu x\n",
        "\n",
        "        Args:\n",
        "            x (pd.Series):\n",
        "                Atributele unui exemplu din setul de date\n",
        "\n",
        "        Returns:\n",
        "            str:\n",
        "                Clasa prezisă pentru exemplul x\n",
        "\n",
        "        Examples:\n",
        "            >>> X = pd.DataFrame({'a': [1, 1, 1, 0, 0], 'b': [0, 0, 0, 1, 1]})\n",
        "            >>> y = pd.Series(['a', 'a', 'b', 'b', 'b'])\n",
        "            >>> model = DecisionTree(split_strategy='random')\n",
        "            >>> model.fit(X, y)\n",
        "            >>> model._predict_once(pd.Series({'a': 1, 'b': 0}))\n",
        "            'a'\n",
        "        \"\"\"\n",
        "        node = self._root\n",
        "\n",
        "        while node.split_feature is not None:\n",
        "            if node.split_feature in x and x[node.split_feature] in node.children:\n",
        "                node = node.children[x[node.split_feature]]\n",
        "            else:\n",
        "                break\n",
        "        return node.label\n",
        "\n",
        "    def predict(self, X: pd.DataFrame) -> np.ndarray:\n",
        "        \"\"\"\n",
        "        Realizează predicția claselor pentru un set de date X\n",
        "\n",
        "        Args:\n",
        "            X (pd.DataFrame): Setul de date (atributele) pentru care se dorește clasificarea\n",
        "\n",
        "        Returns:\n",
        "            np.ndarray: Un vector cu clasele prezise pentru fiecare exemplu din X\n",
        "\n",
        "        Examples:\n",
        "            >>> X = pd.DataFrame({'a': [1, 1, 1, 0, 0], 'b': [0, 0, 0, 1, 1]})\n",
        "            >>> y = pd.Series(['a', 'a', 'b', 'b', 'b'])\n",
        "            >>> model = DecisionTree(split_strategy='random')\n",
        "            >>> model.fit(X, y)\n",
        "            >>> model.predict(X)\n",
        "            array(['a', 'a', 'b', 'b', 'b'], dtype=object)\n",
        "        \"\"\"\n",
        "        return np.array([self._predict_once(x) for _, x in X.iterrows()])\n",
        "\n",
        "    def get_depth(self) -> int:\n",
        "        \"\"\"\n",
        "        Returnează adâncimea arborelui\n",
        "\n",
        "        Returns:\n",
        "            int: Adâncimea arborelui\n",
        "        \"\"\"\n",
        "        # Se parcurge arborele pentru a găsi adâncimea maximă\n",
        "        def _get_depth(node: DecisionTreeNode) -> int:\n",
        "            if node is None:\n",
        "                return 0\n",
        "            return max([_get_depth(child) for child in node.children.values()], default=0) + 1\n",
        "\n",
        "        return _get_depth(self._root)\n",
        "\n",
        "    def get_number_of_nodes(self) -> int:\n",
        "        \"\"\"\n",
        "        Returnează numărul de noduri din arbore\n",
        "\n",
        "        Returns:\n",
        "            int: Numărul de noduri din arbore\n",
        "        \"\"\"\n",
        "        # Se parcurge arborele pentru a găsi numărul de noduri\n",
        "        def _get_number_of_nodes(node: DecisionTreeNode) -> int:\n",
        "            if node is None:\n",
        "                return 0\n",
        "            return sum([_get_number_of_nodes(child) for child in node.children.values()], 0) + 1\n",
        "\n",
        "        return _get_number_of_nodes(self._root)\n",
        "\n",
        "    def get_tree_graph(self) -> Digraph:\n",
        "        \"\"\"\n",
        "        Construiește reprezentarea grafică a arborelui de decizie folosind biblioteca Graphviz\n",
        "\n",
        "        Returns:\n",
        "            Digraph: Obiectul Digraph în care se construiește reprezentarea arborelui\n",
        "        \"\"\"\n",
        "        return self._root.get_tree_graph()\n",
        "\n",
        "    def display(self):\n",
        "        \"\"\"\n",
        "        Afișează arborele de decizie folosind biblioteca Graphviz. Arborele va fi afișat ca output al celulei.\n",
        "        \"\"\"\n",
        "        return self._root.display()"
      ]
    },
    {
      "cell_type": "markdown",
      "metadata": {
        "id": "o4CBNvoR9shA"
      },
      "source": [
        "#### Testarea funcționalității metodelor implementate\n",
        "\n",
        "În această secțiune veți găsi câteva teste pentru a verifica corectitudinea implementării metodelor din cadrul clasei `DecisionTree`. Aceste teste sunt folosite pentru a verifica dacă metodele implementate returnează rezultatele corecte pentru diferite scenarii."
      ]
    },
    {
      "cell_type": "code",
      "execution_count": 24,
      "metadata": {
        "colab": {
          "base_uri": "https://localhost:8080/"
        },
        "id": "zdCmD9JK9shA",
        "outputId": "8ccb64a4-1f29-45a6-9bf3-5c1732f4f108"
      },
      "outputs": [
        {
          "name": "stdout",
          "output_type": "stream",
          "text": [
            "PASSED: test_most_frequent_class\n"
          ]
        }
      ],
      "source": [
        "# Testați funcția `most_frequent_class`\n",
        "assert DecisionTree.most_frequent_class(pd.Series(['a', 'a', 'b', 'b', 'b'])) == 'b', \"Test 1 FAILED: Most frequent class is 'b', but got something else\"\n",
        "assert DecisionTree.most_frequent_class(pd.Series(['a', 'a', 'a', 'b', 'b'])) == 'a', \"Test 2 FAILED: Most frequent class is 'a', but got something else\"\n",
        "print(\"PASSED: test_most_frequent_class\")"
      ]
    },
    {
      "cell_type": "code",
      "execution_count": 25,
      "metadata": {
        "colab": {
          "base_uri": "https://localhost:8080/"
        },
        "id": "JOJNy__w9shB",
        "outputId": "6a8b15db-f55a-43c9-8c29-26d60a016ef3"
      },
      "outputs": [
        {
          "name": "stdout",
          "output_type": "stream",
          "text": [
            "PASSED: test_compute_entropy\n"
          ]
        }
      ],
      "source": [
        "# Testați funcția `compute_entropy`\n",
        "assert np.isclose(DecisionTree.compute_entropy(pd.Series(['a', 'a', 'b', 'b', 'b'])), 0.9709505944546686), \"Test 3 FAILED: Entropy is 0.9709505944546686, but got something else\"\n",
        "assert np.isclose(DecisionTree.compute_entropy(pd.Series(['a', 'a', 'a', 'a', 'b'])), 0.7219280948873623), \"Test 4 FAILED: Entropy is 0.7219280948873623, but got something else\"\n",
        "assert np.isclose(DecisionTree.compute_entropy(pd.Series(['a', 'a', 'a', 'a', 'a'])), 0), \"Test 5 FAILED: Entropy is 0, but got something else\"\n",
        "print(\"PASSED: test_compute_entropy\")"
      ]
    },
    {
      "cell_type": "code",
      "execution_count": 26,
      "metadata": {
        "id": "RbB_rtS39shC"
      },
      "outputs": [],
      "source": [
        "# Definim un set de date pentru testare\n",
        "X = pd.DataFrame({'a': [1, 1, 0, 0, 0], 'b': [0, 0, 0, 1, 1]})\n",
        "y = pd.Series(['a', 'a', 'b', 'b', 'b'])"
      ]
    },
    {
      "cell_type": "code",
      "execution_count": 27,
      "metadata": {
        "colab": {
          "base_uri": "https://localhost:8080/"
        },
        "id": "VKqcGHKF9shD",
        "outputId": "32028782-6690-4719-a6d6-681530236529"
      },
      "outputs": [
        {
          "name": "stdout",
          "output_type": "stream",
          "text": [
            "PASSED: test_compute_information_gain\n"
          ]
        }
      ],
      "source": [
        "# Testați funcția `compute_information_gain`\n",
        "assert np.isclose(DecisionTree.compute_information_gain(X, y, 'a'), 0.9709505944546686), \"Test 6 FAILED: Information gain is 0.9709505944546686, but got something else\"\n",
        "assert np.isclose(DecisionTree.compute_information_gain(X, y, 'b'), 0.4199730940219749), \"Test 7 FAILED: Information gain is 0.4199730940219749, but got something else\"\n",
        "print(\"PASSED: test_compute_information_gain\")"
      ]
    },
    {
      "cell_type": "code",
      "execution_count": 28,
      "metadata": {
        "colab": {
          "base_uri": "https://localhost:8080/"
        },
        "id": "YmTHgioY9shE",
        "outputId": "355000d7-3c24-4171-de7c-131882936fb0"
      },
      "outputs": [
        {
          "name": "stdout",
          "output_type": "stream",
          "text": [
            "PASSED: test_select_random_split_feature\n"
          ]
        }
      ],
      "source": [
        "# Testați funcția `_select_random_split_feature`\n",
        "model = DecisionTree(split_strategy='random')\n",
        "assert model._select_random_split_feature(X, y, ['a', 'b']) in ['a', 'b'], \"Test 8 FAILED: Selected feature is 'a' or 'b', but got something else\"\n",
        "print(\"PASSED: test_select_random_split_feature\")"
      ]
    },
    {
      "cell_type": "code",
      "execution_count": 29,
      "metadata": {
        "colab": {
          "base_uri": "https://localhost:8080/"
        },
        "id": "sfmlNL7I9shE",
        "outputId": "990a5809-4e52-4d7e-ce65-a4957465a388"
      },
      "outputs": [
        {
          "name": "stdout",
          "output_type": "stream",
          "text": [
            "PASSED: test_select_best_split_feature\n"
          ]
        }
      ],
      "source": [
        "# Testați funcția `_select_best_split_feature`\n",
        "model = DecisionTree(split_strategy='id3')\n",
        "assert model._select_best_split_feature(X, y, ['a', 'b']) == 'a', \"Test 9 FAILED: Selected feature is 'a' or 'b', but got something else\"\n",
        "print(\"PASSED: test_select_best_split_feature\")"
      ]
    },
    {
      "cell_type": "markdown",
      "metadata": {
        "id": "i0FOV_Ky9shF"
      },
      "source": [
        "#### Afișare arbore de decizie\n",
        "\n",
        "În acest capitol puteți vizualiza arborele de decizie construit folosind algoritmul ID3 sau Random Tree pentru setul de date selectat."
      ]
    },
    {
      "cell_type": "code",
      "execution_count": 30,
      "metadata": {
        "id": "Pa-Gq_JQ9shG"
      },
      "outputs": [],
      "source": [
        "# Setați această variabilă la numărul de rulări dorit pentru a observa diferitele împărțiri ale arborelui\n",
        "NUM_RUNS = 2"
      ]
    },
    {
      "cell_type": "code",
      "execution_count": 31,
      "metadata": {
        "colab": {
          "base_uri": "https://localhost:8080/",
          "height": 1000
        },
        "id": "rWgbhLM89shH",
        "outputId": "17ecee3f-740c-4c47-8cdf-55f1258a096c"
      },
      "outputs": [
        {
          "data": {
            "image/svg+xml": [
              "<?xml version=\"1.0\" encoding=\"UTF-8\" standalone=\"no\"?>\n",
              "<!DOCTYPE svg PUBLIC \"-//W3C//DTD SVG 1.1//EN\"\n",
              " \"http://www.w3.org/Graphics/SVG/1.1/DTD/svg11.dtd\">\n",
              "<!-- Generated by graphviz version 2.43.0 (0)\n",
              " -->\n",
              "<!-- Title: %3 Pages: 1 -->\n",
              "<svg width=\"793pt\" height=\"373pt\"\n",
              " viewBox=\"0.00 0.00 793.00 373.00\" xmlns=\"http://www.w3.org/2000/svg\" xmlns:xlink=\"http://www.w3.org/1999/xlink\">\n",
              "<g id=\"graph0\" class=\"graph\" transform=\"scale(1 1) rotate(0) translate(4 369)\">\n",
              "<title>%3</title>\n",
              "<polygon fill=\"white\" stroke=\"transparent\" points=\"-4,4 -4,-369 789,-369 789,4 -4,4\"/>\n",
              "<!-- __main__.DecisionTreeNode object at 0x7a2931d81df0 -->\n",
              "<g id=\"node1\" class=\"node\">\n",
              "<title>__main__.DecisionTreeNode object at 0x7a2931d81df0</title>\n",
              "<polygon fill=\"lightblue\" stroke=\"black\" points=\"508.5,-365 386.5,-365 386.5,-312 508.5,-312 508.5,-365\"/>\n",
              "<text text-anchor=\"middle\" x=\"447.5\" y=\"-349.8\" font-family=\"Times,serif\" font-size=\"14.00\">Split: Outlook?</text>\n",
              "<text text-anchor=\"middle\" x=\"447.5\" y=\"-334.8\" font-family=\"Times,serif\" font-size=\"14.00\">Score: 0.845</text>\n",
              "<text text-anchor=\"middle\" x=\"447.5\" y=\"-319.8\" font-family=\"Times,serif\" font-size=\"14.00\">Samples: 11</text>\n",
              "</g>\n",
              "<!-- __main__.DecisionTreeNode object at 0x7a2931d80950 -->\n",
              "<g id=\"node2\" class=\"node\">\n",
              "<title>__main__.DecisionTreeNode object at 0x7a2931d80950</title>\n",
              "<polygon fill=\"lightblue\" stroke=\"black\" points=\"374,-261 215,-261 215,-208 374,-208 374,-261\"/>\n",
              "<text text-anchor=\"middle\" x=\"294.5\" y=\"-245.8\" font-family=\"Times,serif\" font-size=\"14.00\">Split: Temperature?</text>\n",
              "<text text-anchor=\"middle\" x=\"294.5\" y=\"-230.8\" font-family=\"Times,serif\" font-size=\"14.00\">Score: 0.971</text>\n",
              "<text text-anchor=\"middle\" x=\"294.5\" y=\"-215.8\" font-family=\"Times,serif\" font-size=\"14.00\">Samples: 5</text>\n",
              "</g>\n",
              "<!-- __main__.DecisionTreeNode object at 0x7a2931d81df0&#45;&gt;__main__.DecisionTreeNode object at 0x7a2931d80950 -->\n",
              "<g id=\"edge7\" class=\"edge\">\n",
              "<title>__main__.DecisionTreeNode object at 0x7a2931d81df0&#45;&gt;__main__.DecisionTreeNode object at 0x7a2931d80950</title>\n",
              "<path fill=\"none\" stroke=\"black\" d=\"M408.89,-311.76C388.34,-298.06 362.9,-281.1 341.24,-266.66\"/>\n",
              "<polygon fill=\"black\" stroke=\"black\" points=\"343.09,-263.69 332.83,-261.05 339.21,-269.51 343.09,-263.69\"/>\n",
              "<text text-anchor=\"middle\" x=\"395\" y=\"-282.8\" font-family=\"Times,serif\" font-size=\"14.00\">rain</text>\n",
              "</g>\n",
              "<!-- __main__.DecisionTreeNode object at 0x7a2931d821e0 -->\n",
              "<g id=\"node9\" class=\"node\">\n",
              "<title>__main__.DecisionTreeNode object at 0x7a2931d821e0</title>\n",
              "<polygon fill=\"#bcee68\" stroke=\"black\" points=\"503,-261 392,-261 392,-208 503,-208 503,-261\"/>\n",
              "<text text-anchor=\"middle\" x=\"447.5\" y=\"-245.8\" font-family=\"Times,serif\" font-size=\"14.00\">Label: yes</text>\n",
              "<text text-anchor=\"middle\" x=\"447.5\" y=\"-230.8\" font-family=\"Times,serif\" font-size=\"14.00\">Score: &#45;0.000</text>\n",
              "<text text-anchor=\"middle\" x=\"447.5\" y=\"-215.8\" font-family=\"Times,serif\" font-size=\"14.00\">Samples: 3</text>\n",
              "</g>\n",
              "<!-- __main__.DecisionTreeNode object at 0x7a2931d81df0&#45;&gt;__main__.DecisionTreeNode object at 0x7a2931d821e0 -->\n",
              "<g id=\"edge8\" class=\"edge\">\n",
              "<title>__main__.DecisionTreeNode object at 0x7a2931d81df0&#45;&gt;__main__.DecisionTreeNode object at 0x7a2931d821e0</title>\n",
              "<path fill=\"none\" stroke=\"black\" d=\"M447.5,-311.76C447.5,-299.56 447.5,-284.78 447.5,-271.49\"/>\n",
              "<polygon fill=\"black\" stroke=\"black\" points=\"451,-271.23 447.5,-261.23 444,-271.23 451,-271.23\"/>\n",
              "<text text-anchor=\"middle\" x=\"478\" y=\"-282.8\" font-family=\"Times,serif\" font-size=\"14.00\">overcast</text>\n",
              "</g>\n",
              "<!-- __main__.DecisionTreeNode object at 0x7a2931cd9f70 -->\n",
              "<g id=\"node10\" class=\"node\">\n",
              "<title>__main__.DecisionTreeNode object at 0x7a2931cd9f70</title>\n",
              "<polygon fill=\"lightblue\" stroke=\"black\" points=\"633.5,-261 521.5,-261 521.5,-208 633.5,-208 633.5,-261\"/>\n",
              "<text text-anchor=\"middle\" x=\"577.5\" y=\"-245.8\" font-family=\"Times,serif\" font-size=\"14.00\">Split: Windy?</text>\n",
              "<text text-anchor=\"middle\" x=\"577.5\" y=\"-230.8\" font-family=\"Times,serif\" font-size=\"14.00\">Score: 0.918</text>\n",
              "<text text-anchor=\"middle\" x=\"577.5\" y=\"-215.8\" font-family=\"Times,serif\" font-size=\"14.00\">Samples: 3</text>\n",
              "</g>\n",
              "<!-- __main__.DecisionTreeNode object at 0x7a2931d81df0&#45;&gt;__main__.DecisionTreeNode object at 0x7a2931cd9f70 -->\n",
              "<g id=\"edge13\" class=\"edge\">\n",
              "<title>__main__.DecisionTreeNode object at 0x7a2931d81df0&#45;&gt;__main__.DecisionTreeNode object at 0x7a2931cd9f70</title>\n",
              "<path fill=\"none\" stroke=\"black\" d=\"M487.67,-311.93C496.03,-306.24 504.68,-300.09 512.5,-294 522.81,-285.98 533.52,-276.75 543.21,-268.02\"/>\n",
              "<polygon fill=\"black\" stroke=\"black\" points=\"545.7,-270.49 550.74,-261.16 540.99,-265.31 545.7,-270.49\"/>\n",
              "<text text-anchor=\"middle\" x=\"551\" y=\"-282.8\" font-family=\"Times,serif\" font-size=\"14.00\">sunny</text>\n",
              "</g>\n",
              "<!-- __main__.DecisionTreeNode object at 0x7a2931d82540 -->\n",
              "<g id=\"node3\" class=\"node\">\n",
              "<title>__main__.DecisionTreeNode object at 0x7a2931d82540</title>\n",
              "<polygon fill=\"lightblue\" stroke=\"black\" points=\"241.5,-157 107.5,-157 107.5,-104 241.5,-104 241.5,-157\"/>\n",
              "<text text-anchor=\"middle\" x=\"174.5\" y=\"-141.8\" font-family=\"Times,serif\" font-size=\"14.00\">Split: Humidity?</text>\n",
              "<text text-anchor=\"middle\" x=\"174.5\" y=\"-126.8\" font-family=\"Times,serif\" font-size=\"14.00\">Score: 0.918</text>\n",
              "<text text-anchor=\"middle\" x=\"174.5\" y=\"-111.8\" font-family=\"Times,serif\" font-size=\"14.00\">Samples: 3</text>\n",
              "</g>\n",
              "<!-- __main__.DecisionTreeNode object at 0x7a2931d80950&#45;&gt;__main__.DecisionTreeNode object at 0x7a2931d82540 -->\n",
              "<g id=\"edge3\" class=\"edge\">\n",
              "<title>__main__.DecisionTreeNode object at 0x7a2931d80950&#45;&gt;__main__.DecisionTreeNode object at 0x7a2931d82540</title>\n",
              "<path fill=\"none\" stroke=\"black\" d=\"M264.22,-207.76C248.59,-194.47 229.35,-178.12 212.71,-163.98\"/>\n",
              "<polygon fill=\"black\" stroke=\"black\" points=\"214.66,-161.04 204.77,-157.23 210.12,-166.37 214.66,-161.04\"/>\n",
              "<text text-anchor=\"middle\" x=\"258.5\" y=\"-178.8\" font-family=\"Times,serif\" font-size=\"14.00\">mild</text>\n",
              "</g>\n",
              "<!-- __main__.DecisionTreeNode object at 0x7a2931d82360 -->\n",
              "<g id=\"node6\" class=\"node\">\n",
              "<title>__main__.DecisionTreeNode object at 0x7a2931d82360</title>\n",
              "<polygon fill=\"lightblue\" stroke=\"black\" points=\"371.5,-157 259.5,-157 259.5,-104 371.5,-104 371.5,-157\"/>\n",
              "<text text-anchor=\"middle\" x=\"315.5\" y=\"-141.8\" font-family=\"Times,serif\" font-size=\"14.00\">Split: Windy?</text>\n",
              "<text text-anchor=\"middle\" x=\"315.5\" y=\"-126.8\" font-family=\"Times,serif\" font-size=\"14.00\">Score: 1.000</text>\n",
              "<text text-anchor=\"middle\" x=\"315.5\" y=\"-111.8\" font-family=\"Times,serif\" font-size=\"14.00\">Samples: 2</text>\n",
              "</g>\n",
              "<!-- __main__.DecisionTreeNode object at 0x7a2931d80950&#45;&gt;__main__.DecisionTreeNode object at 0x7a2931d82360 -->\n",
              "<g id=\"edge6\" class=\"edge\">\n",
              "<title>__main__.DecisionTreeNode object at 0x7a2931d80950&#45;&gt;__main__.DecisionTreeNode object at 0x7a2931d82360</title>\n",
              "<path fill=\"none\" stroke=\"black\" d=\"M299.8,-207.76C302.34,-195.44 305.41,-180.49 308.17,-167.1\"/>\n",
              "<polygon fill=\"black\" stroke=\"black\" points=\"311.61,-167.73 310.2,-157.23 304.76,-166.32 311.61,-167.73\"/>\n",
              "<text text-anchor=\"middle\" x=\"321\" y=\"-178.8\" font-family=\"Times,serif\" font-size=\"14.00\">cool</text>\n",
              "</g>\n",
              "<!-- __main__.DecisionTreeNode object at 0x7a2931d81550 -->\n",
              "<g id=\"node4\" class=\"node\">\n",
              "<title>__main__.DecisionTreeNode object at 0x7a2931d81550</title>\n",
              "<polygon fill=\"#bcee68\" stroke=\"black\" points=\"107,-53 0,-53 0,0 107,0 107,-53\"/>\n",
              "<text text-anchor=\"middle\" x=\"53.5\" y=\"-37.8\" font-family=\"Times,serif\" font-size=\"14.00\">Label: yes</text>\n",
              "<text text-anchor=\"middle\" x=\"53.5\" y=\"-22.8\" font-family=\"Times,serif\" font-size=\"14.00\">Score: 1.000</text>\n",
              "<text text-anchor=\"middle\" x=\"53.5\" y=\"-7.8\" font-family=\"Times,serif\" font-size=\"14.00\">Samples: 2</text>\n",
              "</g>\n",
              "<!-- __main__.DecisionTreeNode object at 0x7a2931d82540&#45;&gt;__main__.DecisionTreeNode object at 0x7a2931d81550 -->\n",
              "<g id=\"edge1\" class=\"edge\">\n",
              "<title>__main__.DecisionTreeNode object at 0x7a2931d82540&#45;&gt;__main__.DecisionTreeNode object at 0x7a2931d81550</title>\n",
              "<path fill=\"none\" stroke=\"black\" d=\"M143.97,-103.76C128.2,-90.47 108.81,-74.12 92.03,-59.98\"/>\n",
              "<polygon fill=\"black\" stroke=\"black\" points=\"93.93,-57 84.02,-53.23 89.41,-62.35 93.93,-57\"/>\n",
              "<text text-anchor=\"middle\" x=\"137.5\" y=\"-74.8\" font-family=\"Times,serif\" font-size=\"14.00\">high</text>\n",
              "</g>\n",
              "<!-- __main__.DecisionTreeNode object at 0x7a2931d82750 -->\n",
              "<g id=\"node5\" class=\"node\">\n",
              "<title>__main__.DecisionTreeNode object at 0x7a2931d82750</title>\n",
              "<polygon fill=\"#bcee68\" stroke=\"black\" points=\"236,-53 125,-53 125,0 236,0 236,-53\"/>\n",
              "<text text-anchor=\"middle\" x=\"180.5\" y=\"-37.8\" font-family=\"Times,serif\" font-size=\"14.00\">Label: yes</text>\n",
              "<text text-anchor=\"middle\" x=\"180.5\" y=\"-22.8\" font-family=\"Times,serif\" font-size=\"14.00\">Score: &#45;0.000</text>\n",
              "<text text-anchor=\"middle\" x=\"180.5\" y=\"-7.8\" font-family=\"Times,serif\" font-size=\"14.00\">Samples: 1</text>\n",
              "</g>\n",
              "<!-- __main__.DecisionTreeNode object at 0x7a2931d82540&#45;&gt;__main__.DecisionTreeNode object at 0x7a2931d82750 -->\n",
              "<g id=\"edge2\" class=\"edge\">\n",
              "<title>__main__.DecisionTreeNode object at 0x7a2931d82540&#45;&gt;__main__.DecisionTreeNode object at 0x7a2931d82750</title>\n",
              "<path fill=\"none\" stroke=\"black\" d=\"M176.01,-103.76C176.73,-91.56 177.6,-76.78 178.38,-63.49\"/>\n",
              "<polygon fill=\"black\" stroke=\"black\" points=\"181.89,-63.42 178.99,-53.23 174.91,-63.01 181.89,-63.42\"/>\n",
              "<text text-anchor=\"middle\" x=\"204\" y=\"-74.8\" font-family=\"Times,serif\" font-size=\"14.00\">normal</text>\n",
              "</g>\n",
              "<!-- __main__.DecisionTreeNode object at 0x7a2931d81640 -->\n",
              "<g id=\"node7\" class=\"node\">\n",
              "<title>__main__.DecisionTreeNode object at 0x7a2931d81640</title>\n",
              "<polygon fill=\"#bcee68\" stroke=\"black\" points=\"367,-53 256,-53 256,0 367,0 367,-53\"/>\n",
              "<text text-anchor=\"middle\" x=\"311.5\" y=\"-37.8\" font-family=\"Times,serif\" font-size=\"14.00\">Label: yes</text>\n",
              "<text text-anchor=\"middle\" x=\"311.5\" y=\"-22.8\" font-family=\"Times,serif\" font-size=\"14.00\">Score: &#45;0.000</text>\n",
              "<text text-anchor=\"middle\" x=\"311.5\" y=\"-7.8\" font-family=\"Times,serif\" font-size=\"14.00\">Samples: 1</text>\n",
              "</g>\n",
              "<!-- __main__.DecisionTreeNode object at 0x7a2931d82360&#45;&gt;__main__.DecisionTreeNode object at 0x7a2931d81640 -->\n",
              "<g id=\"edge4\" class=\"edge\">\n",
              "<title>__main__.DecisionTreeNode object at 0x7a2931d82360&#45;&gt;__main__.DecisionTreeNode object at 0x7a2931d81640</title>\n",
              "<path fill=\"none\" stroke=\"black\" d=\"M314.49,-103.76C314.01,-91.56 313.43,-76.78 312.91,-63.49\"/>\n",
              "<polygon fill=\"black\" stroke=\"black\" points=\"316.4,-63.09 312.51,-53.23 309.4,-63.36 316.4,-63.09\"/>\n",
              "<text text-anchor=\"middle\" x=\"333.5\" y=\"-74.8\" font-family=\"Times,serif\" font-size=\"14.00\">False</text>\n",
              "</g>\n",
              "<!-- __main__.DecisionTreeNode object at 0x7a2931d82870 -->\n",
              "<g id=\"node8\" class=\"node\">\n",
              "<title>__main__.DecisionTreeNode object at 0x7a2931d82870</title>\n",
              "<polygon fill=\"#bcee68\" stroke=\"black\" points=\"496,-53 385,-53 385,0 496,0 496,-53\"/>\n",
              "<text text-anchor=\"middle\" x=\"440.5\" y=\"-37.8\" font-family=\"Times,serif\" font-size=\"14.00\">Label: no</text>\n",
              "<text text-anchor=\"middle\" x=\"440.5\" y=\"-22.8\" font-family=\"Times,serif\" font-size=\"14.00\">Score: &#45;0.000</text>\n",
              "<text text-anchor=\"middle\" x=\"440.5\" y=\"-7.8\" font-family=\"Times,serif\" font-size=\"14.00\">Samples: 1</text>\n",
              "</g>\n",
              "<!-- __main__.DecisionTreeNode object at 0x7a2931d82360&#45;&gt;__main__.DecisionTreeNode object at 0x7a2931d82870 -->\n",
              "<g id=\"edge5\" class=\"edge\">\n",
              "<title>__main__.DecisionTreeNode object at 0x7a2931d82360&#45;&gt;__main__.DecisionTreeNode object at 0x7a2931d82870</title>\n",
              "<path fill=\"none\" stroke=\"black\" d=\"M347.04,-103.76C363.48,-90.35 383.73,-73.83 401.17,-59.59\"/>\n",
              "<polygon fill=\"black\" stroke=\"black\" points=\"403.43,-62.26 408.97,-53.23 399.01,-56.84 403.43,-62.26\"/>\n",
              "<text text-anchor=\"middle\" x=\"402.5\" y=\"-74.8\" font-family=\"Times,serif\" font-size=\"14.00\">True</text>\n",
              "</g>\n",
              "<!-- __main__.DecisionTreeNode object at 0x7a2931d82960 -->\n",
              "<g id=\"node11\" class=\"node\">\n",
              "<title>__main__.DecisionTreeNode object at 0x7a2931d82960</title>\n",
              "<polygon fill=\"lightblue\" stroke=\"black\" points=\"656,-157 497,-157 497,-104 656,-104 656,-157\"/>\n",
              "<text text-anchor=\"middle\" x=\"576.5\" y=\"-141.8\" font-family=\"Times,serif\" font-size=\"14.00\">Split: Temperature?</text>\n",
              "<text text-anchor=\"middle\" x=\"576.5\" y=\"-126.8\" font-family=\"Times,serif\" font-size=\"14.00\">Score: 1.000</text>\n",
              "<text text-anchor=\"middle\" x=\"576.5\" y=\"-111.8\" font-family=\"Times,serif\" font-size=\"14.00\">Samples: 2</text>\n",
              "</g>\n",
              "<!-- __main__.DecisionTreeNode object at 0x7a2931cd9f70&#45;&gt;__main__.DecisionTreeNode object at 0x7a2931d82960 -->\n",
              "<g id=\"edge11\" class=\"edge\">\n",
              "<title>__main__.DecisionTreeNode object at 0x7a2931cd9f70&#45;&gt;__main__.DecisionTreeNode object at 0x7a2931d82960</title>\n",
              "<path fill=\"none\" stroke=\"black\" d=\"M577.25,-207.76C577.13,-195.56 576.98,-180.78 576.85,-167.49\"/>\n",
              "<polygon fill=\"black\" stroke=\"black\" points=\"580.35,-167.2 576.75,-157.23 573.35,-167.26 580.35,-167.2\"/>\n",
              "<text text-anchor=\"middle\" x=\"596.5\" y=\"-178.8\" font-family=\"Times,serif\" font-size=\"14.00\">False</text>\n",
              "</g>\n",
              "<!-- __main__.DecisionTreeNode object at 0x7a2931d825a0 -->\n",
              "<g id=\"node14\" class=\"node\">\n",
              "<title>__main__.DecisionTreeNode object at 0x7a2931d825a0</title>\n",
              "<polygon fill=\"#bcee68\" stroke=\"black\" points=\"785,-157 674,-157 674,-104 785,-104 785,-157\"/>\n",
              "<text text-anchor=\"middle\" x=\"729.5\" y=\"-141.8\" font-family=\"Times,serif\" font-size=\"14.00\">Label: yes</text>\n",
              "<text text-anchor=\"middle\" x=\"729.5\" y=\"-126.8\" font-family=\"Times,serif\" font-size=\"14.00\">Score: &#45;0.000</text>\n",
              "<text text-anchor=\"middle\" x=\"729.5\" y=\"-111.8\" font-family=\"Times,serif\" font-size=\"14.00\">Samples: 1</text>\n",
              "</g>\n",
              "<!-- __main__.DecisionTreeNode object at 0x7a2931cd9f70&#45;&gt;__main__.DecisionTreeNode object at 0x7a2931d825a0 -->\n",
              "<g id=\"edge12\" class=\"edge\">\n",
              "<title>__main__.DecisionTreeNode object at 0x7a2931cd9f70&#45;&gt;__main__.DecisionTreeNode object at 0x7a2931d825a0</title>\n",
              "<path fill=\"none\" stroke=\"black\" d=\"M615.86,-207.76C636.28,-194.06 661.55,-177.1 683.07,-162.66\"/>\n",
              "<polygon fill=\"black\" stroke=\"black\" points=\"685.07,-165.53 691.42,-157.05 681.17,-159.72 685.07,-165.53\"/>\n",
              "<text text-anchor=\"middle\" x=\"680.5\" y=\"-178.8\" font-family=\"Times,serif\" font-size=\"14.00\">True</text>\n",
              "</g>\n",
              "<!-- __main__.DecisionTreeNode object at 0x7a2931d822d0 -->\n",
              "<g id=\"node12\" class=\"node\">\n",
              "<title>__main__.DecisionTreeNode object at 0x7a2931d822d0</title>\n",
              "<polygon fill=\"#bcee68\" stroke=\"black\" points=\"626,-53 515,-53 515,0 626,0 626,-53\"/>\n",
              "<text text-anchor=\"middle\" x=\"570.5\" y=\"-37.8\" font-family=\"Times,serif\" font-size=\"14.00\">Label: yes</text>\n",
              "<text text-anchor=\"middle\" x=\"570.5\" y=\"-22.8\" font-family=\"Times,serif\" font-size=\"14.00\">Score: &#45;0.000</text>\n",
              "<text text-anchor=\"middle\" x=\"570.5\" y=\"-7.8\" font-family=\"Times,serif\" font-size=\"14.00\">Samples: 1</text>\n",
              "</g>\n",
              "<!-- __main__.DecisionTreeNode object at 0x7a2931d82960&#45;&gt;__main__.DecisionTreeNode object at 0x7a2931d822d0 -->\n",
              "<g id=\"edge9\" class=\"edge\">\n",
              "<title>__main__.DecisionTreeNode object at 0x7a2931d82960&#45;&gt;__main__.DecisionTreeNode object at 0x7a2931d822d0</title>\n",
              "<path fill=\"none\" stroke=\"black\" d=\"M574.99,-103.76C574.27,-91.56 573.4,-76.78 572.62,-63.49\"/>\n",
              "<polygon fill=\"black\" stroke=\"black\" points=\"576.09,-63.01 572.01,-53.23 569.11,-63.42 576.09,-63.01\"/>\n",
              "<text text-anchor=\"middle\" x=\"589\" y=\"-74.8\" font-family=\"Times,serif\" font-size=\"14.00\">cool</text>\n",
              "</g>\n",
              "<!-- __main__.DecisionTreeNode object at 0x7a2931d82660 -->\n",
              "<g id=\"node13\" class=\"node\">\n",
              "<title>__main__.DecisionTreeNode object at 0x7a2931d82660</title>\n",
              "<polygon fill=\"#bcee68\" stroke=\"black\" points=\"755,-53 644,-53 644,0 755,0 755,-53\"/>\n",
              "<text text-anchor=\"middle\" x=\"699.5\" y=\"-37.8\" font-family=\"Times,serif\" font-size=\"14.00\">Label: no</text>\n",
              "<text text-anchor=\"middle\" x=\"699.5\" y=\"-22.8\" font-family=\"Times,serif\" font-size=\"14.00\">Score: &#45;0.000</text>\n",
              "<text text-anchor=\"middle\" x=\"699.5\" y=\"-7.8\" font-family=\"Times,serif\" font-size=\"14.00\">Samples: 1</text>\n",
              "</g>\n",
              "<!-- __main__.DecisionTreeNode object at 0x7a2931d82960&#45;&gt;__main__.DecisionTreeNode object at 0x7a2931d82660 -->\n",
              "<g id=\"edge10\" class=\"edge\">\n",
              "<title>__main__.DecisionTreeNode object at 0x7a2931d82960&#45;&gt;__main__.DecisionTreeNode object at 0x7a2931d82660</title>\n",
              "<path fill=\"none\" stroke=\"black\" d=\"M607.54,-103.76C623.56,-90.47 643.28,-74.12 660.34,-59.98\"/>\n",
              "<polygon fill=\"black\" stroke=\"black\" points=\"663.01,-62.31 668.47,-53.23 658.54,-56.92 663.01,-62.31\"/>\n",
              "<text text-anchor=\"middle\" x=\"661.5\" y=\"-74.8\" font-family=\"Times,serif\" font-size=\"14.00\">mild</text>\n",
              "</g>\n",
              "</g>\n",
              "</svg>\n"
            ],
            "text/plain": [
              "<graphviz.sources.Source at 0x7a2931d82600>"
            ]
          },
          "metadata": {},
          "output_type": "display_data"
        },
        {
          "data": {
            "image/svg+xml": [
              "<?xml version=\"1.0\" encoding=\"UTF-8\" standalone=\"no\"?>\n",
              "<!DOCTYPE svg PUBLIC \"-//W3C//DTD SVG 1.1//EN\"\n",
              " \"http://www.w3.org/Graphics/SVG/1.1/DTD/svg11.dtd\">\n",
              "<!-- Generated by graphviz version 2.43.0 (0)\n",
              " -->\n",
              "<!-- Title: %3 Pages: 1 -->\n",
              "<svg width=\"770pt\" height=\"373pt\"\n",
              " viewBox=\"0.00 0.00 770.00 373.00\" xmlns=\"http://www.w3.org/2000/svg\" xmlns:xlink=\"http://www.w3.org/1999/xlink\">\n",
              "<g id=\"graph0\" class=\"graph\" transform=\"scale(1 1) rotate(0) translate(4 369)\">\n",
              "<title>%3</title>\n",
              "<polygon fill=\"white\" stroke=\"transparent\" points=\"-4,4 -4,-369 766,-369 766,4 -4,4\"/>\n",
              "<!-- __main__.DecisionTreeNode object at 0x7a2933d42f30 -->\n",
              "<g id=\"node1\" class=\"node\">\n",
              "<title>__main__.DecisionTreeNode object at 0x7a2933d42f30</title>\n",
              "<polygon fill=\"lightblue\" stroke=\"black\" points=\"415.5,-365 293.5,-365 293.5,-312 415.5,-312 415.5,-365\"/>\n",
              "<text text-anchor=\"middle\" x=\"354.5\" y=\"-349.8\" font-family=\"Times,serif\" font-size=\"14.00\">Split: Outlook?</text>\n",
              "<text text-anchor=\"middle\" x=\"354.5\" y=\"-334.8\" font-family=\"Times,serif\" font-size=\"14.00\">Score: 0.845</text>\n",
              "<text text-anchor=\"middle\" x=\"354.5\" y=\"-319.8\" font-family=\"Times,serif\" font-size=\"14.00\">Samples: 11</text>\n",
              "</g>\n",
              "<!-- __main__.DecisionTreeNode object at 0x7a2931d82060 -->\n",
              "<g id=\"node2\" class=\"node\">\n",
              "<title>__main__.DecisionTreeNode object at 0x7a2931d82060</title>\n",
              "<polygon fill=\"lightblue\" stroke=\"black\" points=\"281,-261 122,-261 122,-208 281,-208 281,-261\"/>\n",
              "<text text-anchor=\"middle\" x=\"201.5\" y=\"-245.8\" font-family=\"Times,serif\" font-size=\"14.00\">Split: Temperature?</text>\n",
              "<text text-anchor=\"middle\" x=\"201.5\" y=\"-230.8\" font-family=\"Times,serif\" font-size=\"14.00\">Score: 0.971</text>\n",
              "<text text-anchor=\"middle\" x=\"201.5\" y=\"-215.8\" font-family=\"Times,serif\" font-size=\"14.00\">Samples: 5</text>\n",
              "</g>\n",
              "<!-- __main__.DecisionTreeNode object at 0x7a2933d42f30&#45;&gt;__main__.DecisionTreeNode object at 0x7a2931d82060 -->\n",
              "<g id=\"edge7\" class=\"edge\">\n",
              "<title>__main__.DecisionTreeNode object at 0x7a2933d42f30&#45;&gt;__main__.DecisionTreeNode object at 0x7a2931d82060</title>\n",
              "<path fill=\"none\" stroke=\"black\" d=\"M315.89,-311.76C295.34,-298.06 269.9,-281.1 248.24,-266.66\"/>\n",
              "<polygon fill=\"black\" stroke=\"black\" points=\"250.09,-263.69 239.83,-261.05 246.21,-269.51 250.09,-263.69\"/>\n",
              "<text text-anchor=\"middle\" x=\"302\" y=\"-282.8\" font-family=\"Times,serif\" font-size=\"14.00\">rain</text>\n",
              "</g>\n",
              "<!-- __main__.DecisionTreeNode object at 0x7a2931d82930 -->\n",
              "<g id=\"node9\" class=\"node\">\n",
              "<title>__main__.DecisionTreeNode object at 0x7a2931d82930</title>\n",
              "<polygon fill=\"#bcee68\" stroke=\"black\" points=\"410,-261 299,-261 299,-208 410,-208 410,-261\"/>\n",
              "<text text-anchor=\"middle\" x=\"354.5\" y=\"-245.8\" font-family=\"Times,serif\" font-size=\"14.00\">Label: yes</text>\n",
              "<text text-anchor=\"middle\" x=\"354.5\" y=\"-230.8\" font-family=\"Times,serif\" font-size=\"14.00\">Score: &#45;0.000</text>\n",
              "<text text-anchor=\"middle\" x=\"354.5\" y=\"-215.8\" font-family=\"Times,serif\" font-size=\"14.00\">Samples: 3</text>\n",
              "</g>\n",
              "<!-- __main__.DecisionTreeNode object at 0x7a2933d42f30&#45;&gt;__main__.DecisionTreeNode object at 0x7a2931d82930 -->\n",
              "<g id=\"edge8\" class=\"edge\">\n",
              "<title>__main__.DecisionTreeNode object at 0x7a2933d42f30&#45;&gt;__main__.DecisionTreeNode object at 0x7a2931d82930</title>\n",
              "<path fill=\"none\" stroke=\"black\" d=\"M354.5,-311.76C354.5,-299.56 354.5,-284.78 354.5,-271.49\"/>\n",
              "<polygon fill=\"black\" stroke=\"black\" points=\"358,-271.23 354.5,-261.23 351,-271.23 358,-271.23\"/>\n",
              "<text text-anchor=\"middle\" x=\"385\" y=\"-282.8\" font-family=\"Times,serif\" font-size=\"14.00\">overcast</text>\n",
              "</g>\n",
              "<!-- __main__.DecisionTreeNode object at 0x7a2931d0b890 -->\n",
              "<g id=\"node10\" class=\"node\">\n",
              "<title>__main__.DecisionTreeNode object at 0x7a2931d0b890</title>\n",
              "<polygon fill=\"lightblue\" stroke=\"black\" points=\"587,-261 428,-261 428,-208 587,-208 587,-261\"/>\n",
              "<text text-anchor=\"middle\" x=\"507.5\" y=\"-245.8\" font-family=\"Times,serif\" font-size=\"14.00\">Split: Temperature?</text>\n",
              "<text text-anchor=\"middle\" x=\"507.5\" y=\"-230.8\" font-family=\"Times,serif\" font-size=\"14.00\">Score: 0.918</text>\n",
              "<text text-anchor=\"middle\" x=\"507.5\" y=\"-215.8\" font-family=\"Times,serif\" font-size=\"14.00\">Samples: 3</text>\n",
              "</g>\n",
              "<!-- __main__.DecisionTreeNode object at 0x7a2933d42f30&#45;&gt;__main__.DecisionTreeNode object at 0x7a2931d0b890 -->\n",
              "<g id=\"edge13\" class=\"edge\">\n",
              "<title>__main__.DecisionTreeNode object at 0x7a2933d42f30&#45;&gt;__main__.DecisionTreeNode object at 0x7a2931d0b890</title>\n",
              "<path fill=\"none\" stroke=\"black\" d=\"M393.11,-311.76C413.66,-298.06 439.1,-281.1 460.76,-266.66\"/>\n",
              "<polygon fill=\"black\" stroke=\"black\" points=\"462.79,-269.51 469.17,-261.05 458.91,-263.69 462.79,-269.51\"/>\n",
              "<text text-anchor=\"middle\" x=\"462\" y=\"-282.8\" font-family=\"Times,serif\" font-size=\"14.00\">sunny</text>\n",
              "</g>\n",
              "<!-- __main__.DecisionTreeNode object at 0x7a2931d824b0 -->\n",
              "<g id=\"node3\" class=\"node\">\n",
              "<title>__main__.DecisionTreeNode object at 0x7a2931d824b0</title>\n",
              "<polygon fill=\"lightblue\" stroke=\"black\" points=\"241.5,-157 107.5,-157 107.5,-104 241.5,-104 241.5,-157\"/>\n",
              "<text text-anchor=\"middle\" x=\"174.5\" y=\"-141.8\" font-family=\"Times,serif\" font-size=\"14.00\">Split: Humidity?</text>\n",
              "<text text-anchor=\"middle\" x=\"174.5\" y=\"-126.8\" font-family=\"Times,serif\" font-size=\"14.00\">Score: 0.918</text>\n",
              "<text text-anchor=\"middle\" x=\"174.5\" y=\"-111.8\" font-family=\"Times,serif\" font-size=\"14.00\">Samples: 3</text>\n",
              "</g>\n",
              "<!-- __main__.DecisionTreeNode object at 0x7a2931d82060&#45;&gt;__main__.DecisionTreeNode object at 0x7a2931d824b0 -->\n",
              "<g id=\"edge3\" class=\"edge\">\n",
              "<title>__main__.DecisionTreeNode object at 0x7a2931d82060&#45;&gt;__main__.DecisionTreeNode object at 0x7a2931d824b0</title>\n",
              "<path fill=\"none\" stroke=\"black\" d=\"M194.69,-207.76C191.43,-195.44 187.47,-180.49 183.92,-167.1\"/>\n",
              "<polygon fill=\"black\" stroke=\"black\" points=\"187.25,-166 181.31,-157.23 180.49,-167.79 187.25,-166\"/>\n",
              "<text text-anchor=\"middle\" x=\"206.5\" y=\"-178.8\" font-family=\"Times,serif\" font-size=\"14.00\">mild</text>\n",
              "</g>\n",
              "<!-- __main__.DecisionTreeNode object at 0x7a2931d80b60 -->\n",
              "<g id=\"node6\" class=\"node\">\n",
              "<title>__main__.DecisionTreeNode object at 0x7a2931d80b60</title>\n",
              "<polygon fill=\"lightblue\" stroke=\"black\" points=\"371.5,-157 259.5,-157 259.5,-104 371.5,-104 371.5,-157\"/>\n",
              "<text text-anchor=\"middle\" x=\"315.5\" y=\"-141.8\" font-family=\"Times,serif\" font-size=\"14.00\">Split: Windy?</text>\n",
              "<text text-anchor=\"middle\" x=\"315.5\" y=\"-126.8\" font-family=\"Times,serif\" font-size=\"14.00\">Score: 1.000</text>\n",
              "<text text-anchor=\"middle\" x=\"315.5\" y=\"-111.8\" font-family=\"Times,serif\" font-size=\"14.00\">Samples: 2</text>\n",
              "</g>\n",
              "<!-- __main__.DecisionTreeNode object at 0x7a2931d82060&#45;&gt;__main__.DecisionTreeNode object at 0x7a2931d80b60 -->\n",
              "<g id=\"edge6\" class=\"edge\">\n",
              "<title>__main__.DecisionTreeNode object at 0x7a2931d82060&#45;&gt;__main__.DecisionTreeNode object at 0x7a2931d80b60</title>\n",
              "<path fill=\"none\" stroke=\"black\" d=\"M230.27,-207.76C245.12,-194.47 263.39,-178.12 279.2,-163.98\"/>\n",
              "<polygon fill=\"black\" stroke=\"black\" points=\"281.62,-166.51 286.74,-157.23 276.96,-161.29 281.62,-166.51\"/>\n",
              "<text text-anchor=\"middle\" x=\"280\" y=\"-178.8\" font-family=\"Times,serif\" font-size=\"14.00\">cool</text>\n",
              "</g>\n",
              "<!-- __main__.DecisionTreeNode object at 0x7a2931d82cc0 -->\n",
              "<g id=\"node4\" class=\"node\">\n",
              "<title>__main__.DecisionTreeNode object at 0x7a2931d82cc0</title>\n",
              "<polygon fill=\"#bcee68\" stroke=\"black\" points=\"107,-53 0,-53 0,0 107,0 107,-53\"/>\n",
              "<text text-anchor=\"middle\" x=\"53.5\" y=\"-37.8\" font-family=\"Times,serif\" font-size=\"14.00\">Label: yes</text>\n",
              "<text text-anchor=\"middle\" x=\"53.5\" y=\"-22.8\" font-family=\"Times,serif\" font-size=\"14.00\">Score: 1.000</text>\n",
              "<text text-anchor=\"middle\" x=\"53.5\" y=\"-7.8\" font-family=\"Times,serif\" font-size=\"14.00\">Samples: 2</text>\n",
              "</g>\n",
              "<!-- __main__.DecisionTreeNode object at 0x7a2931d824b0&#45;&gt;__main__.DecisionTreeNode object at 0x7a2931d82cc0 -->\n",
              "<g id=\"edge1\" class=\"edge\">\n",
              "<title>__main__.DecisionTreeNode object at 0x7a2931d824b0&#45;&gt;__main__.DecisionTreeNode object at 0x7a2931d82cc0</title>\n",
              "<path fill=\"none\" stroke=\"black\" d=\"M143.97,-103.76C128.2,-90.47 108.81,-74.12 92.03,-59.98\"/>\n",
              "<polygon fill=\"black\" stroke=\"black\" points=\"93.93,-57 84.02,-53.23 89.41,-62.35 93.93,-57\"/>\n",
              "<text text-anchor=\"middle\" x=\"137.5\" y=\"-74.8\" font-family=\"Times,serif\" font-size=\"14.00\">high</text>\n",
              "</g>\n",
              "<!-- __main__.DecisionTreeNode object at 0x7a2931d81f70 -->\n",
              "<g id=\"node5\" class=\"node\">\n",
              "<title>__main__.DecisionTreeNode object at 0x7a2931d81f70</title>\n",
              "<polygon fill=\"#bcee68\" stroke=\"black\" points=\"236,-53 125,-53 125,0 236,0 236,-53\"/>\n",
              "<text text-anchor=\"middle\" x=\"180.5\" y=\"-37.8\" font-family=\"Times,serif\" font-size=\"14.00\">Label: yes</text>\n",
              "<text text-anchor=\"middle\" x=\"180.5\" y=\"-22.8\" font-family=\"Times,serif\" font-size=\"14.00\">Score: &#45;0.000</text>\n",
              "<text text-anchor=\"middle\" x=\"180.5\" y=\"-7.8\" font-family=\"Times,serif\" font-size=\"14.00\">Samples: 1</text>\n",
              "</g>\n",
              "<!-- __main__.DecisionTreeNode object at 0x7a2931d824b0&#45;&gt;__main__.DecisionTreeNode object at 0x7a2931d81f70 -->\n",
              "<g id=\"edge2\" class=\"edge\">\n",
              "<title>__main__.DecisionTreeNode object at 0x7a2931d824b0&#45;&gt;__main__.DecisionTreeNode object at 0x7a2931d81f70</title>\n",
              "<path fill=\"none\" stroke=\"black\" d=\"M176.01,-103.76C176.73,-91.56 177.6,-76.78 178.38,-63.49\"/>\n",
              "<polygon fill=\"black\" stroke=\"black\" points=\"181.89,-63.42 178.99,-53.23 174.91,-63.01 181.89,-63.42\"/>\n",
              "<text text-anchor=\"middle\" x=\"204\" y=\"-74.8\" font-family=\"Times,serif\" font-size=\"14.00\">normal</text>\n",
              "</g>\n",
              "<!-- __main__.DecisionTreeNode object at 0x7a2931d809e0 -->\n",
              "<g id=\"node7\" class=\"node\">\n",
              "<title>__main__.DecisionTreeNode object at 0x7a2931d809e0</title>\n",
              "<polygon fill=\"#bcee68\" stroke=\"black\" points=\"368,-53 257,-53 257,0 368,0 368,-53\"/>\n",
              "<text text-anchor=\"middle\" x=\"312.5\" y=\"-37.8\" font-family=\"Times,serif\" font-size=\"14.00\">Label: yes</text>\n",
              "<text text-anchor=\"middle\" x=\"312.5\" y=\"-22.8\" font-family=\"Times,serif\" font-size=\"14.00\">Score: &#45;0.000</text>\n",
              "<text text-anchor=\"middle\" x=\"312.5\" y=\"-7.8\" font-family=\"Times,serif\" font-size=\"14.00\">Samples: 1</text>\n",
              "</g>\n",
              "<!-- __main__.DecisionTreeNode object at 0x7a2931d80b60&#45;&gt;__main__.DecisionTreeNode object at 0x7a2931d809e0 -->\n",
              "<g id=\"edge4\" class=\"edge\">\n",
              "<title>__main__.DecisionTreeNode object at 0x7a2931d80b60&#45;&gt;__main__.DecisionTreeNode object at 0x7a2931d809e0</title>\n",
              "<path fill=\"none\" stroke=\"black\" d=\"M314.74,-103.76C314.38,-91.56 313.95,-76.78 313.56,-63.49\"/>\n",
              "<polygon fill=\"black\" stroke=\"black\" points=\"317.05,-63.12 313.26,-53.23 310.05,-63.33 317.05,-63.12\"/>\n",
              "<text text-anchor=\"middle\" x=\"333.5\" y=\"-74.8\" font-family=\"Times,serif\" font-size=\"14.00\">False</text>\n",
              "</g>\n",
              "<!-- __main__.DecisionTreeNode object at 0x7a2931d82ba0 -->\n",
              "<g id=\"node8\" class=\"node\">\n",
              "<title>__main__.DecisionTreeNode object at 0x7a2931d82ba0</title>\n",
              "<polygon fill=\"#bcee68\" stroke=\"black\" points=\"497,-53 386,-53 386,0 497,0 497,-53\"/>\n",
              "<text text-anchor=\"middle\" x=\"441.5\" y=\"-37.8\" font-family=\"Times,serif\" font-size=\"14.00\">Label: no</text>\n",
              "<text text-anchor=\"middle\" x=\"441.5\" y=\"-22.8\" font-family=\"Times,serif\" font-size=\"14.00\">Score: &#45;0.000</text>\n",
              "<text text-anchor=\"middle\" x=\"441.5\" y=\"-7.8\" font-family=\"Times,serif\" font-size=\"14.00\">Samples: 1</text>\n",
              "</g>\n",
              "<!-- __main__.DecisionTreeNode object at 0x7a2931d80b60&#45;&gt;__main__.DecisionTreeNode object at 0x7a2931d82ba0 -->\n",
              "<g id=\"edge5\" class=\"edge\">\n",
              "<title>__main__.DecisionTreeNode object at 0x7a2931d80b60&#45;&gt;__main__.DecisionTreeNode object at 0x7a2931d82ba0</title>\n",
              "<path fill=\"none\" stroke=\"black\" d=\"M347.3,-103.76C363.86,-90.35 384.27,-73.83 401.86,-59.59\"/>\n",
              "<polygon fill=\"black\" stroke=\"black\" points=\"404.14,-62.24 409.72,-53.23 399.74,-56.8 404.14,-62.24\"/>\n",
              "<text text-anchor=\"middle\" x=\"403.5\" y=\"-74.8\" font-family=\"Times,serif\" font-size=\"14.00\">True</text>\n",
              "</g>\n",
              "<!-- __main__.DecisionTreeNode object at 0x7a2931d82480 -->\n",
              "<g id=\"node11\" class=\"node\">\n",
              "<title>__main__.DecisionTreeNode object at 0x7a2931d82480</title>\n",
              "<polygon fill=\"#bcee68\" stroke=\"black\" points=\"511,-157 400,-157 400,-104 511,-104 511,-157\"/>\n",
              "<text text-anchor=\"middle\" x=\"455.5\" y=\"-141.8\" font-family=\"Times,serif\" font-size=\"14.00\">Label: yes</text>\n",
              "<text text-anchor=\"middle\" x=\"455.5\" y=\"-126.8\" font-family=\"Times,serif\" font-size=\"14.00\">Score: &#45;0.000</text>\n",
              "<text text-anchor=\"middle\" x=\"455.5\" y=\"-111.8\" font-family=\"Times,serif\" font-size=\"14.00\">Samples: 1</text>\n",
              "</g>\n",
              "<!-- __main__.DecisionTreeNode object at 0x7a2931d0b890&#45;&gt;__main__.DecisionTreeNode object at 0x7a2931d82480 -->\n",
              "<g id=\"edge9\" class=\"edge\">\n",
              "<title>__main__.DecisionTreeNode object at 0x7a2931d0b890&#45;&gt;__main__.DecisionTreeNode object at 0x7a2931d82480</title>\n",
              "<path fill=\"none\" stroke=\"black\" d=\"M486.52,-207.66C482.53,-202.04 478.63,-195.98 475.5,-190 471.72,-182.78 468.43,-174.69 465.66,-166.89\"/>\n",
              "<polygon fill=\"black\" stroke=\"black\" points=\"468.93,-165.63 462.44,-157.25 462.29,-167.84 468.93,-165.63\"/>\n",
              "<text text-anchor=\"middle\" x=\"490\" y=\"-178.8\" font-family=\"Times,serif\" font-size=\"14.00\">cool</text>\n",
              "</g>\n",
              "<!-- __main__.DecisionTreeNode object at 0x7a2931d822a0 -->\n",
              "<g id=\"node12\" class=\"node\">\n",
              "<title>__main__.DecisionTreeNode object at 0x7a2931d822a0</title>\n",
              "<polygon fill=\"lightblue\" stroke=\"black\" points=\"641.5,-157 529.5,-157 529.5,-104 641.5,-104 641.5,-157\"/>\n",
              "<text text-anchor=\"middle\" x=\"585.5\" y=\"-141.8\" font-family=\"Times,serif\" font-size=\"14.00\">Split: Windy?</text>\n",
              "<text text-anchor=\"middle\" x=\"585.5\" y=\"-126.8\" font-family=\"Times,serif\" font-size=\"14.00\">Score: 1.000</text>\n",
              "<text text-anchor=\"middle\" x=\"585.5\" y=\"-111.8\" font-family=\"Times,serif\" font-size=\"14.00\">Samples: 2</text>\n",
              "</g>\n",
              "<!-- __main__.DecisionTreeNode object at 0x7a2931d0b890&#45;&gt;__main__.DecisionTreeNode object at 0x7a2931d822a0 -->\n",
              "<g id=\"edge12\" class=\"edge\">\n",
              "<title>__main__.DecisionTreeNode object at 0x7a2931d0b890&#45;&gt;__main__.DecisionTreeNode object at 0x7a2931d822a0</title>\n",
              "<path fill=\"none\" stroke=\"black\" d=\"M527.18,-207.76C536.97,-194.96 548.94,-179.31 559.48,-165.53\"/>\n",
              "<polygon fill=\"black\" stroke=\"black\" points=\"562.53,-167.3 565.82,-157.23 556.97,-163.05 562.53,-167.3\"/>\n",
              "<text text-anchor=\"middle\" x=\"567.5\" y=\"-178.8\" font-family=\"Times,serif\" font-size=\"14.00\">mild</text>\n",
              "</g>\n",
              "<!-- __main__.DecisionTreeNode object at 0x7a2931d823c0 -->\n",
              "<g id=\"node13\" class=\"node\">\n",
              "<title>__main__.DecisionTreeNode object at 0x7a2931d823c0</title>\n",
              "<polygon fill=\"#bcee68\" stroke=\"black\" points=\"633,-53 522,-53 522,0 633,0 633,-53\"/>\n",
              "<text text-anchor=\"middle\" x=\"577.5\" y=\"-37.8\" font-family=\"Times,serif\" font-size=\"14.00\">Label: yes</text>\n",
              "<text text-anchor=\"middle\" x=\"577.5\" y=\"-22.8\" font-family=\"Times,serif\" font-size=\"14.00\">Score: &#45;0.000</text>\n",
              "<text text-anchor=\"middle\" x=\"577.5\" y=\"-7.8\" font-family=\"Times,serif\" font-size=\"14.00\">Samples: 1</text>\n",
              "</g>\n",
              "<!-- __main__.DecisionTreeNode object at 0x7a2931d822a0&#45;&gt;__main__.DecisionTreeNode object at 0x7a2931d823c0 -->\n",
              "<g id=\"edge10\" class=\"edge\">\n",
              "<title>__main__.DecisionTreeNode object at 0x7a2931d822a0&#45;&gt;__main__.DecisionTreeNode object at 0x7a2931d823c0</title>\n",
              "<path fill=\"none\" stroke=\"black\" d=\"M583.48,-103.76C582.52,-91.56 581.37,-76.78 580.32,-63.49\"/>\n",
              "<polygon fill=\"black\" stroke=\"black\" points=\"583.79,-62.93 579.52,-53.23 576.81,-63.47 583.79,-62.93\"/>\n",
              "<text text-anchor=\"middle\" x=\"599.5\" y=\"-74.8\" font-family=\"Times,serif\" font-size=\"14.00\">True</text>\n",
              "</g>\n",
              "<!-- __main__.DecisionTreeNode object at 0x7a2931d82630 -->\n",
              "<g id=\"node14\" class=\"node\">\n",
              "<title>__main__.DecisionTreeNode object at 0x7a2931d82630</title>\n",
              "<polygon fill=\"#bcee68\" stroke=\"black\" points=\"762,-53 651,-53 651,0 762,0 762,-53\"/>\n",
              "<text text-anchor=\"middle\" x=\"706.5\" y=\"-37.8\" font-family=\"Times,serif\" font-size=\"14.00\">Label: no</text>\n",
              "<text text-anchor=\"middle\" x=\"706.5\" y=\"-22.8\" font-family=\"Times,serif\" font-size=\"14.00\">Score: &#45;0.000</text>\n",
              "<text text-anchor=\"middle\" x=\"706.5\" y=\"-7.8\" font-family=\"Times,serif\" font-size=\"14.00\">Samples: 1</text>\n",
              "</g>\n",
              "<!-- __main__.DecisionTreeNode object at 0x7a2931d822a0&#45;&gt;__main__.DecisionTreeNode object at 0x7a2931d82630 -->\n",
              "<g id=\"edge11\" class=\"edge\">\n",
              "<title>__main__.DecisionTreeNode object at 0x7a2931d822a0&#45;&gt;__main__.DecisionTreeNode object at 0x7a2931d82630</title>\n",
              "<path fill=\"none\" stroke=\"black\" d=\"M616.03,-103.76C631.8,-90.47 651.19,-74.12 667.97,-59.98\"/>\n",
              "<polygon fill=\"black\" stroke=\"black\" points=\"670.59,-62.35 675.98,-53.23 666.07,-57 670.59,-62.35\"/>\n",
              "<text text-anchor=\"middle\" x=\"671.5\" y=\"-74.8\" font-family=\"Times,serif\" font-size=\"14.00\">False</text>\n",
              "</g>\n",
              "</g>\n",
              "</svg>\n"
            ],
            "text/plain": [
              "<graphviz.sources.Source at 0x7a2990cff980>"
            ]
          },
          "metadata": {},
          "output_type": "display_data"
        }
      ],
      "source": [
        "# Se construiește un arbore de decizie folosind algorithmul Random Tree\n",
        "random_decision_tree = DecisionTree(split_strategy='random',\n",
        "                                    max_depth=MAX_DEPTH,\n",
        "                                    min_samples_per_node=MIN_SAMPLES_PER_NODE)\n",
        "\n",
        "# Rulați această celulă de mai multe ori pentru a observa diferitele împărțiri ale arborelui\n",
        "for _ in range(NUM_RUNS):\n",
        "    random_decision_tree.fit(X_train, y_train)\n",
        "    random_decision_tree.display()"
      ]
    },
    {
      "cell_type": "markdown",
      "metadata": {
        "id": "xhLtwuJA9shI"
      },
      "source": [
        "Spre deosebire de Random Tree, algoritmul ID3 alege mereu aceeași împărțire a datelor, deoarece se bazează pe câștigul informațional."
      ]
    },
    {
      "cell_type": "code",
      "execution_count": 32,
      "metadata": {
        "colab": {
          "base_uri": "https://localhost:8080/",
          "height": 741
        },
        "id": "pyQQOl5w9shI",
        "outputId": "76fc4763-df5b-4ab2-de47-5574dc70b3c7"
      },
      "outputs": [
        {
          "data": {
            "image/svg+xml": [
              "<?xml version=\"1.0\" encoding=\"UTF-8\" standalone=\"no\"?>\n",
              "<!DOCTYPE svg PUBLIC \"-//W3C//DTD SVG 1.1//EN\"\n",
              " \"http://www.w3.org/Graphics/SVG/1.1/DTD/svg11.dtd\">\n",
              "<!-- Generated by graphviz version 2.43.0 (0)\n",
              " -->\n",
              "<!-- Title: %3 Pages: 1 -->\n",
              "<svg width=\"512pt\" height=\"269pt\"\n",
              " viewBox=\"0.00 0.00 512.00 269.00\" xmlns=\"http://www.w3.org/2000/svg\" xmlns:xlink=\"http://www.w3.org/1999/xlink\">\n",
              "<g id=\"graph0\" class=\"graph\" transform=\"scale(1 1) rotate(0) translate(4 265)\">\n",
              "<title>%3</title>\n",
              "<polygon fill=\"white\" stroke=\"transparent\" points=\"-4,4 -4,-265 508,-265 508,4 -4,4\"/>\n",
              "<!-- __main__.DecisionTreeNode object at 0x7a2931d82540 -->\n",
              "<g id=\"node1\" class=\"node\">\n",
              "<title>__main__.DecisionTreeNode object at 0x7a2931d82540</title>\n",
              "<polygon fill=\"lightblue\" stroke=\"black\" points=\"307.5,-261 185.5,-261 185.5,-208 307.5,-208 307.5,-261\"/>\n",
              "<text text-anchor=\"middle\" x=\"246.5\" y=\"-245.8\" font-family=\"Times,serif\" font-size=\"14.00\">Split: Outlook?</text>\n",
              "<text text-anchor=\"middle\" x=\"246.5\" y=\"-230.8\" font-family=\"Times,serif\" font-size=\"14.00\">Score: 0.845</text>\n",
              "<text text-anchor=\"middle\" x=\"246.5\" y=\"-215.8\" font-family=\"Times,serif\" font-size=\"14.00\">Samples: 11</text>\n",
              "</g>\n",
              "<!-- __main__.DecisionTreeNode object at 0x7a2931d82390 -->\n",
              "<g id=\"node2\" class=\"node\">\n",
              "<title>__main__.DecisionTreeNode object at 0x7a2931d82390</title>\n",
              "<polygon fill=\"lightblue\" stroke=\"black\" points=\"172.5,-157 60.5,-157 60.5,-104 172.5,-104 172.5,-157\"/>\n",
              "<text text-anchor=\"middle\" x=\"116.5\" y=\"-141.8\" font-family=\"Times,serif\" font-size=\"14.00\">Split: Windy?</text>\n",
              "<text text-anchor=\"middle\" x=\"116.5\" y=\"-126.8\" font-family=\"Times,serif\" font-size=\"14.00\">Score: 0.971</text>\n",
              "<text text-anchor=\"middle\" x=\"116.5\" y=\"-111.8\" font-family=\"Times,serif\" font-size=\"14.00\">Samples: 5</text>\n",
              "</g>\n",
              "<!-- __main__.DecisionTreeNode object at 0x7a2931d82540&#45;&gt;__main__.DecisionTreeNode object at 0x7a2931d82390 -->\n",
              "<g id=\"edge3\" class=\"edge\">\n",
              "<title>__main__.DecisionTreeNode object at 0x7a2931d82540&#45;&gt;__main__.DecisionTreeNode object at 0x7a2931d82390</title>\n",
              "<path fill=\"none\" stroke=\"black\" d=\"M213.7,-207.76C196.61,-194.35 175.54,-177.83 157.4,-163.59\"/>\n",
              "<polygon fill=\"black\" stroke=\"black\" points=\"159.32,-160.65 149.29,-157.23 155,-166.16 159.32,-160.65\"/>\n",
              "<text text-anchor=\"middle\" x=\"204\" y=\"-178.8\" font-family=\"Times,serif\" font-size=\"14.00\">rain</text>\n",
              "</g>\n",
              "<!-- __main__.DecisionTreeNode object at 0x7a2931d82420 -->\n",
              "<g id=\"node5\" class=\"node\">\n",
              "<title>__main__.DecisionTreeNode object at 0x7a2931d82420</title>\n",
              "<polygon fill=\"#bcee68\" stroke=\"black\" points=\"302,-157 191,-157 191,-104 302,-104 302,-157\"/>\n",
              "<text text-anchor=\"middle\" x=\"246.5\" y=\"-141.8\" font-family=\"Times,serif\" font-size=\"14.00\">Label: yes</text>\n",
              "<text text-anchor=\"middle\" x=\"246.5\" y=\"-126.8\" font-family=\"Times,serif\" font-size=\"14.00\">Score: &#45;0.000</text>\n",
              "<text text-anchor=\"middle\" x=\"246.5\" y=\"-111.8\" font-family=\"Times,serif\" font-size=\"14.00\">Samples: 3</text>\n",
              "</g>\n",
              "<!-- __main__.DecisionTreeNode object at 0x7a2931d82540&#45;&gt;__main__.DecisionTreeNode object at 0x7a2931d82420 -->\n",
              "<g id=\"edge4\" class=\"edge\">\n",
              "<title>__main__.DecisionTreeNode object at 0x7a2931d82540&#45;&gt;__main__.DecisionTreeNode object at 0x7a2931d82420</title>\n",
              "<path fill=\"none\" stroke=\"black\" d=\"M246.5,-207.76C246.5,-195.56 246.5,-180.78 246.5,-167.49\"/>\n",
              "<polygon fill=\"black\" stroke=\"black\" points=\"250,-167.23 246.5,-157.23 243,-167.23 250,-167.23\"/>\n",
              "<text text-anchor=\"middle\" x=\"277\" y=\"-178.8\" font-family=\"Times,serif\" font-size=\"14.00\">overcast</text>\n",
              "</g>\n",
              "<!-- __main__.DecisionTreeNode object at 0x7a2931d81fa0 -->\n",
              "<g id=\"node6\" class=\"node\">\n",
              "<title>__main__.DecisionTreeNode object at 0x7a2931d81fa0</title>\n",
              "<polygon fill=\"lightblue\" stroke=\"black\" points=\"454.5,-157 320.5,-157 320.5,-104 454.5,-104 454.5,-157\"/>\n",
              "<text text-anchor=\"middle\" x=\"387.5\" y=\"-141.8\" font-family=\"Times,serif\" font-size=\"14.00\">Split: Humidity?</text>\n",
              "<text text-anchor=\"middle\" x=\"387.5\" y=\"-126.8\" font-family=\"Times,serif\" font-size=\"14.00\">Score: 0.918</text>\n",
              "<text text-anchor=\"middle\" x=\"387.5\" y=\"-111.8\" font-family=\"Times,serif\" font-size=\"14.00\">Samples: 3</text>\n",
              "</g>\n",
              "<!-- __main__.DecisionTreeNode object at 0x7a2931d82540&#45;&gt;__main__.DecisionTreeNode object at 0x7a2931d81fa0 -->\n",
              "<g id=\"edge7\" class=\"edge\">\n",
              "<title>__main__.DecisionTreeNode object at 0x7a2931d82540&#45;&gt;__main__.DecisionTreeNode object at 0x7a2931d81fa0</title>\n",
              "<path fill=\"none\" stroke=\"black\" d=\"M285.63,-207.92C294.22,-202.13 303.23,-195.94 311.5,-190 323.25,-181.56 335.78,-172.11 347.21,-163.3\"/>\n",
              "<polygon fill=\"black\" stroke=\"black\" points=\"349.55,-165.92 355.31,-157.03 345.26,-160.39 349.55,-165.92\"/>\n",
              "<text text-anchor=\"middle\" x=\"353\" y=\"-178.8\" font-family=\"Times,serif\" font-size=\"14.00\">sunny</text>\n",
              "</g>\n",
              "<!-- __main__.DecisionTreeNode object at 0x7a2931d82f90 -->\n",
              "<g id=\"node3\" class=\"node\">\n",
              "<title>__main__.DecisionTreeNode object at 0x7a2931d82f90</title>\n",
              "<polygon fill=\"#bcee68\" stroke=\"black\" points=\"111,-53 0,-53 0,0 111,0 111,-53\"/>\n",
              "<text text-anchor=\"middle\" x=\"55.5\" y=\"-37.8\" font-family=\"Times,serif\" font-size=\"14.00\">Label: yes</text>\n",
              "<text text-anchor=\"middle\" x=\"55.5\" y=\"-22.8\" font-family=\"Times,serif\" font-size=\"14.00\">Score: &#45;0.000</text>\n",
              "<text text-anchor=\"middle\" x=\"55.5\" y=\"-7.8\" font-family=\"Times,serif\" font-size=\"14.00\">Samples: 3</text>\n",
              "</g>\n",
              "<!-- __main__.DecisionTreeNode object at 0x7a2931d82390&#45;&gt;__main__.DecisionTreeNode object at 0x7a2931d82f90 -->\n",
              "<g id=\"edge1\" class=\"edge\">\n",
              "<title>__main__.DecisionTreeNode object at 0x7a2931d82390&#45;&gt;__main__.DecisionTreeNode object at 0x7a2931d82f90</title>\n",
              "<path fill=\"none\" stroke=\"black\" d=\"M101.11,-103.76C93.52,-91.08 84.27,-75.6 76.08,-61.92\"/>\n",
              "<polygon fill=\"black\" stroke=\"black\" points=\"79.02,-60.02 70.89,-53.23 73.02,-63.61 79.02,-60.02\"/>\n",
              "<text text-anchor=\"middle\" x=\"109.5\" y=\"-74.8\" font-family=\"Times,serif\" font-size=\"14.00\">False</text>\n",
              "</g>\n",
              "<!-- __main__.DecisionTreeNode object at 0x7a2931d82690 -->\n",
              "<g id=\"node4\" class=\"node\">\n",
              "<title>__main__.DecisionTreeNode object at 0x7a2931d82690</title>\n",
              "<polygon fill=\"#bcee68\" stroke=\"black\" points=\"240,-53 129,-53 129,0 240,0 240,-53\"/>\n",
              "<text text-anchor=\"middle\" x=\"184.5\" y=\"-37.8\" font-family=\"Times,serif\" font-size=\"14.00\">Label: no</text>\n",
              "<text text-anchor=\"middle\" x=\"184.5\" y=\"-22.8\" font-family=\"Times,serif\" font-size=\"14.00\">Score: &#45;0.000</text>\n",
              "<text text-anchor=\"middle\" x=\"184.5\" y=\"-7.8\" font-family=\"Times,serif\" font-size=\"14.00\">Samples: 2</text>\n",
              "</g>\n",
              "<!-- __main__.DecisionTreeNode object at 0x7a2931d82390&#45;&gt;__main__.DecisionTreeNode object at 0x7a2931d82690 -->\n",
              "<g id=\"edge2\" class=\"edge\">\n",
              "<title>__main__.DecisionTreeNode object at 0x7a2931d82390&#45;&gt;__main__.DecisionTreeNode object at 0x7a2931d82690</title>\n",
              "<path fill=\"none\" stroke=\"black\" d=\"M133.66,-103.76C142.12,-91.08 152.43,-75.6 161.55,-61.92\"/>\n",
              "<polygon fill=\"black\" stroke=\"black\" points=\"164.71,-63.49 167.35,-53.23 158.89,-59.61 164.71,-63.49\"/>\n",
              "<text text-anchor=\"middle\" x=\"172.5\" y=\"-74.8\" font-family=\"Times,serif\" font-size=\"14.00\">True</text>\n",
              "</g>\n",
              "<!-- __main__.DecisionTreeNode object at 0x7a2931d80c20 -->\n",
              "<g id=\"node7\" class=\"node\">\n",
              "<title>__main__.DecisionTreeNode object at 0x7a2931d80c20</title>\n",
              "<polygon fill=\"#bcee68\" stroke=\"black\" points=\"375,-53 264,-53 264,0 375,0 375,-53\"/>\n",
              "<text text-anchor=\"middle\" x=\"319.5\" y=\"-37.8\" font-family=\"Times,serif\" font-size=\"14.00\">Label: yes</text>\n",
              "<text text-anchor=\"middle\" x=\"319.5\" y=\"-22.8\" font-family=\"Times,serif\" font-size=\"14.00\">Score: &#45;0.000</text>\n",
              "<text text-anchor=\"middle\" x=\"319.5\" y=\"-7.8\" font-family=\"Times,serif\" font-size=\"14.00\">Samples: 2</text>\n",
              "</g>\n",
              "<!-- __main__.DecisionTreeNode object at 0x7a2931d81fa0&#45;&gt;__main__.DecisionTreeNode object at 0x7a2931d80c20 -->\n",
              "<g id=\"edge5\" class=\"edge\">\n",
              "<title>__main__.DecisionTreeNode object at 0x7a2931d81fa0&#45;&gt;__main__.DecisionTreeNode object at 0x7a2931d80c20</title>\n",
              "<path fill=\"none\" stroke=\"black\" d=\"M370.34,-103.76C361.88,-91.08 351.57,-75.6 342.45,-61.92\"/>\n",
              "<polygon fill=\"black\" stroke=\"black\" points=\"345.11,-59.61 336.65,-53.23 339.29,-63.49 345.11,-59.61\"/>\n",
              "<text text-anchor=\"middle\" x=\"384\" y=\"-74.8\" font-family=\"Times,serif\" font-size=\"14.00\">normal</text>\n",
              "</g>\n",
              "<!-- __main__.DecisionTreeNode object at 0x7a2931d826c0 -->\n",
              "<g id=\"node8\" class=\"node\">\n",
              "<title>__main__.DecisionTreeNode object at 0x7a2931d826c0</title>\n",
              "<polygon fill=\"#bcee68\" stroke=\"black\" points=\"504,-53 393,-53 393,0 504,0 504,-53\"/>\n",
              "<text text-anchor=\"middle\" x=\"448.5\" y=\"-37.8\" font-family=\"Times,serif\" font-size=\"14.00\">Label: no</text>\n",
              "<text text-anchor=\"middle\" x=\"448.5\" y=\"-22.8\" font-family=\"Times,serif\" font-size=\"14.00\">Score: &#45;0.000</text>\n",
              "<text text-anchor=\"middle\" x=\"448.5\" y=\"-7.8\" font-family=\"Times,serif\" font-size=\"14.00\">Samples: 1</text>\n",
              "</g>\n",
              "<!-- __main__.DecisionTreeNode object at 0x7a2931d81fa0&#45;&gt;__main__.DecisionTreeNode object at 0x7a2931d826c0 -->\n",
              "<g id=\"edge6\" class=\"edge\">\n",
              "<title>__main__.DecisionTreeNode object at 0x7a2931d81fa0&#45;&gt;__main__.DecisionTreeNode object at 0x7a2931d826c0</title>\n",
              "<path fill=\"none\" stroke=\"black\" d=\"M402.89,-103.76C410.48,-91.08 419.73,-75.6 427.92,-61.92\"/>\n",
              "<polygon fill=\"black\" stroke=\"black\" points=\"430.98,-63.61 433.11,-53.23 424.98,-60.02 430.98,-63.61\"/>\n",
              "<text text-anchor=\"middle\" x=\"437.5\" y=\"-74.8\" font-family=\"Times,serif\" font-size=\"14.00\">high</text>\n",
              "</g>\n",
              "</g>\n",
              "</svg>\n"
            ],
            "text/plain": [
              "<graphviz.sources.Source at 0x7a2931d819d0>"
            ]
          },
          "metadata": {},
          "output_type": "display_data"
        },
        {
          "data": {
            "image/svg+xml": [
              "<?xml version=\"1.0\" encoding=\"UTF-8\" standalone=\"no\"?>\n",
              "<!DOCTYPE svg PUBLIC \"-//W3C//DTD SVG 1.1//EN\"\n",
              " \"http://www.w3.org/Graphics/SVG/1.1/DTD/svg11.dtd\">\n",
              "<!-- Generated by graphviz version 2.43.0 (0)\n",
              " -->\n",
              "<!-- Title: %3 Pages: 1 -->\n",
              "<svg width=\"512pt\" height=\"269pt\"\n",
              " viewBox=\"0.00 0.00 512.00 269.00\" xmlns=\"http://www.w3.org/2000/svg\" xmlns:xlink=\"http://www.w3.org/1999/xlink\">\n",
              "<g id=\"graph0\" class=\"graph\" transform=\"scale(1 1) rotate(0) translate(4 265)\">\n",
              "<title>%3</title>\n",
              "<polygon fill=\"white\" stroke=\"transparent\" points=\"-4,4 -4,-265 508,-265 508,4 -4,4\"/>\n",
              "<!-- __main__.DecisionTreeNode object at 0x7a299029fd40 -->\n",
              "<g id=\"node1\" class=\"node\">\n",
              "<title>__main__.DecisionTreeNode object at 0x7a299029fd40</title>\n",
              "<polygon fill=\"lightblue\" stroke=\"black\" points=\"307.5,-261 185.5,-261 185.5,-208 307.5,-208 307.5,-261\"/>\n",
              "<text text-anchor=\"middle\" x=\"246.5\" y=\"-245.8\" font-family=\"Times,serif\" font-size=\"14.00\">Split: Outlook?</text>\n",
              "<text text-anchor=\"middle\" x=\"246.5\" y=\"-230.8\" font-family=\"Times,serif\" font-size=\"14.00\">Score: 0.845</text>\n",
              "<text text-anchor=\"middle\" x=\"246.5\" y=\"-215.8\" font-family=\"Times,serif\" font-size=\"14.00\">Samples: 11</text>\n",
              "</g>\n",
              "<!-- __main__.DecisionTreeNode object at 0x7a2931d82840 -->\n",
              "<g id=\"node2\" class=\"node\">\n",
              "<title>__main__.DecisionTreeNode object at 0x7a2931d82840</title>\n",
              "<polygon fill=\"lightblue\" stroke=\"black\" points=\"172.5,-157 60.5,-157 60.5,-104 172.5,-104 172.5,-157\"/>\n",
              "<text text-anchor=\"middle\" x=\"116.5\" y=\"-141.8\" font-family=\"Times,serif\" font-size=\"14.00\">Split: Windy?</text>\n",
              "<text text-anchor=\"middle\" x=\"116.5\" y=\"-126.8\" font-family=\"Times,serif\" font-size=\"14.00\">Score: 0.971</text>\n",
              "<text text-anchor=\"middle\" x=\"116.5\" y=\"-111.8\" font-family=\"Times,serif\" font-size=\"14.00\">Samples: 5</text>\n",
              "</g>\n",
              "<!-- __main__.DecisionTreeNode object at 0x7a299029fd40&#45;&gt;__main__.DecisionTreeNode object at 0x7a2931d82840 -->\n",
              "<g id=\"edge3\" class=\"edge\">\n",
              "<title>__main__.DecisionTreeNode object at 0x7a299029fd40&#45;&gt;__main__.DecisionTreeNode object at 0x7a2931d82840</title>\n",
              "<path fill=\"none\" stroke=\"black\" d=\"M213.7,-207.76C196.61,-194.35 175.54,-177.83 157.4,-163.59\"/>\n",
              "<polygon fill=\"black\" stroke=\"black\" points=\"159.32,-160.65 149.29,-157.23 155,-166.16 159.32,-160.65\"/>\n",
              "<text text-anchor=\"middle\" x=\"204\" y=\"-178.8\" font-family=\"Times,serif\" font-size=\"14.00\">rain</text>\n",
              "</g>\n",
              "<!-- __main__.DecisionTreeNode object at 0x7a2931d80350 -->\n",
              "<g id=\"node5\" class=\"node\">\n",
              "<title>__main__.DecisionTreeNode object at 0x7a2931d80350</title>\n",
              "<polygon fill=\"#bcee68\" stroke=\"black\" points=\"302,-157 191,-157 191,-104 302,-104 302,-157\"/>\n",
              "<text text-anchor=\"middle\" x=\"246.5\" y=\"-141.8\" font-family=\"Times,serif\" font-size=\"14.00\">Label: yes</text>\n",
              "<text text-anchor=\"middle\" x=\"246.5\" y=\"-126.8\" font-family=\"Times,serif\" font-size=\"14.00\">Score: &#45;0.000</text>\n",
              "<text text-anchor=\"middle\" x=\"246.5\" y=\"-111.8\" font-family=\"Times,serif\" font-size=\"14.00\">Samples: 3</text>\n",
              "</g>\n",
              "<!-- __main__.DecisionTreeNode object at 0x7a299029fd40&#45;&gt;__main__.DecisionTreeNode object at 0x7a2931d80350 -->\n",
              "<g id=\"edge4\" class=\"edge\">\n",
              "<title>__main__.DecisionTreeNode object at 0x7a299029fd40&#45;&gt;__main__.DecisionTreeNode object at 0x7a2931d80350</title>\n",
              "<path fill=\"none\" stroke=\"black\" d=\"M246.5,-207.76C246.5,-195.56 246.5,-180.78 246.5,-167.49\"/>\n",
              "<polygon fill=\"black\" stroke=\"black\" points=\"250,-167.23 246.5,-157.23 243,-167.23 250,-167.23\"/>\n",
              "<text text-anchor=\"middle\" x=\"277\" y=\"-178.8\" font-family=\"Times,serif\" font-size=\"14.00\">overcast</text>\n",
              "</g>\n",
              "<!-- __main__.DecisionTreeNode object at 0x7a2931d81dc0 -->\n",
              "<g id=\"node6\" class=\"node\">\n",
              "<title>__main__.DecisionTreeNode object at 0x7a2931d81dc0</title>\n",
              "<polygon fill=\"lightblue\" stroke=\"black\" points=\"454.5,-157 320.5,-157 320.5,-104 454.5,-104 454.5,-157\"/>\n",
              "<text text-anchor=\"middle\" x=\"387.5\" y=\"-141.8\" font-family=\"Times,serif\" font-size=\"14.00\">Split: Humidity?</text>\n",
              "<text text-anchor=\"middle\" x=\"387.5\" y=\"-126.8\" font-family=\"Times,serif\" font-size=\"14.00\">Score: 0.918</text>\n",
              "<text text-anchor=\"middle\" x=\"387.5\" y=\"-111.8\" font-family=\"Times,serif\" font-size=\"14.00\">Samples: 3</text>\n",
              "</g>\n",
              "<!-- __main__.DecisionTreeNode object at 0x7a299029fd40&#45;&gt;__main__.DecisionTreeNode object at 0x7a2931d81dc0 -->\n",
              "<g id=\"edge7\" class=\"edge\">\n",
              "<title>__main__.DecisionTreeNode object at 0x7a299029fd40&#45;&gt;__main__.DecisionTreeNode object at 0x7a2931d81dc0</title>\n",
              "<path fill=\"none\" stroke=\"black\" d=\"M285.63,-207.92C294.22,-202.13 303.23,-195.94 311.5,-190 323.25,-181.56 335.78,-172.11 347.21,-163.3\"/>\n",
              "<polygon fill=\"black\" stroke=\"black\" points=\"349.55,-165.92 355.31,-157.03 345.26,-160.39 349.55,-165.92\"/>\n",
              "<text text-anchor=\"middle\" x=\"353\" y=\"-178.8\" font-family=\"Times,serif\" font-size=\"14.00\">sunny</text>\n",
              "</g>\n",
              "<!-- __main__.DecisionTreeNode object at 0x7a2931d82240 -->\n",
              "<g id=\"node3\" class=\"node\">\n",
              "<title>__main__.DecisionTreeNode object at 0x7a2931d82240</title>\n",
              "<polygon fill=\"#bcee68\" stroke=\"black\" points=\"111,-53 0,-53 0,0 111,0 111,-53\"/>\n",
              "<text text-anchor=\"middle\" x=\"55.5\" y=\"-37.8\" font-family=\"Times,serif\" font-size=\"14.00\">Label: yes</text>\n",
              "<text text-anchor=\"middle\" x=\"55.5\" y=\"-22.8\" font-family=\"Times,serif\" font-size=\"14.00\">Score: &#45;0.000</text>\n",
              "<text text-anchor=\"middle\" x=\"55.5\" y=\"-7.8\" font-family=\"Times,serif\" font-size=\"14.00\">Samples: 3</text>\n",
              "</g>\n",
              "<!-- __main__.DecisionTreeNode object at 0x7a2931d82840&#45;&gt;__main__.DecisionTreeNode object at 0x7a2931d82240 -->\n",
              "<g id=\"edge1\" class=\"edge\">\n",
              "<title>__main__.DecisionTreeNode object at 0x7a2931d82840&#45;&gt;__main__.DecisionTreeNode object at 0x7a2931d82240</title>\n",
              "<path fill=\"none\" stroke=\"black\" d=\"M101.11,-103.76C93.52,-91.08 84.27,-75.6 76.08,-61.92\"/>\n",
              "<polygon fill=\"black\" stroke=\"black\" points=\"79.02,-60.02 70.89,-53.23 73.02,-63.61 79.02,-60.02\"/>\n",
              "<text text-anchor=\"middle\" x=\"109.5\" y=\"-74.8\" font-family=\"Times,serif\" font-size=\"14.00\">False</text>\n",
              "</g>\n",
              "<!-- __main__.DecisionTreeNode object at 0x7a2931d81970 -->\n",
              "<g id=\"node4\" class=\"node\">\n",
              "<title>__main__.DecisionTreeNode object at 0x7a2931d81970</title>\n",
              "<polygon fill=\"#bcee68\" stroke=\"black\" points=\"240,-53 129,-53 129,0 240,0 240,-53\"/>\n",
              "<text text-anchor=\"middle\" x=\"184.5\" y=\"-37.8\" font-family=\"Times,serif\" font-size=\"14.00\">Label: no</text>\n",
              "<text text-anchor=\"middle\" x=\"184.5\" y=\"-22.8\" font-family=\"Times,serif\" font-size=\"14.00\">Score: &#45;0.000</text>\n",
              "<text text-anchor=\"middle\" x=\"184.5\" y=\"-7.8\" font-family=\"Times,serif\" font-size=\"14.00\">Samples: 2</text>\n",
              "</g>\n",
              "<!-- __main__.DecisionTreeNode object at 0x7a2931d82840&#45;&gt;__main__.DecisionTreeNode object at 0x7a2931d81970 -->\n",
              "<g id=\"edge2\" class=\"edge\">\n",
              "<title>__main__.DecisionTreeNode object at 0x7a2931d82840&#45;&gt;__main__.DecisionTreeNode object at 0x7a2931d81970</title>\n",
              "<path fill=\"none\" stroke=\"black\" d=\"M133.66,-103.76C142.12,-91.08 152.43,-75.6 161.55,-61.92\"/>\n",
              "<polygon fill=\"black\" stroke=\"black\" points=\"164.71,-63.49 167.35,-53.23 158.89,-59.61 164.71,-63.49\"/>\n",
              "<text text-anchor=\"middle\" x=\"172.5\" y=\"-74.8\" font-family=\"Times,serif\" font-size=\"14.00\">True</text>\n",
              "</g>\n",
              "<!-- __main__.DecisionTreeNode object at 0x7a2931d81b20 -->\n",
              "<g id=\"node7\" class=\"node\">\n",
              "<title>__main__.DecisionTreeNode object at 0x7a2931d81b20</title>\n",
              "<polygon fill=\"#bcee68\" stroke=\"black\" points=\"375,-53 264,-53 264,0 375,0 375,-53\"/>\n",
              "<text text-anchor=\"middle\" x=\"319.5\" y=\"-37.8\" font-family=\"Times,serif\" font-size=\"14.00\">Label: yes</text>\n",
              "<text text-anchor=\"middle\" x=\"319.5\" y=\"-22.8\" font-family=\"Times,serif\" font-size=\"14.00\">Score: &#45;0.000</text>\n",
              "<text text-anchor=\"middle\" x=\"319.5\" y=\"-7.8\" font-family=\"Times,serif\" font-size=\"14.00\">Samples: 2</text>\n",
              "</g>\n",
              "<!-- __main__.DecisionTreeNode object at 0x7a2931d81dc0&#45;&gt;__main__.DecisionTreeNode object at 0x7a2931d81b20 -->\n",
              "<g id=\"edge5\" class=\"edge\">\n",
              "<title>__main__.DecisionTreeNode object at 0x7a2931d81dc0&#45;&gt;__main__.DecisionTreeNode object at 0x7a2931d81b20</title>\n",
              "<path fill=\"none\" stroke=\"black\" d=\"M370.34,-103.76C361.88,-91.08 351.57,-75.6 342.45,-61.92\"/>\n",
              "<polygon fill=\"black\" stroke=\"black\" points=\"345.11,-59.61 336.65,-53.23 339.29,-63.49 345.11,-59.61\"/>\n",
              "<text text-anchor=\"middle\" x=\"384\" y=\"-74.8\" font-family=\"Times,serif\" font-size=\"14.00\">normal</text>\n",
              "</g>\n",
              "<!-- __main__.DecisionTreeNode object at 0x7a2931d80470 -->\n",
              "<g id=\"node8\" class=\"node\">\n",
              "<title>__main__.DecisionTreeNode object at 0x7a2931d80470</title>\n",
              "<polygon fill=\"#bcee68\" stroke=\"black\" points=\"504,-53 393,-53 393,0 504,0 504,-53\"/>\n",
              "<text text-anchor=\"middle\" x=\"448.5\" y=\"-37.8\" font-family=\"Times,serif\" font-size=\"14.00\">Label: no</text>\n",
              "<text text-anchor=\"middle\" x=\"448.5\" y=\"-22.8\" font-family=\"Times,serif\" font-size=\"14.00\">Score: &#45;0.000</text>\n",
              "<text text-anchor=\"middle\" x=\"448.5\" y=\"-7.8\" font-family=\"Times,serif\" font-size=\"14.00\">Samples: 1</text>\n",
              "</g>\n",
              "<!-- __main__.DecisionTreeNode object at 0x7a2931d81dc0&#45;&gt;__main__.DecisionTreeNode object at 0x7a2931d80470 -->\n",
              "<g id=\"edge6\" class=\"edge\">\n",
              "<title>__main__.DecisionTreeNode object at 0x7a2931d81dc0&#45;&gt;__main__.DecisionTreeNode object at 0x7a2931d80470</title>\n",
              "<path fill=\"none\" stroke=\"black\" d=\"M402.89,-103.76C410.48,-91.08 419.73,-75.6 427.92,-61.92\"/>\n",
              "<polygon fill=\"black\" stroke=\"black\" points=\"430.98,-63.61 433.11,-53.23 424.98,-60.02 430.98,-63.61\"/>\n",
              "<text text-anchor=\"middle\" x=\"437.5\" y=\"-74.8\" font-family=\"Times,serif\" font-size=\"14.00\">high</text>\n",
              "</g>\n",
              "</g>\n",
              "</svg>\n"
            ],
            "text/plain": [
              "<graphviz.sources.Source at 0x7a2931cadca0>"
            ]
          },
          "metadata": {},
          "output_type": "display_data"
        }
      ],
      "source": [
        "# Se construiește un arbore de decizie folosind algorithmul ID3\n",
        "id3_decision_tree = DecisionTree(split_strategy='id3',\n",
        "                                 max_depth=MAX_DEPTH,\n",
        "                                 min_samples_per_node=MIN_SAMPLES_PER_NODE)\n",
        "for _ in range(NUM_RUNS):\n",
        "    id3_decision_tree.fit(X_train, y_train)\n",
        "    id3_decision_tree.display()"
      ]
    },
    {
      "cell_type": "markdown",
      "metadata": {
        "id": "I4Hc_zm19shJ"
      },
      "source": [
        "Pentru setul de date *Tennis*, arborele de decizie construit folosind algoritmul ID3 pentru hiperparametrii *max_depth=3* și *min_samples_per_node=1* este:\n",
        "\n",
        "![](res-id3/id3_tennis_example.png)"
      ]
    },
    {
      "cell_type": "markdown",
      "metadata": {
        "id": "CbimZn8T9shJ"
      },
      "source": [
        "## Random Forest (Păduri de arbori aleatori)\n",
        "\n",
        "Pădurile de arbori aleatori sunt o metodă de învățare supervizată în care se folosesc mai mulți arbori de decizie în\n",
        "procesul de clasificare. Clasificarea se face prin votul majorității arborilor. Această tehnică crește robustețea\n",
        "clasificatorului și reduce overfitting-ul.\n",
        "\n",
        "Pentru a construi o pădure de arbori aleatori se urmează următorii pași:\n",
        "1. Pentru fiecare arbore din pădure care se dorește a fi construit:\n",
        "   1. Se alege un subset aleator din setul de date de antrenare\n",
        "   2. Se aleg aleator $m$ atribute din setul de atribute inițial\n",
        "   3. Se construiește un arbore de decizie pe subsetul de date ales\n",
        "   4. Se adaugă arborele la pădure\n",
        "\n",
        "Prin construirea arborilor pe subseturi aleatoare din setul de date, se obțin arbori diferiți.\n",
        "\n",
        "### Discuții\n",
        "* Porniți de la *n = 100*, *d = 3* și submulțimi formate din 50% din elementele lui X alese la întamplare și experimentați cu acești hiperparametrii.\n",
        "* Comparați rezultatele obținute folosind un singur arbore construit cu ID3 și o pădure de arbori aleatori. Discuție după *zgomot*, *overfitting*."
      ]
    },
    {
      "cell_type": "code",
      "execution_count": 33,
      "metadata": {
        "id": "3YqmOkYB9shK"
      },
      "outputs": [],
      "source": [
        "class RandomForest:\n",
        "    \"\"\"\n",
        "    Clasa care implementează un clasificator de tip pădure de arbori aleatori.\n",
        "    \"\"\"\n",
        "    def __init__(self,\n",
        "                 n_estimators: int = 100,\n",
        "                 max_depth: int = 3,\n",
        "                 min_samples_per_node: int = 1,\n",
        "                 split_strategy: str = 'random',\n",
        "                 subset_size_ratio: float = 0.5,\n",
        "                 subset_feature_ratio: float = 0.75):\n",
        "        \"\"\"\n",
        "        Constructor pentru un clasificator de tip pădure de arbori aleatori\n",
        "\n",
        "        Args:\n",
        "            n_estimators (int, optional):\n",
        "                Numărul de arbori din pădure. Defaults to 100.\n",
        "            max_depth (int, optional):\n",
        "                Adâncimea maximă a fiecărui arbore. Defaults to 3.\n",
        "            min_samples_per_node (int, optional):\n",
        "                Numărul minim de exemple dintr-un nod pentru a face o împărțire.\n",
        "                Defaults to 1.\n",
        "            split_strategy (str, optional):\n",
        "                Strategia folosită pentru alegerea împărțirii într-un nod. Aceasta poate fi:\n",
        "                - 'id3' - alege împărțirea care maximizează câștigul informațional (folosind algoritmul ID3)\n",
        "                - 'random' - alege aleator o împărțire\n",
        "                Defaults to 'random'.\n",
        "            subset_size_ratio (float, optional):\n",
        "                Raportul de dimensiune al subsetului de date folosit pentru construirea fiecărui arbore comparativ cu\n",
        "                dimensiunea setului de date inițial. Trebuie să fie un număr între 0 și 1.\n",
        "                Defaults to 0.5.\n",
        "            subset_feature_ratio (float, optional):\n",
        "                Raportul de dimensiune al subsetului de atribute folosit pentru construirea fiecărui arbore comparativ cu\n",
        "                dimensiunea setului de atribute inițial. Trebuie să fie un număr între 0 și 1.\n",
        "                Defaults to 0.75.\n",
        "        \"\"\"\n",
        "        assert 0 < subset_size_ratio <= 1, \"subset_size_ratio must be between 0 and 1\"\n",
        "        assert 0 < subset_feature_ratio <= 1, \"subset_feature_ratio must be between 0 and 1\"\n",
        "\n",
        "        self._trees: list[DecisionTree] = []\n",
        "        self._n_estimators: int = n_estimators\n",
        "        self._max_depth: int = max_depth\n",
        "        self._min_samples_per_node: int = min_samples_per_node\n",
        "        self._split_strategy: str = split_strategy\n",
        "        self._subset_size_ratio: float = subset_size_ratio\n",
        "        self._subset_feature_ratio: float = subset_feature_ratio\n",
        "\n",
        "    def fit(self, X: pd.DataFrame, y: pd.Series):\n",
        "        \"\"\"\n",
        "        Construiește pădurea de arbori aleatori pe baza setului de date\n",
        "\n",
        "        Args:\n",
        "            X (pd.DataFrame):\n",
        "                Setul de date (atributele)\n",
        "            y (pd.Series):\n",
        "                Clasele corespunzătoare fiecărui exemplu din setul de date\n",
        "        \"\"\"\n",
        "        # TODO 8. Construiți pădurea de arbori aleatori\n",
        "        # Pentru a construi pădurea de arbori aleatori se vor parcurge următorii pași pentru fiecare estimator:\n",
        "        #   1. Se alege un subset aleator din setul de date de antrenare.\n",
        "        #      Subsetul va conține un număr de exemple egal cu\n",
        "        #      `subset_size_ratio` * numărul de exemple din setul de date\n",
        "        #   2. Se construiește un arbore de decizie pe subsetul de date\n",
        "        #   3. Se adaugă arborele la pădure\n",
        "        # HINT:\n",
        "        #   Pentru a alege un subset aleator din setul de date puteți folosi funcția np.random.choice() pentru a selecta\n",
        "        #   indicii exemplelor care vor fi folosiți în construcția arborelui. Indicii vor fi extrași fără înlocuire.\n",
        "        #   Exemplu:\n",
        "        #       indices = np.random.choice(X.shape[0], size=int(self._subset_size_ratio * X.shape[0]), replace=False)\n",
        "        #       X_subset = X.iloc[indices]  # Selectează doar exemplele cu indicii aleși (atributele rămân aceleași)\n",
        "        #       y_subset = y.iloc[indices]\n",
        "        #   Funcția `np.random.choice()` va selecta indicii aleator din intervalul [0, X.shape[0]) și va returna un subset\n",
        "        #   de dimensiune `int(self._subset_size_ratio * X.shape[0])` cu indicii selectați.\n",
        "        #   Indicii vor fi un np.ndarray de forma [0, 1, 2, 3, 5, 9, ...].\n",
        "        #\n",
        "        # HINT:\n",
        "        #   Pentru a extrage un subset de atribute puteți folosi următoarea expresie:\n",
        "        #       X_subset = X[features]\n",
        "        #   unde `features` este o listă cu numele atributelor pe care doriți să le folosiți\n",
        "        for _ in range(self._n_estimators):\n",
        "            # Randomly select indices for the samples\n",
        "            indices = np.random.choice(X.shape[0], size=int(self._subset_size_ratio * X.shape[0]), replace=False)\n",
        "            X_subset = X.iloc[indices]\n",
        "\n",
        "            # Randomly select features for each tree\n",
        "            features = np.random.choice(X.columns, size=int(self._subset_feature_ratio * len(X.columns)), replace=False)\n",
        "            X_subset = X_subset[features]\n",
        "            y_subset = y.iloc[indices]\n",
        "\n",
        "            # Create a new decision tree and fit it on the subset\n",
        "            tree = DecisionTree(\n",
        "                split_strategy=self._split_strategy,\n",
        "                max_depth=self._max_depth,\n",
        "                min_samples_per_node=self._min_samples_per_node\n",
        "            )\n",
        "            tree.fit(X_subset, y_subset)\n",
        "\n",
        "            # Add the tree to the forest\n",
        "            self._trees.append(tree)\n",
        "\n",
        "\n",
        "    def predict(self, X: pd.DataFrame) -> np.ndarray:\n",
        "        \"\"\"\n",
        "        Realizează predicția claselor pentru un set de date X\n",
        "\n",
        "        Args:\n",
        "            X (pd.DataFrame): Setul de date (atributele) pentru care se dorește clasificarea\n",
        "\n",
        "        Returns:\n",
        "            np.ndarray: Un vector cu clasele prezise pentru fiecare exemplu din X\n",
        "        \"\"\"\n",
        "        predictions = []\n",
        "\n",
        "        for tree in self._trees:\n",
        "            predictions.append(tree.predict(X))\n",
        "\n",
        "        # Se alege clasa majoritară pentru fiecare exemplu din setul de date\n",
        "        return np.array([Counter(pred).most_common(1)[0][0] for pred in np.array(predictions).T])\n",
        "\n",
        "    def display(self, max_trees: int = 5):\n",
        "        \"\"\"\n",
        "        Afișează arborii din pădure\n",
        "\n",
        "        Args:\n",
        "            max_trees (int, optional):\n",
        "                Numărul maxim de arbori care vor fi afișați. Defaults to 5.\n",
        "\n",
        "        Warnings:\n",
        "            Afișarea arborilor nu este indicată pentru un număr mare de estimatori\n",
        "        \"\"\"\n",
        "        for i, tree in enumerate(self._trees[:max_trees]):\n",
        "            print()\n",
        "            tree.display()"
      ]
    },
    {
      "cell_type": "markdown",
      "metadata": {
        "id": "Qh3jJpLW9shK"
      },
      "source": [
        "#### Exemplu de utilizare a clasei RandomForest"
      ]
    },
    {
      "cell_type": "code",
      "execution_count": 34,
      "metadata": {
        "colab": {
          "base_uri": "https://localhost:8080/",
          "height": 1000
        },
        "id": "PdO8d6Jw9shL",
        "outputId": "316c4fd2-e661-45a8-d498-c877e00c5cd7"
      },
      "outputs": [
        {
          "name": "stdout",
          "output_type": "stream",
          "text": [
            "\n"
          ]
        },
        {
          "data": {
            "image/svg+xml": [
              "<?xml version=\"1.0\" encoding=\"UTF-8\" standalone=\"no\"?>\n",
              "<!DOCTYPE svg PUBLIC \"-//W3C//DTD SVG 1.1//EN\"\n",
              " \"http://www.w3.org/Graphics/SVG/1.1/DTD/svg11.dtd\">\n",
              "<!-- Generated by graphviz version 2.43.0 (0)\n",
              " -->\n",
              "<!-- Title: %3 Pages: 1 -->\n",
              "<svg width=\"248pt\" height=\"165pt\"\n",
              " viewBox=\"0.00 0.00 248.00 165.00\" xmlns=\"http://www.w3.org/2000/svg\" xmlns:xlink=\"http://www.w3.org/1999/xlink\">\n",
              "<g id=\"graph0\" class=\"graph\" transform=\"scale(1 1) rotate(0) translate(4 161)\">\n",
              "<title>%3</title>\n",
              "<polygon fill=\"white\" stroke=\"transparent\" points=\"-4,4 -4,-161 244,-161 244,4 -4,4\"/>\n",
              "<!-- __main__.DecisionTreeNode object at 0x7a2931d80e30 -->\n",
              "<g id=\"node1\" class=\"node\">\n",
              "<title>__main__.DecisionTreeNode object at 0x7a2931d80e30</title>\n",
              "<polygon fill=\"lightblue\" stroke=\"black\" points=\"175.5,-157 63.5,-157 63.5,-104 175.5,-104 175.5,-157\"/>\n",
              "<text text-anchor=\"middle\" x=\"119.5\" y=\"-141.8\" font-family=\"Times,serif\" font-size=\"14.00\">Split: Windy?</text>\n",
              "<text text-anchor=\"middle\" x=\"119.5\" y=\"-126.8\" font-family=\"Times,serif\" font-size=\"14.00\">Score: 0.722</text>\n",
              "<text text-anchor=\"middle\" x=\"119.5\" y=\"-111.8\" font-family=\"Times,serif\" font-size=\"14.00\">Samples: 5</text>\n",
              "</g>\n",
              "<!-- __main__.DecisionTreeNode object at 0x7a2931d83230 -->\n",
              "<g id=\"node2\" class=\"node\">\n",
              "<title>__main__.DecisionTreeNode object at 0x7a2931d83230</title>\n",
              "<polygon fill=\"#bcee68\" stroke=\"black\" points=\"111,-53 0,-53 0,0 111,0 111,-53\"/>\n",
              "<text text-anchor=\"middle\" x=\"55.5\" y=\"-37.8\" font-family=\"Times,serif\" font-size=\"14.00\">Label: yes</text>\n",
              "<text text-anchor=\"middle\" x=\"55.5\" y=\"-22.8\" font-family=\"Times,serif\" font-size=\"14.00\">Score: &#45;0.000</text>\n",
              "<text text-anchor=\"middle\" x=\"55.5\" y=\"-7.8\" font-family=\"Times,serif\" font-size=\"14.00\">Samples: 4</text>\n",
              "</g>\n",
              "<!-- __main__.DecisionTreeNode object at 0x7a2931d80e30&#45;&gt;__main__.DecisionTreeNode object at 0x7a2931d83230 -->\n",
              "<g id=\"edge1\" class=\"edge\">\n",
              "<title>__main__.DecisionTreeNode object at 0x7a2931d80e30&#45;&gt;__main__.DecisionTreeNode object at 0x7a2931d83230</title>\n",
              "<path fill=\"none\" stroke=\"black\" d=\"M103.35,-103.76C95.39,-91.08 85.68,-75.6 77.1,-61.92\"/>\n",
              "<polygon fill=\"black\" stroke=\"black\" points=\"79.92,-59.84 71.64,-53.23 73.99,-63.56 79.92,-59.84\"/>\n",
              "<text text-anchor=\"middle\" x=\"110.5\" y=\"-74.8\" font-family=\"Times,serif\" font-size=\"14.00\">False</text>\n",
              "</g>\n",
              "<!-- __main__.DecisionTreeNode object at 0x7a2931d832c0 -->\n",
              "<g id=\"node3\" class=\"node\">\n",
              "<title>__main__.DecisionTreeNode object at 0x7a2931d832c0</title>\n",
              "<polygon fill=\"#bcee68\" stroke=\"black\" points=\"240,-53 129,-53 129,0 240,0 240,-53\"/>\n",
              "<text text-anchor=\"middle\" x=\"184.5\" y=\"-37.8\" font-family=\"Times,serif\" font-size=\"14.00\">Label: no</text>\n",
              "<text text-anchor=\"middle\" x=\"184.5\" y=\"-22.8\" font-family=\"Times,serif\" font-size=\"14.00\">Score: &#45;0.000</text>\n",
              "<text text-anchor=\"middle\" x=\"184.5\" y=\"-7.8\" font-family=\"Times,serif\" font-size=\"14.00\">Samples: 1</text>\n",
              "</g>\n",
              "<!-- __main__.DecisionTreeNode object at 0x7a2931d80e30&#45;&gt;__main__.DecisionTreeNode object at 0x7a2931d832c0 -->\n",
              "<g id=\"edge2\" class=\"edge\">\n",
              "<title>__main__.DecisionTreeNode object at 0x7a2931d80e30&#45;&gt;__main__.DecisionTreeNode object at 0x7a2931d832c0</title>\n",
              "<path fill=\"none\" stroke=\"black\" d=\"M135.9,-103.76C143.99,-91.08 153.85,-75.6 162.57,-61.92\"/>\n",
              "<polygon fill=\"black\" stroke=\"black\" points=\"165.68,-63.54 168.1,-53.23 159.78,-59.78 165.68,-63.54\"/>\n",
              "<text text-anchor=\"middle\" x=\"172.5\" y=\"-74.8\" font-family=\"Times,serif\" font-size=\"14.00\">True</text>\n",
              "</g>\n",
              "</g>\n",
              "</svg>\n"
            ],
            "text/plain": [
              "<graphviz.sources.Source at 0x7a2931d80e60>"
            ]
          },
          "metadata": {},
          "output_type": "display_data"
        },
        {
          "name": "stdout",
          "output_type": "stream",
          "text": [
            "\n"
          ]
        },
        {
          "data": {
            "image/svg+xml": [
              "<?xml version=\"1.0\" encoding=\"UTF-8\" standalone=\"no\"?>\n",
              "<!DOCTYPE svg PUBLIC \"-//W3C//DTD SVG 1.1//EN\"\n",
              " \"http://www.w3.org/Graphics/SVG/1.1/DTD/svg11.dtd\">\n",
              "<!-- Generated by graphviz version 2.43.0 (0)\n",
              " -->\n",
              "<!-- Title: %3 Pages: 1 -->\n",
              "<svg width=\"406pt\" height=\"373pt\"\n",
              " viewBox=\"0.00 0.00 406.00 373.00\" xmlns=\"http://www.w3.org/2000/svg\" xmlns:xlink=\"http://www.w3.org/1999/xlink\">\n",
              "<g id=\"graph0\" class=\"graph\" transform=\"scale(1 1) rotate(0) translate(4 369)\">\n",
              "<title>%3</title>\n",
              "<polygon fill=\"white\" stroke=\"transparent\" points=\"-4,4 -4,-369 402,-369 402,4 -4,4\"/>\n",
              "<!-- __main__.DecisionTreeNode object at 0x7a2931d830e0 -->\n",
              "<g id=\"node1\" class=\"node\">\n",
              "<title>__main__.DecisionTreeNode object at 0x7a2931d830e0</title>\n",
              "<polygon fill=\"lightblue\" stroke=\"black\" points=\"327.5,-365 205.5,-365 205.5,-312 327.5,-312 327.5,-365\"/>\n",
              "<text text-anchor=\"middle\" x=\"266.5\" y=\"-349.8\" font-family=\"Times,serif\" font-size=\"14.00\">Split: Outlook?</text>\n",
              "<text text-anchor=\"middle\" x=\"266.5\" y=\"-334.8\" font-family=\"Times,serif\" font-size=\"14.00\">Score: 0.971</text>\n",
              "<text text-anchor=\"middle\" x=\"266.5\" y=\"-319.8\" font-family=\"Times,serif\" font-size=\"14.00\">Samples: 5</text>\n",
              "</g>\n",
              "<!-- __main__.DecisionTreeNode object at 0x7a2931d82210 -->\n",
              "<g id=\"node2\" class=\"node\">\n",
              "<title>__main__.DecisionTreeNode object at 0x7a2931d82210</title>\n",
              "<polygon fill=\"lightblue\" stroke=\"black\" points=\"269,-261 110,-261 110,-208 269,-208 269,-261\"/>\n",
              "<text text-anchor=\"middle\" x=\"189.5\" y=\"-245.8\" font-family=\"Times,serif\" font-size=\"14.00\">Split: Temperature?</text>\n",
              "<text text-anchor=\"middle\" x=\"189.5\" y=\"-230.8\" font-family=\"Times,serif\" font-size=\"14.00\">Score: 0.918</text>\n",
              "<text text-anchor=\"middle\" x=\"189.5\" y=\"-215.8\" font-family=\"Times,serif\" font-size=\"14.00\">Samples: 3</text>\n",
              "</g>\n",
              "<!-- __main__.DecisionTreeNode object at 0x7a2931d830e0&#45;&gt;__main__.DecisionTreeNode object at 0x7a2931d82210 -->\n",
              "<g id=\"edge5\" class=\"edge\">\n",
              "<title>__main__.DecisionTreeNode object at 0x7a2931d830e0&#45;&gt;__main__.DecisionTreeNode object at 0x7a2931d82210</title>\n",
              "<path fill=\"none\" stroke=\"black\" d=\"M247.07,-311.76C237.4,-298.96 225.59,-283.31 215.19,-269.53\"/>\n",
              "<polygon fill=\"black\" stroke=\"black\" points=\"217.74,-267.1 208.92,-261.23 212.16,-271.32 217.74,-267.1\"/>\n",
              "<text text-anchor=\"middle\" x=\"248\" y=\"-282.8\" font-family=\"Times,serif\" font-size=\"14.00\">rain</text>\n",
              "</g>\n",
              "<!-- __main__.DecisionTreeNode object at 0x7a2931d830b0 -->\n",
              "<g id=\"node7\" class=\"node\">\n",
              "<title>__main__.DecisionTreeNode object at 0x7a2931d830b0</title>\n",
              "<polygon fill=\"#bcee68\" stroke=\"black\" points=\"398,-261 287,-261 287,-208 398,-208 398,-261\"/>\n",
              "<text text-anchor=\"middle\" x=\"342.5\" y=\"-245.8\" font-family=\"Times,serif\" font-size=\"14.00\">Label: yes</text>\n",
              "<text text-anchor=\"middle\" x=\"342.5\" y=\"-230.8\" font-family=\"Times,serif\" font-size=\"14.00\">Score: &#45;0.000</text>\n",
              "<text text-anchor=\"middle\" x=\"342.5\" y=\"-215.8\" font-family=\"Times,serif\" font-size=\"14.00\">Samples: 2</text>\n",
              "</g>\n",
              "<!-- __main__.DecisionTreeNode object at 0x7a2931d830e0&#45;&gt;__main__.DecisionTreeNode object at 0x7a2931d830b0 -->\n",
              "<g id=\"edge6\" class=\"edge\">\n",
              "<title>__main__.DecisionTreeNode object at 0x7a2931d830e0&#45;&gt;__main__.DecisionTreeNode object at 0x7a2931d830b0</title>\n",
              "<path fill=\"none\" stroke=\"black\" d=\"M285.68,-311.76C295.22,-298.96 306.88,-283.31 317.15,-269.53\"/>\n",
              "<polygon fill=\"black\" stroke=\"black\" points=\"320.16,-271.34 323.33,-261.23 314.55,-267.16 320.16,-271.34\"/>\n",
              "<text text-anchor=\"middle\" x=\"340\" y=\"-282.8\" font-family=\"Times,serif\" font-size=\"14.00\">overcast</text>\n",
              "</g>\n",
              "<!-- __main__.DecisionTreeNode object at 0x7a2931d82510 -->\n",
              "<g id=\"node3\" class=\"node\">\n",
              "<title>__main__.DecisionTreeNode object at 0x7a2931d82510</title>\n",
              "<polygon fill=\"lightblue\" stroke=\"black\" points=\"186.5,-157 52.5,-157 52.5,-104 186.5,-104 186.5,-157\"/>\n",
              "<text text-anchor=\"middle\" x=\"119.5\" y=\"-141.8\" font-family=\"Times,serif\" font-size=\"14.00\">Split: Humidity?</text>\n",
              "<text text-anchor=\"middle\" x=\"119.5\" y=\"-126.8\" font-family=\"Times,serif\" font-size=\"14.00\">Score: 1.000</text>\n",
              "<text text-anchor=\"middle\" x=\"119.5\" y=\"-111.8\" font-family=\"Times,serif\" font-size=\"14.00\">Samples: 2</text>\n",
              "</g>\n",
              "<!-- __main__.DecisionTreeNode object at 0x7a2931d82210&#45;&gt;__main__.DecisionTreeNode object at 0x7a2931d82510 -->\n",
              "<g id=\"edge3\" class=\"edge\">\n",
              "<title>__main__.DecisionTreeNode object at 0x7a2931d82210&#45;&gt;__main__.DecisionTreeNode object at 0x7a2931d82510</title>\n",
              "<path fill=\"none\" stroke=\"black\" d=\"M171.84,-207.76C163.05,-194.96 152.31,-179.31 142.85,-165.53\"/>\n",
              "<polygon fill=\"black\" stroke=\"black\" points=\"145.7,-163.5 137.16,-157.23 139.93,-167.46 145.7,-163.5\"/>\n",
              "<text text-anchor=\"middle\" x=\"175.5\" y=\"-178.8\" font-family=\"Times,serif\" font-size=\"14.00\">mild</text>\n",
              "</g>\n",
              "<!-- __main__.DecisionTreeNode object at 0x7a2931d80f80 -->\n",
              "<g id=\"node6\" class=\"node\">\n",
              "<title>__main__.DecisionTreeNode object at 0x7a2931d80f80</title>\n",
              "<polygon fill=\"#bcee68\" stroke=\"black\" points=\"316,-157 205,-157 205,-104 316,-104 316,-157\"/>\n",
              "<text text-anchor=\"middle\" x=\"260.5\" y=\"-141.8\" font-family=\"Times,serif\" font-size=\"14.00\">Label: no</text>\n",
              "<text text-anchor=\"middle\" x=\"260.5\" y=\"-126.8\" font-family=\"Times,serif\" font-size=\"14.00\">Score: &#45;0.000</text>\n",
              "<text text-anchor=\"middle\" x=\"260.5\" y=\"-111.8\" font-family=\"Times,serif\" font-size=\"14.00\">Samples: 1</text>\n",
              "</g>\n",
              "<!-- __main__.DecisionTreeNode object at 0x7a2931d82210&#45;&gt;__main__.DecisionTreeNode object at 0x7a2931d80f80 -->\n",
              "<g id=\"edge4\" class=\"edge\">\n",
              "<title>__main__.DecisionTreeNode object at 0x7a2931d82210&#45;&gt;__main__.DecisionTreeNode object at 0x7a2931d80f80</title>\n",
              "<path fill=\"none\" stroke=\"black\" d=\"M207.42,-207.76C216.33,-194.96 227.22,-179.31 236.81,-165.53\"/>\n",
              "<polygon fill=\"black\" stroke=\"black\" points=\"239.75,-167.44 242.59,-157.23 234,-163.44 239.75,-167.44\"/>\n",
              "<text text-anchor=\"middle\" x=\"244\" y=\"-178.8\" font-family=\"Times,serif\" font-size=\"14.00\">cool</text>\n",
              "</g>\n",
              "<!-- __main__.DecisionTreeNode object at 0x7a2931d83830 -->\n",
              "<g id=\"node4\" class=\"node\">\n",
              "<title>__main__.DecisionTreeNode object at 0x7a2931d83830</title>\n",
              "<polygon fill=\"#bcee68\" stroke=\"black\" points=\"111,-53 0,-53 0,0 111,0 111,-53\"/>\n",
              "<text text-anchor=\"middle\" x=\"55.5\" y=\"-37.8\" font-family=\"Times,serif\" font-size=\"14.00\">Label: no</text>\n",
              "<text text-anchor=\"middle\" x=\"55.5\" y=\"-22.8\" font-family=\"Times,serif\" font-size=\"14.00\">Score: &#45;0.000</text>\n",
              "<text text-anchor=\"middle\" x=\"55.5\" y=\"-7.8\" font-family=\"Times,serif\" font-size=\"14.00\">Samples: 1</text>\n",
              "</g>\n",
              "<!-- __main__.DecisionTreeNode object at 0x7a2931d82510&#45;&gt;__main__.DecisionTreeNode object at 0x7a2931d83830 -->\n",
              "<g id=\"edge1\" class=\"edge\">\n",
              "<title>__main__.DecisionTreeNode object at 0x7a2931d82510&#45;&gt;__main__.DecisionTreeNode object at 0x7a2931d83830</title>\n",
              "<path fill=\"none\" stroke=\"black\" d=\"M103.35,-103.76C95.39,-91.08 85.68,-75.6 77.1,-61.92\"/>\n",
              "<polygon fill=\"black\" stroke=\"black\" points=\"79.92,-59.84 71.64,-53.23 73.99,-63.56 79.92,-59.84\"/>\n",
              "<text text-anchor=\"middle\" x=\"107.5\" y=\"-74.8\" font-family=\"Times,serif\" font-size=\"14.00\">high</text>\n",
              "</g>\n",
              "<!-- __main__.DecisionTreeNode object at 0x7a2931d83860 -->\n",
              "<g id=\"node5\" class=\"node\">\n",
              "<title>__main__.DecisionTreeNode object at 0x7a2931d83860</title>\n",
              "<polygon fill=\"#bcee68\" stroke=\"black\" points=\"240,-53 129,-53 129,0 240,0 240,-53\"/>\n",
              "<text text-anchor=\"middle\" x=\"184.5\" y=\"-37.8\" font-family=\"Times,serif\" font-size=\"14.00\">Label: yes</text>\n",
              "<text text-anchor=\"middle\" x=\"184.5\" y=\"-22.8\" font-family=\"Times,serif\" font-size=\"14.00\">Score: &#45;0.000</text>\n",
              "<text text-anchor=\"middle\" x=\"184.5\" y=\"-7.8\" font-family=\"Times,serif\" font-size=\"14.00\">Samples: 1</text>\n",
              "</g>\n",
              "<!-- __main__.DecisionTreeNode object at 0x7a2931d82510&#45;&gt;__main__.DecisionTreeNode object at 0x7a2931d83860 -->\n",
              "<g id=\"edge2\" class=\"edge\">\n",
              "<title>__main__.DecisionTreeNode object at 0x7a2931d82510&#45;&gt;__main__.DecisionTreeNode object at 0x7a2931d83860</title>\n",
              "<path fill=\"none\" stroke=\"black\" d=\"M135.9,-103.76C143.99,-91.08 153.85,-75.6 162.57,-61.92\"/>\n",
              "<polygon fill=\"black\" stroke=\"black\" points=\"165.68,-63.54 168.1,-53.23 159.78,-59.78 165.68,-63.54\"/>\n",
              "<text text-anchor=\"middle\" x=\"182\" y=\"-74.8\" font-family=\"Times,serif\" font-size=\"14.00\">normal</text>\n",
              "</g>\n",
              "</g>\n",
              "</svg>\n"
            ],
            "text/plain": [
              "<graphviz.sources.Source at 0x7a2931d83050>"
            ]
          },
          "metadata": {},
          "output_type": "display_data"
        },
        {
          "name": "stdout",
          "output_type": "stream",
          "text": [
            "\n"
          ]
        },
        {
          "data": {
            "image/svg+xml": [
              "<?xml version=\"1.0\" encoding=\"UTF-8\" standalone=\"no\"?>\n",
              "<!DOCTYPE svg PUBLIC \"-//W3C//DTD SVG 1.1//EN\"\n",
              " \"http://www.w3.org/Graphics/SVG/1.1/DTD/svg11.dtd\">\n",
              "<!-- Generated by graphviz version 2.43.0 (0)\n",
              " -->\n",
              "<!-- Title: %3 Pages: 1 -->\n",
              "<svg width=\"442pt\" height=\"269pt\"\n",
              " viewBox=\"0.00 0.00 442.00 269.00\" xmlns=\"http://www.w3.org/2000/svg\" xmlns:xlink=\"http://www.w3.org/1999/xlink\">\n",
              "<g id=\"graph0\" class=\"graph\" transform=\"scale(1 1) rotate(0) translate(4 265)\">\n",
              "<title>%3</title>\n",
              "<polygon fill=\"white\" stroke=\"transparent\" points=\"-4,4 -4,-265 438,-265 438,4 -4,4\"/>\n",
              "<!-- __main__.DecisionTreeNode object at 0x7a2931d82420 -->\n",
              "<g id=\"node1\" class=\"node\">\n",
              "<title>__main__.DecisionTreeNode object at 0x7a2931d82420</title>\n",
              "<polygon fill=\"lightblue\" stroke=\"black\" points=\"310.5,-261 188.5,-261 188.5,-208 310.5,-208 310.5,-261\"/>\n",
              "<text text-anchor=\"middle\" x=\"249.5\" y=\"-245.8\" font-family=\"Times,serif\" font-size=\"14.00\">Split: Outlook?</text>\n",
              "<text text-anchor=\"middle\" x=\"249.5\" y=\"-230.8\" font-family=\"Times,serif\" font-size=\"14.00\">Score: 0.971</text>\n",
              "<text text-anchor=\"middle\" x=\"249.5\" y=\"-215.8\" font-family=\"Times,serif\" font-size=\"14.00\">Samples: 5</text>\n",
              "</g>\n",
              "<!-- __main__.DecisionTreeNode object at 0x7a2931d81a00 -->\n",
              "<g id=\"node2\" class=\"node\">\n",
              "<title>__main__.DecisionTreeNode object at 0x7a2931d81a00</title>\n",
              "<polygon fill=\"lightblue\" stroke=\"black\" points=\"175.5,-157 63.5,-157 63.5,-104 175.5,-104 175.5,-157\"/>\n",
              "<text text-anchor=\"middle\" x=\"119.5\" y=\"-141.8\" font-family=\"Times,serif\" font-size=\"14.00\">Split: Windy?</text>\n",
              "<text text-anchor=\"middle\" x=\"119.5\" y=\"-126.8\" font-family=\"Times,serif\" font-size=\"14.00\">Score: 0.918</text>\n",
              "<text text-anchor=\"middle\" x=\"119.5\" y=\"-111.8\" font-family=\"Times,serif\" font-size=\"14.00\">Samples: 3</text>\n",
              "</g>\n",
              "<!-- __main__.DecisionTreeNode object at 0x7a2931d82420&#45;&gt;__main__.DecisionTreeNode object at 0x7a2931d81a00 -->\n",
              "<g id=\"edge3\" class=\"edge\">\n",
              "<title>__main__.DecisionTreeNode object at 0x7a2931d82420&#45;&gt;__main__.DecisionTreeNode object at 0x7a2931d81a00</title>\n",
              "<path fill=\"none\" stroke=\"black\" d=\"M216.7,-207.76C199.61,-194.35 178.54,-177.83 160.4,-163.59\"/>\n",
              "<polygon fill=\"black\" stroke=\"black\" points=\"162.32,-160.65 152.29,-157.23 158,-166.16 162.32,-160.65\"/>\n",
              "<text text-anchor=\"middle\" x=\"207\" y=\"-178.8\" font-family=\"Times,serif\" font-size=\"14.00\">rain</text>\n",
              "</g>\n",
              "<!-- __main__.DecisionTreeNode object at 0x7a2931d831a0 -->\n",
              "<g id=\"node5\" class=\"node\">\n",
              "<title>__main__.DecisionTreeNode object at 0x7a2931d831a0</title>\n",
              "<polygon fill=\"#bcee68\" stroke=\"black\" points=\"305,-157 194,-157 194,-104 305,-104 305,-157\"/>\n",
              "<text text-anchor=\"middle\" x=\"249.5\" y=\"-141.8\" font-family=\"Times,serif\" font-size=\"14.00\">Label: yes</text>\n",
              "<text text-anchor=\"middle\" x=\"249.5\" y=\"-126.8\" font-family=\"Times,serif\" font-size=\"14.00\">Score: &#45;0.000</text>\n",
              "<text text-anchor=\"middle\" x=\"249.5\" y=\"-111.8\" font-family=\"Times,serif\" font-size=\"14.00\">Samples: 1</text>\n",
              "</g>\n",
              "<!-- __main__.DecisionTreeNode object at 0x7a2931d82420&#45;&gt;__main__.DecisionTreeNode object at 0x7a2931d831a0 -->\n",
              "<g id=\"edge4\" class=\"edge\">\n",
              "<title>__main__.DecisionTreeNode object at 0x7a2931d82420&#45;&gt;__main__.DecisionTreeNode object at 0x7a2931d831a0</title>\n",
              "<path fill=\"none\" stroke=\"black\" d=\"M249.5,-207.76C249.5,-195.56 249.5,-180.78 249.5,-167.49\"/>\n",
              "<polygon fill=\"black\" stroke=\"black\" points=\"253,-167.23 249.5,-157.23 246,-167.23 253,-167.23\"/>\n",
              "<text text-anchor=\"middle\" x=\"280\" y=\"-178.8\" font-family=\"Times,serif\" font-size=\"14.00\">overcast</text>\n",
              "</g>\n",
              "<!-- __main__.DecisionTreeNode object at 0x7a2931d821b0 -->\n",
              "<g id=\"node6\" class=\"node\">\n",
              "<title>__main__.DecisionTreeNode object at 0x7a2931d821b0</title>\n",
              "<polygon fill=\"#bcee68\" stroke=\"black\" points=\"434,-157 323,-157 323,-104 434,-104 434,-157\"/>\n",
              "<text text-anchor=\"middle\" x=\"378.5\" y=\"-141.8\" font-family=\"Times,serif\" font-size=\"14.00\">Label: no</text>\n",
              "<text text-anchor=\"middle\" x=\"378.5\" y=\"-126.8\" font-family=\"Times,serif\" font-size=\"14.00\">Score: &#45;0.000</text>\n",
              "<text text-anchor=\"middle\" x=\"378.5\" y=\"-111.8\" font-family=\"Times,serif\" font-size=\"14.00\">Samples: 1</text>\n",
              "</g>\n",
              "<!-- __main__.DecisionTreeNode object at 0x7a2931d82420&#45;&gt;__main__.DecisionTreeNode object at 0x7a2931d821b0 -->\n",
              "<g id=\"edge5\" class=\"edge\">\n",
              "<title>__main__.DecisionTreeNode object at 0x7a2931d82420&#45;&gt;__main__.DecisionTreeNode object at 0x7a2931d821b0</title>\n",
              "<path fill=\"none\" stroke=\"black\" d=\"M289.7,-207.97C298.06,-202.28 306.7,-196.12 314.5,-190 324.69,-182.01 335.25,-172.78 344.79,-164.06\"/>\n",
              "<polygon fill=\"black\" stroke=\"black\" points=\"347.24,-166.56 352.2,-157.2 342.48,-161.43 347.24,-166.56\"/>\n",
              "<text text-anchor=\"middle\" x=\"352\" y=\"-178.8\" font-family=\"Times,serif\" font-size=\"14.00\">sunny</text>\n",
              "</g>\n",
              "<!-- __main__.DecisionTreeNode object at 0x7a2931d836e0 -->\n",
              "<g id=\"node3\" class=\"node\">\n",
              "<title>__main__.DecisionTreeNode object at 0x7a2931d836e0</title>\n",
              "<polygon fill=\"#bcee68\" stroke=\"black\" points=\"111,-53 0,-53 0,0 111,0 111,-53\"/>\n",
              "<text text-anchor=\"middle\" x=\"55.5\" y=\"-37.8\" font-family=\"Times,serif\" font-size=\"14.00\">Label: yes</text>\n",
              "<text text-anchor=\"middle\" x=\"55.5\" y=\"-22.8\" font-family=\"Times,serif\" font-size=\"14.00\">Score: &#45;0.000</text>\n",
              "<text text-anchor=\"middle\" x=\"55.5\" y=\"-7.8\" font-family=\"Times,serif\" font-size=\"14.00\">Samples: 2</text>\n",
              "</g>\n",
              "<!-- __main__.DecisionTreeNode object at 0x7a2931d81a00&#45;&gt;__main__.DecisionTreeNode object at 0x7a2931d836e0 -->\n",
              "<g id=\"edge1\" class=\"edge\">\n",
              "<title>__main__.DecisionTreeNode object at 0x7a2931d81a00&#45;&gt;__main__.DecisionTreeNode object at 0x7a2931d836e0</title>\n",
              "<path fill=\"none\" stroke=\"black\" d=\"M103.35,-103.76C95.39,-91.08 85.68,-75.6 77.1,-61.92\"/>\n",
              "<polygon fill=\"black\" stroke=\"black\" points=\"79.92,-59.84 71.64,-53.23 73.99,-63.56 79.92,-59.84\"/>\n",
              "<text text-anchor=\"middle\" x=\"110.5\" y=\"-74.8\" font-family=\"Times,serif\" font-size=\"14.00\">False</text>\n",
              "</g>\n",
              "<!-- __main__.DecisionTreeNode object at 0x7a2931d832f0 -->\n",
              "<g id=\"node4\" class=\"node\">\n",
              "<title>__main__.DecisionTreeNode object at 0x7a2931d832f0</title>\n",
              "<polygon fill=\"#bcee68\" stroke=\"black\" points=\"240,-53 129,-53 129,0 240,0 240,-53\"/>\n",
              "<text text-anchor=\"middle\" x=\"184.5\" y=\"-37.8\" font-family=\"Times,serif\" font-size=\"14.00\">Label: no</text>\n",
              "<text text-anchor=\"middle\" x=\"184.5\" y=\"-22.8\" font-family=\"Times,serif\" font-size=\"14.00\">Score: &#45;0.000</text>\n",
              "<text text-anchor=\"middle\" x=\"184.5\" y=\"-7.8\" font-family=\"Times,serif\" font-size=\"14.00\">Samples: 1</text>\n",
              "</g>\n",
              "<!-- __main__.DecisionTreeNode object at 0x7a2931d81a00&#45;&gt;__main__.DecisionTreeNode object at 0x7a2931d832f0 -->\n",
              "<g id=\"edge2\" class=\"edge\">\n",
              "<title>__main__.DecisionTreeNode object at 0x7a2931d81a00&#45;&gt;__main__.DecisionTreeNode object at 0x7a2931d832f0</title>\n",
              "<path fill=\"none\" stroke=\"black\" d=\"M135.9,-103.76C143.99,-91.08 153.85,-75.6 162.57,-61.92\"/>\n",
              "<polygon fill=\"black\" stroke=\"black\" points=\"165.68,-63.54 168.1,-53.23 159.78,-59.78 165.68,-63.54\"/>\n",
              "<text text-anchor=\"middle\" x=\"173.5\" y=\"-74.8\" font-family=\"Times,serif\" font-size=\"14.00\">True</text>\n",
              "</g>\n",
              "</g>\n",
              "</svg>\n"
            ],
            "text/plain": [
              "<graphviz.sources.Source at 0x7a2931d829f0>"
            ]
          },
          "metadata": {},
          "output_type": "display_data"
        }
      ],
      "source": [
        "# Se construiește un clasificator de tip pădure de arbori aleatori\n",
        "random_forest = RandomForest(n_estimators=3,\n",
        "                             max_depth=3,\n",
        "                             min_samples_per_node=MIN_SAMPLES_PER_NODE,\n",
        "                             split_strategy='id3')\n",
        "\n",
        "# Se antrenează clasificatorul\n",
        "random_forest.fit(X_train, y_train)\n",
        "\n",
        "# Afișăm arborii creați\n",
        "random_forest.display()"
      ]
    },
    {
      "cell_type": "code",
      "execution_count": 35,
      "metadata": {
        "colab": {
          "base_uri": "https://localhost:8080/"
        },
        "id": "o74nUhM_9shL",
        "outputId": "1184c29d-e223-4614-fd82-beead1bcb122"
      },
      "outputs": [
        {
          "name": "stdout",
          "output_type": "stream",
          "text": [
            "Datele de intrare:\n",
            "Outlook        sunny\n",
            "Temperature      hot\n",
            "Humidity        high\n",
            "Windy          False\n",
            "Name: 0, dtype: object\n",
            "\n",
            "Clasa reală:\n",
            "no\n",
            "\n",
            "Clasa prezisă:\n",
            "yes\n"
          ]
        }
      ],
      "source": [
        "# Se realizează predicția claselor pentru setul de date de test\n",
        "y_pred_rf = random_forest.predict(X_test)\n",
        "\n",
        "print(\"Datele de intrare:\")\n",
        "print(X_test.iloc[0])\n",
        "\n",
        "print(\"\\nClasa reală:\")\n",
        "print(y_test.iloc[0])\n",
        "\n",
        "print(\"\\nClasa prezisă:\")\n",
        "print(y_pred_rf[0])"
      ]
    },
    {
      "cell_type": "markdown",
      "metadata": {
        "id": "rjYqUPSbe1gG"
      },
      "source": [
        "## Evaluarea modelelor\n",
        "\n",
        "Un exemplu clasificat poate aparține unei clase pozitive sau negative și poate fi clasificat corect sau greșit de un model de clasificare. În funcție de aceste două caracteristici, un exemplu poate fi clasificat în una din cele patru categorii:\n",
        "* **True Positive (TP)**: exemplu pozitiv clasificat corect\n",
        "* **True Negative (TN)**: exemplu negativ clasificat corect\n",
        "* **False Positive (FP)**: exemplu negativ clasificat greșit\n",
        "* **False Negative (FN)**: exemplu pozitiv clasificat greșit\n",
        "\n",
        "$$\n",
        "    TP = True\\ Positives\\\\\n",
        "    FP = False\\ Positives\\\\\n",
        "    TN = True\\ Negatives\\\\\n",
        "    FN = False\\ Negatives\\\\\n",
        "$$\n",
        "\n",
        "Pentru a evalua modelele de clasificare vom folosi următoarele metrici:\n",
        "* **Acuratețe (Accuracy)**: reprezintă raportul între numărul de exemple clasificate corect și numărul total de exemple din setul de date.\n",
        "* **Precizie (Precision)**: reprezintă raportul între numărul de exemple clasificate corect cu clasa `c` și numărul total de exemple clasificate cu clasa `c`.\n",
        "* **Acoperire (Recall)**: reprezintă raportul între numărul de exemple clasificate corect cu clasa `c` și numărul total de exemple din setul de date cu clasa `c`.\n",
        "* **Scorul F1 (F1 Score)**: reprezintă media armonică între precizie și acoperire.\n",
        "\n",
        "$$\n",
        "    accuracy = \\frac{TP + TN}{TP + TN + FP + FN}\n",
        "$$\n",
        "\n",
        "$$\n",
        "    precision = \\frac{TP}{TP + FP}\n",
        "$$\n",
        "\n",
        "$$\n",
        "    recall = \\frac{TP}{TP + FN}\n",
        "$$\n",
        "\n",
        "$$\n",
        "    f1\\_score = 2 \\cdot \\frac{precision \\cdot recall}{precision + recall}\n",
        "$$\n",
        "\n",
        "De asemenea, pentru a evalua corectitudinea modelelor de clasificare vom folosi următoarele concepte:\n",
        "* **Matrice de confuzie (Confusion Matrix)**: este o matrice care arată numărul de exemple clasificate corect și numărul de exemple clasificate greșit pentru fiecare clasă.\n",
        "\n",
        "\n",
        "$$\n",
        "    \\begin{array}{|c|c|c|}\n",
        "    \\hline\n",
        "    & \\text{Predicție pozitivă} & \\text{Predicție negativă} \\\\\n",
        "    \\hline\n",
        "    \\text{Clasa pozitivă} & TP & FP \\\\\n",
        "    \\hline\n",
        "    \\text{Clasa negativă} & FN & TN \\\\\n",
        "    \\hline\n",
        "    \\end{array}\n",
        "$$"
      ]
    },
    {
      "cell_type": "code",
      "execution_count": 36,
      "metadata": {
        "id": "3rqSObPy9shL"
      },
      "outputs": [],
      "source": [
        "def precision(y_pred: pd.Series, y_true: pd.Series, c: str) -> float:\n",
        "    \"\"\"\n",
        "    Calculează precizia (precision) unui clasificator.\n",
        "    Precizia este definită ca raportul între numărul de exemple clasificate corect cu clasa `c` și numărul total de exemple clasificate cu clasa `c`.\n",
        "\n",
        "    Args:\n",
        "        y_pred (pd.Series):\n",
        "            Clasele prezise de clasificator\n",
        "        y_true (pd.Series):\n",
        "            Clasele reale din setul de date\n",
        "        c (str):\n",
        "            Clasa pentru care se calculează precizia\n",
        "\n",
        "    Returns:\n",
        "        float:\n",
        "            Precizia clasificatorului\n",
        "\n",
        "    Examples:\n",
        "    --------\n",
        "    >>> precision(y_pred=pd.Series(['a', 'a', 'a', 'a', 'b']),\n",
        "    >>>           y_true=pd.Series(['a', 'a', 'a', 'b', 'b']),\n",
        "    >>>           c='a')\n",
        "    0.75\n",
        "    \"\"\"\n",
        "    # Doar exemplele clasificate cu clasa c sunt relevante pentru calculul preciziei\n",
        "    pred_c = y_pred[y_pred == c]\n",
        "\n",
        "    # Extrage doar exemplele clasificate corect cu clasa c\n",
        "    true_c = y_true[(y_pred == c) & (y_true == c)]\n",
        "\n",
        "    # Calculul preciziei\n",
        "    if len(pred_c) == 0:\n",
        "        return 0\n",
        "    else:\n",
        "        return len(true_c) / len(pred_c)\n",
        "\n",
        "def recall(y_pred: pd.Series, y_true: pd.Series, c: str) -> float:\n",
        "    \"\"\"\n",
        "    Calculează acoperirea (recall) unui clasificator.\n",
        "    Acoperirea este definită ca raportul între numărul de exemple clasificate corect cu clasa `c` și numărul total de exemple din setul de date cu clasa `c`.\n",
        "\n",
        "    Args:\n",
        "        y_pred (pd.Series):\n",
        "            Clasele prezise de clasificator\n",
        "        y_true (pd.Series):\n",
        "            Clasele reale din setul de date\n",
        "        c (str):\n",
        "            Clasa pentru care se calculează acoperirea\n",
        "\n",
        "    Returns:\n",
        "        float:\n",
        "            Acoperirea clasificatorului\n",
        "\n",
        "    Examples:\n",
        "    --------\n",
        "    >>> recall(y_pred=pd.Series(['a', 'a', 'a', 'a', 'b']),\n",
        "    >>>        y_true=pd.Series(['a', 'a', 'a', 'b', 'b']),\n",
        "    >>>        c='a')\n",
        "    1.0\n",
        "    \"\"\"\n",
        "    # Doar exemplele din setul de date cu clasa c sunt relevante pentru calculul acoperirii\n",
        "    true_c = y_true[y_true == c]\n",
        "\n",
        "    # Extrage doar exemplele clasificate corect cu clasa c\n",
        "    pred_c = y_pred[(y_pred == c) & (y_true == c)]\n",
        "\n",
        "    # Calculul acoperirii\n",
        "    if len(true_c) == 0:\n",
        "        return 0\n",
        "    else:\n",
        "        return len(pred_c) / len(true_c)\n",
        "\n",
        "def f1_score(y_pred: pd.Series, y_true: pd.Series, c: str) -> float:\n",
        "    \"\"\"\n",
        "    Calculează scorul F1 al unui clasificator.\n",
        "    Scorul F1 este definit ca media armonică între precizie și acoperire.\n",
        "\n",
        "    Args:\n",
        "        y_pred (pd.Series):\n",
        "            Clasele prezise de clasificator\n",
        "        y_true (pd.Series):\n",
        "            Clasele reale din setul de date\n",
        "        c (str):\n",
        "            Clasa pentru care se calculează scorul F1\n",
        "\n",
        "    Returns:\n",
        "        float:\n",
        "            Scorul F1 al clasificatorului\n",
        "\n",
        "    Examples:\n",
        "    --------\n",
        "    >>> f1_score(y_pred=pd.Series(['a', 'a', 'a', 'a', 'b']),\n",
        "    >>>           y_true=pd.Series(['a', 'a', 'a', 'b', 'b']),\n",
        "    >>>           c='a')\n",
        "    0.8571428571428571\n",
        "    \"\"\"\n",
        "    # Calculul scorului F1\n",
        "    p = precision(y_pred, y_true, c)\n",
        "    r = recall(y_pred, y_true, c)\n",
        "\n",
        "    if p + r == 0:\n",
        "        return 0\n",
        "    else:\n",
        "        return 2 * p * r / (p + r)\n",
        "\n",
        "def accuracy(y_pred: pd.Series, y_true: pd.Series) -> float:\n",
        "    \"\"\"\n",
        "    Calculează acuratețea unui clasificator.\n",
        "    Acuratețea este definită ca raportul între numărul de exemple clasificate corect și numărul total de exemple din setul de date.\n",
        "\n",
        "    Args:\n",
        "        y_pred (pd.Series):\n",
        "            Clasele prezise de clasificator\n",
        "        y_true (pd.Series):\n",
        "            Clasele reale din setul de date\n",
        "\n",
        "    Returns:\n",
        "        float:\n",
        "            Acuratețea clasificatorului\n",
        "\n",
        "    Examples:\n",
        "    --------\n",
        "    >>> accuracy(pd.Series(['a', 'a', 'a', 'a', 'b']), pd.Series(['a', 'a', 'a', 'b', 'b']))\n",
        "    0.8\n",
        "    \"\"\"\n",
        "    # Calculul acurateței\n",
        "    return (y_pred == y_true).sum() / len(y_true)\n",
        "\n",
        "def evaluate(tree: DecisionTree, X: pd.DataFrame, y: pd.Series):\n",
        "    \"\"\"\n",
        "    Evaluează un arbore de decizie / pădure de arbori de decizie pe un set de date X.\n",
        "    Pentru evaluare se va folosi de funcția `predict` a arborelui de decizie / pădurii de arbori de decizie.\n",
        "\n",
        "    Rezultatul va fi un tabel cu metricile de evaluare: acuratețe, precizie, recall, f1-score.\n",
        "\n",
        "    Args:\n",
        "        tree (DecisionTreeNode):\n",
        "            Arborele de decizie / pădurea de arbori de decizie\n",
        "        X (pd.DataFrame):\n",
        "            Setul de date (atributele) pentru care se dorește clasificarea\n",
        "        y (pd.Series):\n",
        "            Clasele corespunzătoare fiecărui exemplu din setul de date\n",
        "    Examples\n",
        "    --------\n",
        "    >>> evaluate(tree, X_test)\n",
        "                  precision    recall  f1-score   support\n",
        "\n",
        "             acc       0.61      0.73      0.66        90\n",
        "            good       0.00      0.00      0.00        11\n",
        "           unacc       0.91      0.92      0.92       231\n",
        "           vgood       0.00      0.00      0.00        14\n",
        "\n",
        "        accuracy                           0.81       346\n",
        "       macro avg       0.38      0.41      0.39       346\n",
        "    weighted avg       0.77      0.81      0.78       346\n",
        "    \"\"\"\n",
        "    from sklearn.metrics import classification_report\n",
        "\n",
        "    y_pred = tree.predict(X)\n",
        "    print(classification_report(y, y_pred, zero_division=0))\n",
        "\n",
        "def plot_confusion_matrix(y_pred: pd.Series, y_true: pd.Series):\n",
        "    \"\"\"\n",
        "    Construiește matricea de confuzie pentru un clasificator.\n",
        "\n",
        "    Args:\n",
        "        y_pred (pd.Series):\n",
        "            Clasele prezise de clasificator\n",
        "        y_true (pd.Series):\n",
        "            Clasele reale din setul de date\n",
        "    \"\"\"\n",
        "    confusion_matrix = pd.crosstab(y_true, y_pred, rownames=['Actual'], colnames=['Predicted'], dropna=False)\n",
        "\n",
        "    # Adăugăm toate clasele prezise și reale pentru a avea toate clasele în matricea de confuzie\n",
        "    all_classes = np.unique(list(y_true) + list(y_pred))\n",
        "    confusion_matrix = confusion_matrix.reindex(index=all_classes, columns=all_classes, fill_value=0)\n",
        "\n",
        "    print(confusion_matrix)\n",
        "\n",
        "    plt.figure(figsize=(10,7))\n",
        "    sns.heatmap(confusion_matrix, annot=True, fmt='d')\n",
        "    plt.xlabel('Predicted')\n",
        "    plt.ylabel('Truth')\n",
        "    plt.show()"
      ]
    },
    {
      "cell_type": "code",
      "execution_count": 37,
      "metadata": {
        "colab": {
          "base_uri": "https://localhost:8080/"
        },
        "id": "3fddZPpn9shM",
        "outputId": "05087429-278c-4bcb-8683-461423da98d8"
      },
      "outputs": [
        {
          "name": "stdout",
          "output_type": "stream",
          "text": [
            "Dataset: chess\n",
            "Train set size:  2556\n",
            "Test set size:  640\n",
            "Number of classes:  2\n",
            "Number of features:  36\n",
            "\n",
            "Number of examples per class in train set:\n",
            "class\n",
            "won      1327\n",
            "nowin    1229\n",
            "Name: count, dtype: int64\n"
          ]
        }
      ],
      "source": [
        "# Selectam setul de date Chess pentru evaluare, deoarece acesta are mai multe exemple\n",
        "data_cars = load_dataset('chess')\n",
        "X_train, y_train, X_test, y_test = split_train_test(data_cars, \"class\", test_size=0.2)\n",
        "\n",
        "print(\"Train set size: \", len(X_train))\n",
        "print(\"Test set size: \", len(X_test))\n",
        "print(\"Number of classes: \", y_train.nunique())\n",
        "print(\"Number of features: \", len(X_train.columns))\n",
        "\n",
        "print(\"\\nNumber of examples per class in train set:\")\n",
        "print(y_train.value_counts())"
      ]
    },
    {
      "cell_type": "code",
      "execution_count": 38,
      "metadata": {
        "colab": {
          "base_uri": "https://localhost:8080/",
          "height": 945
        },
        "id": "nQ77ZO8g9shN",
        "outputId": "5a6199b2-6d07-411a-d9d2-4ebbeab3b4e8"
      },
      "outputs": [
        {
          "name": "stderr",
          "output_type": "stream",
          "text": [
            "100%|██████████| 19/19 [00:34<00:00,  1.82s/it]\n"
          ]
        },
        {
          "data": {
            "image/png": "[encoded data removed]",
            "text/plain": [
              "<Figure size 640x480 with 1 Axes>"
            ]
          },
          "metadata": {},
          "output_type": "display_data"
        },
        {
          "data": {
            "image/png": "[encoded data removed]",
            "text/plain": [
              "<Figure size 640x480 with 1 Axes>"
            ]
          },
          "metadata": {},
          "output_type": "display_data"
        }
      ],
      "source": [
        "# Analizăm influența parametrului `max_depth` asupra performanței clasificatorului Decision Tree\n",
        "max_depth_values = list(range(1, 20))\n",
        "\n",
        "accuracies = []\n",
        "num_nodes = []\n",
        "\n",
        "for max_depth in tqdm(max_depth_values):\n",
        "    decision_tree = DecisionTree(split_strategy='id3',\n",
        "                                 max_depth=max_depth,\n",
        "                                 min_samples_per_node=2)\n",
        "    decision_tree.fit(X_train, y_train)\n",
        "    accuracies += [accuracy(decision_tree.predict(X_test), y_test)]\n",
        "    num_nodes += [decision_tree.get_number_of_nodes()]\n",
        "\n",
        "# Afișăm graficul cu acuratețea clasificatorului în funcție de adâncimea maximă a arborelui\n",
        "plt.plot(max_depth_values, accuracies)\n",
        "plt.xlabel('Max Depth')\n",
        "plt.ylabel('Accuracy')\n",
        "plt.title('Decision Tree Accuracy')\n",
        "plt.show()\n",
        "\n",
        "# Afișăm graficul cu numărul de noduri din arbore în funcție de adâncimea maximă a arborelui\n",
        "plt.plot(max_depth_values, num_nodes)\n",
        "plt.xlabel('Max Depth')\n",
        "plt.ylabel('Number of Nodes')\n",
        "plt.title('Decision Tree Number of Nodes')\n",
        "plt.show()"
      ]
    },
    {
      "cell_type": "markdown",
      "metadata": {
        "id": "zlaKFHVj9shN"
      },
      "source": [
        "Creșterea adâncimii arborelui de decizie duce la creșterea acurateței clasificatorului pe setul de date de test, până\n",
        " la un anumit punct, după care acuratețea se stabilizează. Acest lucru se datorează faptului că arborele a ajuns\n",
        " la o adâncime la care a învățat toate exemplele din setul de date de antrenare.\n",
        "    \n",
        "În mod normal, creșterea adâncimii arborelui de decizie duce la creșterea complexității modelului, ceea ce poate duce la\n",
        " overfitting. Overfitting-ul apare atunci când modelul învață prea bine setul de date de antrenare și nu generalizează\n",
        " corect pe setul de date de test.\n"
      ]
    },
    {
      "cell_type": "code",
      "execution_count": 39,
      "metadata": {
        "colab": {
          "base_uri": "https://localhost:8080/",
          "height": 490
        },
        "id": "pza7PwgO9shN",
        "outputId": "e101734f-7005-4522-a404-f9ed9dd24d26"
      },
      "outputs": [
        {
          "name": "stderr",
          "output_type": "stream",
          "text": [
            " 40%|████      | 6/15 [00:18<00:27,  3.04s/it]\n"
          ]
        },
        {
          "ename": "KeyboardInterrupt",
          "evalue": "",
          "output_type": "error",
          "traceback": [
            "\u001b[0;31m---------------------------------------------------------------------------\u001b[0m",
            "\u001b[0;31mKeyboardInterrupt\u001b[0m                         Traceback (most recent call last)",
            "\u001b[0;32m/tmp/ipykernel_40710/4276968549.py\u001b[0m in \u001b[0;36m?\u001b[0;34m()\u001b[0m\n\u001b[1;32m      7\u001b[0m     random_forest = RandomForest(n_estimators=n_estimators,\n\u001b[1;32m      8\u001b[0m                                  \u001b[0mmax_depth\u001b[0m\u001b[0;34m=\u001b[0m\u001b[0;36m3\u001b[0m\u001b[0;34m,\u001b[0m\u001b[0;34m\u001b[0m\u001b[0;34m\u001b[0m\u001b[0m\n\u001b[1;32m      9\u001b[0m                                  \u001b[0mmin_samples_per_node\u001b[0m\u001b[0;34m=\u001b[0m\u001b[0;36m2\u001b[0m\u001b[0;34m,\u001b[0m\u001b[0;34m\u001b[0m\u001b[0;34m\u001b[0m\u001b[0m\n\u001b[1;32m     10\u001b[0m                                  \u001b[0msplit_strategy\u001b[0m\u001b[0;34m=\u001b[0m\u001b[0;34m'id3'\u001b[0m\u001b[0;34m)\u001b[0m\u001b[0;34m\u001b[0m\u001b[0;34m\u001b[0m\u001b[0m\n\u001b[0;32m---> 11\u001b[0;31m     \u001b[0mrandom_forest\u001b[0m\u001b[0;34m.\u001b[0m\u001b[0mfit\u001b[0m\u001b[0;34m(\u001b[0m\u001b[0mX_train\u001b[0m\u001b[0;34m,\u001b[0m \u001b[0my_train\u001b[0m\u001b[0;34m)\u001b[0m\u001b[0;34m\u001b[0m\u001b[0;34m\u001b[0m\u001b[0m\n\u001b[0m\u001b[1;32m     12\u001b[0m     \u001b[0maccuracies\u001b[0m \u001b[0;34m+=\u001b[0m \u001b[0;34m[\u001b[0m\u001b[0maccuracy\u001b[0m\u001b[0;34m(\u001b[0m\u001b[0mrandom_forest\u001b[0m\u001b[0;34m.\u001b[0m\u001b[0mpredict\u001b[0m\u001b[0;34m(\u001b[0m\u001b[0mX_test\u001b[0m\u001b[0;34m)\u001b[0m\u001b[0;34m,\u001b[0m \u001b[0my_test\u001b[0m\u001b[0;34m)\u001b[0m\u001b[0;34m]\u001b[0m\u001b[0;34m\u001b[0m\u001b[0;34m\u001b[0m\u001b[0m\n\u001b[1;32m     13\u001b[0m \u001b[0;34m\u001b[0m\u001b[0m\n\u001b[1;32m     14\u001b[0m \u001b[0mplt\u001b[0m\u001b[0;34m.\u001b[0m\u001b[0mplot\u001b[0m\u001b[0;34m(\u001b[0m\u001b[0mn_estimators_values\u001b[0m\u001b[0;34m,\u001b[0m \u001b[0maccuracies\u001b[0m\u001b[0;34m)\u001b[0m\u001b[0;34m\u001b[0m\u001b[0;34m\u001b[0m\u001b[0m\n",
            "\u001b[0;32m/tmp/ipykernel_40710/1385538336.py\u001b[0m in \u001b[0;36m?\u001b[0;34m(self, X, y)\u001b[0m\n\u001b[1;32m     92\u001b[0m                 \u001b[0msplit_strategy\u001b[0m\u001b[0;34m=\u001b[0m\u001b[0mself\u001b[0m\u001b[0;34m.\u001b[0m\u001b[0m_split_strategy\u001b[0m\u001b[0;34m,\u001b[0m\u001b[0;34m\u001b[0m\u001b[0;34m\u001b[0m\u001b[0m\n\u001b[1;32m     93\u001b[0m                 \u001b[0mmax_depth\u001b[0m\u001b[0;34m=\u001b[0m\u001b[0mself\u001b[0m\u001b[0;34m.\u001b[0m\u001b[0m_max_depth\u001b[0m\u001b[0;34m,\u001b[0m\u001b[0;34m\u001b[0m\u001b[0;34m\u001b[0m\u001b[0m\n\u001b[1;32m     94\u001b[0m                 \u001b[0mmin_samples_per_node\u001b[0m\u001b[0;34m=\u001b[0m\u001b[0mself\u001b[0m\u001b[0;34m.\u001b[0m\u001b[0m_min_samples_per_node\u001b[0m\u001b[0;34m\u001b[0m\u001b[0;34m\u001b[0m\u001b[0m\n\u001b[1;32m     95\u001b[0m             \u001b[0;34m)\u001b[0m\u001b[0;34m\u001b[0m\u001b[0;34m\u001b[0m\u001b[0m\n\u001b[0;32m---> 96\u001b[0;31m             \u001b[0mtree\u001b[0m\u001b[0;34m.\u001b[0m\u001b[0mfit\u001b[0m\u001b[0;34m(\u001b[0m\u001b[0mX_subset\u001b[0m\u001b[0;34m,\u001b[0m \u001b[0my_subset\u001b[0m\u001b[0;34m)\u001b[0m\u001b[0;34m\u001b[0m\u001b[0;34m\u001b[0m\u001b[0m\n\u001b[0m\u001b[1;32m     97\u001b[0m \u001b[0;34m\u001b[0m\u001b[0m\n\u001b[1;32m     98\u001b[0m             \u001b[0;31m# Add the tree to the forest\u001b[0m\u001b[0;34m\u001b[0m\u001b[0;34m\u001b[0m\u001b[0m\n\u001b[1;32m     99\u001b[0m             \u001b[0mself\u001b[0m\u001b[0;34m.\u001b[0m\u001b[0m_trees\u001b[0m\u001b[0;34m.\u001b[0m\u001b[0mappend\u001b[0m\u001b[0;34m(\u001b[0m\u001b[0mtree\u001b[0m\u001b[0;34m)\u001b[0m\u001b[0;34m\u001b[0m\u001b[0;34m\u001b[0m\u001b[0m\n",
            "\u001b[0;32m/tmp/ipykernel_40710/1004007014.py\u001b[0m in \u001b[0;36m?\u001b[0;34m(self, X, y)\u001b[0m\n\u001b[1;32m    312\u001b[0m             \u001b[0mselect_feature_func\u001b[0m \u001b[0;34m=\u001b[0m \u001b[0mself\u001b[0m\u001b[0;34m.\u001b[0m\u001b[0m_select_best_split_feature\u001b[0m\u001b[0;34m\u001b[0m\u001b[0;34m\u001b[0m\u001b[0m\n\u001b[1;32m    313\u001b[0m         \u001b[0;32melse\u001b[0m\u001b[0;34m:\u001b[0m\u001b[0;34m\u001b[0m\u001b[0;34m\u001b[0m\u001b[0m\n\u001b[1;32m    314\u001b[0m             \u001b[0;32mraise\u001b[0m \u001b[0mValueError\u001b[0m\u001b[0;34m(\u001b[0m\u001b[0;34mf\"\u001b[0m\u001b[0;34mUnknown split strategy \u001b[0m\u001b[0;34m{\u001b[0m\u001b[0mself\u001b[0m\u001b[0;34m.\u001b[0m\u001b[0m_split_strategy\u001b[0m\u001b[0;34m}\u001b[0m\u001b[0;34m\"\u001b[0m\u001b[0;34m)\u001b[0m\u001b[0;34m\u001b[0m\u001b[0;34m\u001b[0m\u001b[0m\n\u001b[1;32m    315\u001b[0m \u001b[0;34m\u001b[0m\u001b[0m\n\u001b[0;32m--> 316\u001b[0;31m         self._root = self._generate_tree(parent_node=None,\n\u001b[0m\u001b[1;32m    317\u001b[0m                                          \u001b[0mX\u001b[0m\u001b[0;34m=\u001b[0m\u001b[0mX\u001b[0m\u001b[0;34m,\u001b[0m\u001b[0;34m\u001b[0m\u001b[0;34m\u001b[0m\u001b[0m\n\u001b[1;32m    318\u001b[0m                                          \u001b[0my\u001b[0m\u001b[0;34m=\u001b[0m\u001b[0my\u001b[0m\u001b[0;34m,\u001b[0m\u001b[0;34m\u001b[0m\u001b[0;34m\u001b[0m\u001b[0m\n\u001b[1;32m    319\u001b[0m                                          \u001b[0mfeature_list\u001b[0m\u001b[0;34m=\u001b[0m\u001b[0mX\u001b[0m\u001b[0;34m.\u001b[0m\u001b[0mcolumns\u001b[0m\u001b[0;34m.\u001b[0m\u001b[0mtolist\u001b[0m\u001b[0;34m(\u001b[0m\u001b[0;34m)\u001b[0m\u001b[0;34m,\u001b[0m\u001b[0;34m\u001b[0m\u001b[0;34m\u001b[0m\u001b[0m\n",
            "\u001b[0;32m/tmp/ipykernel_40710/1004007014.py\u001b[0m in \u001b[0;36m?\u001b[0;34m(self, parent_node, X, y, feature_list, select_feature_func)\u001b[0m\n\u001b[1;32m    282\u001b[0m         \u001b[0;32mfor\u001b[0m \u001b[0mvalue\u001b[0m \u001b[0;32min\u001b[0m \u001b[0mX\u001b[0m\u001b[0;34m[\u001b[0m\u001b[0mattribute\u001b[0m\u001b[0;34m]\u001b[0m\u001b[0;34m.\u001b[0m\u001b[0munique\u001b[0m\u001b[0;34m(\u001b[0m\u001b[0;34m)\u001b[0m\u001b[0;34m:\u001b[0m\u001b[0;34m\u001b[0m\u001b[0;34m\u001b[0m\u001b[0m\n\u001b[1;32m    283\u001b[0m             \u001b[0msubset_attrs\u001b[0m \u001b[0;34m=\u001b[0m \u001b[0mX\u001b[0m\u001b[0;34m[\u001b[0m\u001b[0mX\u001b[0m\u001b[0;34m[\u001b[0m\u001b[0mattribute\u001b[0m\u001b[0;34m]\u001b[0m \u001b[0;34m==\u001b[0m \u001b[0mvalue\u001b[0m\u001b[0;34m]\u001b[0m\u001b[0;34m\u001b[0m\u001b[0;34m\u001b[0m\u001b[0m\n\u001b[1;32m    284\u001b[0m             \u001b[0msubset_classes\u001b[0m \u001b[0;34m=\u001b[0m \u001b[0my\u001b[0m\u001b[0;34m[\u001b[0m\u001b[0mX\u001b[0m\u001b[0;34m[\u001b[0m\u001b[0mattribute\u001b[0m\u001b[0;34m]\u001b[0m \u001b[0;34m==\u001b[0m \u001b[0mvalue\u001b[0m\u001b[0;34m]\u001b[0m\u001b[0;34m\u001b[0m\u001b[0;34m\u001b[0m\u001b[0m\n\u001b[1;32m    285\u001b[0m \u001b[0;34m\u001b[0m\u001b[0m\n\u001b[0;32m--> 286\u001b[0;31m             \u001b[0mnode\u001b[0m\u001b[0;34m.\u001b[0m\u001b[0mchildren\u001b[0m\u001b[0;34m[\u001b[0m\u001b[0mvalue\u001b[0m\u001b[0;34m]\u001b[0m \u001b[0;34m=\u001b[0m \u001b[0mself\u001b[0m\u001b[0;34m.\u001b[0m\u001b[0m_generate_tree\u001b[0m\u001b[0;34m(\u001b[0m\u001b[0mnode\u001b[0m\u001b[0;34m,\u001b[0m \u001b[0msubset_attrs\u001b[0m\u001b[0;34m,\u001b[0m \u001b[0msubset_classes\u001b[0m\u001b[0;34m,\u001b[0m \u001b[0mfeature_list\u001b[0m\u001b[0;34m,\u001b[0m \u001b[0mselect_feature_func\u001b[0m\u001b[0;34m)\u001b[0m\u001b[0;34m\u001b[0m\u001b[0;34m\u001b[0m\u001b[0m\n\u001b[0m\u001b[1;32m    287\u001b[0m \u001b[0;34m\u001b[0m\u001b[0m\n\u001b[1;32m    288\u001b[0m \u001b[0;34m\u001b[0m\u001b[0m\n\u001b[1;32m    289\u001b[0m         \u001b[0;31m# Pentru fiecare valoare `value` a atributului `split_feature`\u001b[0m\u001b[0;34m\u001b[0m\u001b[0;34m\u001b[0m\u001b[0m\n",
            "\u001b[0;32m/tmp/ipykernel_40710/1004007014.py\u001b[0m in \u001b[0;36m?\u001b[0;34m(self, parent_node, X, y, feature_list, select_feature_func)\u001b[0m\n\u001b[1;32m    260\u001b[0m             \u001b[0;32mreturn\u001b[0m \u001b[0mnode\u001b[0m\u001b[0;34m\u001b[0m\u001b[0;34m\u001b[0m\u001b[0m\n\u001b[1;32m    261\u001b[0m \u001b[0;34m\u001b[0m\u001b[0m\n\u001b[1;32m    262\u001b[0m         \u001b[0;31m# TODO 7. Construiți subarborele pentru nodul curent\u001b[0m\u001b[0;34m\u001b[0m\u001b[0;34m\u001b[0m\u001b[0m\n\u001b[1;32m    263\u001b[0m         \u001b[0;31m# 1. Se alege atributul după care se face împărțirea (se va folosi funcția `select_feature_func`)\u001b[0m\u001b[0;34m\u001b[0m\u001b[0;34m\u001b[0m\u001b[0m\n\u001b[0;32m--> 264\u001b[0;31m         \u001b[0mattribute\u001b[0m \u001b[0;34m=\u001b[0m \u001b[0mselect_feature_func\u001b[0m\u001b[0;34m(\u001b[0m\u001b[0mX\u001b[0m\u001b[0;34m,\u001b[0m \u001b[0my\u001b[0m\u001b[0;34m,\u001b[0m \u001b[0mfeature_list\u001b[0m\u001b[0;34m)\u001b[0m\u001b[0;34m\u001b[0m\u001b[0;34m\u001b[0m\u001b[0m\n\u001b[0m\u001b[1;32m    265\u001b[0m         \u001b[0;31m# 2. Se actualizează lista de atribute rămase pentru construcția subarborilor\u001b[0m\u001b[0;34m\u001b[0m\u001b[0;34m\u001b[0m\u001b[0m\n\u001b[1;32m    266\u001b[0m         \u001b[0mfeature_list\u001b[0m\u001b[0;34m.\u001b[0m\u001b[0mremove\u001b[0m\u001b[0;34m(\u001b[0m\u001b[0mattribute\u001b[0m\u001b[0;34m)\u001b[0m\u001b[0;34m\u001b[0m\u001b[0;34m\u001b[0m\u001b[0m\n\u001b[1;32m    267\u001b[0m         \u001b[0;31m# 3. Se actualizează nodul curent cu atributul de împărțire\u001b[0m\u001b[0;34m\u001b[0m\u001b[0;34m\u001b[0m\u001b[0m\n",
            "\u001b[0;32m/tmp/ipykernel_40710/1004007014.py\u001b[0m in \u001b[0;36m?\u001b[0;34m(self, X, y, attribute_list)\u001b[0m\n\u001b[1;32m    199\u001b[0m         \"\"\"\n\u001b[1;32m    200\u001b[0m         \u001b[0;31m# TODO 5. Returnați atributul care maximizează câștigul informațional\u001b[0m\u001b[0;34m\u001b[0m\u001b[0;34m\u001b[0m\u001b[0m\n\u001b[1;32m    201\u001b[0m         \u001b[0;31m#  - Se calculează câștigul informațional pentru fiecare atribut din lista `attribute_list`\u001b[0m\u001b[0;34m\u001b[0m\u001b[0;34m\u001b[0m\u001b[0m\n\u001b[1;32m    202\u001b[0m         \u001b[0;31m#  - Se returnează atributul care maximizează câștigul informațional\u001b[0m\u001b[0;34m\u001b[0m\u001b[0;34m\u001b[0m\u001b[0m\n\u001b[0;32m--> 203\u001b[0;31m         return max(map(lambda attribute: (attribute, DecisionTree.compute_information_gain(X, y, attribute)), attribute_list),\n\u001b[0m\u001b[1;32m    204\u001b[0m                   \u001b[0mkey\u001b[0m\u001b[0;34m=\u001b[0m\u001b[0;32mlambda\u001b[0m \u001b[0mattr_gain\u001b[0m\u001b[0;34m:\u001b[0m \u001b[0mattr_gain\u001b[0m\u001b[0;34m[\u001b[0m\u001b[0;36m1\u001b[0m\u001b[0;34m]\u001b[0m\u001b[0;34m)\u001b[0m\u001b[0;34m[\u001b[0m\u001b[0;36m0\u001b[0m\u001b[0;34m]\u001b[0m\u001b[0;34m\u001b[0m\u001b[0;34m\u001b[0m\u001b[0m\n",
            "\u001b[0;32m/tmp/ipykernel_40710/1004007014.py\u001b[0m in \u001b[0;36m?\u001b[0;34m(attribute)\u001b[0m\n\u001b[0;32m--> 203\u001b[0;31m         return max(map(lambda attribute: (attribute, DecisionTree.compute_information_gain(X, y, attribute)), attribute_list),\n\u001b[0m\u001b[1;32m    204\u001b[0m                   \u001b[0mkey\u001b[0m\u001b[0;34m=\u001b[0m\u001b[0;32mlambda\u001b[0m \u001b[0mattr_gain\u001b[0m\u001b[0;34m:\u001b[0m \u001b[0mattr_gain\u001b[0m\u001b[0;34m[\u001b[0m\u001b[0;36m1\u001b[0m\u001b[0;34m]\u001b[0m\u001b[0;34m)\u001b[0m\u001b[0;34m[\u001b[0m\u001b[0;36m0\u001b[0m\u001b[0;34m]\u001b[0m\u001b[0;34m\u001b[0m\u001b[0;34m\u001b[0m\u001b[0m\n",
            "\u001b[0;32m/tmp/ipykernel_40710/1004007014.py\u001b[0m in \u001b[0;36m?\u001b[0;34m(X, y, feature)\u001b[0m\n\u001b[1;32m    128\u001b[0m \u001b[0;34m\u001b[0m\u001b[0m\n\u001b[1;32m    129\u001b[0m         \u001b[0;32mfor\u001b[0m \u001b[0mvalue\u001b[0m \u001b[0;32min\u001b[0m \u001b[0mvalues\u001b[0m\u001b[0;34m:\u001b[0m\u001b[0;34m\u001b[0m\u001b[0;34m\u001b[0m\u001b[0m\n\u001b[1;32m    130\u001b[0m             \u001b[0;31m# Se selectează submulțimea de exemple care au valoarea `value` pentru atributul `feature`\u001b[0m\u001b[0;34m\u001b[0m\u001b[0;34m\u001b[0m\u001b[0m\n\u001b[1;32m    131\u001b[0m             \u001b[0msubset_attributes\u001b[0m \u001b[0;34m=\u001b[0m \u001b[0mX\u001b[0m\u001b[0;34m[\u001b[0m\u001b[0mX\u001b[0m\u001b[0;34m[\u001b[0m\u001b[0mfeature\u001b[0m\u001b[0;34m]\u001b[0m \u001b[0;34m==\u001b[0m \u001b[0mvalue\u001b[0m\u001b[0;34m]\u001b[0m\u001b[0;34m\u001b[0m\u001b[0;34m\u001b[0m\u001b[0m\n\u001b[0;32m--> 132\u001b[0;31m             \u001b[0msubset_classes\u001b[0m \u001b[0;34m=\u001b[0m \u001b[0my\u001b[0m\u001b[0;34m[\u001b[0m\u001b[0mX\u001b[0m\u001b[0;34m[\u001b[0m\u001b[0mfeature\u001b[0m\u001b[0;34m]\u001b[0m \u001b[0;34m==\u001b[0m \u001b[0mvalue\u001b[0m\u001b[0;34m]\u001b[0m\u001b[0;34m\u001b[0m\u001b[0;34m\u001b[0m\u001b[0m\n\u001b[0m\u001b[1;32m    133\u001b[0m             \u001b[0;31m# Se calculează entropia submulțimii\u001b[0m\u001b[0;34m\u001b[0m\u001b[0;34m\u001b[0m\u001b[0m\n\u001b[1;32m    134\u001b[0m             \u001b[0msubset_entropy\u001b[0m \u001b[0;34m=\u001b[0m \u001b[0mDecisionTree\u001b[0m\u001b[0;34m.\u001b[0m\u001b[0mcompute_entropy\u001b[0m\u001b[0;34m(\u001b[0m\u001b[0msubset_classes\u001b[0m\u001b[0;34m)\u001b[0m\u001b[0;34m\u001b[0m\u001b[0;34m\u001b[0m\u001b[0m\n\u001b[1;32m    135\u001b[0m             \u001b[0;31m# Se calculează ponderea submulțimii\u001b[0m\u001b[0;34m\u001b[0m\u001b[0;34m\u001b[0m\u001b[0m\n",
            "\u001b[0;32m~/Dropbox/uni/IA/labs/lab8/.venv/lib/python3.12/site-packages/pandas/core/ops/common.py\u001b[0m in \u001b[0;36m?\u001b[0;34m(self, other)\u001b[0m\n\u001b[1;32m     72\u001b[0m                     \u001b[0;32mreturn\u001b[0m \u001b[0mNotImplemented\u001b[0m\u001b[0;34m\u001b[0m\u001b[0;34m\u001b[0m\u001b[0m\n\u001b[1;32m     73\u001b[0m \u001b[0;34m\u001b[0m\u001b[0m\n\u001b[1;32m     74\u001b[0m         \u001b[0mother\u001b[0m \u001b[0;34m=\u001b[0m \u001b[0mitem_from_zerodim\u001b[0m\u001b[0;34m(\u001b[0m\u001b[0mother\u001b[0m\u001b[0;34m)\u001b[0m\u001b[0;34m\u001b[0m\u001b[0;34m\u001b[0m\u001b[0m\n\u001b[1;32m     75\u001b[0m \u001b[0;34m\u001b[0m\u001b[0m\n\u001b[0;32m---> 76\u001b[0;31m         \u001b[0;32mreturn\u001b[0m \u001b[0mmethod\u001b[0m\u001b[0;34m(\u001b[0m\u001b[0mself\u001b[0m\u001b[0;34m,\u001b[0m \u001b[0mother\u001b[0m\u001b[0;34m)\u001b[0m\u001b[0;34m\u001b[0m\u001b[0;34m\u001b[0m\u001b[0m\n\u001b[0m",
            "\u001b[0;32m~/Dropbox/uni/IA/labs/lab8/.venv/lib/python3.12/site-packages/pandas/core/arraylike.py\u001b[0m in \u001b[0;36m?\u001b[0;34m(self, other)\u001b[0m\n\u001b[1;32m     38\u001b[0m     \u001b[0;34m@\u001b[0m\u001b[0munpack_zerodim_and_defer\u001b[0m\u001b[0;34m(\u001b[0m\u001b[0;34m\"__eq__\"\u001b[0m\u001b[0;34m)\u001b[0m\u001b[0;34m\u001b[0m\u001b[0;34m\u001b[0m\u001b[0m\n\u001b[1;32m     39\u001b[0m     \u001b[0;32mdef\u001b[0m \u001b[0m__eq__\u001b[0m\u001b[0;34m(\u001b[0m\u001b[0mself\u001b[0m\u001b[0;34m,\u001b[0m \u001b[0mother\u001b[0m\u001b[0;34m)\u001b[0m\u001b[0;34m:\u001b[0m\u001b[0;34m\u001b[0m\u001b[0;34m\u001b[0m\u001b[0m\n\u001b[0;32m---> 40\u001b[0;31m         \u001b[0;32mreturn\u001b[0m \u001b[0mself\u001b[0m\u001b[0;34m.\u001b[0m\u001b[0m_cmp_method\u001b[0m\u001b[0;34m(\u001b[0m\u001b[0mother\u001b[0m\u001b[0;34m,\u001b[0m \u001b[0moperator\u001b[0m\u001b[0;34m.\u001b[0m\u001b[0meq\u001b[0m\u001b[0;34m)\u001b[0m\u001b[0;34m\u001b[0m\u001b[0;34m\u001b[0m\u001b[0m\n\u001b[0m",
            "\u001b[0;32m~/Dropbox/uni/IA/labs/lab8/.venv/lib/python3.12/site-packages/pandas/core/series.py\u001b[0m in \u001b[0;36m?\u001b[0;34m(self, other, op)\u001b[0m\n\u001b[1;32m   6117\u001b[0m         \u001b[0mrvalues\u001b[0m \u001b[0;34m=\u001b[0m \u001b[0mextract_array\u001b[0m\u001b[0;34m(\u001b[0m\u001b[0mother\u001b[0m\u001b[0;34m,\u001b[0m \u001b[0mextract_numpy\u001b[0m\u001b[0;34m=\u001b[0m\u001b[0;32mTrue\u001b[0m\u001b[0;34m,\u001b[0m \u001b[0mextract_range\u001b[0m\u001b[0;34m=\u001b[0m\u001b[0;32mTrue\u001b[0m\u001b[0;34m)\u001b[0m\u001b[0;34m\u001b[0m\u001b[0;34m\u001b[0m\u001b[0m\n\u001b[1;32m   6118\u001b[0m \u001b[0;34m\u001b[0m\u001b[0m\n\u001b[1;32m   6119\u001b[0m         \u001b[0mres_values\u001b[0m \u001b[0;34m=\u001b[0m \u001b[0mops\u001b[0m\u001b[0;34m.\u001b[0m\u001b[0mcomparison_op\u001b[0m\u001b[0;34m(\u001b[0m\u001b[0mlvalues\u001b[0m\u001b[0;34m,\u001b[0m \u001b[0mrvalues\u001b[0m\u001b[0;34m,\u001b[0m \u001b[0mop\u001b[0m\u001b[0;34m)\u001b[0m\u001b[0;34m\u001b[0m\u001b[0;34m\u001b[0m\u001b[0m\n\u001b[1;32m   6120\u001b[0m \u001b[0;34m\u001b[0m\u001b[0m\n\u001b[0;32m-> 6121\u001b[0;31m         \u001b[0;32mreturn\u001b[0m \u001b[0mself\u001b[0m\u001b[0;34m.\u001b[0m\u001b[0m_construct_result\u001b[0m\u001b[0;34m(\u001b[0m\u001b[0mres_values\u001b[0m\u001b[0;34m,\u001b[0m \u001b[0mname\u001b[0m\u001b[0;34m=\u001b[0m\u001b[0mres_name\u001b[0m\u001b[0;34m)\u001b[0m\u001b[0;34m\u001b[0m\u001b[0;34m\u001b[0m\u001b[0m\n\u001b[0m",
            "\u001b[0;32m~/Dropbox/uni/IA/labs/lab8/.venv/lib/python3.12/site-packages/pandas/core/series.py\u001b[0m in \u001b[0;36m?\u001b[0;34m(self, result, name)\u001b[0m\n\u001b[1;32m   6232\u001b[0m         \u001b[0mout\u001b[0m \u001b[0;34m=\u001b[0m \u001b[0mout\u001b[0m\u001b[0;34m.\u001b[0m\u001b[0m__finalize__\u001b[0m\u001b[0;34m(\u001b[0m\u001b[0mself\u001b[0m\u001b[0;34m)\u001b[0m\u001b[0;34m\u001b[0m\u001b[0;34m\u001b[0m\u001b[0m\n\u001b[1;32m   6233\u001b[0m \u001b[0;34m\u001b[0m\u001b[0m\n\u001b[1;32m   6234\u001b[0m         \u001b[0;31m# Set the result's name after __finalize__ is called because __finalize__\u001b[0m\u001b[0;34m\u001b[0m\u001b[0;34m\u001b[0m\u001b[0m\n\u001b[1;32m   6235\u001b[0m         \u001b[0;31m#  would set it back to self.name\u001b[0m\u001b[0;34m\u001b[0m\u001b[0;34m\u001b[0m\u001b[0m\n\u001b[0;32m-> 6236\u001b[0;31m         \u001b[0mout\u001b[0m\u001b[0;34m.\u001b[0m\u001b[0mname\u001b[0m \u001b[0;34m=\u001b[0m \u001b[0mname\u001b[0m\u001b[0;34m\u001b[0m\u001b[0;34m\u001b[0m\u001b[0m\n\u001b[0m\u001b[1;32m   6237\u001b[0m         \u001b[0;32mreturn\u001b[0m \u001b[0mout\u001b[0m\u001b[0;34m\u001b[0m\u001b[0;34m\u001b[0m\u001b[0m\n",
            "\u001b[0;32m~/Dropbox/uni/IA/labs/lab8/.venv/lib/python3.12/site-packages/pandas/core/generic.py\u001b[0m in \u001b[0;36m?\u001b[0;34m(self, name, value)\u001b[0m\n\u001b[0;32m-> 6301\u001b[0;31m     \u001b[0;34m@\u001b[0m\u001b[0mfinal\u001b[0m\u001b[0;34m\u001b[0m\u001b[0;34m\u001b[0m\u001b[0m\n\u001b[0m\u001b[1;32m   6302\u001b[0m     \u001b[0;32mdef\u001b[0m \u001b[0m__setattr__\u001b[0m\u001b[0;34m(\u001b[0m\u001b[0mself\u001b[0m\u001b[0;34m,\u001b[0m \u001b[0mname\u001b[0m\u001b[0;34m:\u001b[0m \u001b[0mstr\u001b[0m\u001b[0;34m,\u001b[0m \u001b[0mvalue\u001b[0m\u001b[0;34m)\u001b[0m \u001b[0;34m->\u001b[0m \u001b[0;32mNone\u001b[0m\u001b[0;34m:\u001b[0m\u001b[0;34m\u001b[0m\u001b[0;34m\u001b[0m\u001b[0m\n\u001b[1;32m   6303\u001b[0m         \"\"\"\n\u001b[1;32m   6304\u001b[0m         \u001b[0mAfter\u001b[0m \u001b[0mregular\u001b[0m \u001b[0mattribute\u001b[0m \u001b[0maccess\u001b[0m\u001b[0;34m,\u001b[0m \u001b[0;32mtry\u001b[0m \u001b[0msetting\u001b[0m \u001b[0mthe\u001b[0m \u001b[0mname\u001b[0m\u001b[0;34m\u001b[0m\u001b[0;34m\u001b[0m\u001b[0m\n",
            "\u001b[0;31mKeyboardInterrupt\u001b[0m: "
          ]
        }
      ],
      "source": [
        "# Analizăm influența parametrului `n_estimators` asupra performanței clasificatorului Random Forest\n",
        "n_estimators_values = list(range(1, 31, 2))\n",
        "\n",
        "accuracies = []\n",
        "\n",
        "for n_estimators in tqdm(n_estimators_values):\n",
        "    random_forest = RandomForest(n_estimators=n_estimators,\n",
        "                                 max_depth=3,\n",
        "                                 min_samples_per_node=2,\n",
        "                                 split_strategy='id3')\n",
        "    random_forest.fit(X_train, y_train)\n",
        "    accuracies += [accuracy(random_forest.predict(X_test), y_test)]\n",
        "\n",
        "plt.plot(n_estimators_values, accuracies)\n",
        "plt.xlabel('Number of estimators')\n",
        "plt.ylabel('Accuracy')\n",
        "plt.title('Random Forest Accuracy')\n",
        "plt.show()"
      ]
    },
    {
      "cell_type": "markdown",
      "metadata": {
        "id": "bFGYpycm9shO"
      },
      "source": [
        "După cum se poate observa, creșterea numărului de estimatori din pădurea de arbori aleatori duce la creșterea\n",
        "acurateței clasificatorului până la un anumit punct, după care acuratețea se stabilizează, iar creșterea numărului de\n",
        " estimatori nu mai aduce beneficii semnificative. Din acest motiv, este important să alegem un număr optim de\n",
        " estimatori pentru a obține un echilibru între performanță și timp de antrenare.\n"
      ]
    },
    {
      "cell_type": "code",
      "execution_count": 40,
      "metadata": {
        "colab": {
          "base_uri": "https://localhost:8080/"
        },
        "id": "bf0T1prZ9shO",
        "outputId": "383e6cfd-add0-465e-fe0e-c67b57c40c31"
      },
      "outputs": [
        {
          "name": "stdout",
          "output_type": "stream",
          "text": [
            "ID3 Decision Tree:\n",
            "              precision    recall  f1-score   support\n",
            "\n",
            "       nowin       0.98      0.99      0.99       298\n",
            "         won       0.99      0.99      0.99       342\n",
            "\n",
            "    accuracy                           0.99       640\n",
            "   macro avg       0.99      0.99      0.99       640\n",
            "weighted avg       0.99      0.99      0.99       640\n",
            "\n",
            "\n",
            "Random Forest:\n",
            "              precision    recall  f1-score   support\n",
            "\n",
            "       nowin       0.95      0.83      0.88       298\n",
            "         won       0.86      0.96      0.91       342\n",
            "\n",
            "    accuracy                           0.90       640\n",
            "   macro avg       0.91      0.89      0.90       640\n",
            "weighted avg       0.90      0.90      0.90       640\n",
            "\n"
          ]
        }
      ],
      "source": [
        "# Comparăm rezultatele obținute folosind un singur arbore construit cu ID3 și o pădure de arbori aleatori\n",
        "id3_decision_tree = DecisionTree(split_strategy='id3',\n",
        "                                 max_depth=100,\n",
        "                                 min_samples_per_node=2)\n",
        "random_forest = RandomForest(n_estimators=50,\n",
        "                             max_depth=3,\n",
        "                             min_samples_per_node=2,\n",
        "                             split_strategy='id3')\n",
        "\n",
        "id3_decision_tree.fit(X_train, y_train)\n",
        "random_forest.fit(X_train, y_train)\n",
        "\n",
        "print(\"ID3 Decision Tree:\")\n",
        "evaluate(id3_decision_tree, X_test, y_test)\n",
        "\n",
        "print(\"\\nRandom Forest:\")\n",
        "evaluate(random_forest, X_test, y_test)"
      ]
    },
    {
      "cell_type": "code",
      "execution_count": 41,
      "metadata": {
        "colab": {
          "base_uri": "https://localhost:8080/",
          "height": 690
        },
        "id": "0SOPewJM9shO",
        "outputId": "c034ff48-8c5a-437e-f4c2-0b12389358b5"
      },
      "outputs": [
        {
          "name": "stdout",
          "output_type": "stream",
          "text": [
            "Predicted  nowin  won\n",
            "Actual               \n",
            "nowin        296    2\n",
            "won            5  337\n"
          ]
        },
        {
          "data": {
            "image/png": "[encoded data removed]",
            "text/plain": [
              "<Figure size 1000x700 with 2 Axes>"
            ]
          },
          "metadata": {},
          "output_type": "display_data"
        }
      ],
      "source": [
        "plot_confusion_matrix(id3_decision_tree.predict(X_test), y_test)"
      ]
    },
    {
      "cell_type": "code",
      "execution_count": null,
      "metadata": {
        "colab": {
          "base_uri": "https://localhost:8080/",
          "height": 690
        },
        "id": "liFMTOWa9shP",
        "outputId": "b494cf5a-8661-4500-ae15-11f356a1011e"
      },
      "outputs": [
        {
          "name": "stdout",
          "output_type": "stream",
          "text": [
            "Predicted  nowin  won\n",
            "Actual               \n",
            "nowin        253   50\n",
            "won           12  325\n"
          ]
        },
        {
          "data": {
            "image/png": "[encoded data removed]",
            "text/plain": [
              "<Figure size 1000x700 with 2 Axes>"
            ]
          },
          "metadata": {},
          "output_type": "display_data"
        }
      ],
      "source": [
        "plot_confusion_matrix(random_forest.predict(X_test), y_test)"
      ]
    },
    {
      "cell_type": "markdown",
      "metadata": {
        "id": "la2xx_0B9shP"
      },
      "source": [
        "### Comparare cu implementarea din biblioteca `sklearn`\n",
        "\n",
        "`sklearn` oferă o implementări pentru arborele de decizie și pădurea de arbori aleatori. În această secțiune vom compara rezultatele obținute folosind implementările noastre cu cele din bibliotecă.\n",
        "\n",
        "Spre deosebire de implementarea noastră, arborii din `sklearn` nu suportă variabile categorice. Din acest motiv, vom converti variabilele categorice în variabile numerice, folosind funcția `pd.get_dummies()` care realizează codificarea one-hot (*one-hot encoding*).\n",
        "\n",
        "#### One-Hot Encoding\n",
        "\n",
        "One-Hot Encoding este o tehnică de preprocesare a datelor care transformă variabilele categorice în variabile numerice. Această tehnică constă în crearea unui nou atribut pentru fiecare valoare a variabilei categorice, atribut care va avea valoarea 1 dacă exemplul aparține acelei categorii și 0 în caz contrar.\n",
        "\n",
        "**Exemplu:**\n",
        "\n",
        "Avem atributul categoric `Color` cu valorile `Red`, `Green`, `Blue`. După aplicarea One-Hot Encoding, atributul `Color` va fi înlocuit de 3 atribute: `Color_Red`, `Color_Green`, `Color_Blue`.\n",
        "\n",
        "&nbsp;\n",
        "\n",
        "<center>\n",
        "\n",
        "<table>\n",
        "\n",
        "<tr>\n",
        "    <td> Setul de date inițial </td>\n",
        "    <td> Setul de date Once-Hot Encoded </td>\n",
        "</tr>\n",
        "\n",
        "<tr> <td>\n",
        "\n",
        "| Color |\n",
        "|-------|\n",
        "| Red   |\n",
        "| Green |\n",
        "| Blue  |\n",
        "| Red   |\n",
        "\n",
        "</td> <td>\n",
        "\n",
        "| Color_Red | Color_Green | Color_Blue |\n",
        "|-----------|-------------|------------|\n",
        "| 1         | 0           | 0          |\n",
        "| 0         | 1           | 0          |\n",
        "| 0         | 0           | 1          |\n",
        "| 1         | 0           | 0          |\n",
        "\n",
        "</td></tr> </table>\n",
        "\n",
        "</center>"
      ]
    },
    {
      "cell_type": "code",
      "execution_count": null,
      "metadata": {
        "colab": {
          "base_uri": "https://localhost:8080/"
        },
        "id": "wI4pL43z9shP",
        "outputId": "62d7d91a-2ec7-4e8b-b290-0c292cebc333"
      },
      "outputs": [
        {
          "name": "stdout",
          "output_type": "stream",
          "text": [
            "Number of features in train set after encoding:  72\n",
            "Number of features in test set after encoding:  72\n"
          ]
        }
      ],
      "source": [
        "# Convertim variabilele categorice în variabile numerice folosind One-Hot Encoding\n",
        "X_train_encoded = pd.get_dummies(X_train)\n",
        "X_test_encoded = pd.get_dummies(X_test)\n",
        "\n",
        "# Setul de antrenare poate conține alte valori ale atributelor față de setul\n",
        "# de date de test, ceea ce poate duce la un număr diferit de atribute\n",
        "# în cele două seturi după aplicarea One-Hot Encoding.\n",
        "# Vom completa seturile de date cu coloane lipsă\n",
        "X_train_encoded = X_train_encoded.reindex(columns=X_test_encoded.columns, fill_value=0)\n",
        "X_test_encoded = X_test_encoded.reindex(columns=X_train_encoded.columns, fill_value=0)\n",
        "\n",
        "print(\"Number of features in train set after encoding: \", len(X_train_encoded.columns))\n",
        "print(\"Number of features in test set after encoding: \", len(X_test_encoded.columns))"
      ]
    },
    {
      "cell_type": "code",
      "execution_count": null,
      "metadata": {
        "colab": {
          "base_uri": "https://localhost:8080/",
          "height": 867
        },
        "id": "RejJ4o4j9shQ",
        "outputId": "b15f06ec-f57f-4cac-9a41-6a6795da8b7d"
      },
      "outputs": [
        {
          "name": "stdout",
          "output_type": "stream",
          "text": [
            "Decision Tree (sklearn):\n",
            "              precision    recall  f1-score   support\n",
            "\n",
            "       nowin       1.00      1.00      1.00       303\n",
            "         won       1.00      1.00      1.00       337\n",
            "\n",
            "    accuracy                           1.00       640\n",
            "   macro avg       1.00      1.00      1.00       640\n",
            "weighted avg       1.00      1.00      1.00       640\n",
            "\n",
            "Predicted  nowin  won\n",
            "Actual               \n",
            "nowin        302    1\n",
            "won            0  337\n"
          ]
        },
        {
          "data": {
            "image/png": "[encoded data removed]",
            "text/plain": [
              "<Figure size 1000x700 with 2 Axes>"
            ]
          },
          "metadata": {},
          "output_type": "display_data"
        }
      ],
      "source": [
        "from sklearn.tree import DecisionTreeClassifier\n",
        "\n",
        "# Antrenăm un arbore de decizie folosind implementarea din `sklearn`\n",
        "sklearn_decision_tree = DecisionTreeClassifier(criterion='entropy', max_depth=100)\n",
        "sklearn_decision_tree.fit(X_train_encoded, y_train)\n",
        "\n",
        "# Evaluăm arborele de decizie\n",
        "print(\"Decision Tree (sklearn):\")\n",
        "evaluate(sklearn_decision_tree, X_test_encoded, y_test)\n",
        "\n",
        "# Afișăm matricea de confuzie\n",
        "plot_confusion_matrix(sklearn_decision_tree.predict(X_test_encoded), y_test)"
      ]
    },
    {
      "cell_type": "code",
      "execution_count": null,
      "metadata": {
        "colab": {
          "base_uri": "https://localhost:8080/",
          "height": 867
        },
        "id": "dV9brRKI9shQ",
        "outputId": "200f5c71-403c-4953-c2c9-35f67cef2d52"
      },
      "outputs": [
        {
          "name": "stdout",
          "output_type": "stream",
          "text": [
            "Random Forest (sklearn):\n",
            "              precision    recall  f1-score   support\n",
            "\n",
            "       nowin       0.97      0.92      0.94       303\n",
            "         won       0.93      0.97      0.95       337\n",
            "\n",
            "    accuracy                           0.95       640\n",
            "   macro avg       0.95      0.95      0.95       640\n",
            "weighted avg       0.95      0.95      0.95       640\n",
            "\n",
            "Predicted  nowin  won\n",
            "Actual               \n",
            "nowin        279   24\n",
            "won            9  328\n"
          ]
        },
        {
          "data": {
            "image/png": "[encoded data removed]",
            "text/plain": [
              "<Figure size 1000x700 with 2 Axes>"
            ]
          },
          "metadata": {},
          "output_type": "display_data"
        }
      ],
      "source": [
        "from sklearn.ensemble import RandomForestClassifier\n",
        "\n",
        "# Antrenăm o pădure de arbori aleatori folosind implementarea din `sklearn`\n",
        "sklearn_random_forest = RandomForestClassifier(n_estimators=50, max_depth=3)\n",
        "sklearn_random_forest.fit(X_train_encoded, y_train)\n",
        "\n",
        "# Evaluăm pădurea de arbori aleatori\n",
        "print(\"Random Forest (sklearn):\")\n",
        "evaluate(sklearn_random_forest, X_test_encoded, y_test)\n",
        "\n",
        "# Afișăm matricea de confuzie\n",
        "plot_confusion_matrix(sklearn_random_forest.predict(X_test_encoded), y_test)"
      ]
    },
    {
      "cell_type": "markdown",
      "metadata": {
        "id": "EnH2b3D0kXTd"
      },
      "source": [
        "## Extra informații"
      ]
    },
    {
      "cell_type": "markdown",
      "metadata": {
        "id": "A5JsikeLkZJc"
      },
      "source": [
        "### ID3 exemplu\n",
        "Un exemplu mai detaliat pentru construcția arborelui de decizie ID3 se poate găsi [aici](https://github.com/cs-pub-ro/ML/blob/master/lab/lab2/id3_example.pdf).\n",
        "\n",
        "### CART\n",
        "Un alt algoritm utilizat poartă denumirea de CART (eng. Classification and Regression Tree). Dacă **ID3** utilizeaza **câștigul informațional (eng. information gain)**, **CART** utilizeaza o altă metrică numită **index-ul Gini (eng. Gini index sau Gini impurity)**.\n",
        "\n",
        "Pentru implementare, se urmăresc exact aceeași [pași ca la ID3](#scrollTo=rjYqUPSbe1gG), singura diferentă fiind modul în care se calculează atributul utilizat într-un *nod intermediar*.\n",
        "$$\n",
        "Gini(X, a) = 1 - \\sum_{c \\in C}{p(c | attr(X) = a) ^2}\n",
        "\\\\\n",
        "a^* = \\underset{a \\in A}{\\operatorname{arg min}}\\ Gini(X, a)\n",
        "$$"
      ]
    }
  ],
  "metadata": {
    "colab": {
      "collapsed_sections": [
        "EnH2b3D0kXTd"
      ],
      "provenance": []
    },
    "kernelspec": {
      "display_name": "Python 3 (ipykernel)",
      "language": "python",
      "name": "python3"
    },
    "language_info": {
      "codemirror_mode": {
        "name": "ipython",
        "version": 3
      },
      "file_extension": ".py",
      "mimetype": "text/x-python",
      "name": "python",
      "nbconvert_exporter": "python",
      "pygments_lexer": "ipython3",
      "version": "3.12.0"
    }
  },
  "nbformat": 4,
  "nbformat_minor": 0
}
