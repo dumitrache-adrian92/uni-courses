{
 "cells": [
  {
   "cell_type": "markdown",
   "metadata": {},
   "source": [
    "# Prelucrarea Limbajului Natural: Analiza Sentimentelor\n",
    " - Tudor Berariu\n",
    " - Andrei Olaru\n",
    "\n",
    "Scopul acestui laborator îl reprezintă rezolvarea unei probleme ce implică analiza unor documente în limbaj natural și învățarea unui algoritm simplu de clasificare: **Naive Bayes**.\n",
    "\n",
    "## Analiza Sentimentelor\n",
    "\n",
    "O serie de probleme de inteligență artificială presupun asocierea unei clase unui document în limbaj natural. Exemple de astfel de probleme sunt: **clasificarea** email-urilor în *spam* sau *ham* sau a recenziilor unor filme în *pozitive* sau *negative*. În laboratorul de astăzi vom aborda problema din urmă.\n",
    "\n",
    "Folosind setul de date de aici: http://www.cs.cornell.edu/people/pabo/movie-review-data/ (2000 de recenzii de film), vom construi un model care să discrimineze între recenziile pozitive și recenziile negative."
   ]
  },
  {
   "cell_type": "markdown",
   "metadata": {},
   "source": [
    "## Algoritmul Naive Bayes\n",
    "\n",
    "### Clasificare\n",
    "\n",
    "Având un set de date $\\langle \\mathbf{X}, \\mathbf{T} \\rangle$ compus din $N$ exemple $\\mathbf{x}^{(i)}$, $1 \\le i \\le N$, descrise prin $k$ atribute $(x^{(i)}_1, x^{(i)}_2, \\ldots, x^{(i)}_k)$ și etichetate cu o clasă $t^{(i)} \\in \\mathcal{C}$, se cere construirea unui clasificator care să eticheteze exemple noi.\n",
    "\n",
    "### Naive Bayes\n",
    "\n",
    "**Naive Bayes** reprezintă o *metodă statistică inductivă* de clasificare, bazată pe Teorema lui Bayes pentru exprimarea relației dintre probabilitatea *a priori* și probabilitatea *posterioară* ale unei ipoteze.\n",
    "\n",
    "$$P(c \\vert \\mathbf{x}) = \\frac{P(\\mathbf{x} \\vert c) \\cdot P(c)}{P(\\mathbf{x})}$$\n",
    "\n",
    " - $P(c)$ reprezintă probabilitatea *a priori* a clasei $c$\n",
    " - $P(c \\vert \\mathbf{x})$ reprezintă probabilitatea *a posteriori* (după observarea lui $\\mathbf{x}$)\n",
    " - $P(\\mathbf{x} \\vert c)$ reprezitnă probabilitatea ca $\\mathbf{x}$ să aparțină clasei $c$ (*verosimilitatea*)\n",
    " \n",
    "Un clasificator **Naive Bayes** funcționează pe principiul verosimilității maxime (eng. *maximum likelihood*), deci alege clasa $c$ pentru care probabilitatea $P(c \\vert x)$ este maximă:\n",
    "\n",
    "$$c_{MAP} = \\underset{c \\in \\mathcal{C}}{\\arg\\max} P(c \\vert \\mathbf{x}) = \\underset{c \\in \\mathcal{C}}{\\arg\\max} \\frac{P(\\mathbf{x} \\vert c) \\cdot P(c)}{P(x)} = \\underset{c \\in \\mathcal{C}}{\\arg\\max} P(\\mathbf{x} \\vert c) \\cdot P(c)$$\n",
    "\n",
    "Cum fiecare exemplu $\\mathbf{x}$ este descris prin $K$ atribute:\n",
    "\n",
    "$$c_{MAP} = \\underset{c \\in \\mathcal{C}}{\\arg\\max} P(x_1, x_2, \\ldots x_K \\vert c) \\cdot P(c)$$\n",
    "\n",
    "Algoritmul **Naive Bayes** face o presupunere simplificatoare, și anume, că atributele unui exemplu sunt *condițional independente* odată ce clasa este cunoscută:\n",
    "\n",
    "$$P(\\mathbf{x} \\vert c) = \\displaystyle\\prod_i P(x_i \\vert c)$$\n",
    "\n",
    "Astfel clasa pe care o prezice un clasificator **Naive Bayes** este:\n",
    "\n",
    "$$c_{NB} = \\underset{c \\in \\mathcal{C}}{\\arg\\max} P(c) \\cdot \\displaystyle \\prod_{i}^{K} P(x_i \\vert c)$$\n",
    "\n"
   ]
  },
  {
   "cell_type": "markdown",
   "metadata": {},
   "source": [
    "## Clasificarea documentelor\n",
    "\n",
    "Pentru clasificare documentele vor fi reprezentate prin vectori binari de lungimea vocabularului (eng. *bag of words*). Practic fiecare document va avea 1 pe pozițiile corspunzătoare cuvintelor pe care le conține și 0 pe toate celelalte poziții. Dimensiunea unui exemplu $\\mathbf{x}$ este, deci, numărul de cuvinte diferite din setul de date.\n",
    "\n",
    "### Estimarea parametrilor modelului Naive Bayes\n",
    "\n",
    "Probabilitatea _a priori_ pentru o clasă $c \\in \\mathcal{C}$:\n",
    "\n",
    "$$P(c) = \\frac{\\#\\text{ docs in class }c}{\\#\\text{ total docs}}$$\n",
    "\n",
    "$P(x_i \\vert c)$ va reprezenta probabilitatea de a apărea cuvântul $x_i$ într-un document din clasa $c$ și o vom estima cu raportul dintre numărul de apariții ale cuvântului $x_i$ în documentele din clasa $c$ și numărul total de cuvinte ale acelor documente:\n",
    "\n",
    "$$P(x_i \\vert c) = \\frac{\\#\\text{ aparitii ale lui } x_i \\text{ in documente din clasa } c}{\\#\\text{ numar total de cuvinte in documentele din clasa } c}$$\n",
    "\n",
    "Deoarece este posibil ca un cuvant _rar_ ce apare într-un exemplu de test să nu se găsească deloc într-una din clase, se poate întâmpla ca un astfel de _accident_ să anuleze complet o probabilitate. Dacă un singur factor al unui produs este zero, atunci produsul devine zero. De aceea vom folosi netezire Laplace (eng. _Laplace smoothing_):\n",
    "\n",
    "$$P(x_i \\vert c) = \\frac{\\#\\text{ aparitii ale lui } x_i \\text{ in documente din clasa } c + \\alpha}{\\#\\text{ numar total de cuvinte in documentele din clasa } c + \\vert \\mathit{Voc} \\vert \\cdot \\alpha}$$\n",
    "\n",
    "unde $\\mathit{Voc}$ este dimensiunea vocabularului."
   ]
  },
  {
   "cell_type": "markdown",
   "metadata": {},
   "source": [
    "## Setul de date\n",
    "\n",
    " 1. Descărcați setul de date **polarity dataset v2.0** de aici http://www.cs.cornell.edu/people/pabo/movie-review-data/\n",
    " 2. Dezarhivați fișierul **review_polarity.tar.gz** și rearhivați directorul review_polarity ca zip.\n",
    " 3. Plasați / încărcați **review_polarity.zip** în directorul de lucru."
   ]
  },
  {
   "cell_type": "code",
   "execution_count": 119,
   "metadata": {},
   "outputs": [
    {
     "name": "stdout",
     "output_type": "stream",
     "text": [
      "Recenzii pozitive: 1000; Recenzii negative: 1000\n"
     ]
    }
   ],
   "source": [
    "import zipfile\n",
    "\n",
    "zipFile = zipfile.ZipFile(\"review_polarity.zip\")\n",
    "\n",
    "pos_files = [f for f in zipFile.namelist() if '/pos/cv' in f]\n",
    "neg_files = [f for f in zipFile.namelist() if '/neg/cv' in f]\n",
    "\n",
    "pos_files.sort()\n",
    "neg_files.sort()\n",
    "\n",
    "print(\"Recenzii pozitive: \" + str(len(pos_files)) + \"; Recenzii negative: \" + str(len(neg_files)))\n",
    "\n",
    "# Raspunsul asteptat: \"Recenzii pozitive: 1000; Recenzii negative: 1000\"\n",
    "assert(len(pos_files) == 1000 and len(neg_files) == 1000)"
   ]
  },
  {
   "cell_type": "markdown",
   "metadata": {},
   "source": [
    "### Setul de antrenare și setul de testare\n",
    "\n",
    "Vom folosi 80% din datele din fiecare clasă pentru antrenare și 20% pentru testare."
   ]
  },
  {
   "cell_type": "code",
   "execution_count": 120,
   "metadata": {
    "collapsed": true
   },
   "outputs": [],
   "source": [
    "tr_pos_no = int(.8 * len(pos_files))\n",
    "tr_neg_no = int(.8 * len(neg_files))\n",
    "\n",
    "from random import shuffle\n",
    "shuffle(pos_files)\n",
    "shuffle(neg_files)\n",
    "\n",
    "pos_train = pos_files[:tr_pos_no] # Recenzii pozitive pentru antrenare\n",
    "pos_test  = pos_files[tr_pos_no:] # Recenzii pozitive pentru testare\n",
    "neg_train = neg_files[:tr_neg_no] # Recenzii negative pentru antrenare\n",
    "neg_test  = neg_files[tr_neg_no:] # Recenzii negative pentru testare"
   ]
  },
  {
   "cell_type": "markdown",
   "metadata": {},
   "source": [
    "## Construirea vocabularului și calculul parametrilor\n",
    "\n",
    "Funcția `parse_document` primește calea către unul dinte fișierele aflate în arhivă și întoarce cuvintele din acest fișier (exceptând cuvintele cu o singură literă și pe cele din lista `STOP_WORDS`. Implementați funcția `count_words` astfel încât să întoarcă un dicționar cu o intrare pentru fiecare cuvânt care să conțină un tuplu cu două valori: numărul de apariții ale acelui cuvânt în rencezii pozitive și numărul de apariții în recenzii negative. În afara acelui dicționar se vor întoarce și numărul total de cuvinte din recenziile pozitive și numărul total de cuvinte din recenziile negative."
   ]
  },
  {
   "cell_type": "code",
   "execution_count": 121,
   "metadata": {},
   "outputs": [
    {
     "name": "stdout",
     "output_type": "stream",
     "text": [
      "Vocabularul are  44963  cuvinte.\n",
      "294878  cuvinte in recenziile pozitive si  266052  cuvinte in recenziile negative\n",
      "Cuvantul 'beautiful' are  (165, 78)  aparitii.\n",
      "Cuvantul 'awful' are  (19, 91)  aparitii.\n"
     ]
    }
   ],
   "source": [
    "# STOP_WORDS = []\n",
    "STOP_WORDS = [line.strip() for line in open(\"Lab12-stop_words.txt\")]\n",
    "\n",
    "import re\n",
    "\n",
    "def parse_document(path):\n",
    "    for word in re.findall(r\"[-\\w']+\", zipFile.read(path).decode(\"utf-8\")):\n",
    "        if len(word) > 1 and word not in STOP_WORDS:\n",
    "            yield word\n",
    "\n",
    "def count_words():\n",
    "    vocabulary = {}\n",
    "    pos_words_no = 0\n",
    "    neg_words_no = 0\n",
    "\n",
    "    # ------------------------------------------------------\n",
    "    # <TODO 1> numrati aparitiile in documente pozitive si\n",
    "    # in documente negative ale fiecarui cuvant, precum si numarul total\n",
    "    # de cuvinte din fiecare tip de recenzie\n",
    "\n",
    "    # ------------------------------------------------------\n",
    "\n",
    "    for path in pos_train:\n",
    "        for word in parse_document(path):\n",
    "            pos_words_no += 1\n",
    "            if word in vocabulary:\n",
    "                (p, n) = vocabulary[word]\n",
    "                vocabulary[word] = (p + 1, n)\n",
    "            else:\n",
    "                vocabulary[word] = (1, 0)\n",
    "\n",
    "    for path in neg_train:\n",
    "        for word in parse_document(path):\n",
    "            neg_words_no += 1\n",
    "            if word in vocabulary:\n",
    "                (p, n) = vocabulary[word]\n",
    "                vocabulary[word] = (p, n + 1)\n",
    "            else:\n",
    "                vocabulary[word] = (0, 1)\n",
    "\n",
    "    return (vocabulary, pos_words_no, neg_words_no)\n",
    "\n",
    "# -- VERIFICARE --\n",
    "training_result_words = count_words()\n",
    "\n",
    "(voc, p_no, n_no) = training_result_words\n",
    "print(\"Vocabularul are \", len(voc), \" cuvinte.\")\n",
    "print(p_no, \" cuvinte in recenziile pozitive si \", n_no, \" cuvinte in recenziile negative\")\n",
    "print(\"Cuvantul 'beautiful' are \", voc.get(\"beautiful\", (0, 0)), \" aparitii.\")\n",
    "print(\"Cuvantul 'awful' are \", voc.get(\"awful\", (0, 0)), \" aparitii.\")\n",
    "\n",
    "# Daca se comentează liniile care reordonează aleator listele cu exemplele pozitive și negative,\n",
    "# rezultatul așteptat este:\n",
    "#\n",
    "# Vocabularul are  44895  cuvinte.\n",
    "# 526267  cuvinte in recenziile pozitive si  469812  cuvinte in recenziile negative\n",
    "# Cuvantul 'beautiful' are  (165, 75)  aparitii.\n",
    "# Cuvantul 'awful' are  (16, 89)  aparitii."
   ]
  },
  {
   "cell_type": "markdown",
   "metadata": {},
   "source": [
    "### Predicția sentimentului unei recenzii noi\n",
    "\n",
    "Implementați funcția `predict` care primește parametrii `params` (vocabularul, numărul total de cuvinte din recenziile pozitive și numărul total de cuvinte din recenziile negative) și `path` (calea către o recenzie din cadrul arhivei) și întoarce clasa mai probabilă și logaritmul acelei probabilități. Al treilea argument (opțional) al funcției `predict` este coeficientul pentru netezire Laplace.\n",
    "\n",
    "Așa cum a fost explicat anterior, clasa pe care o prezice un clasificator **Naive Bayes** este dată de următoarea expresie:\n",
    "\n",
    "$$c_{NB} = \\underset{c \\in \\mathcal{C}}{\\arg\\max} P(c) \\cdot \\displaystyle \\prod_{i}^{K} P(x_i \\vert c)$$\n",
    "\n",
    "Pentru a evita lucrul cu numere foarte mici ce pot rezulta din produsul multor valori subunitare, vom logaritma expresiile date:\n",
    "\n",
    "$$c_{NB} = \\underset{c \\in \\mathcal{C}}{\\arg\\max} \\log(P(c)) + \\displaystyle\\sum_{i}^{K} \\log(P(x_i \\vert c))$$\n",
    "\n",
    "Pentru calculul probabilitatilor, vedeti sectiunea \"Estimarea parametrilor modelului Naive Bayes\", mai sus. În cod, `log_pos` și `log_neg` trebuie însumate cu logaritmul pentru fiecare exemplu -- $ \\log(P(c)) $ este deja adunat.\n"
   ]
  },
  {
   "cell_type": "code",
   "execution_count": 122,
   "metadata": {},
   "outputs": [
    {
     "name": "stdout",
     "output_type": "stream",
     "text": [
      "martin scorsese's triumphant adaptation of edith wharton's the age of innocence is a stunning film for the quintessential new york filmmaker , the man who brought the streets of taxi driver and mean streets to life . \n",
      "it seems like an odd choice for scorsese to do a period piece in the early 1900's , but the fact that he pulls it off so brilliantly is a wonder , and a testament to the greatness of scorsese as a filmmaker . \n",
      "this is a gorgeous visual experience that it surely one of scorsese's finest . \n",
      "newland archer ( day-lewis ) is a prestigious lawyer who is engaged to may welland ( ryder ) , a somewhat empty and shallow new yorker , who belongs to a prestigious family and is quite beautiful . \n",
      "the marriage is one which will unite two very prestigious families , in a society where nothing is more important than the opinions of others . \n",
      "on the day that archer is to announce his engagement to may , countess ellen olenska ( pfeiffer ) , cousin of may , walks into archer's life . \n",
      "archer is immediately captivated , and finds himself in love with ellen . \n",
      "archer is also bound by the limits of new york society , which is an intrusive as any other in the world . \n",
      "archer finds himself having a secret love affair in his mind with countess olenska , attempting to keep her in his mind while trying not to lose his social status . \n",
      "the film's subject matter may seem alien to scorsese , but the theme is definitely not . \n",
      "it is a theme of forbidden romance , guilty pleasures , and the consequences causes because of those actions . \n",
      "there is a painstakingly flawed hero , and his choice between the life he wants , and the life he is destined for . \n",
      "in truth , it is a film about a society the audience doesn't know about , but wants to find out more , much like the society of goodfellas or even kundun . \n",
      "the performances are absolutely breathtaking . \n",
      "day-lewis portrays more mental anguish in his face than one man should be forced to take . \n",
      "pfeiffer is marvelous as countess olenska , a mix of passion and beauty that the audience would die for as well . \n",
      "ryder is probably the gem of the group , for it is her quiet presence that overwhelms the plot , and slowly pushes day-lewis closer and closer to his eventual ending . \n",
      "the supporting cast is also wonderful , with several characters so singular that they are indelible in one's memory . \n",
      "scorsese definitely has a passion for filmmaking . \n",
      "his lavish and sumptuous set design and marvelous recreation of new york is a wondrous sight . \n",
      "he literally transports the viewer to another world with incredible imagery . \n",
      "his script is also excellent , slow in buildup , with a rapid conclusion and a fantastic ending that has to be seen to be believed . \n",
      "it is difficult to make a period piece gripping : scorsese , however , does it beautifully . \n",
      "the famous cameras of the legendary director are also everywhere . \n",
      "he is patient , but he films everything and anything remotely important . \n",
      "the cameras sweep , pan , track , and do more than they've ever done , but they are so subtle , one doesn't realize he's watching all the scorsese hallmarks until a 2nd viewing . \n",
      "the central tracking shot is probably longer and more complex than the famous goodfellas shot , but the viewer doesn't notice it , because we want to see more of this gorgeous world . \n",
      "there are a few deft touches of filmmaking that are simply outstanding , and joanne woodward' narration is exquisite . \n",
      "not a fast film like goodfellas , this shares more in common with kundun than anything else . \n",
      "and like kundun , this is a slow-starting film that truly shines , when given the chance to fully breathe and bloom in the end . \n",
      "a beautiful film by a director continuing to challenge himself year after year . \n",
      "\n"
     ]
    },
    {
     "data": {
      "text/plain": [
       "('pos', -2838.9694013014087)"
      ]
     },
     "execution_count": 122,
     "metadata": {},
     "output_type": "execute_result"
    }
   ],
   "source": [
    "from math import log\n",
    "\n",
    "def predict(params, path, alpha = 1):\n",
    "    (vocabulary, pos_words_no, neg_words_no) = params\n",
    "    log_pos = log(0.5)\n",
    "    log_neg = log(0.5)\n",
    "\n",
    "    # ----------------------------------------------------------------------\n",
    "    # <TODO 2> Calculul logaritmilor probabilităților\n",
    "\n",
    "    # ----------------------------------------------------------------------\n",
    "    for word in parse_document(path):\n",
    "        pos_word_no, neg_word_no = vocabulary[word] if word in vocabulary else (0, 0)\n",
    "        log_pos += log((pos_word_no + alpha) / (pos_words_no + alpha * len(vocabulary)))\n",
    "        log_neg += log((neg_word_no + alpha) / (neg_words_no + alpha * len(vocabulary)))\n",
    "\n",
    "    if log_pos > log_neg:\n",
    "        return \"pos\", log_pos\n",
    "    else:\n",
    "        return \"neg\", log_neg\n",
    "\n",
    "# -- VERIFICARE --\n",
    "print(zipFile.read(pos_test[14]).decode(\"utf-8\"))\n",
    "predict(training_result_words, pos_test[14])\n",
    "\n",
    "# Daca se comentează liniile care reordonează aleator listele cu exemplele pozitive și negative,\n",
    "# rezultatul așteptat este:\n",
    "#\n",
    "# ('pos', -1790.27088356391) pentru un film cu Hugh Grant și Julia Roberts (o mizerie siropoasă)\n",
    "#\n",
    "# Recenzia este clasificată corect ca fiind pozitivă."
   ]
  },
  {
   "cell_type": "markdown",
   "metadata": {},
   "source": [
    "## 3. Evaluarea modelului\n",
    "\n",
    "Pentru a evalua modelul vom calcula acuratețea acestuia și matricea de confuzie, folosind datele de test (`pos_test` și `neg_test`).\n",
    "\n",
    "[Vedeți aici despre matricea de confuzie](https://en.wikipedia.org/wiki/Confusion_matrix)"
   ]
  },
  {
   "cell_type": "code",
   "execution_count": 123,
   "metadata": {},
   "outputs": [
    {
     "name": "stdout",
     "output_type": "stream",
     "text": [
      "Acuratetea pe setul de date de test:  81.0 %. Matricea de confuzie:\n",
      "    |     pos      |     neg    \n",
      "--- + ------------ + ------------\n",
      "pos |     159      |      41    \n",
      "neg |      35      |     165    \n"
     ]
    }
   ],
   "source": [
    "def evaluate(params, prediction_func):\n",
    "    conf_matrix = {}\n",
    "    conf_matrix[\"pos\"] = {\"pos\": 0, \"neg\": 0}\n",
    "    conf_matrix[\"neg\"] = {\"pos\": 0, \"neg\": 0}\n",
    "    accuracy = 0\n",
    "\n",
    "    # ----------------------------------------------------------------------\n",
    "    # <TODO 3> : Calcularea acurateței și a matricei de confuzie\n",
    "\n",
    "    #------------------------------------------------------------\n",
    "    for path in pos_test:\n",
    "        (label, _) = prediction_func(params, path)\n",
    "        conf_matrix[\"pos\"][label] += 1\n",
    "\n",
    "    for path in neg_test:\n",
    "        (label, _) = prediction_func(params, path)\n",
    "        conf_matrix[\"neg\"][label] += 1\n",
    "\n",
    "    accuracy = (conf_matrix[\"pos\"][\"pos\"] + conf_matrix[\"neg\"][\"neg\"]) / (len(pos_test) + len(neg_test))\n",
    "\n",
    "    return accuracy, conf_matrix\n",
    "# -----------------------------------------------------------\n",
    "\n",
    "def print_confusion_matrix(cm):\n",
    "    print(\"    | \", \"{0:^10}\".format(\"pos\"), \" | \", \"{0:^10}\".format(\"neg\"))\n",
    "    print(\"{0:-^3}\".format(\"\"), \"+\", \"{0:-^12}\".format(\"\"), \"+\", \"{0:-^12}\".format(\"-\", fill=\"-\"))\n",
    "    print(\"pos | \", \"{0:^10}\".format(cm[\"pos\"][\"pos\"]), \" | \", \"{0:^10}\".format(cm[\"pos\"][\"neg\"]))\n",
    "    print(\"neg | \", \"{0:^10}\".format(cm[\"neg\"][\"pos\"]), \" | \", \"{0:^10}\".format(cm[\"neg\"][\"neg\"]))\n",
    "\n",
    "\n",
    "# -- VERIFICARE --\n",
    "(acc_words, cm_words) = evaluate(training_result_words, predict)\n",
    "print(\"Acuratetea pe setul de date de test: \", acc_words * 100, \"%. Matricea de confuzie:\")\n",
    "print_confusion_matrix(cm_words)\n",
    "\n",
    "# Daca se comentează liniile care reordonează aleator listele cu exemplele pozitive și negative,\n",
    "# rezultatul așteptat este:\n",
    "#\n",
    "# Acuratetea pe setul de date de test:  80.5 %. Matricea de confuzie:\n",
    "#     |     pos      |     neg\n",
    "# --- + ------------ + ------------\n",
    "# pos |     155      |      45\n",
    "# neg |      33      |     167"
   ]
  },
  {
   "cell_type": "markdown",
   "metadata": {},
   "source": [
    "## 4. Un model mai bun? Să folosim bigrame? Da!\n",
    "\n",
    "Implementați funcția `count_bigrams`, similară cu `count_words`, doar că de data aceasta dicționarul va conține bigramele din text. Funcția va întoarce tot trei elemente: dicționarul cu aparițiile în recenzii pozitive și în recenzii negative ale bigramelor, numărul total de bigrame din recenziile pozitive și numărul total de bigrame din recenziile negative.\n",
    "\n",
    "Salvați o bigramă prin concatenarea primului cuvânt, semnului \":\" și a celui de-al doilea cuvânt. De exemplu: `\"texas:ranger\"`."
   ]
  },
  {
   "cell_type": "code",
   "execution_count": 124,
   "metadata": {},
   "outputs": [
    {
     "name": "stdout",
     "output_type": "stream",
     "text": [
      "Tabelul are  438109  bigrame.\n",
      "294078  bigrame in recenziile pozitive si  265252  bigrame in recenziile negative\n",
      "Bigrama 'beautiful actress' are  (2, 0)  aparitii.\n",
      "Bigrama 'awful movie' are  (1, 4)  aparitii.\n"
     ]
    }
   ],
   "source": [
    "def count_bigrams():\n",
    "    bigrams = {}\n",
    "    pos_bigrams_no = 0\n",
    "    neg_bigrams_no = 0\n",
    "\n",
    "    # ----------------------------------------------------------------------\n",
    "    # <TODO 4>: Numarati bigramele\n",
    "\n",
    "    #-----------------------------------------------\n",
    "\n",
    "    for doc in pos_train:\n",
    "        words = list(parse_document(doc))\n",
    "        for w1, w2 in zip(words, words[1:]):\n",
    "            bigram = w1 + \":\" + w2\n",
    "            pos_bigrams_no += 1\n",
    "            if bigram in bigrams:\n",
    "                (p, n) = bigrams[bigram]\n",
    "                bigrams[bigram] = (p + 1, n)\n",
    "            else:\n",
    "                bigrams[bigram] = (1, 0)\n",
    "\n",
    "    for doc in neg_train:\n",
    "        words = list(parse_document(doc))\n",
    "        for w1, w2 in zip(words, words[1:]):\n",
    "            bigram = w1 + \":\" + w2\n",
    "            neg_bigrams_no += 1\n",
    "            if bigram in bigrams:\n",
    "                (p, n) = bigrams[bigram]\n",
    "                bigrams[bigram] = (p, n + 1)\n",
    "            else:\n",
    "                bigrams[bigram] = (0, 1)\n",
    "\n",
    "    return bigrams, pos_bigrams_no, neg_bigrams_no\n",
    "\n",
    "# -- VERIFICARE --\n",
    "training_result_bigrams = count_bigrams()\n",
    "\n",
    "(big, pos_b, neg_b) = training_result_bigrams\n",
    "print(\"Tabelul are \", len(big), \" bigrame.\")\n",
    "print(pos_b, \" bigrame in recenziile pozitive si \", neg_b, \" bigrame in recenziile negative\")\n",
    "print(\"Bigrama 'beautiful actress' are \", big.get(\"beautiful:actress\", (0, 0)), \" aparitii.\")\n",
    "print(\"Bigrama 'awful movie' are \", big.get(\"awful:movie\", (0, 0)), \" aparitii.\")\n",
    "\n",
    "# Daca se comentează liniile care reordonează aleator listele cu exemplele pozitive și negative,\n",
    "# rezultatul așteptat este:\n",
    "#\n",
    "# Tabelul are  428997  bigrame.\n",
    "# 525467  bigrame in recenziile pozitive si  469012  bigrame in recenziile negative\n",
    "# Bigrama 'beautiful actress' are  (2, 0)  aparitii.\n",
    "# Bigrama 'awful movie' are  (1, 4)  aparitii."
   ]
  },
  {
   "cell_type": "markdown",
   "metadata": {},
   "source": [
    "### Funcția de predicție folosind bigrame\n",
    "\n",
    "Implementați funcția `predict2` care să calculeze logaritmul probabilității fiecărei clase pe baza bigramelor din text. Trebuie să calculați `log_pos` și `log_neg`."
   ]
  },
  {
   "cell_type": "code",
   "execution_count": 125,
   "metadata": {},
   "outputs": [
    {
     "name": "stdout",
     "output_type": "stream",
     "text": [
      "martin scorsese's triumphant adaptation of edith wharton's the age of innocence is a stunning film for the quintessential new york filmmaker , the man who brought the streets of taxi driver and mean streets to life . \n",
      "it seems like an odd choice for scorsese to do a period piece in the early 1900's , but the fact that he pulls it off so brilliantly is a wonder , and a testament to the greatness of scorsese as a filmmaker . \n",
      "this is a gorgeous visual experience that it surely one of scorsese's finest . \n",
      "newland archer ( day-lewis ) is a prestigious lawyer who is engaged to may welland ( ryder ) , a somewhat empty and shallow new yorker , who belongs to a prestigious family and is quite beautiful . \n",
      "the marriage is one which will unite two very prestigious families , in a society where nothing is more important than the opinions of others . \n",
      "on the day that archer is to announce his engagement to may , countess ellen olenska ( pfeiffer ) , cousin of may , walks into archer's life . \n",
      "archer is immediately captivated , and finds himself in love with ellen . \n",
      "archer is also bound by the limits of new york society , which is an intrusive as any other in the world . \n",
      "archer finds himself having a secret love affair in his mind with countess olenska , attempting to keep her in his mind while trying not to lose his social status . \n",
      "the film's subject matter may seem alien to scorsese , but the theme is definitely not . \n",
      "it is a theme of forbidden romance , guilty pleasures , and the consequences causes because of those actions . \n",
      "there is a painstakingly flawed hero , and his choice between the life he wants , and the life he is destined for . \n",
      "in truth , it is a film about a society the audience doesn't know about , but wants to find out more , much like the society of goodfellas or even kundun . \n",
      "the performances are absolutely breathtaking . \n",
      "day-lewis portrays more mental anguish in his face than one man should be forced to take . \n",
      "pfeiffer is marvelous as countess olenska , a mix of passion and beauty that the audience would die for as well . \n",
      "ryder is probably the gem of the group , for it is her quiet presence that overwhelms the plot , and slowly pushes day-lewis closer and closer to his eventual ending . \n",
      "the supporting cast is also wonderful , with several characters so singular that they are indelible in one's memory . \n",
      "scorsese definitely has a passion for filmmaking . \n",
      "his lavish and sumptuous set design and marvelous recreation of new york is a wondrous sight . \n",
      "he literally transports the viewer to another world with incredible imagery . \n",
      "his script is also excellent , slow in buildup , with a rapid conclusion and a fantastic ending that has to be seen to be believed . \n",
      "it is difficult to make a period piece gripping : scorsese , however , does it beautifully . \n",
      "the famous cameras of the legendary director are also everywhere . \n",
      "he is patient , but he films everything and anything remotely important . \n",
      "the cameras sweep , pan , track , and do more than they've ever done , but they are so subtle , one doesn't realize he's watching all the scorsese hallmarks until a 2nd viewing . \n",
      "the central tracking shot is probably longer and more complex than the famous goodfellas shot , but the viewer doesn't notice it , because we want to see more of this gorgeous world . \n",
      "there are a few deft touches of filmmaking that are simply outstanding , and joanne woodward' narration is exquisite . \n",
      "not a fast film like goodfellas , this shares more in common with kundun than anything else . \n",
      "and like kundun , this is a slow-starting film that truly shines , when given the chance to fully breathe and bloom in the end . \n",
      "a beautiful film by a director continuing to challenge himself year after year . \n",
      "\n"
     ]
    },
    {
     "data": {
      "text/plain": [
       "('pos', -4245.766782220005)"
      ]
     },
     "execution_count": 125,
     "metadata": {},
     "output_type": "execute_result"
    }
   ],
   "source": [
    "def predict2(params, path, alpha = 1):\n",
    "    (bigrams, pos_bigrams_no, neg_bigrams_no) = params\n",
    "    log_pos = log(0.5)\n",
    "    log_neg = log(0.5)\n",
    "\n",
    "    # ----------------------------------------------------------------------\n",
    "    # <TODO 5> Calculul logaritmilor probabilităților folosind bigramele\n",
    "\n",
    "    # ----------------------------------------------------------------------\n",
    "\n",
    "    doc = list(parse_document(path))\n",
    "    for word in zip(doc, doc[1:]):\n",
    "        bigram = word[0] + \":\" + word[1]\n",
    "        pos_bigram_no, neg_bigram_no = bigrams[bigram] if bigram in bigrams else (0, 0)\n",
    "        log_pos += log((pos_bigram_no + alpha) / (pos_bigrams_no + alpha * len(bigrams)))\n",
    "        log_neg += log((neg_bigram_no + alpha) / (neg_bigrams_no + alpha * len(bigrams)))\n",
    "\n",
    "    if log_pos > log_neg:\n",
    "        return \"pos\", log_pos\n",
    "    else:\n",
    "        return \"neg\", log_neg\n",
    "\n",
    "# -- VERIFICARE --\n",
    "print(zipFile.read(pos_test[14]).decode(\"utf-8\"))\n",
    "predict2(training_result_bigrams, pos_test[14])\n",
    "\n",
    "# Daca se comentează liniile care reordonează aleator listele cu exemplele pozitive și negative,\n",
    "# rezultatul așteptat este:\n",
    "#\n",
    "# ('pos', -3034.428732037113) pentru același film cu Hugh Grant"
   ]
  },
  {
   "cell_type": "code",
   "execution_count": 126,
   "metadata": {},
   "outputs": [
    {
     "name": "stdout",
     "output_type": "stream",
     "text": [
      "Acuratetea pe setul de date de test, cu bigrame:  75.25 %. Matricea de confuzie:\n",
      "    |     pos      |     neg    \n",
      "--- + ------------ + ------------\n",
      "pos |     116      |      84    \n",
      "neg |      15      |     185    \n"
     ]
    }
   ],
   "source": [
    "# -- VERIFICARE --\n",
    "(acc_bigrams, cm_bigrams) = evaluate(training_result_bigrams, predict2)\n",
    "print(\"Acuratetea pe setul de date de test, cu bigrame: \", acc_bigrams * 100, \"%. Matricea de confuzie:\")\n",
    "print_confusion_matrix(cm_bigrams)\n",
    "\n",
    "# Daca se comentează liniile care reordonează aleator listele cu exemplele pozitive și negative,\n",
    "# rezultatul așteptat este:\n",
    "#\n",
    "# Acuratetea pe setul de date de test:  84.5 %. Matricea de confuzie:\n",
    "#     |     pos      |     neg\n",
    "# --- + ------------ + ------------\n",
    "# pos |     161      |      39\n",
    "# neg |      23      |     177"
   ]
  },
  {
   "cell_type": "markdown",
   "metadata": {},
   "source": [
    "## La final...\n",
    "\n",
    " 1. Decomentați liniile care reordonează aleator listele cu exemplele pozitive și cele negative (secțiunea \"Setul de antrenare și setul de testare\"). Rulați de mai multe ori. Este întotdeauna mai bun modelul cu bigrame? Acuratețea variază mult de la o rulare la alta?\n",
    " 2. Încercați să eliminați cuvintele de legătură (linia cu `STOP_WORDS`, din secțiunea \"Construirea vocabularului...\"). Ce impact are asupra performanței celor două modele?"
   ]
  },
  {
   "cell_type": "code",
   "execution_count": 127,
   "metadata": {},
   "outputs": [
    {
     "name": "stdout",
     "output_type": "stream",
     "text": [
      "Acuratetea pe setul de date de test, cu cuvinte simple:  81.0 %. Matricea de confuzie:\n",
      "    |     pos      |     neg    \n",
      "--- + ------------ + ------------\n",
      "pos |     159      |      41    \n",
      "neg |      35      |     165    \n",
      "\n",
      "\n",
      "Acuratetea pe setul de date de test, cu bigrame:  75.25 %. Matricea de confuzie:\n",
      "    |     pos      |     neg    \n",
      "--- + ------------ + ------------\n",
      "pos |     116      |      84    \n",
      "neg |      15      |     185    \n"
     ]
    }
   ],
   "source": [
    "print(\"Acuratetea pe setul de date de test, cu cuvinte simple: \", acc_words * 100, \"%. Matricea de confuzie:\")\n",
    "print_confusion_matrix(cm_words)\n",
    "\n",
    "print(\"\\n\\nAcuratetea pe setul de date de test, cu bigrame: \", acc_bigrams * 100, \"%. Matricea de confuzie:\")\n",
    "print_confusion_matrix(cm_bigrams)\n"
   ]
  },
  {
   "cell_type": "code",
   "execution_count": null,
   "metadata": {
    "collapsed": true
   },
   "outputs": [],
   "source": []
  }
 ],
 "metadata": {
  "kernelspec": {
   "display_name": "Python 3",
   "language": "python",
   "name": "python3"
  },
  "language_info": {
   "codemirror_mode": {
    "name": "ipython",
    "version": 3
   },
   "file_extension": ".py",
   "mimetype": "text/x-python",
   "name": "python",
   "nbconvert_exporter": "python",
   "pygments_lexer": "ipython3",
   "version": "3.12.0"
  }
 },
 "nbformat": 4,
 "nbformat_minor": 1
}
