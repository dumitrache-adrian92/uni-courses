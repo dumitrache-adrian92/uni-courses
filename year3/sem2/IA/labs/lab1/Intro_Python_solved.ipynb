{
  "cells": [
    {
      "cell_type": "markdown",
      "metadata": {
        "id": "pAbOYrCmn1IX"
      },
      "source": [
        "## Inteligență Artificială  Laboratorul 1 : Introducere în Python\n",
        "\n",
        "\n",
        "- Cătălin Chiru: <cata.chiru99@gmail.com>\n",
        "- Mihai Nan: <mihai.nan@upb.ro>\n"
      ]
    },
    {
      "cell_type": "markdown",
      "metadata": {
        "id": "jAFHhLGun1IZ"
      },
      "source": [
        "Conținuturi:\n",
        "* liste\n",
        "* dicționare\n",
        "* numpy\n",
        "* funcții\n",
        "* tupluri"
      ]
    },
    {
      "cell_type": "markdown",
      "metadata": {
        "id": "VjqZpL1TDGsy"
      },
      "source": [
        "# <u> Tutorial [20p] </u>"
      ]
    },
    {
      "cell_type": "markdown",
      "metadata": {
        "id": "qLESCIYvn1IZ"
      },
      "source": [
        "# <u> Importuri </u>"
      ]
    },
    {
      "cell_type": "markdown",
      "metadata": {
        "id": "16PgA8l1n1Ia"
      },
      "source": [
        "Importurile sunt descarcate utilizand pip, un sistem de management al pachetelor pentru Python."
      ]
    },
    {
      "cell_type": "markdown",
      "metadata": {
        "id": "YqlBxP1on1Ia"
      },
      "source": [
        "---\n",
        "**Observație**:\n",
        "\n",
        "Nu este necesar sa rulati instalarea importurilor la fiecare rulare a notebook-ului. Ele sunt deja instalate in mediu.\n",
        "\n",
        "De aceea, acestea sunt adesea pozitionate la inceputul notebook-ului.\n",
        "\n",
        "___\n"
      ]
    },
    {
      "cell_type": "code",
      "execution_count": 2,
      "metadata": {
        "colab": {
          "base_uri": "https://localhost:8080/"
        },
        "id": "BC__6ENkn1Ib",
        "outputId": "fcffbf50-74dd-47d7-9f58-c0c30d0c9021"
      },
      "outputs": [
        {
          "output_type": "stream",
          "name": "stdout",
          "text": [
            "Collecting functools\n",
            "  Downloading functools-0.5.tar.gz (4.9 kB)\n",
            "  Preparing metadata (setup.py) ... \u001b[?25l\u001b[?25hdone\n",
            "Building wheels for collected packages: functools\n",
            "  \u001b[1;31merror\u001b[0m: \u001b[1msubprocess-exited-with-error\u001b[0m\n",
            "  \n",
            "  \u001b[31m×\u001b[0m \u001b[32mpython setup.py bdist_wheel\u001b[0m did not run successfully.\n",
            "  \u001b[31m│\u001b[0m exit code: \u001b[1;36m1\u001b[0m\n",
            "  \u001b[31m╰─>\u001b[0m See above for output.\n",
            "  \n",
            "  \u001b[1;35mnote\u001b[0m: This error originates from a subprocess, and is likely not a problem with pip.\n",
            "  Building wheel for functools (setup.py) ... \u001b[?25lerror\n",
            "\u001b[31m  ERROR: Failed building wheel for functools\u001b[0m\u001b[31m\n",
            "\u001b[0m\u001b[?25h  Running setup.py clean for functools\n",
            "Failed to build functools\n",
            "\u001b[31mERROR: Could not build wheels for functools, which is required to install pyproject.toml-based projects\u001b[0m\u001b[31m\n",
            "\u001b[0m\u001b[31mERROR: Could not find a version that satisfies the requirement pickle (from versions: none)\u001b[0m\u001b[31m\n",
            "\u001b[0m\u001b[31mERROR: No matching distribution found for pickle\u001b[0m\u001b[31m\n",
            "\u001b[0mRequirement already satisfied: numpy in /usr/local/lib/python3.10/dist-packages (1.25.2)\n",
            "Requirement already satisfied: unidecode in /usr/local/lib/python3.10/dist-packages (1.3.8)\n",
            "Requirement already satisfied: pandas in /usr/local/lib/python3.10/dist-packages (1.5.3)\n",
            "Requirement already satisfied: python-dateutil>=2.8.1 in /usr/local/lib/python3.10/dist-packages (from pandas) (2.8.2)\n",
            "Requirement already satisfied: pytz>=2020.1 in /usr/local/lib/python3.10/dist-packages (from pandas) (2023.4)\n",
            "Requirement already satisfied: numpy>=1.21.0 in /usr/local/lib/python3.10/dist-packages (from pandas) (1.25.2)\n",
            "Requirement already satisfied: six>=1.5 in /usr/local/lib/python3.10/dist-packages (from python-dateutil>=2.8.1->pandas) (1.16.0)\n",
            "\u001b[31mERROR: Could not find a version that satisfies the requirement copy (from versions: none)\u001b[0m\u001b[31m\n",
            "\u001b[0m\u001b[31mERROR: No matching distribution found for copy\u001b[0m\u001b[31m\n",
            "\u001b[0m"
          ]
        }
      ],
      "source": [
        "!pip install functools\n",
        "!pip install pickle\n",
        "!pip install numpy #numpy==1.16.1 (Anumite pachete au nevoie de compatibilitatea versiunilor,\n",
        "                   #               în comentarii am specificat modul prin care putem forța instalarea unei versiuni specifice)\n",
        "\n",
        "!pip install unidecode\n",
        "!pip install pandas\n",
        "!pip install copy"
      ]
    },
    {
      "cell_type": "markdown",
      "metadata": {
        "id": "m4OvonMpn1Ib"
      },
      "source": [
        "Putem sa importam fie un intreg modul, fie doar functiile sau clasele din acel modul pe care dorim sa le folosim (Opțiune aleasă din considerente de memorie și lizibilitate a codului).  \n"
      ]
    },
    {
      "cell_type": "code",
      "execution_count": 4,
      "metadata": {
        "id": "2lpmsPOHn1Ib"
      },
      "outputs": [],
      "source": [
        "from functools import reduce\n",
        "import re\n",
        "from unidecode import unidecode\n",
        "import pickle as pkl # Putem folosi aliasuri pentru a scurta numele unor module utilizate\n",
        "import numpy as np\n",
        "import pandas as pd\n",
        "from copy import deepcopy"
      ]
    },
    {
      "cell_type": "markdown",
      "metadata": {
        "id": "2ST1ePm_P5W3"
      },
      "source": [
        "# <u> Variabile </u>"
      ]
    },
    {
      "cell_type": "code",
      "execution_count": 5,
      "metadata": {
        "id": "VTQ-xN2RTcVm"
      },
      "outputs": [],
      "source": [
        "var = 5"
      ]
    },
    {
      "cell_type": "markdown",
      "metadata": {
        "id": "tWf6MsD_XPT7"
      },
      "source": [
        "În cadrul modulelor de deep learning, o prima etapă a debuggingului în cazul erorilor din timpul rulării programului (`Runtime Errors`) o reprezintă printarea tipurilor de date curente și așteptate."
      ]
    },
    {
      "cell_type": "code",
      "execution_count": 6,
      "metadata": {
        "colab": {
          "base_uri": "https://localhost:8080/"
        },
        "id": "cyQNGZyETnqA",
        "outputId": "0013be77-07f8-4951-abfa-20794038c1a7"
      },
      "outputs": [
        {
          "output_type": "execute_result",
          "data": {
            "text/plain": [
              "int"
            ]
          },
          "metadata": {},
          "execution_count": 6
        }
      ],
      "source": [
        "type(var) # Intoarce tipul cel mai general care poate fi inferat din variabila"
      ]
    },
    {
      "cell_type": "markdown",
      "metadata": {
        "id": "wcQ-jE-rn1Id"
      },
      "source": [
        "Pentru o mai buna vizibilitate, putem tipa variabilele:"
      ]
    },
    {
      "cell_type": "code",
      "execution_count": 7,
      "metadata": {
        "colab": {
          "base_uri": "https://localhost:8080/"
        },
        "id": "roG9KJv4TvzY",
        "outputId": "3cb3db5f-8b1b-413f-be7f-b7cba6f8d3db"
      },
      "outputs": [
        {
          "output_type": "execute_result",
          "data": {
            "text/plain": [
              "int"
            ]
          },
          "metadata": {},
          "execution_count": 7
        }
      ],
      "source": [
        "var : int = 5\n",
        "\n",
        "type(var)"
      ]
    },
    {
      "cell_type": "markdown",
      "metadata": {
        "id": "BgknsM-Rn1Ie"
      },
      "source": [
        "Însă, python este suficient de permisiv și nu va produce erori dacă tipul variabilei nu concordă, căutând să convertească tipul variabilei la cel mai general tip care face matching cu toate elementele listei:"
      ]
    },
    {
      "cell_type": "code",
      "execution_count": 8,
      "metadata": {
        "colab": {
          "base_uri": "https://localhost:8080/"
        },
        "id": "W0u6e6JuT5wd",
        "outputId": "6a7303f7-d066-4d28-b742-8c421727cea9"
      },
      "outputs": [
        {
          "output_type": "execute_result",
          "data": {
            "text/plain": [
              "str"
            ]
          },
          "metadata": {},
          "execution_count": 8
        }
      ],
      "source": [
        "var2 : int = \"abc\"\n",
        "\n",
        "type(var2)"
      ]
    },
    {
      "cell_type": "markdown",
      "metadata": {
        "id": "NdX-i1hFrqxw"
      },
      "source": [
        "___\n",
        "**Observație:** Celulele unui Jupyter Notebook sunt executate de obicei într-o maniera top-down, iar datele calculate sau variabilele definite într-o celulă sunt păstrate local, în memoria notebook-ului și sunt disponibile în celulele ulterioare din cadrul aceluiași document.\n",
        "\n",
        "Acest comportament permite utilizatorilor să acceseze și să reutilizeze rezultatele sau variabilele definite anterior.\n",
        "\n",
        "Aveți mare grijă în momentul în care faceți debugging în celule inferioare celulei unde vă efectuați workflow-ul curent la efectele laterale pe care le produceți asupra variabilelor de interes.\n",
        "\n",
        "---"
      ]
    },
    {
      "cell_type": "code",
      "execution_count": 9,
      "metadata": {
        "colab": {
          "base_uri": "https://localhost:8080/"
        },
        "id": "C2PNT_88V9kN",
        "outputId": "0cf6bf68-ce2c-4c14-d28a-c631c09db006"
      },
      "outputs": [
        {
          "output_type": "execute_result",
          "data": {
            "text/plain": [
              "7"
            ]
          },
          "metadata": {},
          "execution_count": 9
        }
      ],
      "source": [
        "# Putem accesa variabila \"var\", care a fost definita mai sus\n",
        "var + 2"
      ]
    },
    {
      "cell_type": "markdown",
      "metadata": {
        "id": "x3-EVVBCYObL"
      },
      "source": [
        "# <u> Printare </u>"
      ]
    },
    {
      "cell_type": "markdown",
      "metadata": {
        "id": "4eeTeK1dYReA"
      },
      "source": [
        "După cum ați putut observa, în cadrul celulelor de Jupyter Notebook există o manieră implicită de a printa o variabilă sau rezultatul unei funcții, plasând-o la sfârșitul celulei, în afara unei definiții (similar comportamentului Matlab studiat la MN)\n",
        "\n",
        "O manieră explicită prin care putem printa, oriunde în interiorul celulei se realizează utilizând funcția \"print\" și modurile sale de formatare introduse o dată cu Python3.X"
      ]
    },
    {
      "cell_type": "code",
      "execution_count": 10,
      "metadata": {
        "colab": {
          "base_uri": "https://localhost:8080/"
        },
        "id": "7Iy7eu03ZpIn",
        "outputId": "38be7002-44ab-4ca9-9039-6ddb5822aa95"
      },
      "outputs": [
        {
          "output_type": "stream",
          "name": "stdout",
          "text": [
            "Variabila de mai sus: 5 printată de la începutul celulei\n",
            "Aceeași Mărie: valoarea 0.0123\n",
            "Aceeași Mărie: valoarea 0.0123\n",
            "Aceeași Mărie cu altă pălărie: valoarea 1.23e-02\n"
          ]
        }
      ],
      "source": [
        "print(\"Variabila de mai sus:\", var, \"printată de la începutul celulei\")\n",
        "\n",
        "nume = \"Mărie\"\n",
        "\n",
        "var_float = 0.0123\n",
        "\n",
        "print(\"Aceeași {}: valoarea {}\".format(nume, var_float))\n",
        "\n",
        "# f din fața stringului esete un macro pentru apelarea cu variabile in-place a funcției de formatare\n",
        "print(f\"Aceeași {nume}: valoarea {var_float}\")\n",
        "\n",
        "print(f\"Aceeași {nume} cu altă pălărie: valoarea {var_float:.2e}\")"
      ]
    },
    {
      "cell_type": "markdown",
      "metadata": {
        "id": "aLibaDp8a_nj"
      },
      "source": [
        "  Observăm că, prin folosirea indicației `{:2e}` am determinat printarea `var_float` în format stiințific, de tip  `mantisă`<mark>e</mark>`exponent`"
      ]
    },
    {
      "cell_type": "markdown",
      "metadata": {
        "id": "vS3UJhV8n1Ic"
      },
      "source": [
        "# <u> Liste  </u>"
      ]
    },
    {
      "cell_type": "markdown",
      "metadata": {
        "id": "MQAPf0qHn1Ic"
      },
      "source": [
        "Echivalentul array-urilor din Java, sau a vectorilor din C++, sunt colecții de elemente.\n",
        "\n",
        "Datorita sintezei de tipuri din Python, listele pot conține elemente de tipuri diferite, spre deosebire de structurile echivalente din alte limbaje de programare.\n",
        "\n",
        "Totodată, în Python, string-urile sunt considerate liste de caractere și se pot folosi aceleași operații pe care urmează să le prezentăm + altele specifice string-urilor."
      ]
    },
    {
      "cell_type": "code",
      "execution_count": 11,
      "metadata": {
        "id": "aJ9dfHI5n1Ic"
      },
      "outputs": [],
      "source": [
        "lista_polimorfica = [1, 'string', [1,2,4], None]"
      ]
    },
    {
      "cell_type": "code",
      "execution_count": 12,
      "metadata": {
        "id": "RCPYdqyNn1Id"
      },
      "outputs": [],
      "source": [
        "lista_int : list[int] = [1, 2, 3, 4, 5]"
      ]
    },
    {
      "cell_type": "code",
      "execution_count": 13,
      "metadata": {
        "id": "yzfGUQq6n1Ie"
      },
      "outputs": [],
      "source": [
        "lista_polimorfica2: list[int] = [1, 'string', [1,2,4], None]"
      ]
    },
    {
      "cell_type": "code",
      "execution_count": 14,
      "metadata": {
        "colab": {
          "base_uri": "https://localhost:8080/"
        },
        "id": "sb3STkRan1Ie",
        "outputId": "1692cb21-ec61-4e82-c27a-312caf5f8d73"
      },
      "outputs": [
        {
          "output_type": "execute_result",
          "data": {
            "text/plain": [
              "list"
            ]
          },
          "metadata": {},
          "execution_count": 14
        }
      ],
      "source": [
        "type(lista_polimorfica2) # Aceeași discuție ca în cazul variabilelor"
      ]
    },
    {
      "cell_type": "markdown",
      "metadata": {
        "id": "NIfwSqZmn1Ie"
      },
      "source": [
        "### <u> Indexare și slicing </u>"
      ]
    },
    {
      "cell_type": "code",
      "execution_count": 15,
      "metadata": {
        "colab": {
          "base_uri": "https://localhost:8080/"
        },
        "id": "OdLqi6HZn1Ie",
        "outputId": "b2886d36-dfb0-4bbb-ad4e-6730f0eb90bb"
      },
      "outputs": [
        {
          "output_type": "execute_result",
          "data": {
            "text/plain": [
              "[1, 2, 3, 4, 5]"
            ]
          },
          "metadata": {},
          "execution_count": 15
        }
      ],
      "source": [
        "lista_int"
      ]
    },
    {
      "cell_type": "code",
      "execution_count": 16,
      "metadata": {
        "colab": {
          "base_uri": "https://localhost:8080/"
        },
        "id": "OEO1gV-Tn1If",
        "outputId": "8cba4c9c-ea55-4489-8dba-9e5aef93820c"
      },
      "outputs": [
        {
          "output_type": "execute_result",
          "data": {
            "text/plain": [
              "1"
            ]
          },
          "metadata": {},
          "execution_count": 16
        }
      ],
      "source": [
        "# Listele sunt indexate de la 0\n",
        "\n",
        "lista_int[0]"
      ]
    },
    {
      "cell_type": "code",
      "execution_count": 17,
      "metadata": {
        "colab": {
          "base_uri": "https://localhost:8080/"
        },
        "id": "JgEDyVOOn1If",
        "outputId": "87fb027c-d87d-4993-edbc-db44916e4b21"
      },
      "outputs": [
        {
          "output_type": "execute_result",
          "data": {
            "text/plain": [
              "5"
            ]
          },
          "metadata": {},
          "execution_count": 17
        }
      ],
      "source": [
        "# Putem folosi indecși negativi pentru a accesa elementele de la sfârșitul listei spre început\n",
        "\n",
        "lista_int[-1]"
      ]
    },
    {
      "cell_type": "code",
      "execution_count": 18,
      "metadata": {
        "colab": {
          "base_uri": "https://localhost:8080/"
        },
        "id": "YU-uIHPgn1If",
        "outputId": "ac63aed0-1e4d-4864-a682-8489243cce39"
      },
      "outputs": [
        {
          "output_type": "execute_result",
          "data": {
            "text/plain": [
              "[2, 3, 4]"
            ]
          },
          "metadata": {},
          "execution_count": 18
        }
      ],
      "source": [
        "# Sau putem folosi slice-uri pentru a accesa o porțiune din listă\n",
        "\n",
        "lista_int[1:4]"
      ]
    },
    {
      "cell_type": "code",
      "execution_count": 19,
      "metadata": {
        "colab": {
          "base_uri": "https://localhost:8080/",
          "height": 36
        },
        "id": "sw-0Fe1Jn1Ig",
        "outputId": "361faee3-3b97-4807-fa49-51bda4d66e5d"
      },
      "outputs": [
        {
          "output_type": "execute_result",
          "data": {
            "text/plain": [
              "'Ana'"
            ],
            "application/vnd.google.colaboratory.intrinsic+json": {
              "type": "string"
            }
          },
          "metadata": {},
          "execution_count": 19
        }
      ],
      "source": [
        "exemplu_string = \"Ana are mere\"\n",
        "\n",
        "exemplu_string[0:3]"
      ]
    },
    {
      "cell_type": "markdown",
      "metadata": {
        "id": "Vkk4bOzIn1Ig"
      },
      "source": [
        "### <u> Operații cu liste </u>"
      ]
    },
    {
      "cell_type": "markdown",
      "metadata": {
        "id": "403CpyTTn1Ig"
      },
      "source": [
        "Operațiile de bază pe care le putem face cu liste sunt:\n",
        "* stabilirea numarului de elemente din lista - `len(lista)`\n",
        "* adăugarea unui element la finalul listei - `lista.append(element)`\n",
        "* adăugarea unui element la o anumită poziție - `lista.insert(index, element)`\n",
        "* ștergerea unui element de pe o anumită poziție - `lista.pop(index)`\n",
        "* ștergerea unui element cu o anumită valoare - `lista.remove(element)`\n",
        "* concatenarea a două liste - `lista1 + lista2`, sau `lista1.extend(lista2)`\n",
        "* repetarea unui pattern de elemente - `lista * n`\n",
        "\n",
        "Alte operații mai puțin uzuale, pot fi găsite în [Documentația Python pentru liste](https://docs.python.org/3/tutorial/datastructures.html)"
      ]
    },
    {
      "cell_type": "code",
      "execution_count": 20,
      "metadata": {
        "colab": {
          "base_uri": "https://localhost:8080/"
        },
        "id": "K8JYBXPUeRjY",
        "outputId": "839da2a5-07d3-47c5-f630-9ae6afeac471"
      },
      "outputs": [
        {
          "output_type": "execute_result",
          "data": {
            "text/plain": [
              "5"
            ]
          },
          "metadata": {},
          "execution_count": 20
        }
      ],
      "source": [
        "len(lista_int)"
      ]
    },
    {
      "cell_type": "code",
      "execution_count": 21,
      "metadata": {
        "colab": {
          "base_uri": "https://localhost:8080/"
        },
        "id": "ehX6UKnhn1Ih",
        "outputId": "27bacfe8-c187-4eaa-ecd6-1b76b721110d"
      },
      "outputs": [
        {
          "output_type": "execute_result",
          "data": {
            "text/plain": [
              "[1, 2, 3, 4, 5, 6]"
            ]
          },
          "metadata": {},
          "execution_count": 21
        }
      ],
      "source": [
        "lista_int.append(6)\n",
        "\n",
        "lista_int"
      ]
    },
    {
      "cell_type": "markdown",
      "metadata": {
        "id": "mGZrHVxjn1Ii"
      },
      "source": [
        "---\n",
        "**Observație**:\n",
        "\n",
        "Inserarea se face intr-o maniera OOP, asupra obiectului de la referința spre care pointează lista_int.\n",
        "\n",
        "O eroare comuna este provocata de sintaxa:\n",
        "\n",
        "<code>\n",
        "lista_int = lista_int.append(6) - in acest caz, lista_int va deveni None, deoarece lista_int.append(6) returneaza None\n",
        "</code>\n",
        "\n",
        "___\n"
      ]
    },
    {
      "cell_type": "code",
      "execution_count": 22,
      "metadata": {
        "colab": {
          "base_uri": "https://localhost:8080/"
        },
        "id": "mNR81jhtn1Ii",
        "outputId": "3f76e769-fe58-4505-d7e2-f48a99c348e1"
      },
      "outputs": [
        {
          "output_type": "execute_result",
          "data": {
            "text/plain": [
              "[1, 2, -14, 3, 4, 5, 6]"
            ]
          },
          "metadata": {},
          "execution_count": 22
        }
      ],
      "source": [
        "lista_int.insert(2, -14)\n",
        "\n",
        "lista_int"
      ]
    },
    {
      "cell_type": "code",
      "execution_count": 23,
      "metadata": {
        "colab": {
          "base_uri": "https://localhost:8080/"
        },
        "id": "3fDrbwv4n1Ii",
        "outputId": "b238138f-2714-418b-ebc5-3c87b7e6eea4"
      },
      "outputs": [
        {
          "output_type": "execute_result",
          "data": {
            "text/plain": [
              "[1, 2, -14, 3, 4, 5, 6, 7, 8, 9]"
            ]
          },
          "metadata": {},
          "execution_count": 23
        }
      ],
      "source": [
        "lista_int.extend([7, 8, 9])\n",
        "\n",
        "lista_int"
      ]
    },
    {
      "cell_type": "code",
      "execution_count": 24,
      "metadata": {
        "colab": {
          "base_uri": "https://localhost:8080/"
        },
        "id": "MVpFi0IIn1Ii",
        "outputId": "91a1025f-6a63-466a-d011-23cc965ec430"
      },
      "outputs": [
        {
          "output_type": "execute_result",
          "data": {
            "text/plain": [
              "[1, 2, -14, 3, 4, 5, 6, 7, 8, 9, 10, 11, 12, 13, 14, 15]"
            ]
          },
          "metadata": {},
          "execution_count": 24
        }
      ],
      "source": [
        "lista_int =  lista_int + [10, 11, 12]\n",
        "lista_int += [13, 14, 15] # Mod echivalent de concatenare a listelor\n",
        "\n",
        "lista_int"
      ]
    },
    {
      "cell_type": "code",
      "execution_count": 25,
      "metadata": {
        "colab": {
          "base_uri": "https://localhost:8080/"
        },
        "id": "LOMxeMbtn1Ii",
        "outputId": "eb07a95f-61ff-4aea-fa43-ba7bf6e7ae50"
      },
      "outputs": [
        {
          "output_type": "execute_result",
          "data": {
            "text/plain": [
              "(-14, [1, 2, 3, 4, 5, 6, 7, 8, 9, 10, 11, 12, 13, 14, 15])"
            ]
          },
          "metadata": {},
          "execution_count": 25
        }
      ],
      "source": [
        "element_scos = lista_int.pop(2)\n",
        "\n",
        "element_scos, lista_int # Putem observa ca aceasta sintaxa printeaza la consola un tuplu"
      ]
    },
    {
      "cell_type": "code",
      "execution_count": 27,
      "metadata": {
        "colab": {
          "base_uri": "https://localhost:8080/",
          "height": 179
        },
        "id": "_ZOUQV9An1Ij",
        "outputId": "bb3a20d5-1500-495a-882b-052b8b139b52"
      },
      "outputs": [
        {
          "output_type": "error",
          "ename": "ValueError",
          "evalue": "list.remove(x): x not in list",
          "traceback": [
            "\u001b[0;31m---------------------------------------------------------------------------\u001b[0m",
            "\u001b[0;31mValueError\u001b[0m                                Traceback (most recent call last)",
            "\u001b[0;32m<ipython-input-27-87008e885b02>\u001b[0m in \u001b[0;36m<cell line: 1>\u001b[0;34m()\u001b[0m\n\u001b[0;32m----> 1\u001b[0;31m \u001b[0mlista_int\u001b[0m\u001b[0;34m.\u001b[0m\u001b[0mremove\u001b[0m\u001b[0;34m(\u001b[0m\u001b[0;36m7\u001b[0m\u001b[0;34m)\u001b[0m\u001b[0;34m\u001b[0m\u001b[0;34m\u001b[0m\u001b[0m\n\u001b[0m\u001b[1;32m      2\u001b[0m \u001b[0;34m\u001b[0m\u001b[0m\n\u001b[1;32m      3\u001b[0m \u001b[0mlista_int\u001b[0m\u001b[0;34m\u001b[0m\u001b[0;34m\u001b[0m\u001b[0m\n",
            "\u001b[0;31mValueError\u001b[0m: list.remove(x): x not in list"
          ]
        }
      ],
      "source": [
        "lista_int.remove(7)\n",
        "\n",
        "lista_int"
      ]
    },
    {
      "cell_type": "code",
      "execution_count": 28,
      "metadata": {
        "colab": {
          "base_uri": "https://localhost:8080/",
          "height": 36
        },
        "id": "Cnc8vMSon1Ij",
        "outputId": "e240b312-4388-49c2-fd52-381dc24b93e8"
      },
      "outputs": [
        {
          "output_type": "execute_result",
          "data": {
            "text/plain": [
              "'Ana are mere...'"
            ],
            "application/vnd.google.colaboratory.intrinsic+json": {
              "type": "string"
            }
          },
          "metadata": {},
          "execution_count": 28
        }
      ],
      "source": [
        "exemplu_string += \".\" * 3\n",
        "\n",
        "exemplu_string"
      ]
    },
    {
      "cell_type": "code",
      "execution_count": 29,
      "metadata": {
        "colab": {
          "base_uri": "https://localhost:8080/"
        },
        "id": "FkT33E_boXE6",
        "outputId": "2feec7a5-c0f2-4368-8106-6dc209d66ca4"
      },
      "outputs": [
        {
          "output_type": "execute_result",
          "data": {
            "text/plain": [
              "14"
            ]
          },
          "metadata": {},
          "execution_count": 29
        }
      ],
      "source": [
        "len(lista_int) # O dată cu schimbările asupra listei s-a modificat și lungimea"
      ]
    },
    {
      "cell_type": "markdown",
      "metadata": {
        "id": "ZO3wRIQMn1Ij"
      },
      "source": [
        "Listele din python suporta si operatii pe care le-ati intalnit la PP, din paradigma functionala, precum `map`, `filter` si `reduce` (echivalentul `fold` din Haskell).\n",
        "\n",
        "Aceste functii, de obicei returneaza iteratori, pentru a economisi memorie, dar putem sa convertim rezultatele înapoi în liste folosind functia `list`:\n"
      ]
    },
    {
      "cell_type": "code",
      "execution_count": 30,
      "metadata": {
        "colab": {
          "base_uri": "https://localhost:8080/"
        },
        "id": "mwtHHSL6n1Ij",
        "outputId": "9d8fdf27-36c0-493c-ba2b-9489123142e4"
      },
      "outputs": [
        {
          "output_type": "execute_result",
          "data": {
            "text/plain": [
              "[1, 4, 9, 16, 25, 36, 64, 81, 100, 121, 144, 169, 196, 225]"
            ]
          },
          "metadata": {},
          "execution_count": 30
        }
      ],
      "source": [
        "lista_int_patrat = list(map(lambda x: x**2, lista_int)) # Observam ca putem folosi functii lambda pentru a defini in-place functii anonime\n",
        "\n",
        "lista_int_patrat"
      ]
    },
    {
      "cell_type": "code",
      "execution_count": 31,
      "metadata": {
        "colab": {
          "base_uri": "https://localhost:8080/"
        },
        "id": "U4edpEZIn1Ik",
        "outputId": "b7c40b17-4540-4103-827b-ff51a78fd07d"
      },
      "outputs": [
        {
          "output_type": "execute_result",
          "data": {
            "text/plain": [
              "[4, 16, 36, 64, 100, 144, 196]"
            ]
          },
          "metadata": {},
          "execution_count": 31
        }
      ],
      "source": [
        "# Filtram elementele pare din lista\n",
        "lista_int_patrat = list(filter(lambda x: x % 2 == 0, lista_int_patrat))\n",
        "\n",
        "lista_int_patrat"
      ]
    },
    {
      "cell_type": "code",
      "execution_count": 32,
      "metadata": {
        "colab": {
          "base_uri": "https://localhost:8080/"
        },
        "id": "AdmNxhGin1Ik",
        "outputId": "430ce493-e51d-482a-e418-c549d12bd42e"
      },
      "outputs": [
        {
          "output_type": "execute_result",
          "data": {
            "text/plain": [
              "56.0"
            ]
          },
          "metadata": {},
          "execution_count": 32
        }
      ],
      "source": [
        "from functools import reduce # Importam functia reduce din modulul functools\n",
        "\n",
        "suma_radacinilor = reduce(lambda acc, elem: acc + np.sqrt(elem), lista_int_patrat, 0)\n",
        "\n",
        "suma_radacinilor"
      ]
    },
    {
      "cell_type": "markdown",
      "metadata": {
        "id": "6uy99n5do2Tz"
      },
      "source": [
        "De asemenea, există conceptul de list comprehension, întâlnit anterior în Haskell. Acest concept oferă o modalitate concisă și expresivă de a crea liste noi prin aplicarea unei expresii la fiecare element al unei secvențe.\n",
        "\n",
        "Un exemplu simplu ar fi crearea unei liste care conține pătratele primelor zece numere naturale, folosind list comprehension în Python:"
      ]
    },
    {
      "cell_type": "code",
      "execution_count": 33,
      "metadata": {
        "colab": {
          "base_uri": "https://localhost:8080/"
        },
        "id": "HV-7A_tZpZpg",
        "outputId": "d6fc0194-98ed-4268-f87d-def8f25fb5c3"
      },
      "outputs": [
        {
          "output_type": "execute_result",
          "data": {
            "text/plain": [
              "[1, 4, 9, 16, 25, 36, 49, 64, 81, 100]"
            ]
          },
          "metadata": {},
          "execution_count": 33
        }
      ],
      "source": [
        "patrate_perfecte = [x**2 for x in range(1, 11)]\n",
        "\n",
        "patrate_perfecte"
      ]
    },
    {
      "cell_type": "markdown",
      "metadata": {
        "id": "CQtS_xPmprho"
      },
      "source": [
        "Iată un exemplu mai complex pentru generarea produsului cartezian al două liste."
      ]
    },
    {
      "cell_type": "code",
      "execution_count": 34,
      "metadata": {
        "colab": {
          "base_uri": "https://localhost:8080/"
        },
        "id": "ZFXqcj__ptxq",
        "outputId": "ee32bd05-3097-4d09-c821-7b66e1fb82df"
      },
      "outputs": [
        {
          "output_type": "execute_result",
          "data": {
            "text/plain": [
              "[(1, 'a'),\n",
              " (1, 'b'),\n",
              " (1, 'c'),\n",
              " (1, 'd'),\n",
              " (2, 'a'),\n",
              " (2, 'b'),\n",
              " (2, 'c'),\n",
              " (2, 'd'),\n",
              " (3, 'a'),\n",
              " (3, 'b'),\n",
              " (3, 'c'),\n",
              " (3, 'd')]"
            ]
          },
          "metadata": {},
          "execution_count": 34
        }
      ],
      "source": [
        "lista_A = [1, 2, 3]\n",
        "lista_B = ['a', 'b', 'c', 'd']\n",
        "\n",
        "produs_cartezian = [(a, b) for a in lista_A for b in lista_B]\n",
        "produs_cartezian"
      ]
    },
    {
      "cell_type": "markdown",
      "metadata": {
        "id": "uGQgqF0uqGVD"
      },
      "source": [
        "List comprehension în Python poate include și declarații if, permițând filtrarea elementelor în funcție de o anumită condiție. Iată un exemplu simplu în care se creează o listă cu pătratele numerelor pare de la 1 la 10:"
      ]
    },
    {
      "cell_type": "code",
      "execution_count": 35,
      "metadata": {
        "colab": {
          "base_uri": "https://localhost:8080/"
        },
        "id": "5zp94bWsqHm1",
        "outputId": "f7784c58-e366-4e31-ad1f-41eec9554c52"
      },
      "outputs": [
        {
          "output_type": "execute_result",
          "data": {
            "text/plain": [
              "[4, 16, 36, 64, 100, 144, 196]"
            ]
          },
          "metadata": {},
          "execution_count": 35
        }
      ],
      "source": [
        "patrate_pare = [x**2 for x in range(1, 15) if x % 2 == 0]\n",
        "\n",
        "patrate_pare"
      ]
    },
    {
      "cell_type": "markdown",
      "metadata": {
        "id": "5iYMXKeWn1Ik"
      },
      "source": [
        "### <u> Iterații prin liste </u>"
      ]
    },
    {
      "cell_type": "markdown",
      "metadata": {
        "id": "8ihgm7uJn1Ik"
      },
      "source": [
        "O altă metodă de a itera prin liste este folosind buclele `for` și `while`.\n",
        "\n",
        "Putem accesa elementele listei folosind indexul acestora, sau putem itera prin toate elementele, folosind instrucțiunea `for`."
      ]
    },
    {
      "cell_type": "code",
      "execution_count": 36,
      "metadata": {
        "colab": {
          "base_uri": "https://localhost:8080/"
        },
        "id": "WPTMn3KGn1Ik",
        "outputId": "10cb28b2-f5c9-421d-ff74-48cd7717104c"
      },
      "outputs": [
        {
          "output_type": "stream",
          "name": "stdout",
          "text": [
            "1\n",
            "2\n",
            "3\n",
            "4\n",
            "5\n",
            "6\n",
            "8\n",
            "9\n",
            "10\n",
            "11\n",
            "12\n",
            "13\n",
            "14\n",
            "15\n"
          ]
        }
      ],
      "source": [
        "# Iteram folosind un index de la 0, pana la lungimea listei\n",
        "for i in range(len(lista_int)):\n",
        "    print(lista_int[i])"
      ]
    },
    {
      "cell_type": "code",
      "execution_count": 37,
      "metadata": {
        "colab": {
          "base_uri": "https://localhost:8080/"
        },
        "id": "JAKK5vGKdOGZ",
        "outputId": "1c711535-bb56-4ffb-fced-8b6ae731ab07"
      },
      "outputs": [
        {
          "output_type": "stream",
          "name": "stdout",
          "text": [
            "1\n",
            "2\n",
            "3\n",
            "4\n",
            "5\n",
            "6\n",
            "8\n",
            "9\n",
            "10\n",
            "11\n",
            "12\n",
            "13\n",
            "14\n",
            "15\n"
          ]
        }
      ],
      "source": [
        "i = 0\n",
        "max_len = len(lista_int)\n",
        "\n",
        "while i < max_len:\n",
        "  print(lista_int[i])\n",
        "\n",
        "  i += 1"
      ]
    },
    {
      "cell_type": "code",
      "execution_count": 38,
      "metadata": {
        "colab": {
          "base_uri": "https://localhost:8080/"
        },
        "id": "ty_GBxkAn1Il",
        "outputId": "0020918a-f85d-4362-e889-98dce1219aae"
      },
      "outputs": [
        {
          "output_type": "stream",
          "name": "stdout",
          "text": [
            "1\n",
            "2\n",
            "3\n",
            "4\n",
            "5\n",
            "6\n",
            "8\n",
            "9\n",
            "10\n",
            "11\n",
            "12\n",
            "13\n",
            "14\n",
            "15\n"
          ]
        }
      ],
      "source": [
        "for elem in lista_int:\n",
        "    print(elem)"
      ]
    },
    {
      "cell_type": "code",
      "execution_count": 39,
      "metadata": {
        "colab": {
          "base_uri": "https://localhost:8080/"
        },
        "id": "hKn-k9-pn1Il",
        "outputId": "0cb856da-2a00-4e50-8ef0-3cbe4addab9b"
      },
      "outputs": [
        {
          "output_type": "stream",
          "name": "stdout",
          "text": [
            "Elementul de pe pozitia 0 este 1\n",
            "Elementul de pe pozitia 1 este 2\n",
            "Elementul de pe pozitia 2 este 3\n",
            "Elementul de pe pozitia 3 este 4\n",
            "Elementul de pe pozitia 4 este 5\n",
            "Elementul de pe pozitia 5 este 6\n",
            "Elementul de pe pozitia 6 este 8\n",
            "Elementul de pe pozitia 7 este 9\n",
            "Elementul de pe pozitia 8 este 10\n",
            "Elementul de pe pozitia 9 este 11\n",
            "Elementul de pe pozitia 10 este 12\n",
            "Elementul de pe pozitia 11 este 13\n",
            "Elementul de pe pozitia 12 este 14\n",
            "Elementul de pe pozitia 13 este 15\n"
          ]
        }
      ],
      "source": [
        "for idx, elem in enumerate(lista_int):\n",
        "    print(f\"Elementul de pe pozitia {idx} este {elem}\")"
      ]
    },
    {
      "cell_type": "markdown",
      "metadata": {
        "id": "MAQB9KCaBK7b"
      },
      "source": [
        "În cazul în care vrem să folosim blocuri de instrucțiuni (for, while, if) imbricate, apartenența codului într-un anumit bloc se face prin nivelul indentării:"
      ]
    },
    {
      "cell_type": "code",
      "execution_count": 40,
      "metadata": {
        "colab": {
          "base_uri": "https://localhost:8080/"
        },
        "id": "9_Rv7IijBjOI",
        "outputId": "b8c39faf-5b47-45e8-a2d2-696f6957aedb"
      },
      "outputs": [
        {
          "output_type": "stream",
          "name": "stdout",
          "text": [
            "1 1 3 \n",
            "16 2 6 \n",
            "49 4 9 \n",
            "100 5 12 \n"
          ]
        }
      ],
      "source": [
        "# Definim o matrice ca o listă de liste\n",
        "\n",
        "matrice = [[1,2,3], [4,5,6], [7,8,9], [10,11,12]]\n",
        "\n",
        "inaltime = len(matrice)\n",
        "latime = len(matrice[0])\n",
        "\n",
        "# Vrem sa printam multiplii de 3, patratul numerelor de forma 3k+1, si jumătatea întreagă a numerelor de forma 3k+2\n",
        "for i in range(inaltime):\n",
        "  # Se observa ca bucla j este în interiorul buclei for datorită indentării\n",
        "  for j in range(latime):\n",
        "    # Analog observam identarea instructiunilor if-else la acelasi nivel, in interiorul ambelor blocuri for\n",
        "    x = matrice[i][j]\n",
        "    if x % 3 == 0:\n",
        "      print(x, end=\" \")\n",
        "    elif x % 3 == 1: # Exista instructiunea elif\n",
        "      print(x**2, end=\" \")\n",
        "    else:\n",
        "      print(x//2, end=\" \")\n",
        "\n",
        "  # Observăm că acest print face parte doar din blocul exterior for\n",
        "  print()"
      ]
    },
    {
      "cell_type": "markdown",
      "metadata": {
        "id": "SPpdkzKmLZG1"
      },
      "source": [
        "### <u> Operații cu stringuri </u>"
      ]
    },
    {
      "cell_type": "markdown",
      "metadata": {
        "id": "VP3vEyCnMSm0"
      },
      "source": [
        "Operațiile de bază pe care le putem efectua cu stringuri sunt:\n",
        "* conversia în ASCII a literelor - `ord(char)`\n",
        "* tokenizarea sirului pe baza unui caracter separator - `string.split(separator)`\n",
        "* reconstruirea textului pe baza tokenilor - `\"separator\".join(lista_tokeni)`\n",
        "* convertirea case-ului stringului - `string.upper()`, `string.lower()`, `string.capitalize()`\n",
        "* găsirea unui subsir într-un string - `string.find(substring)`\n",
        "* alternativ, verificarea dacă un string conține un anumit subsir - `substring in string`\n",
        "* înlocuirea unui subsir cu altul - `string.replace(substring, new_substring)`\n",
        "* ștergerea spațierii de formatare (en. whitespaces) de la începutul și sfârșitul șirului - `string.strip()`\n",
        "* formatarea unui string - `string.format()` Prezentată anterior la formatarea printării :-)\n",
        "\n",
        "Alte operații mai puțin uzuale, pot fi găsite în [Documentația Python pentru stringuri](https://docs.python.org/3/library/string.html)\n",
        "\n",
        "O bibliotecă importantă în preprocesarea textelor pentru analiza limbajului natural (NLP) este reprezentată de \"re\", funcționalități disponibile prin re, sunt:\n",
        "* căutarea unui pattern într-un string - `re.search(pattern, string)`\n",
        "* găsirea tuturor aparițiilor unui pattern într-un string - `re.findall(pattern, string)`\n",
        "* înlocuirea unui pattern cu altul - `re.sub(pattern, new_pattern, string)`\n",
        "* tokenizarea unui string pe baza unui pattern - `re.split(pattern, string)`\n",
        "\n",
        "Avantajul utilizării bibliotecii \"re\" este reprezentat de posibilitatea identificării unor RegEx-uri, prin `pattern`.\n",
        "\n",
        "Un link foarte util pentru mai buna înțelegere a RegEx-urilor din re se găsește pe [W3schools](https://www.w3schools.com/python/python_regex.asp).\n",
        "\n",
        "O altă bibliotecă utilizată în preprocesare, mai ales pentru taskuri în limba română este reprezentată de `unidecode`, care are rolul de a substitui diacritele cu echivalentul lor din alfabetul latin care încape pe un octet."
      ]
    },
    {
      "cell_type": "markdown",
      "metadata": {
        "id": "0re4BO7n8W80"
      },
      "source": [
        "___\n",
        "**Observație:** Spre deosebire de metodele aplicate asupra listelor, metodele aplicate stringurilor nu execută modificări in-place, ci produc un nou string care are caracteristicile dorite\n",
        "\n",
        "---"
      ]
    },
    {
      "cell_type": "code",
      "execution_count": 41,
      "metadata": {
        "colab": {
          "base_uri": "https://localhost:8080/"
        },
        "id": "l63HkuEM6LHS",
        "outputId": "04ccedca-9da8-404a-886e-83a563f28448"
      },
      "outputs": [
        {
          "output_type": "execute_result",
          "data": {
            "text/plain": [
              "65"
            ]
          },
          "metadata": {},
          "execution_count": 41
        }
      ],
      "source": [
        "ord('A')"
      ]
    },
    {
      "cell_type": "code",
      "execution_count": 42,
      "metadata": {
        "id": "qeITbdEcqnXL"
      },
      "outputs": [],
      "source": [
        "demo_text = \"Userii @Cata și @Mihai speră să vă bucurați de acest laborator :D\""
      ]
    },
    {
      "cell_type": "code",
      "execution_count": 43,
      "metadata": {
        "colab": {
          "base_uri": "https://localhost:8080/"
        },
        "id": "YGXn86iSrKD7",
        "outputId": "06e6910e-b1c1-4741-c000-2bf420715f39"
      },
      "outputs": [
        {
          "output_type": "execute_result",
          "data": {
            "text/plain": [
              "['Userii',\n",
              " '@Cata',\n",
              " 'și',\n",
              " '@Mihai',\n",
              " 'speră',\n",
              " 'să',\n",
              " 'vă',\n",
              " 'bucurați',\n",
              " 'de',\n",
              " 'acest',\n",
              " 'laborator',\n",
              " ':D']"
            ]
          },
          "metadata": {},
          "execution_count": 43
        }
      ],
      "source": [
        "lista_cuvinte = demo_text.split(\" \")\n",
        "\n",
        "lista_cuvinte"
      ]
    },
    {
      "cell_type": "code",
      "execution_count": 44,
      "metadata": {
        "colab": {
          "base_uri": "https://localhost:8080/",
          "height": 36
        },
        "id": "VYivgUFhsFvt",
        "outputId": "3bf1cb4d-deac-4142-e8ff-d5c5592b6645"
      },
      "outputs": [
        {
          "output_type": "execute_result",
          "data": {
            "text/plain": [
              "'Userii @Cata și @Mihai speră să vă bucurați de acest laborator :D'"
            ],
            "application/vnd.google.colaboratory.intrinsic+json": {
              "type": "string"
            }
          },
          "metadata": {},
          "execution_count": 44
        }
      ],
      "source": [
        "textul_reconstruit = \" \".join(lista_cuvinte)\n",
        "\n",
        "textul_reconstruit"
      ]
    },
    {
      "cell_type": "code",
      "execution_count": 45,
      "metadata": {
        "colab": {
          "base_uri": "https://localhost:8080/"
        },
        "id": "ofO1B7Zks6hg",
        "outputId": "c97b8ec9-7cc0-470e-cc1a-a63b81247f80"
      },
      "outputs": [
        {
          "output_type": "stream",
          "name": "stdout",
          "text": [
            "userii @cata și @mihai speră să vă bucurați de acest laborator :d\n",
            "USERII @CATA ȘI @MIHAI SPERĂ SĂ VĂ BUCURAȚI DE ACEST LABORATOR :D\n",
            "Userii @cata și @mihai speră să vă bucurați de acest laborator :d\n"
          ]
        }
      ],
      "source": [
        "print(demo_text.lower())\n",
        "print(demo_text.upper())\n",
        "print(demo_text.lower().capitalize())"
      ]
    },
    {
      "cell_type": "code",
      "execution_count": null,
      "metadata": {
        "colab": {
          "base_uri": "https://localhost:8080/"
        },
        "id": "dYOfaZJkt_C9",
        "outputId": "6ad662f3-005d-40c4-b429-8e351cf169a7"
      },
      "outputs": [
        {
          "name": "stdout",
          "output_type": "stream",
          "text": [
            "Rezultatele cautarii unui substring existent in text: True și indexul la care se găsește: 7 (re: <re.Match object; span=(7, 12), match='@Cata'>)\n",
            "Rezultatele cautarii unui substring inexistent in text: False și indexul la care se găsește: -1 (re: None)\n"
          ]
        }
      ],
      "source": [
        "print(f\"Rezultatele cautarii unui substring existent in text:\", \"@Cata\" in demo_text, \"și indexul la care se găsește:\", demo_text.find(\"@Cata\"), \"(re: {})\".format(re.search(\"@Cata\", demo_text)))\n",
        "print(f\"Rezultatele cautarii unui substring inexistent in text:\", \"@Catalin\" in demo_text, \"și indexul la care se găsește:\", demo_text.find(\"@Catalin\"), \"(re: {})\".format(re.search(\"@Catalin\", demo_text)))"
      ]
    },
    {
      "cell_type": "code",
      "execution_count": 46,
      "metadata": {
        "colab": {
          "base_uri": "https://localhost:8080/"
        },
        "id": "xpdAZ_3s751s",
        "outputId": "15fac333-3500-48fe-ff9f-d390ee48bf10"
      },
      "outputs": [
        {
          "output_type": "stream",
          "name": "stdout",
          "text": [
            "Userii @Cata și @Mihai speră să vă bucurați de acest material :D\n",
            "Userii @Cata și @Mihai speră să vă bucurați de acest laborator :D\n"
          ]
        }
      ],
      "source": [
        "print(demo_text.replace(\"laborator\", \"material\"))\n",
        "\n",
        "print(demo_text) # Deși am făcut replace anterior, demo_text rămâne nemodificat\n",
        "                 # așa cum am precizat și în observația de mai sus"
      ]
    },
    {
      "cell_type": "code",
      "execution_count": 47,
      "metadata": {
        "colab": {
          "base_uri": "https://localhost:8080/"
        },
        "id": "umJ2pFzXuK8E",
        "outputId": "6f5386ae-a10c-4831-ecfb-2a2971c012ef"
      },
      "outputs": [
        {
          "output_type": "stream",
          "name": "stdout",
          "text": [
            " Userii @Cata și @Mihai speră să vă bucurați de acest laborator :D \n",
            "Userii @Cata și @Mihai speră să vă bucurați de acest laborator :D\n"
          ]
        }
      ],
      "source": [
        "textul_reconstruit = \" \" + textul_reconstruit + \" \"\n",
        "\n",
        "print(textul_reconstruit)\n",
        "print(textul_reconstruit.strip())"
      ]
    },
    {
      "cell_type": "code",
      "execution_count": 48,
      "metadata": {
        "colab": {
          "base_uri": "https://localhost:8080/",
          "height": 36
        },
        "id": "yC4eMjd49sAE",
        "outputId": "567f1e95-1b0e-4995-85e9-88950b71f13e"
      },
      "outputs": [
        {
          "output_type": "execute_result",
          "data": {
            "text/plain": [
              "'Userii Cata și Mihai speră să vă bucurați de acest laborator :D'"
            ],
            "application/vnd.google.colaboratory.intrinsic+json": {
              "type": "string"
            }
          },
          "metadata": {},
          "execution_count": 48
        }
      ],
      "source": [
        "# RegEx care indică eliminarea @ și păstrarea numelor\n",
        "demo_text_fara_useri = re.sub(r'@(\\w+)', r'\\1', demo_text)\n",
        "\n",
        "demo_text_fara_useri"
      ]
    },
    {
      "cell_type": "code",
      "execution_count": 49,
      "metadata": {
        "colab": {
          "base_uri": "https://localhost:8080/",
          "height": 36
        },
        "id": "i7GGr4mw-FSF",
        "outputId": "b52b03c3-6219-4063-f6f6-50a9508d5293"
      },
      "outputs": [
        {
          "output_type": "execute_result",
          "data": {
            "text/plain": [
              "'Userii  și  speră să vă bucurați de acest laborator :D'"
            ],
            "application/vnd.google.colaboratory.intrinsic+json": {
              "type": "string"
            }
          },
          "metadata": {},
          "execution_count": 49
        }
      ],
      "source": [
        "# RegEx care indică eliminarea @user complet\n",
        "demo_text_fara_useri2 = re.sub(r'@(\\w+)', '', demo_text)\n",
        "\n",
        "demo_text_fara_useri2"
      ]
    },
    {
      "cell_type": "markdown",
      "metadata": {
        "id": "sn_dON24-XJW"
      },
      "source": [
        "> Importanța unor astfel de procesări poate consta în anonimizarea persoanelor dintr-un dataset de tweeturi, spre exemplu."
      ]
    },
    {
      "cell_type": "code",
      "execution_count": 50,
      "metadata": {
        "colab": {
          "base_uri": "https://localhost:8080/",
          "height": 36
        },
        "id": "nWpybafG7ToG",
        "outputId": "826a9379-9faa-4ad7-eab2-86cac8f36adf"
      },
      "outputs": [
        {
          "output_type": "execute_result",
          "data": {
            "text/plain": [
              "'Userii @Cata si @Mihai spera sa va bucurati de acest laborator :D'"
            ],
            "application/vnd.google.colaboratory.intrinsic+json": {
              "type": "string"
            }
          },
          "metadata": {},
          "execution_count": 50
        }
      ],
      "source": [
        "unidecode(demo_text)"
      ]
    },
    {
      "cell_type": "markdown",
      "metadata": {
        "id": "7x9qnSHzyIf-"
      },
      "source": [
        "# <u> Dictionare  </u>"
      ]
    },
    {
      "cell_type": "markdown",
      "metadata": {
        "id": "EUdZEPjhyIf_"
      },
      "source": [
        "Asociază o cheie cu o valoare, valoarea putând fi orice obiect Python. Totuși, cheia trebuie să fie un obiect imutabil (hashable), cum ar fi un string, un număr sau un tuplu."
      ]
    },
    {
      "cell_type": "code",
      "execution_count": 51,
      "metadata": {
        "id": "kn4X5ImoyIf_",
        "outputId": "ee6cc969-db88-4b22-a5cd-e8ae5fc6eca4",
        "colab": {
          "base_uri": "https://localhost:8080/"
        }
      },
      "outputs": [
        {
          "output_type": "execute_result",
          "data": {
            "text/plain": [
              "{'Mihai': 10,\n",
              " 'Andreea': 10,\n",
              " 'Andrei': 8,\n",
              " 'Marcela': 7,\n",
              " 'Rodica': 9,\n",
              " 'Catalin': 8}"
            ]
          },
          "metadata": {},
          "execution_count": 51
        }
      ],
      "source": [
        "note_dict = {\"Mihai\": 10, \"Andreea\": 10, \"Andrei\": 8, \"Marcela\": 7, \"Rodica\": 9, \"Catalin\": 8}\n",
        "\n",
        "note_dict"
      ]
    },
    {
      "cell_type": "code",
      "execution_count": 52,
      "metadata": {
        "id": "xP_RoCAQyIf_"
      },
      "outputs": [],
      "source": [
        "dict_tuples = {(1,2,3): 2, (4,5,6): 5}"
      ]
    },
    {
      "cell_type": "code",
      "execution_count": 53,
      "metadata": {
        "id": "LYlyDT6myIgA",
        "outputId": "5b20200d-f7eb-4bfb-f236-ae1cdafc6f68",
        "colab": {
          "base_uri": "https://localhost:8080/",
          "height": 143
        }
      },
      "outputs": [
        {
          "output_type": "error",
          "ename": "TypeError",
          "evalue": "unhashable type: 'list'",
          "traceback": [
            "\u001b[0;31m---------------------------------------------------------------------------\u001b[0m",
            "\u001b[0;31mTypeError\u001b[0m                                 Traceback (most recent call last)",
            "\u001b[0;32m<ipython-input-53-e30f4d7fa54b>\u001b[0m in \u001b[0;36m<cell line: 1>\u001b[0;34m()\u001b[0m\n\u001b[0;32m----> 1\u001b[0;31m \u001b[0mdict_lists\u001b[0m \u001b[0;34m=\u001b[0m \u001b[0;34m{\u001b[0m\u001b[0;34m[\u001b[0m\u001b[0;36m1\u001b[0m\u001b[0;34m,\u001b[0m\u001b[0;36m2\u001b[0m\u001b[0;34m,\u001b[0m\u001b[0;36m3\u001b[0m\u001b[0;34m]\u001b[0m\u001b[0;34m:\u001b[0m \u001b[0;36m2\u001b[0m\u001b[0;34m,\u001b[0m \u001b[0;34m[\u001b[0m\u001b[0;36m4\u001b[0m\u001b[0;34m,\u001b[0m\u001b[0;36m5\u001b[0m\u001b[0;34m,\u001b[0m\u001b[0;36m6\u001b[0m\u001b[0;34m]\u001b[0m\u001b[0;34m:\u001b[0m \u001b[0;36m5\u001b[0m\u001b[0;34m}\u001b[0m\u001b[0;34m\u001b[0m\u001b[0;34m\u001b[0m\u001b[0m\n\u001b[0m",
            "\u001b[0;31mTypeError\u001b[0m: unhashable type: 'list'"
          ]
        }
      ],
      "source": [
        "dict_lists = {[1,2,3]: 2, [4,5,6]: 5}"
      ]
    },
    {
      "cell_type": "markdown",
      "metadata": {
        "id": "gNZ2vFIdyIgA"
      },
      "source": [
        "Putem observa că putem construi un dicționar folosind tupluri drept chei, dar nu putem folosi liste, deoarece acestea sunt mutabile."
      ]
    },
    {
      "cell_type": "markdown",
      "metadata": {
        "id": "yEGy0JZayIgA"
      },
      "source": [
        "În ceea ce privește operațiile de bază, dicționarele prezintă următoarele metode:\n",
        "* adăugarea unei perechi cheie-valoare - `dict[key] = value`\n",
        "* obținerea valorii asociate unei chei - `dict[key]`\n",
        "* verificarea existenței unei chei în dicționar - `key in dict`\n",
        "* ștergerea unei perechi cheie-valoare - `del dict[key]`\n",
        "* obținerea unei liste cu toate cheile, valorile sau tuplurile cheie-valoare - `dict.keys()` / `dict.values()` / `dict.items()`\n",
        "\n",
        "\n",
        "Principalul motiv ce favorizează folosirea dicționarelor constă [complexitatea de căutare](https://wiki.python.org/moin/TimeComplexity) O(1) a valorilor pe baza cheilor."
      ]
    },
    {
      "cell_type": "code",
      "execution_count": 54,
      "metadata": {
        "id": "ix6NpmZeyIgB",
        "outputId": "6e6a7144-a73e-4702-ff8c-e392dd35bb26",
        "colab": {
          "base_uri": "https://localhost:8080/"
        }
      },
      "outputs": [
        {
          "output_type": "execute_result",
          "data": {
            "text/plain": [
              "9"
            ]
          },
          "metadata": {},
          "execution_count": 54
        }
      ],
      "source": [
        "note_dict[\"Rodica\"]"
      ]
    },
    {
      "cell_type": "code",
      "execution_count": 55,
      "metadata": {
        "id": "LAEcTimWyIgC",
        "outputId": "ba03e264-4eb1-483b-9cb1-3855d529eaef",
        "colab": {
          "base_uri": "https://localhost:8080/"
        }
      },
      "outputs": [
        {
          "output_type": "execute_result",
          "data": {
            "text/plain": [
              "{'Mihai': 10,\n",
              " 'Andreea': 10,\n",
              " 'Andrei': 8,\n",
              " 'Marcela': 7,\n",
              " 'Rodica': 9,\n",
              " 'Catalin': 8,\n",
              " 'Ion': 7}"
            ]
          },
          "metadata": {},
          "execution_count": 55
        }
      ],
      "source": [
        "# Inseram cheia \"Ion\" cu valoarea 3 in dictionar\n",
        "note_dict[\"Ion\"] = 3\n",
        "\n",
        "# Aceeasi operatie poate fi folosita pentru a modifica valoarea unei chei existente\n",
        "note_dict[\"Ion\"] = 7\n",
        "\n",
        "note_dict"
      ]
    },
    {
      "cell_type": "code",
      "execution_count": 56,
      "metadata": {
        "id": "WmfXFLwfyIgC",
        "outputId": "58de0afe-7cf0-4869-87ab-e6eb2fe75e8c",
        "colab": {
          "base_uri": "https://localhost:8080/"
        }
      },
      "outputs": [
        {
          "output_type": "execute_result",
          "data": {
            "text/plain": [
              "{'Mihai': 10,\n",
              " 'Andreea': 10,\n",
              " 'Andrei': 8,\n",
              " 'Marcela': 7,\n",
              " 'Rodica': 9,\n",
              " 'Catalin': 8}"
            ]
          },
          "metadata": {},
          "execution_count": 56
        }
      ],
      "source": [
        "# Pentru a sterge o intrare din dictionar, întâi verificăm dacă cheia există, pentru a nu genera excepții\n",
        "\n",
        "if \"Ion\" in note_dict:\n",
        "    del note_dict[\"Ion\"]\n",
        "\n",
        "note_dict"
      ]
    },
    {
      "cell_type": "markdown",
      "metadata": {
        "id": "2_COjeHFyIgD"
      },
      "source": [
        "Observăm că, deși noțiunea de hashmap nu este ordonată, dicționarele din Python păstrează ordinea de inserare a elementelor."
      ]
    },
    {
      "cell_type": "code",
      "execution_count": 57,
      "metadata": {
        "id": "IYdOhahyyIgD",
        "outputId": "905a8fbd-11ea-4dfb-9624-1e601c0f9cb9",
        "colab": {
          "base_uri": "https://localhost:8080/"
        }
      },
      "outputs": [
        {
          "output_type": "execute_result",
          "data": {
            "text/plain": [
              "dict_keys(['Mihai', 'Andreea', 'Andrei', 'Marcela', 'Rodica', 'Catalin'])"
            ]
          },
          "metadata": {},
          "execution_count": 57
        }
      ],
      "source": [
        "note_dict.keys()"
      ]
    },
    {
      "cell_type": "code",
      "execution_count": 58,
      "metadata": {
        "id": "9iz5dHwLyIgD",
        "outputId": "65498398-812b-432f-8a47-b1b4a29f4512",
        "colab": {
          "base_uri": "https://localhost:8080/"
        }
      },
      "outputs": [
        {
          "output_type": "execute_result",
          "data": {
            "text/plain": [
              "dict_values([10, 10, 8, 7, 9, 8])"
            ]
          },
          "metadata": {},
          "execution_count": 58
        }
      ],
      "source": [
        "note_dict.values()"
      ]
    },
    {
      "cell_type": "code",
      "execution_count": 59,
      "metadata": {
        "id": "HnO9dz_qyIgD",
        "outputId": "e3b29437-f0c3-4f2b-8c64-9023d0fb44a1",
        "colab": {
          "base_uri": "https://localhost:8080/"
        }
      },
      "outputs": [
        {
          "output_type": "execute_result",
          "data": {
            "text/plain": [
              "dict_items([('Mihai', 10), ('Andreea', 10), ('Andrei', 8), ('Marcela', 7), ('Rodica', 9), ('Catalin', 8)])"
            ]
          },
          "metadata": {},
          "execution_count": 59
        }
      ],
      "source": [
        "note_dict.items()"
      ]
    },
    {
      "cell_type": "markdown",
      "metadata": {
        "id": "5c71gRN4yIgE"
      },
      "source": [
        "Vom normaliza notele studenților de la scala 1-10 la scala 1-5:\n",
        "\n",
        "f(x) = ax + b\n",
        "\n",
        "\n",
        "f(1) = a + b = 1 &emsp;&emsp; => a = $\\frac{4}{9}$, b = $\\frac{5}{9}$\n",
        "\n",
        "f(10) = 10a + b = 5\n",
        "\n"
      ]
    },
    {
      "cell_type": "code",
      "execution_count": null,
      "metadata": {
        "id": "9JJj_gYoyIgE",
        "outputId": "51fe47fd-cc7e-4f8e-f87a-d0e14ab5f755"
      },
      "outputs": [
        {
          "data": {
            "text/plain": [
              "{'Mihai': 5.0,\n",
              " 'Andreea': 5.0,\n",
              " 'Andrei': 4.11,\n",
              " 'Marcela': 3.67,\n",
              " 'Rodica': 4.56,\n",
              " 'Catalin': 4.11}"
            ]
          },
          "execution_count": 58,
          "metadata": {},
          "output_type": "execute_result"
        }
      ],
      "source": [
        "# Obținem valoarea maximă din dicționar\n",
        "a = 4 / 9\n",
        "b = 5 / 9\n",
        "\n",
        "scala_noua1 = {}\n",
        "\n",
        "\n",
        "# Iterăm peste toate cheile și actualizăm valorile:\n",
        "for key in note_dict:\n",
        "    scala_noua1[key] = round(a * note_dict[key]  + b, 2)\n",
        "\n",
        "scala_noua1"
      ]
    },
    {
      "cell_type": "markdown",
      "metadata": {
        "id": "scWWVqLGyIgE"
      },
      "source": [
        "Există posibilitatea de list comprehension și pentru dicționare:"
      ]
    },
    {
      "cell_type": "code",
      "execution_count": null,
      "metadata": {
        "id": "nlZMv6asyIgE",
        "outputId": "a00500c9-1b79-437f-cd92-2731f4c6f89b"
      },
      "outputs": [
        {
          "data": {
            "text/plain": [
              "{'Mihai': 5.0,\n",
              " 'Andreea': 5.0,\n",
              " 'Andrei': 4.11,\n",
              " 'Marcela': 3.67,\n",
              " 'Rodica': 4.56,\n",
              " 'Catalin': 4.11}"
            ]
          },
          "execution_count": 59,
          "metadata": {},
          "output_type": "execute_result"
        }
      ],
      "source": [
        "scala_noua2 = {key: round(a * note_dict[key]  + b, 2) for key in note_dict}\n",
        "\n",
        "scala_noua2"
      ]
    },
    {
      "cell_type": "markdown",
      "metadata": {
        "id": "0mqpB1jLyIgF"
      },
      "source": [
        "**[AVANSAT]** Așa cum putem defini o matrice ca o listă de liste și o putem parsa folosind alte module de algebră liniară `(numpy, pytorch)`, putem defini și dicționare de dicționare, care sa fie convertite în DataFrame-uri multi-index folosind `pandas`.\n",
        "\n",
        "Totuși cu biblioteca `pandas` și multi-indexing vom lucra mai târziu. :-)"
      ]
    },
    {
      "cell_type": "code",
      "execution_count": 60,
      "metadata": {
        "id": "u2KNZMiAyIgF",
        "outputId": "5481a7ca-df0a-42a2-c947-9b9d7a86e505",
        "colab": {
          "base_uri": "https://localhost:8080/",
          "height": 175
        }
      },
      "outputs": [
        {
          "output_type": "execute_result",
          "data": {
            "text/plain": [
              "                                     Informatica  Matematica  Istorie\n",
              "Colegiul National Iași      Mihai             10          10       10\n",
              "                            Elena              7          10        9\n",
              "Colegiul National Bucuresti Andreea           10          10       10\n",
              "                            Flavius            6           8       10"
            ],
            "text/html": [
              "\n",
              "  <div id=\"df-a760b367-e4cf-4c54-b891-ac05359c8bca\" class=\"colab-df-container\">\n",
              "    <div>\n",
              "<style scoped>\n",
              "    .dataframe tbody tr th:only-of-type {\n",
              "        vertical-align: middle;\n",
              "    }\n",
              "\n",
              "    .dataframe tbody tr th {\n",
              "        vertical-align: top;\n",
              "    }\n",
              "\n",
              "    .dataframe thead th {\n",
              "        text-align: right;\n",
              "    }\n",
              "</style>\n",
              "<table border=\"1\" class=\"dataframe\">\n",
              "  <thead>\n",
              "    <tr style=\"text-align: right;\">\n",
              "      <th></th>\n",
              "      <th></th>\n",
              "      <th>Informatica</th>\n",
              "      <th>Matematica</th>\n",
              "      <th>Istorie</th>\n",
              "    </tr>\n",
              "  </thead>\n",
              "  <tbody>\n",
              "    <tr>\n",
              "      <th rowspan=\"2\" valign=\"top\">Colegiul National Iași</th>\n",
              "      <th>Mihai</th>\n",
              "      <td>10</td>\n",
              "      <td>10</td>\n",
              "      <td>10</td>\n",
              "    </tr>\n",
              "    <tr>\n",
              "      <th>Elena</th>\n",
              "      <td>7</td>\n",
              "      <td>10</td>\n",
              "      <td>9</td>\n",
              "    </tr>\n",
              "    <tr>\n",
              "      <th rowspan=\"2\" valign=\"top\">Colegiul National Bucuresti</th>\n",
              "      <th>Andreea</th>\n",
              "      <td>10</td>\n",
              "      <td>10</td>\n",
              "      <td>10</td>\n",
              "    </tr>\n",
              "    <tr>\n",
              "      <th>Flavius</th>\n",
              "      <td>6</td>\n",
              "      <td>8</td>\n",
              "      <td>10</td>\n",
              "    </tr>\n",
              "  </tbody>\n",
              "</table>\n",
              "</div>\n",
              "    <div class=\"colab-df-buttons\">\n",
              "\n",
              "  <div class=\"colab-df-container\">\n",
              "    <button class=\"colab-df-convert\" onclick=\"convertToInteractive('df-a760b367-e4cf-4c54-b891-ac05359c8bca')\"\n",
              "            title=\"Convert this dataframe to an interactive table.\"\n",
              "            style=\"display:none;\">\n",
              "\n",
              "  <svg xmlns=\"http://www.w3.org/2000/svg\" height=\"24px\" viewBox=\"0 -960 960 960\">\n",
              "    <path d=\"M120-120v-720h720v720H120Zm60-500h600v-160H180v160Zm220 220h160v-160H400v160Zm0 220h160v-160H400v160ZM180-400h160v-160H180v160Zm440 0h160v-160H620v160ZM180-180h160v-160H180v160Zm440 0h160v-160H620v160Z\"/>\n",
              "  </svg>\n",
              "    </button>\n",
              "\n",
              "  <style>\n",
              "    .colab-df-container {\n",
              "      display:flex;\n",
              "      gap: 12px;\n",
              "    }\n",
              "\n",
              "    .colab-df-convert {\n",
              "      background-color: #E8F0FE;\n",
              "      border: none;\n",
              "      border-radius: 50%;\n",
              "      cursor: pointer;\n",
              "      display: none;\n",
              "      fill: #1967D2;\n",
              "      height: 32px;\n",
              "      padding: 0 0 0 0;\n",
              "      width: 32px;\n",
              "    }\n",
              "\n",
              "    .colab-df-convert:hover {\n",
              "      background-color: #E2EBFA;\n",
              "      box-shadow: 0px 1px 2px rgba(60, 64, 67, 0.3), 0px 1px 3px 1px rgba(60, 64, 67, 0.15);\n",
              "      fill: #174EA6;\n",
              "    }\n",
              "\n",
              "    .colab-df-buttons div {\n",
              "      margin-bottom: 4px;\n",
              "    }\n",
              "\n",
              "    [theme=dark] .colab-df-convert {\n",
              "      background-color: #3B4455;\n",
              "      fill: #D2E3FC;\n",
              "    }\n",
              "\n",
              "    [theme=dark] .colab-df-convert:hover {\n",
              "      background-color: #434B5C;\n",
              "      box-shadow: 0px 1px 3px 1px rgba(0, 0, 0, 0.15);\n",
              "      filter: drop-shadow(0px 1px 2px rgba(0, 0, 0, 0.3));\n",
              "      fill: #FFFFFF;\n",
              "    }\n",
              "  </style>\n",
              "\n",
              "    <script>\n",
              "      const buttonEl =\n",
              "        document.querySelector('#df-a760b367-e4cf-4c54-b891-ac05359c8bca button.colab-df-convert');\n",
              "      buttonEl.style.display =\n",
              "        google.colab.kernel.accessAllowed ? 'block' : 'none';\n",
              "\n",
              "      async function convertToInteractive(key) {\n",
              "        const element = document.querySelector('#df-a760b367-e4cf-4c54-b891-ac05359c8bca');\n",
              "        const dataTable =\n",
              "          await google.colab.kernel.invokeFunction('convertToInteractive',\n",
              "                                                    [key], {});\n",
              "        if (!dataTable) return;\n",
              "\n",
              "        const docLinkHtml = 'Like what you see? Visit the ' +\n",
              "          '<a target=\"_blank\" href=https://colab.research.google.com/notebooks/data_table.ipynb>data table notebook</a>'\n",
              "          + ' to learn more about interactive tables.';\n",
              "        element.innerHTML = '';\n",
              "        dataTable['output_type'] = 'display_data';\n",
              "        await google.colab.output.renderOutput(dataTable, element);\n",
              "        const docLink = document.createElement('div');\n",
              "        docLink.innerHTML = docLinkHtml;\n",
              "        element.appendChild(docLink);\n",
              "      }\n",
              "    </script>\n",
              "  </div>\n",
              "\n",
              "\n",
              "<div id=\"df-7e654b83-b21e-4234-8c63-b8df9f40dbc5\">\n",
              "  <button class=\"colab-df-quickchart\" onclick=\"quickchart('df-7e654b83-b21e-4234-8c63-b8df9f40dbc5')\"\n",
              "            title=\"Suggest charts\"\n",
              "            style=\"display:none;\">\n",
              "\n",
              "<svg xmlns=\"http://www.w3.org/2000/svg\" height=\"24px\"viewBox=\"0 0 24 24\"\n",
              "     width=\"24px\">\n",
              "    <g>\n",
              "        <path d=\"M19 3H5c-1.1 0-2 .9-2 2v14c0 1.1.9 2 2 2h14c1.1 0 2-.9 2-2V5c0-1.1-.9-2-2-2zM9 17H7v-7h2v7zm4 0h-2V7h2v10zm4 0h-2v-4h2v4z\"/>\n",
              "    </g>\n",
              "</svg>\n",
              "  </button>\n",
              "\n",
              "<style>\n",
              "  .colab-df-quickchart {\n",
              "      --bg-color: #E8F0FE;\n",
              "      --fill-color: #1967D2;\n",
              "      --hover-bg-color: #E2EBFA;\n",
              "      --hover-fill-color: #174EA6;\n",
              "      --disabled-fill-color: #AAA;\n",
              "      --disabled-bg-color: #DDD;\n",
              "  }\n",
              "\n",
              "  [theme=dark] .colab-df-quickchart {\n",
              "      --bg-color: #3B4455;\n",
              "      --fill-color: #D2E3FC;\n",
              "      --hover-bg-color: #434B5C;\n",
              "      --hover-fill-color: #FFFFFF;\n",
              "      --disabled-bg-color: #3B4455;\n",
              "      --disabled-fill-color: #666;\n",
              "  }\n",
              "\n",
              "  .colab-df-quickchart {\n",
              "    background-color: var(--bg-color);\n",
              "    border: none;\n",
              "    border-radius: 50%;\n",
              "    cursor: pointer;\n",
              "    display: none;\n",
              "    fill: var(--fill-color);\n",
              "    height: 32px;\n",
              "    padding: 0;\n",
              "    width: 32px;\n",
              "  }\n",
              "\n",
              "  .colab-df-quickchart:hover {\n",
              "    background-color: var(--hover-bg-color);\n",
              "    box-shadow: 0 1px 2px rgba(60, 64, 67, 0.3), 0 1px 3px 1px rgba(60, 64, 67, 0.15);\n",
              "    fill: var(--button-hover-fill-color);\n",
              "  }\n",
              "\n",
              "  .colab-df-quickchart-complete:disabled,\n",
              "  .colab-df-quickchart-complete:disabled:hover {\n",
              "    background-color: var(--disabled-bg-color);\n",
              "    fill: var(--disabled-fill-color);\n",
              "    box-shadow: none;\n",
              "  }\n",
              "\n",
              "  .colab-df-spinner {\n",
              "    border: 2px solid var(--fill-color);\n",
              "    border-color: transparent;\n",
              "    border-bottom-color: var(--fill-color);\n",
              "    animation:\n",
              "      spin 1s steps(1) infinite;\n",
              "  }\n",
              "\n",
              "  @keyframes spin {\n",
              "    0% {\n",
              "      border-color: transparent;\n",
              "      border-bottom-color: var(--fill-color);\n",
              "      border-left-color: var(--fill-color);\n",
              "    }\n",
              "    20% {\n",
              "      border-color: transparent;\n",
              "      border-left-color: var(--fill-color);\n",
              "      border-top-color: var(--fill-color);\n",
              "    }\n",
              "    30% {\n",
              "      border-color: transparent;\n",
              "      border-left-color: var(--fill-color);\n",
              "      border-top-color: var(--fill-color);\n",
              "      border-right-color: var(--fill-color);\n",
              "    }\n",
              "    40% {\n",
              "      border-color: transparent;\n",
              "      border-right-color: var(--fill-color);\n",
              "      border-top-color: var(--fill-color);\n",
              "    }\n",
              "    60% {\n",
              "      border-color: transparent;\n",
              "      border-right-color: var(--fill-color);\n",
              "    }\n",
              "    80% {\n",
              "      border-color: transparent;\n",
              "      border-right-color: var(--fill-color);\n",
              "      border-bottom-color: var(--fill-color);\n",
              "    }\n",
              "    90% {\n",
              "      border-color: transparent;\n",
              "      border-bottom-color: var(--fill-color);\n",
              "    }\n",
              "  }\n",
              "</style>\n",
              "\n",
              "  <script>\n",
              "    async function quickchart(key) {\n",
              "      const quickchartButtonEl =\n",
              "        document.querySelector('#' + key + ' button');\n",
              "      quickchartButtonEl.disabled = true;  // To prevent multiple clicks.\n",
              "      quickchartButtonEl.classList.add('colab-df-spinner');\n",
              "      try {\n",
              "        const charts = await google.colab.kernel.invokeFunction(\n",
              "            'suggestCharts', [key], {});\n",
              "      } catch (error) {\n",
              "        console.error('Error during call to suggestCharts:', error);\n",
              "      }\n",
              "      quickchartButtonEl.classList.remove('colab-df-spinner');\n",
              "      quickchartButtonEl.classList.add('colab-df-quickchart-complete');\n",
              "    }\n",
              "    (() => {\n",
              "      let quickchartButtonEl =\n",
              "        document.querySelector('#df-7e654b83-b21e-4234-8c63-b8df9f40dbc5 button');\n",
              "      quickchartButtonEl.style.display =\n",
              "        google.colab.kernel.accessAllowed ? 'block' : 'none';\n",
              "    })();\n",
              "  </script>\n",
              "</div>\n",
              "    </div>\n",
              "  </div>\n"
            ],
            "application/vnd.google.colaboratory.intrinsic+json": {
              "type": "dataframe",
              "variable_name": "scoli_df",
              "summary": "{\n  \"name\": \"scoli_df\",\n  \"rows\": 4,\n  \"fields\": [\n    {\n      \"column\": \"Informatica\",\n      \"properties\": {\n        \"dtype\": \"number\",\n        \"std\": 2,\n        \"min\": 6,\n        \"max\": 10,\n        \"num_unique_values\": 3,\n        \"samples\": [\n          10,\n          7,\n          6\n        ],\n        \"semantic_type\": \"\",\n        \"description\": \"\"\n      }\n    },\n    {\n      \"column\": \"Matematica\",\n      \"properties\": {\n        \"dtype\": \"number\",\n        \"std\": 1,\n        \"min\": 8,\n        \"max\": 10,\n        \"num_unique_values\": 2,\n        \"samples\": [\n          8,\n          10\n        ],\n        \"semantic_type\": \"\",\n        \"description\": \"\"\n      }\n    },\n    {\n      \"column\": \"Istorie\",\n      \"properties\": {\n        \"dtype\": \"number\",\n        \"std\": 0,\n        \"min\": 9,\n        \"max\": 10,\n        \"num_unique_values\": 2,\n        \"samples\": [\n          9,\n          10\n        ],\n        \"semantic_type\": \"\",\n        \"description\": \"\"\n      }\n    }\n  ]\n}"
            }
          },
          "metadata": {},
          "execution_count": 60
        }
      ],
      "source": [
        "scoli_dict = {\"Colegiul National Iași\": {\"Mihai\": {\"Informatica\":10, \"Matematica\":10, \"Istorie\":10}, \"Elena\":{\"Informatica\":7, \"Matematica\":10, \"Istorie\":9}}, \"Colegiul National Bucuresti\": {\"Andreea\": {\"Informatica\":10, \"Matematica\":10, \"Istorie\":10}, \"Flavius\":{\"Informatica\":6, \"Matematica\":8, \"Istorie\":10}}}\n",
        "\n",
        "\n",
        "# Create a multi-index DataFrame from the dictionary\n",
        "scoli_df = pd.DataFrame.from_dict({(i,j): scoli_dict[i][j]\n",
        "                           for i in scoli_dict.keys()\n",
        "                           for j in scoli_dict[i].keys()},\n",
        "                       orient='index')\n",
        "\n",
        "scoli_df"
      ]
    },
    {
      "source": [
        "# @title Informatica vs Matematica\n",
        "\n",
        "from matplotlib import pyplot as plt\n",
        "scoli_df.plot(kind='scatter', x='Informatica', y='Matematica', s=32, alpha=.8)\n",
        "plt.gca().spines[['top', 'right',]].set_visible(False)"
      ],
      "cell_type": "code",
      "execution_count": 61,
      "outputs": [
        {
          "output_type": "display_data",
          "data": {
            "text/plain": [
              "<Figure size 640x480 with 1 Axes>"
            ],
            "image/png": "[encoded data removed]"
          },
          "metadata": {}
        }
      ],
      "metadata": {
        "cellView": "form",
        "colab": {
          "base_uri": "https://localhost:8080/",
          "height": 449
        },
        "id": "1I5WVtIgI0-5",
        "outputId": "e6ea84c6-d6e5-4454-c9b4-a3d7fd616f29"
      }
    },
    {
      "cell_type": "markdown",
      "metadata": {
        "id": "oEWJcvV576Ej"
      },
      "source": [
        "# <u> Numpy  </u>"
      ]
    },
    {
      "cell_type": "markdown",
      "metadata": {
        "id": "nNRMEdZq8Lvm"
      },
      "source": [
        "Numpy este o bibliotecă de bază pentru calculul științific în Python. Ea oferă suport pentru vectori și matrice, împreună cu funcții matematice pentru a opera asupra acestora, precum și funcții de algebra liniară și rezolvare de ecuații."
      ]
    },
    {
      "cell_type": "markdown",
      "metadata": {
        "id": "K-G69A998laP"
      },
      "source": [
        "Există foarte multe funcționalități oferite de numpy, și vă îndrumăm să le explorați pe toate în [Documentația Numpy](https://numpy.org/doc/stable/user/basics.html)."
      ]
    },
    {
      "cell_type": "markdown",
      "metadata": {
        "id": "ZRz-i2FE-suH"
      },
      "source": [
        "Dintre funcționalitățile utilizate frecvent, putem enumera:\n",
        "* crearea de vectori și matrice - `np.array()`, `np.zeros()`, `np.ones()`, `np.tril()`, `np.triu()`, `np.arange()`, `np.linspace()`\n",
        "* operații matematice - `np.add()`, `np.subtract()`, `np.multiply()`, `np.divide()`, `np.dot()`, `np.matmul()` (sau in-line `@`), `np.transpose()` (sau `vector.T`)\n",
        "* funcții matematice - `np.exp()`, `np.log()`, `np.sin()`, `np.cos()`, `np.tan()`, `np.sqrt()`\n",
        "* funcții de agregare - `np.sum()`, `np.mean()`, `np.std()`, `np.var()`, `np.max()`, `np.min()`\n",
        "* funcții de manipulare a formei - `np.reshape()`, `np.concatenate()`, `np.split()`, `np.vstack()`, `np.hstack()`\n",
        "* funcții de manipulare a dimensiunilor - `np.squeeze()`, `np.unsqueeze()`\n",
        "* funcții de comparare - `np.equal()`, `np.not_equal()`, `np.greater()`, `np.greater_equal()`, `np.less()`, `np.less_equal()`, `np.all()`, `np.any()`\n",
        "* funcții de filtrare - `np.where()`, `np.argmax()`, `np.argmin()`\n",
        "* funcții de randomizare - `np.random.rand()`, `np.random.randn()`, `np.random.randint()`, `np.random.choice()`, `np.random.shuffle()`\n",
        "* funcții de algebra liniară - `np.linalg.inv()`, `np.linalg.det()`, `np.linalg.eig()`, `np.linalg.svd()`, `np.linalg.solve()`\n",
        "* funcții de statistici - `np.percentile()`, `np.histogram()`, `np.cov()`, `np.corrcoef()`\n",
        "* funcții de serializare - `np.save()`, `np.load()`, `np.savez()`, `np.loadz()`\n",
        "* funcții de manipulare a tipurilor de date - `np.astype()`, `np.asarray()`, `np.copy()`, `np.view()`"
      ]
    },
    {
      "cell_type": "markdown",
      "metadata": {
        "id": "-_I9-PoH_TPd"
      },
      "source": [
        "Să revenim la exercițiul anterior în care doream să rescalăm notele din intervalul [1, 10] în [1, 5].\n",
        "\n",
        "Putem rezolva problema matriceal, automat, în locul substituției analitice:\n",
        "\n",
        "a + b = 1\n",
        "10a + b = 5\n",
        "\n",
        "Se poate scrie:\n",
        "\n",
        "$$\n",
        "\\left(\\begin{array}{cc}\n",
        "1 & 1\\\\\n",
        "10 & 1\n",
        "\\end{array}\\right)\n",
        "\\left(\\begin{array}{cc}\n",
        "a \\\\\n",
        "b\n",
        "\\end{array}\\right)\n",
        "=\n",
        "\\left(\\begin{array}{cc}\n",
        "1 \\\\\n",
        "5\n",
        "\\end{array}\\right)\n",
        "$$\n",
        "\n",
        "În formă matriceală compactă, notăm:\n",
        "\n",
        "$$Ax = y \\implies x = A^{-1}y$$"
      ]
    },
    {
      "cell_type": "code",
      "execution_count": 62,
      "metadata": {
        "colab": {
          "base_uri": "https://localhost:8080/"
        },
        "id": "QUj3rcUv_Ss1",
        "outputId": "6557a33e-f228-45f6-90ad-de2315a9eb56"
      },
      "outputs": [
        {
          "output_type": "execute_result",
          "data": {
            "text/plain": [
              "(0.4444444444444445, 0.5555555555555556)"
            ]
          },
          "metadata": {},
          "execution_count": 62
        }
      ],
      "source": [
        "A = [[1, 1], [10, 1]]\n",
        "y = [1,5]\n",
        "\n",
        "# Convertim matricea și vectorul în obiecte din numpy\n",
        "A = np.array(A)\n",
        "y = np.array(y)\n",
        "\n",
        "x = np.linalg.inv(A) @ y.T # L-am facut pe y vector coloana prin transpunere\n",
        "\n",
        "a, b = x[0], x[1]\n",
        "\n",
        "a, b"
      ]
    },
    {
      "cell_type": "code",
      "execution_count": 63,
      "metadata": {
        "colab": {
          "base_uri": "https://localhost:8080/"
        },
        "id": "nnfkBOQhCpGd",
        "outputId": "56f85544-e43b-41b4-cc71-d2ea13fe76b1"
      },
      "outputs": [
        {
          "output_type": "execute_result",
          "data": {
            "text/plain": [
              "(2, 2)"
            ]
          },
          "metadata": {},
          "execution_count": 63
        }
      ],
      "source": [
        "# Pentru a obține dimensiunile unui vector în numpy:\n",
        "inaltime, latime = A.shape\n",
        "\n",
        "inaltime, latime"
      ]
    },
    {
      "cell_type": "code",
      "execution_count": 64,
      "metadata": {
        "colab": {
          "base_uri": "https://localhost:8080/"
        },
        "id": "G6IsACwkC8OO",
        "outputId": "4b1dd954-8b55-4c85-94a8-31a7bc8cb3ca"
      },
      "outputs": [
        {
          "output_type": "execute_result",
          "data": {
            "text/plain": [
              "((2,), (2,))"
            ]
          },
          "metadata": {},
          "execution_count": 64
        }
      ],
      "source": [
        "# Daca vectorul este unidimensional, el va avea o dimensiune goală\n",
        "# Iar atribuirea inaltime, latime = y.shape va produce o eroare referitoare la numărul de valori pe care vrem să le extragem\n",
        "y.shape, y.T.shape"
      ]
    },
    {
      "cell_type": "code",
      "execution_count": 65,
      "metadata": {
        "colab": {
          "base_uri": "https://localhost:8080/"
        },
        "id": "3E97E6vvDRsn",
        "outputId": "69f349e0-1bd6-4480-a80b-4bf51dc522e6"
      },
      "outputs": [
        {
          "output_type": "execute_result",
          "data": {
            "text/plain": [
              "(2, 1)"
            ]
          },
          "metadata": {},
          "execution_count": 65
        }
      ],
      "source": [
        "# Pentru a obține y de 2 dimensiuni, folosim comanda np.nexaxis, care mai adaugă un rând de parantezări în interiorul vectorului\n",
        "y = y[:, np.newaxis]\n",
        "y.shape"
      ]
    },
    {
      "cell_type": "markdown",
      "metadata": {
        "id": "8sr_6UTQEZ3w"
      },
      "source": [
        "În exemplul următor vom explora capacitatea de slicing oferită de numpy:"
      ]
    },
    {
      "cell_type": "code",
      "execution_count": 66,
      "metadata": {
        "colab": {
          "base_uri": "https://localhost:8080/"
        },
        "id": "9IvkIBFxEwBN",
        "outputId": "3eebae5f-5419-4437-92e3-82ef4d8e9e7c"
      },
      "outputs": [
        {
          "output_type": "execute_result",
          "data": {
            "text/plain": [
              "array([[ 1,  2,  3,  4],\n",
              "       [ 5,  6,  7,  8],\n",
              "       [ 9, 10, 11, 12],\n",
              "       [13, 14, 15, 16]])"
            ]
          },
          "metadata": {},
          "execution_count": 66
        }
      ],
      "source": [
        "# Creăm o matrice 4x4 cu valori de la 1 la 16\n",
        "X = np.arange(1, 17).reshape(4, 4)\n",
        "\n",
        "X"
      ]
    },
    {
      "cell_type": "code",
      "execution_count": 67,
      "metadata": {
        "colab": {
          "base_uri": "https://localhost:8080/"
        },
        "id": "YN-PJ2UVE51t",
        "outputId": "249e01c9-1a04-4883-8c5f-a019a1e2371d"
      },
      "outputs": [
        {
          "output_type": "execute_result",
          "data": {
            "text/plain": [
              "array([[ 6,  7,  8],\n",
              "       [10, 11, 12]])"
            ]
          },
          "metadata": {},
          "execution_count": 67
        }
      ],
      "source": [
        "# Putem extrage din această matrice cele 2 rânduri de la mijloc și ultimele 3 coloane\n",
        "X_mic = X[1:3, 1:]\n",
        "\n",
        "X_mic"
      ]
    },
    {
      "cell_type": "markdown",
      "metadata": {
        "id": "_ZU_MRGKFQHt"
      },
      "source": [
        "În numpy, indexarea se face tot de la 0.\n",
        "\n",
        "Slicing-ul start:stop semnifică colectarea tuturor indecșilor cu proprietatea:\n",
        "$$start \\leq i < stop$$\n",
        "\n",
        "și poate fi folosit și de la sfârșit spre început folosind indecși negativi și aceeași convenție cu startul inclus și sfârșitul exclus.\n",
        "\n",
        "În momentul când unul dintre cele două capete lipsește, slicingul va merge până ajunge la capătul dimensiunii `1:` semnifică `start = 1, stop = max_width`"
      ]
    },
    {
      "cell_type": "markdown",
      "metadata": {
        "id": "TV1WcvIRGfJ0"
      },
      "source": [
        "Totodată, aveți mare atenție asupra felului cum folosiți sliceurile, ele sunt transmise prin referință și vor afecta structura din care au fost decupate:"
      ]
    },
    {
      "cell_type": "code",
      "execution_count": 68,
      "metadata": {
        "colab": {
          "base_uri": "https://localhost:8080/"
        },
        "id": "gwzm877DGypc",
        "outputId": "555dab70-2371-4f17-83b9-c59a4c9f25e3"
      },
      "outputs": [
        {
          "output_type": "execute_result",
          "data": {
            "text/plain": [
              "array([[ 1,  2,  3,  4],\n",
              "       [ 5,  6,  7,  8],\n",
              "       [ 9, 10, 11, 12],\n",
              "       [13, 14, 15, 16]])"
            ]
          },
          "metadata": {},
          "execution_count": 68
        }
      ],
      "source": [
        "X"
      ]
    },
    {
      "cell_type": "code",
      "execution_count": 69,
      "metadata": {
        "colab": {
          "base_uri": "https://localhost:8080/"
        },
        "id": "kyIxHi1mG0Qc",
        "outputId": "9432d737-8a9c-4551-942c-bd94a7caedb5"
      },
      "outputs": [
        {
          "output_type": "execute_result",
          "data": {
            "text/plain": [
              "array([[0, 0, 0],\n",
              "       [0, 0, 0]])"
            ]
          },
          "metadata": {},
          "execution_count": 69
        }
      ],
      "source": [
        "# Peste toată dimensiunea X_mic punem 0-uri:\n",
        "X_mic[:] = 0\n",
        "\n",
        "X_mic"
      ]
    },
    {
      "cell_type": "code",
      "execution_count": null,
      "metadata": {
        "colab": {
          "base_uri": "https://localhost:8080/"
        },
        "id": "ZZk2ZbJaG81H",
        "outputId": "ecadde5f-f6a5-42c8-c77f-b257b3e6dff8"
      },
      "outputs": [
        {
          "data": {
            "text/plain": [
              "array([[ 1,  2,  3,  4],\n",
              "       [ 5,  0,  0,  0],\n",
              "       [ 9,  0,  0,  0],\n",
              "       [13, 14, 15, 16]])"
            ]
          },
          "execution_count": 69,
          "metadata": {},
          "output_type": "execute_result"
        }
      ],
      "source": [
        "X"
      ]
    },
    {
      "cell_type": "markdown",
      "metadata": {
        "id": "JqL_gXPcHV6A"
      },
      "source": [
        "Pentru a nu afecta structura lui X, ar trebui să facem o copie persistentă a regiunii decupate:"
      ]
    },
    {
      "cell_type": "code",
      "execution_count": 70,
      "metadata": {
        "colab": {
          "base_uri": "https://localhost:8080/"
        },
        "id": "X6OXOGk4HhhD",
        "outputId": "a66e3ec1-4b73-4996-84b0-cea9f37206ee"
      },
      "outputs": [
        {
          "output_type": "execute_result",
          "data": {
            "text/plain": [
              "(array([[ 1,  2,  3,  4],\n",
              "        [ 5,  6,  7,  8],\n",
              "        [ 9, 10, 11, 12],\n",
              "        [13, 14, 15, 16]]),\n",
              " array([[ 6,  7,  8],\n",
              "        [10, 11, 12]]))"
            ]
          },
          "metadata": {},
          "execution_count": 70
        }
      ],
      "source": [
        "# Resetăm experimentul\n",
        "X = np.arange(1, 17).reshape(4, 4)\n",
        "\n",
        "# realizăm o copie persistentă a lui X pe zona din slicing, folosind metoda deepcopy din librăria copy\n",
        "X_mic = deepcopy(X[1:3, 1:])\n",
        "\n",
        "X, X_mic"
      ]
    },
    {
      "cell_type": "code",
      "execution_count": 71,
      "metadata": {
        "colab": {
          "base_uri": "https://localhost:8080/"
        },
        "id": "DTrEsFCaH9MT",
        "outputId": "7398e8b6-ed89-4532-c3f8-5f0a6bf03e9d"
      },
      "outputs": [
        {
          "output_type": "execute_result",
          "data": {
            "text/plain": [
              "(array([[ 1,  2,  3,  4],\n",
              "        [ 5,  6,  7,  8],\n",
              "        [ 9, 10, 11, 12],\n",
              "        [13, 14, 15, 16]]),\n",
              " array([[0, 0, 0],\n",
              "        [0, 0, 0]]))"
            ]
          },
          "metadata": {},
          "execution_count": 71
        }
      ],
      "source": [
        "X_mic[:] = 0\n",
        "\n",
        "X, X_mic"
      ]
    },
    {
      "cell_type": "markdown",
      "metadata": {
        "id": "8LJ-DT_QyIgG"
      },
      "source": [
        "# <u> Funcții  </u>"
      ]
    },
    {
      "cell_type": "markdown",
      "metadata": {
        "id": "L0qLO6pCzBf-"
      },
      "source": [
        "În Python, în afara variabilelor de bază care sunt transmise prin valoare, toate celelalte sunt transmise prin referință.\n",
        "\n",
        "Așadar, modificările aduse obiectelor din funcții se propagă ca efecte laterale în afara funcției."
      ]
    },
    {
      "cell_type": "code",
      "execution_count": 72,
      "metadata": {
        "id": "v1R8luWYzEiU"
      },
      "outputs": [],
      "source": [
        "lista_int = list(range(1, 16))"
      ]
    },
    {
      "cell_type": "code",
      "execution_count": 73,
      "metadata": {
        "colab": {
          "base_uri": "https://localhost:8080/"
        },
        "id": "FfkzaLeZzChL",
        "outputId": "b3d8aa32-0f75-475b-dea4-dfeb2b02f389"
      },
      "outputs": [
        {
          "output_type": "execute_result",
          "data": {
            "text/plain": [
              "(60, [30, 1, 2, 3, 4, 5, 6, 7, 8, 9, 10, 11, 12, 13, 14, 15])"
            ]
          },
          "metadata": {},
          "execution_count": 73
        }
      ],
      "source": [
        "def demo_lateral_tipat(lista : list, elem : int) -> int:\n",
        "  lista.insert(0, elem)\n",
        "\n",
        "  return 2*elem\n",
        "\n",
        "def demo_lateral(lista, elem):\n",
        "  lista.insert(0, elem)\n",
        "\n",
        "  return 2*elem\n",
        "\n",
        "output = demo_lateral_tipat(lista_int, 30)\n",
        "\n",
        "output, lista_int"
      ]
    },
    {
      "cell_type": "markdown",
      "metadata": {
        "id": "Vm91nSomz4wD"
      },
      "source": [
        "Putem observa sintaxa unei funcții:\n",
        "* Antetul pornește cu keyword-ul `def`\n",
        "* Precum în celelalte blocuri de control, creștem identarea cu un tab pentru a semnala apartenența la blocul funcției\n",
        "* Tipul returnat de funcție este identificat de `-> tip`\n",
        "* Secvența de cod din funcție se poate termina cu return"
      ]
    },
    {
      "cell_type": "markdown",
      "metadata": {
        "id": "RavtmbQN0wsg"
      },
      "source": [
        "Această ultimă observație nu este obligatorie în general. Putem scrie funcții care nu returnează nimic per se, ci se bazează exclusiv pe efect lateral:"
      ]
    },
    {
      "cell_type": "code",
      "execution_count": 74,
      "metadata": {
        "colab": {
          "base_uri": "https://localhost:8080/"
        },
        "id": "BVV9zQm91BfV",
        "outputId": "e4ac7925-d82e-4bf4-f830-aefb1eb9994a"
      },
      "outputs": [
        {
          "output_type": "execute_result",
          "data": {
            "text/plain": [
              "[30, 1, 2, 3, 4, 5, 6, 7, 8, 9, 10, 11, 12, 13, 14, 15, 47]"
            ]
          },
          "metadata": {},
          "execution_count": 74
        }
      ],
      "source": [
        "def demo_no_return(lista : list):\n",
        "  lista.append(47)\n",
        "\n",
        "# Echivalent, putem scrie și:\n",
        "def demo_no_return(lista : list):\n",
        "  lista.append(47)\n",
        "  return\n",
        "\n",
        "demo_no_return(lista_int)\n",
        "\n",
        "lista_int"
      ]
    },
    {
      "cell_type": "markdown",
      "metadata": {
        "id": "PVgBNtFQ157G"
      },
      "source": [
        "Dacă executăm:"
      ]
    },
    {
      "cell_type": "code",
      "execution_count": 75,
      "metadata": {
        "id": "qa6dpcmA2ByV",
        "colab": {
          "base_uri": "https://localhost:8080/"
        },
        "outputId": "d5c964fa-79a0-4a8a-eb04-211795096f76"
      },
      "outputs": [
        {
          "output_type": "execute_result",
          "data": {
            "text/plain": [
              "(None, True)"
            ]
          },
          "metadata": {},
          "execution_count": 75
        }
      ],
      "source": [
        "output = demo_no_return(lista_int)\n",
        "\n",
        "output, output == None"
      ]
    },
    {
      "cell_type": "markdown",
      "metadata": {
        "id": "2LCKbw7a2PIE"
      },
      "source": [
        "\n",
        "\n",
        "```\n",
        "# This is formatted as code\n",
        "```\n",
        "\n",
        "Ne dăm seama acum ce se petrece atunci când scriem lista = lista.append(element).\n",
        "\n",
        "Append este o metoda a clasei List ce realizeaza modificarile asupra obiectului curent prin efect lateral și nu returnează nimic."
      ]
    },
    {
      "cell_type": "markdown",
      "metadata": {
        "id": "SwtUTVOo1cbV"
      },
      "source": [
        "**[Good practice]** În general se preferă un coding style în care funcțiile să fie definite fără cod executabil sau doar cu unit teste ce îi vizează comportamentul, și de obicei se definesc helperele și funcția mare în aceeași celulă"
      ]
    },
    {
      "cell_type": "markdown",
      "metadata": {
        "id": "zws-NkF44_M4"
      },
      "source": [
        "Un Bad practice utilizat frecvent în Notebook-uri este reprezentat de utilizarea variabilelor neoferite ca parametru:"
      ]
    },
    {
      "cell_type": "code",
      "execution_count": 76,
      "metadata": {
        "colab": {
          "base_uri": "https://localhost:8080/"
        },
        "id": "QVtAKetw5OnM",
        "outputId": "92417e55-c690-4b46-963a-bf858811debe"
      },
      "outputs": [
        {
          "output_type": "execute_result",
          "data": {
            "text/plain": [
              "11"
            ]
          },
          "metadata": {},
          "execution_count": 76
        }
      ],
      "source": [
        "def demo_bad_practice(elem : int) -> int:\n",
        "  return 2*elem + var\n",
        "\n",
        "demo_bad_practice(3)"
      ]
    },
    {
      "cell_type": "markdown",
      "metadata": {
        "id": "zZT2nG0-5qwM"
      },
      "source": [
        "Funcția are acces la contextul notebook-ului și deși var nu este definit în interiorul său, îl găsește pe cel executat anterior în secțiunea de variabile: `var : int = 5` și îl folosește pe acela.\n",
        "\n",
        "Deși este foarte la îndemână acest tip de a scrie funcții, încercați să oferiți tot ce aveți nevoie ca parametru, sau să creați clase cu atribute.\n",
        "\n",
        "Acest coding style ascunde foarte bine erori și vă forțează să aveți o mai mare precauție când rulați celule de mai sus decât nivelul curent al workflow-ului."
      ]
    },
    {
      "cell_type": "markdown",
      "metadata": {
        "id": "qFjA4rA32vso"
      },
      "source": [
        "___\n",
        "Dacă dorim să returnăm mai multe valori produse în interiorul funcției, putem folosi următoarea sintaxă:\n",
        "\n"
      ]
    },
    {
      "cell_type": "code",
      "execution_count": 77,
      "metadata": {
        "colab": {
          "base_uri": "https://localhost:8080/"
        },
        "id": "_VnmvTNh3Cnw",
        "outputId": "a4ef4351-aac1-48a2-b955-3a9014f63a6d"
      },
      "outputs": [
        {
          "output_type": "execute_result",
          "data": {
            "text/plain": [
              "(18, 1, 47)"
            ]
          },
          "metadata": {},
          "execution_count": 77
        }
      ],
      "source": [
        "def demo_multivals(lista):\n",
        "  return len(lista), min(lista), max(lista)\n",
        "\n",
        "# Prin pattern matching, fiecarei variabile ii este atribuita o valoare din cele returnate de functie\n",
        "lungime, minim, maxim = demo_multivals(lista_int)\n",
        "\n",
        "lungime, minim, maxim"
      ]
    },
    {
      "cell_type": "code",
      "execution_count": 78,
      "metadata": {
        "colab": {
          "base_uri": "https://localhost:8080/"
        },
        "id": "kzPXMwtF3lwN",
        "outputId": "f7d31b1a-718b-46b8-df5a-4f5247c05e7b"
      },
      "outputs": [
        {
          "output_type": "execute_result",
          "data": {
            "text/plain": [
              "(18, 1, 47)"
            ]
          },
          "metadata": {},
          "execution_count": 78
        }
      ],
      "source": [
        "#Alternativ putem scrie și\n",
        "valori = demo_multivals(lista_int)\n",
        "\n",
        "#Și să accesăm elementele din tuplul valori\n",
        "valori[0], valori[1], valori[2]"
      ]
    },
    {
      "cell_type": "markdown",
      "metadata": {
        "id": "JulctiWN4FT6"
      },
      "source": [
        "Returnarea de valori multiple se realizează prin crearea unui tuplu."
      ]
    },
    {
      "cell_type": "markdown",
      "metadata": {
        "id": "QTRrS-pud_KF"
      },
      "source": [
        "În limbajul de programare Python, putem defini o funcție care să primească un număr variabil de argumente folosind asteriscul (*) în definiția funcției. În acest caz, argumentele sunt percepute drept un tuplu (care poate avea număr variabil de elemente).\n",
        "\n",
        "Iată un exemplu simplu:"
      ]
    },
    {
      "cell_type": "code",
      "execution_count": 80,
      "metadata": {
        "colab": {
          "base_uri": "https://localhost:8080/"
        },
        "id": "U4F8mFPIeG1M",
        "outputId": "29c199e9-fc84-4cbb-a23e-031f23c067be"
      },
      "outputs": [
        {
          "output_type": "stream",
          "name": "stdout",
          "text": [
            "1\n",
            "2\n",
            "3\n",
            "a\n",
            "b\n",
            "True\n",
            "ana\n",
            "[1, 2, 3]\n",
            "1\n",
            "a\n"
          ]
        }
      ],
      "source": [
        "def functie_cu_numar_variabil_de_argumente(*args):\n",
        "    for arg in args:\n",
        "        print(arg)\n",
        "\n",
        "# Exemplu de utilizare\n",
        "functie_cu_numar_variabil_de_argumente(1, 2, 3, 'a', 'b')\n",
        "\n",
        "# Exemplu de apel\n",
        "lista_argumente = [True, \"ana\", [1, 2, 3], 1, 'a']\n",
        "functie_cu_numar_variabil_de_argumente(*lista_argumente)"
      ]
    },
    {
      "cell_type": "markdown",
      "metadata": {
        "id": "x-rDxb3eemtf"
      },
      "source": [
        "Funcțiile în Python pot avea argumente cu valori implicite, ceea ce înseamnă că aceste argumente primesc o valoare implicită, furnizată atunci când este definită funcția, ce este folosită în cazul în care nu este furnizată o altă valoare în momentul apelului funcției. Acest lucru adaugă flexibilitate și oferă posibilitatea apelării funcției cu un număr mai mic de argumente decât numărul total de parametri."
      ]
    },
    {
      "cell_type": "code",
      "execution_count": 81,
      "metadata": {
        "colab": {
          "base_uri": "https://localhost:8080/"
        },
        "id": "WJppnpz1fCod",
        "outputId": "d6d0db7a-ed54-4db6-a988-23765c227151"
      },
      "outputs": [
        {
          "output_type": "stream",
          "name": "stdout",
          "text": [
            "3\n",
            "7\n",
            "11\n",
            "15\n"
          ]
        }
      ],
      "source": [
        "def suma(x=0, y=1, z=2):\n",
        "  return x + y + z\n",
        "\n",
        "print(suma())\n",
        "print(suma(4))\n",
        "print(suma(4,5))\n",
        "print(suma(4,5,6))"
      ]
    },
    {
      "cell_type": "markdown",
      "metadata": {
        "id": "BHLkqqPwfRIl"
      },
      "source": [
        "În Python, putem utiliza cuvinte cheie (keywords) pentru a furniza argumente la apelul funcțiilor. Aceasta permite specificarea valorilor pentru parametri prin numele acestora, fără a depinde strict de ordinea în care aceștia sunt definiți în funcție."
      ]
    },
    {
      "cell_type": "code",
      "execution_count": null,
      "metadata": {
        "colab": {
          "base_uri": "https://localhost:8080/"
        },
        "id": "JtGv7jxufTEA",
        "outputId": "1ce51e5b-1958-4b44-e572-e4b6d41a2689"
      },
      "outputs": [
        {
          "name": "stdout",
          "output_type": "stream",
          "text": [
            "The youngest child is Andrei\n",
            "His last name is Popescu\n"
          ]
        }
      ],
      "source": [
        "def my_function(child3, child2, child1):\n",
        "  print(\"The youngest child is \" + child3)\n",
        "\n",
        "my_function(child1 = \"Emil\",\n",
        "            child2 = \"Alex\",\n",
        "            child3 = \"Andrei\")\n",
        "\n",
        "def my_function(**kid):\n",
        "  print(\"His last name is \" + kid[\"lname\"])\n",
        "\n",
        "my_function(fname = \"Andrei\", lname = \"Popescu\")"
      ]
    },
    {
      "cell_type": "markdown",
      "metadata": {
        "id": "jeHlib44EDRG"
      },
      "source": [
        "# <u> Tupluri  </u>"
      ]
    },
    {
      "cell_type": "markdown",
      "metadata": {
        "id": "RZ5NXuimyIgG"
      },
      "source": [
        "Precum ați văzut, pe parcursul laboratorului, tuplurile sunt obiecte similare listelor, dar sunt imutabile."
      ]
    },
    {
      "cell_type": "code",
      "execution_count": 82,
      "metadata": {
        "id": "0Up8nNYzyIgH",
        "outputId": "0927174d-996e-4aae-d7f9-58c2e004c1b5",
        "colab": {
          "base_uri": "https://localhost:8080/",
          "height": 161
        }
      },
      "outputs": [
        {
          "output_type": "error",
          "ename": "TypeError",
          "evalue": "'tuple' object does not support item assignment",
          "traceback": [
            "\u001b[0;31m---------------------------------------------------------------------------\u001b[0m",
            "\u001b[0;31mTypeError\u001b[0m                                 Traceback (most recent call last)",
            "\u001b[0;32m<ipython-input-82-2f01586fa7e7>\u001b[0m in \u001b[0;36m<cell line: 2>\u001b[0;34m()\u001b[0m\n\u001b[1;32m      1\u001b[0m \u001b[0mtuplu_error\u001b[0m \u001b[0;34m=\u001b[0m \u001b[0;34m(\u001b[0m\u001b[0;36m1\u001b[0m\u001b[0;34m,\u001b[0m\u001b[0;36m2\u001b[0m\u001b[0;34m,\u001b[0m\u001b[0;36m3\u001b[0m\u001b[0;34m)\u001b[0m\u001b[0;34m\u001b[0m\u001b[0;34m\u001b[0m\u001b[0m\n\u001b[0;32m----> 2\u001b[0;31m \u001b[0mtuplu_error\u001b[0m\u001b[0;34m[\u001b[0m\u001b[0;36m0\u001b[0m\u001b[0;34m]\u001b[0m \u001b[0;34m=\u001b[0m \u001b[0;36m4\u001b[0m\u001b[0;34m\u001b[0m\u001b[0;34m\u001b[0m\u001b[0m\n\u001b[0m",
            "\u001b[0;31mTypeError\u001b[0m: 'tuple' object does not support item assignment"
          ]
        }
      ],
      "source": [
        "tuplu_error = (1,2,3)\n",
        "tuplu_error[0] = 4\n"
      ]
    },
    {
      "cell_type": "markdown",
      "metadata": {
        "id": "XeLHE9jiyIgH"
      },
      "source": [
        "Primim eroarea care ne spune că obiectul de tip tuplu nu suportă modificarea elementelor.\n",
        "\n",
        "În cazul suprascrierii tuplului, se va crea un nou obiect de tip tuplu, care va fi alocat într-o nouă zonă de memorie, iar (1, 2, 3) va fi marcat pentru garbage collection."
      ]
    },
    {
      "cell_type": "code",
      "execution_count": null,
      "metadata": {
        "id": "d0RdkqzryIgH"
      },
      "outputs": [],
      "source": [
        "tuplu_error = (1,2,3, [4,5,6])\n",
        "\n",
        "# Putem modifica în cadrul listei din tuplu, deoarece acesta reține referința către ea, iar valorile din listă sunt mutabile\n",
        "tuplu_error[3][0] = 7"
      ]
    },
    {
      "cell_type": "markdown",
      "metadata": {
        "id": "qDikeUCByIgH"
      },
      "source": [
        "Principalele moduri în care întâlnim tuplurile sunt:\n",
        "* Tuplurile rezultate din operatii de zip, enumerate, items ale unor dicționare\n",
        "* Memoizarea unei colecții de metrici corespunzătoare rulării curente a unui algoritm.\n",
        "* Returnarea mai multor valori dintr-o funcție"
      ]
    },
    {
      "cell_type": "markdown",
      "metadata": {
        "id": "7KtAUPhVyIgH"
      },
      "source": [
        "Luăm numele și notele studenților de la exemplul anterior:"
      ]
    },
    {
      "cell_type": "code",
      "execution_count": 83,
      "metadata": {
        "id": "xE969tlyyIgH",
        "outputId": "92bd0d44-6fb3-4a7d-8d9e-3ee9cff5b331",
        "colab": {
          "base_uri": "https://localhost:8080/"
        }
      },
      "outputs": [
        {
          "output_type": "execute_result",
          "data": {
            "text/plain": [
              "[('Mihai', 10),\n",
              " ('Andreea', 10),\n",
              " ('Andrei', 8),\n",
              " ('Marcela', 7),\n",
              " ('Rodica', 9),\n",
              " ('Catalin', 8)]"
            ]
          },
          "metadata": {},
          "execution_count": 83
        }
      ],
      "source": [
        "lista_tupluri_note = list(note_dict.items())\n",
        "\n",
        "lista_tupluri_note"
      ]
    },
    {
      "cell_type": "markdown",
      "metadata": {
        "id": "M7BZZF2EyIgI"
      },
      "source": [
        "Cu ajutorul unei expresii lambda, putem să sortăm lista de tupluri în funcție de un anumit criteriu, în cazul nostru, nota."
      ]
    },
    {
      "cell_type": "code",
      "execution_count": 84,
      "metadata": {
        "id": "4k4clg5jyIgI",
        "outputId": "5d3bb684-4919-4498-903e-e380568ef5aa",
        "colab": {
          "base_uri": "https://localhost:8080/"
        }
      },
      "outputs": [
        {
          "output_type": "execute_result",
          "data": {
            "text/plain": [
              "[('Marcela', 7),\n",
              " ('Andrei', 8),\n",
              " ('Catalin', 8),\n",
              " ('Rodica', 9),\n",
              " ('Mihai', 10),\n",
              " ('Andreea', 10)]"
            ]
          },
          "metadata": {},
          "execution_count": 84
        }
      ],
      "source": [
        "lista_tupluri_note_sortate = sorted(lista_tupluri_note, key=lambda x: x[1]) # Pentru o sortare descrescătoare, putem folosi argumentul reverse=True\n",
        "\n",
        "lista_tupluri_note_sortate"
      ]
    },
    {
      "cell_type": "markdown",
      "metadata": {
        "id": "5WQZ4bbCyIgI"
      },
      "source": [
        "Pentru cea de-a doua funcționalitate a tuplurilor, o bibliotecă foarte utilă este reprezentată de `pickle`, care are rolul de a serializa obiecte Python, pentru a le salva în fișiere binare pe disc și a le reîncărca ulterior."
      ]
    },
    {
      "cell_type": "code",
      "execution_count": 85,
      "metadata": {
        "id": "NnWOsNdgyIgI"
      },
      "outputs": [],
      "source": [
        "metrica1 = np.linspace(0, 1, 10)\n",
        "metrica2 = np.random.rand(10)\n",
        "metrica3 = np.sin(np.linspace(0, 2*np.pi, 10))"
      ]
    },
    {
      "cell_type": "code",
      "execution_count": 87,
      "metadata": {
        "id": "tHn89-hHyIgJ",
        "outputId": "2e97a925-b1f8-408d-c009-bd0d72c2a2d3",
        "colab": {
          "base_uri": "https://localhost:8080/"
        }
      },
      "outputs": [
        {
          "output_type": "execute_result",
          "data": {
            "text/plain": [
              "(array([0.        , 0.11111111, 0.22222222, 0.33333333, 0.44444444,\n",
              "        0.55555556, 0.66666667, 0.77777778, 0.88888889, 1.        ]),\n",
              " array([0.22116454, 0.94145037, 0.39659419, 0.71883335, 0.37877939,\n",
              "        0.09950797, 0.14448819, 0.60922841, 0.24503844, 0.91798166]),\n",
              " array([ 0.00000000e+00,  6.42787610e-01,  9.84807753e-01,  8.66025404e-01,\n",
              "         3.42020143e-01, -3.42020143e-01, -8.66025404e-01, -9.84807753e-01,\n",
              "        -6.42787610e-01, -2.44929360e-16]))"
            ]
          },
          "metadata": {},
          "execution_count": 87
        }
      ],
      "source": [
        "metrica1, metrica2, metrica3"
      ]
    },
    {
      "cell_type": "code",
      "execution_count": 88,
      "metadata": {
        "id": "lqhfuqHoyIgJ"
      },
      "outputs": [],
      "source": [
        "# Scriem datele într-un fișier binar sub formă de tuplu\n",
        "with open('metrici.pkl', 'wb') as f:\n",
        "    pkl.dump((metrica1, metrica2, metrica3), f)"
      ]
    },
    {
      "cell_type": "code",
      "execution_count": 89,
      "metadata": {
        "id": "uFu6JkvJyIgJ"
      },
      "outputs": [],
      "source": [
        "with open('metrici.pkl', 'rb') as f:\n",
        "    m1, m2, m3 = pkl.load(f) # Citim datele din fișierul binar, corespunzătoare array-urilor metrica1, metrica2, metrica3"
      ]
    },
    {
      "cell_type": "code",
      "execution_count": 90,
      "metadata": {
        "id": "Fml0cM-9yIgJ",
        "outputId": "811131fb-bdc7-4acc-b5f7-a37bfc0a99dd",
        "colab": {
          "base_uri": "https://localhost:8080/"
        }
      },
      "outputs": [
        {
          "output_type": "execute_result",
          "data": {
            "text/plain": [
              "(True, True, True)"
            ]
          },
          "metadata": {},
          "execution_count": 90
        }
      ],
      "source": [
        "# np.all face și logic între toate elementele arrayului de boolene rezultat din comparația elementelor array-urilor\n",
        "np.all(m1 == metrica1), np.all(m2 == metrica2), np.all(m3 == metrica3)"
      ]
    },
    {
      "cell_type": "markdown",
      "metadata": {
        "id": "c-wiAGD6qatg"
      },
      "source": [
        "# Exerciții cu liste [60p]"
      ]
    },
    {
      "cell_type": "markdown",
      "metadata": {
        "id": "hWLp1VoXqf9t"
      },
      "source": [
        "1. Implementați o funcție care determină și returnează elementul minim dintr-o listă cu numere primită ca parametru."
      ]
    },
    {
      "cell_type": "code",
      "execution_count": 94,
      "metadata": {
        "colab": {
          "base_uri": "https://localhost:8080/"
        },
        "id": "FJ1523tfqvkJ",
        "outputId": "5914d6a7-fc55-4621-ef98-d2c1720735df"
      },
      "outputs": [
        {
          "output_type": "stream",
          "name": "stdout",
          "text": [
            "Elementul minim din lista este: 1\n",
            "Elementul minim din lista este: None\n"
          ]
        }
      ],
      "source": [
        "def minim(lista):\n",
        "  if not lista:\n",
        "    return None\n",
        "\n",
        "  return reduce(lambda acc, elem: min(acc, elem), lista_numerica, lista[0])\n",
        "\n",
        "lista_numerica = [2, 8, 5, 1, 7, 3]\n",
        "rezultat = minim(lista_numerica)\n",
        "print(\"Elementul minim din lista este:\", rezultat) # Rezultatul așteptat este: 1\n",
        "\n",
        "rezultat = minim([])\n",
        "print(\"Elementul minim din lista este:\", rezultat)"
      ]
    },
    {
      "cell_type": "markdown",
      "metadata": {
        "id": "Mw2Vg0atrB1s"
      },
      "source": [
        "2. Implementați o funcție care determină numărul de numere pare dintr-o listă de numere primită ca argument."
      ]
    },
    {
      "cell_type": "code",
      "execution_count": 99,
      "metadata": {
        "colab": {
          "base_uri": "https://localhost:8080/"
        },
        "id": "HCnfgp7grL2j",
        "outputId": "c9244985-21c1-49c3-e5ff-abe65e099f1c"
      },
      "outputs": [
        {
          "output_type": "stream",
          "name": "stdout",
          "text": [
            "Numarul de numere pare din lista este: 2\n"
          ]
        }
      ],
      "source": [
        "def pare(lista):\n",
        "  return len(list(filter(lambda x: x % 2 == 0, lista)))\n",
        "\n",
        "nr_pare = pare(lista_numerica)\n",
        "print(\"Numarul de numere pare din lista este:\", nr_pare) # Rezultatul așteptat este: 2"
      ]
    },
    {
      "cell_type": "markdown",
      "metadata": {
        "id": "eLGk9we9r7Ai"
      },
      "source": [
        "3. Implementați o funcție care primește ca argument o listă și returnează lista cu toate prefixele ei."
      ]
    },
    {
      "cell_type": "code",
      "execution_count": 102,
      "metadata": {
        "colab": {
          "base_uri": "https://localhost:8080/"
        },
        "id": "sCMWe68YsFcA",
        "outputId": "dd08df28-9c02-433a-86ec-c27e65a05e62"
      },
      "outputs": [
        {
          "output_type": "stream",
          "name": "stdout",
          "text": [
            "Prefixele listei sunt: [[2], [2, 8], [2, 8, 5], [2, 8, 5, 1], [2, 8, 5, 1, 7], [2, 8, 5, 1, 7, 3]]\n"
          ]
        }
      ],
      "source": [
        "def prefixe_lista(lista):\n",
        "  current = []\n",
        "  result = []\n",
        "\n",
        "  for number in lista:\n",
        "    current.append(number)\n",
        "    result.append(deepcopy(current))\n",
        "\n",
        "  return result\n",
        "\n",
        "\n",
        "rezultat = prefixe_lista(lista_numerica)\n",
        "print(\"Prefixele listei sunt:\", rezultat) # Rezultatul așteptat: [[2], [2, 8], [2, 8, 5], [2, 8, 5, 1], [2, 8, 5, 1, 7], [2, 8, 5, 1, 7, 3]]"
      ]
    },
    {
      "cell_type": "markdown",
      "metadata": {
        "id": "1LT_qC_IfpVU"
      },
      "source": [
        "4. Implementați o funcție care primește ca argument o listă cu numere întregi și întoarce două liste:\n",
        "- o listă cu elementele pare din lista primită ca argument (sortate crescător și fără duplicate);\n",
        "- o listă cu elementele impare din lista primită ca argument (sortate descrescător și fără duplicate).\n"
      ]
    },
    {
      "cell_type": "code",
      "execution_count": 131,
      "metadata": {
        "id": "tmy5wZatftXE",
        "colab": {
          "base_uri": "https://localhost:8080/"
        },
        "outputId": "beea6551-7fb8-4c1f-d4af-b38ebfeacb42"
      },
      "outputs": [
        {
          "output_type": "stream",
          "name": "stdout",
          "text": [
            "Lista cu elementele pare:  [2, 4, 8, 32, 42, 100]\n",
            "Lista cu elementele impare:  [21, 9, 7, 3, 1]\n"
          ]
        }
      ],
      "source": [
        "def sub_liste(lista):\n",
        "  even = list(set(list(filter(lambda x: x % 2 == 0, lista))))\n",
        "  even.sort()\n",
        "\n",
        "  odd = list(set(list(filter(lambda x: x % 2 == 1, lista))))\n",
        "  odd.sort(reverse = True)\n",
        "\n",
        "  return even, odd\n",
        "\n",
        "lista_pare, lista_impare = sub_liste([1, 1, 2, 7, 3, 9, 8, 3, 2, 4, 100, 21, 32, 42])\n",
        "print(\"Lista cu elementele pare: \", lista_pare)\n",
        "print(\"Lista cu elementele impare: \", lista_impare)"
      ]
    },
    {
      "cell_type": "markdown",
      "metadata": {
        "id": "fl54N4M0mt53"
      },
      "source": [
        "# Exerciții compuse [20p]"
      ]
    },
    {
      "cell_type": "markdown",
      "metadata": {
        "id": "QpUG1FSIf0wx"
      },
      "source": [
        "5. Implementați o funcție care primește ca argumente două numere naturale, $n$ și $k$, și afișează toate perechile de numere naturale $(a, b)$ cu proprietatea că $10 < a < b \\le n$ și $a + b$ este divizibil cu $k$."
      ]
    },
    {
      "cell_type": "code",
      "execution_count": 115,
      "metadata": {
        "id": "yppo_XLgf5wz",
        "colab": {
          "base_uri": "https://localhost:8080/"
        },
        "outputId": "8a93369f-bda1-4ce8-918d-7dc0925f9cbe"
      },
      "outputs": [
        {
          "output_type": "execute_result",
          "data": {
            "text/plain": [
              "[(11, 14), (12, 13)]"
            ]
          },
          "metadata": {},
          "execution_count": 115
        }
      ],
      "source": [
        "def perechi(n, k):\n",
        "  return [(a, b) for a in range(11, n + 1) for b in range(11, n + 1) if a < b and (a + b) % k == 0]\n",
        "\n",
        "perechi(14, 5) # Rezultatul așteptat: (11, 14) și (12, 13)"
      ]
    },
    {
      "cell_type": "markdown",
      "metadata": {
        "id": "h4Ucoh2rh-aq"
      },
      "source": [
        "6. Implementați o funcție care primește un text și un prag k și returnează cuvintele care apar de minim k-ori ordonate crescător (Adaptare Interviu Adobe 2023)"
      ]
    },
    {
      "cell_type": "code",
      "execution_count": 130,
      "metadata": {
        "colab": {
          "base_uri": "https://localhost:8080/"
        },
        "id": "VsXprAxKjPpP",
        "outputId": "101d61d9-e22f-41d3-c215-c866b1f1e4f1"
      },
      "outputs": [
        {
          "output_type": "stream",
          "name": "stdout",
          "text": [
            "Cuvintele care apar de minim 2-ori sunt: ['caine', 'e', 'mai', 'decat', 'om', 'un']\n"
          ]
        }
      ],
      "source": [
        "def cuvinte_peste_prag(text : str, k : int) -> list[str]:\n",
        "  # TODO: Eliminați semnele de punctuație\n",
        "  no_punctuation_text = ''.join(filter(lambda x: x.isalpha() or x.isdigit() or x.isspace(), text))\n",
        "\n",
        "  # TODO: Tokenizați stringul curent\n",
        "  tokens = no_punctuation_text.split(\" \")\n",
        "\n",
        "  # TODO: Numărați cu ajutorul unui dicționar frecvențele de apariție ale cuvintelor\n",
        "  _dict = {}\n",
        "\n",
        "  for token in tokens:\n",
        "    if token not in _dict.keys():\n",
        "      _dict[token] = 1\n",
        "    else:\n",
        "      _dict[token] += 1\n",
        "\n",
        "  # TODO: Ordonați crescător lista de cuvinte și frecvențe după frecvențe\n",
        "  sorted_values = sorted(_dict.items(), key=lambda x: x[1])\n",
        "\n",
        "  # TODO: Extrageți cuvintele din lista de tupluri ordonate\n",
        "  return [a[0] for a in sorted_values if a[1] >= k]\n",
        "\n",
        "\n",
        "text = \"un caine e mai mic decat un om, dar un om e mult mai putin prietenos decat un caine\"\n",
        "k = 2\n",
        "\n",
        "rezultat = cuvinte_peste_prag(text, k)\n",
        "print(f\"Cuvintele care apar de minim {k}-ori sunt:\", rezultat) # Rezultatul așteptat: ['caine', 'e', 'mai', 'decat', 'om', 'un']"
      ]
    }
  ],
  "metadata": {
    "colab": {
      "provenance": []
    },
    "kernelspec": {
      "display_name": "Python 3",
      "language": "python",
      "name": "python3"
    },
    "language_info": {
      "codemirror_mode": {
        "name": "ipython",
        "version": 3
      },
      "file_extension": ".py",
      "mimetype": "text/x-python",
      "name": "python",
      "nbconvert_exporter": "python",
      "pygments_lexer": "ipython3",
      "version": "3.7.3"
    }
  },
  "nbformat": 4,
  "nbformat_minor": 0
}